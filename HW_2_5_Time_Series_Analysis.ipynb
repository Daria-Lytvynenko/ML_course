{
  "nbformat": 4,
  "nbformat_minor": 0,
  "metadata": {
    "colab": {
      "provenance": [],
      "include_colab_link": true
    },
    "kernelspec": {
      "name": "python3",
      "display_name": "Python 3"
    },
    "language_info": {
      "name": "python"
    }
  },
  "cells": [
    {
      "cell_type": "markdown",
      "metadata": {
        "id": "view-in-github",
        "colab_type": "text"
      },
      "source": [
        "<a href=\"https://colab.research.google.com/github/Daria-Lytvynenko/ML_course/blob/main/HW_2_5_Time_Series_Analysis.ipynb\" target=\"_parent\"><img src=\"https://colab.research.google.com/assets/colab-badge.svg\" alt=\"Open In Colab\"/></a>"
      ]
    },
    {
      "cell_type": "markdown",
      "source": [
        "У цьому ДЗ ми попрактикуємось моделювати часові ряди на даних з [Store Item Demand Forecasting Challenge](https://www.kaggle.com/competitions/demand-forecasting-kernels-only/overview). Ми будемо працювати лише з тренувальними даними цього змагання і задача у нас буде дещо змінена. Фокус буде на пошуці найкращої моделі, експериментах і використанні функціоналу `darts`.\n",
        "\n",
        "Якщо якісно попрацювати в цьому завданні - це буде чудовий приклад проєкту для вашого портфоліо: \"спрогнозував(-ла) поденні продажі на 1 міс для 50 товарів в 10 магазинах\" звучить вражаюче! Але ми в рамках ДЗ для оптимізації часу сконцентруємось на моделюванні продажів одного товару в одному магазині.\n",
        "\n",
        "**Задача**\n",
        "\n",
        "Вам надано дані про продажі товарів у магазинах за 5 років. Хочемо навчитись передачати продажі в наступному місяці поденно кожного з 50 товарів у кожному з 10 магазинів. Відповідно будемо проводити експерименти, аби знайти найкращу модель для цього.\n",
        "\n",
        "На відміну від змагання, ми будемо використовувати метрику МАРЕ (Mean Absolute Percentage Error) замість SMAPE (Symmetric Mean Absolute Percentage Error). Проте, ви також можете розрахувати SMAPE і подати свої результати через late submission на Kaggle."
      ],
      "metadata": {
        "id": "JowGjuLdN81P"
      }
    },
    {
      "cell_type": "markdown",
      "source": [
        "1. Завантажуємо дані в Pandas.\n",
        "\n",
        "  1. Завантажте дані з файлу `train.csv.zip` за допомогою бібліотеки Pandas.\n",
        "  2. Перетворіть колонку `date` на формат `datetime`.\n",
        "  3. Встановіть колонку `date` як індекс для датафрейму.\n",
        "  4. Виведіть перші 10 рядків отриманого датафрейму та інформацію про датафрейм."
      ],
      "metadata": {
        "id": "TOrwetV9VhQ8"
      }
    },
    {
      "cell_type": "code",
      "source": [
        "!pip install darts --quiet"
      ],
      "metadata": {
        "id": "8XDhkVcFdui0"
      },
      "execution_count": 1,
      "outputs": []
    },
    {
      "cell_type": "code",
      "source": [
        "import warnings\n",
        "warnings.filterwarnings(\"ignore\")\n",
        "from google.colab import drive\n",
        "drive.mount('/content/drive')\n",
        "import pandas as pd\n",
        "import numpy as np\n",
        "import seaborn as sns\n",
        "import matplotlib.pyplot as plt\n",
        "import plotly.express as px\n",
        "from statsmodels.tsa.seasonal import seasonal_decompose\n",
        "from statsmodels.graphics.tsaplots import plot_acf\n",
        "from darts.utils.statistics import plot_acf as plot_acf_d, check_seasonality, plot_pacf\n",
        "from darts.models import NaiveSeasonal, NaiveDrift, XGBModel, ExponentialSmoothing, AutoARIMA, ARIMA, Theta, Prophet, RNNModel\n",
        "from darts.dataprocessing.transformers import Scaler\n",
        "from darts.metrics import mape\n",
        "from sklearn.metrics import mean_absolute_error, mean_squared_error\n",
        "import scipy.stats as st"
      ],
      "metadata": {
        "id": "Ea1Nbt0BLG4Z",
        "outputId": "ab91b662-9539-440f-f432-569fd2df3431",
        "colab": {
          "base_uri": "https://localhost:8080/"
        }
      },
      "execution_count": 17,
      "outputs": [
        {
          "output_type": "stream",
          "name": "stdout",
          "text": [
            "Drive already mounted at /content/drive; to attempt to forcibly remount, call drive.mount(\"/content/drive\", force_remount=True).\n"
          ]
        }
      ]
    },
    {
      "cell_type": "code",
      "source": [
        "train=pd.read_csv('drive/MyDrive/ML_course/train_store.csv')\n",
        "train['date']=pd.to_datetime(train['date'])\n",
        "train.set_index('date', inplace=True)\n",
        "train.head(10)"
      ],
      "metadata": {
        "id": "6JO0fsQ1F--h",
        "colab": {
          "base_uri": "https://localhost:8080/",
          "height": 394
        },
        "outputId": "c3bdcb1c-1b48-4390-e6a5-e1239d519a48"
      },
      "execution_count": 3,
      "outputs": [
        {
          "output_type": "execute_result",
          "data": {
            "text/plain": [
              "            store  item  sales\n",
              "date                          \n",
              "2013-01-01      1     1     13\n",
              "2013-01-02      1     1     11\n",
              "2013-01-03      1     1     14\n",
              "2013-01-04      1     1     13\n",
              "2013-01-05      1     1     10\n",
              "2013-01-06      1     1     12\n",
              "2013-01-07      1     1     10\n",
              "2013-01-08      1     1      9\n",
              "2013-01-09      1     1     12\n",
              "2013-01-10      1     1      9"
            ],
            "text/html": [
              "\n",
              "  <div id=\"df-99eab348-2d6f-4158-8663-d430182835b1\" class=\"colab-df-container\">\n",
              "    <div>\n",
              "<style scoped>\n",
              "    .dataframe tbody tr th:only-of-type {\n",
              "        vertical-align: middle;\n",
              "    }\n",
              "\n",
              "    .dataframe tbody tr th {\n",
              "        vertical-align: top;\n",
              "    }\n",
              "\n",
              "    .dataframe thead th {\n",
              "        text-align: right;\n",
              "    }\n",
              "</style>\n",
              "<table border=\"1\" class=\"dataframe\">\n",
              "  <thead>\n",
              "    <tr style=\"text-align: right;\">\n",
              "      <th></th>\n",
              "      <th>store</th>\n",
              "      <th>item</th>\n",
              "      <th>sales</th>\n",
              "    </tr>\n",
              "    <tr>\n",
              "      <th>date</th>\n",
              "      <th></th>\n",
              "      <th></th>\n",
              "      <th></th>\n",
              "    </tr>\n",
              "  </thead>\n",
              "  <tbody>\n",
              "    <tr>\n",
              "      <th>2013-01-01</th>\n",
              "      <td>1</td>\n",
              "      <td>1</td>\n",
              "      <td>13</td>\n",
              "    </tr>\n",
              "    <tr>\n",
              "      <th>2013-01-02</th>\n",
              "      <td>1</td>\n",
              "      <td>1</td>\n",
              "      <td>11</td>\n",
              "    </tr>\n",
              "    <tr>\n",
              "      <th>2013-01-03</th>\n",
              "      <td>1</td>\n",
              "      <td>1</td>\n",
              "      <td>14</td>\n",
              "    </tr>\n",
              "    <tr>\n",
              "      <th>2013-01-04</th>\n",
              "      <td>1</td>\n",
              "      <td>1</td>\n",
              "      <td>13</td>\n",
              "    </tr>\n",
              "    <tr>\n",
              "      <th>2013-01-05</th>\n",
              "      <td>1</td>\n",
              "      <td>1</td>\n",
              "      <td>10</td>\n",
              "    </tr>\n",
              "    <tr>\n",
              "      <th>2013-01-06</th>\n",
              "      <td>1</td>\n",
              "      <td>1</td>\n",
              "      <td>12</td>\n",
              "    </tr>\n",
              "    <tr>\n",
              "      <th>2013-01-07</th>\n",
              "      <td>1</td>\n",
              "      <td>1</td>\n",
              "      <td>10</td>\n",
              "    </tr>\n",
              "    <tr>\n",
              "      <th>2013-01-08</th>\n",
              "      <td>1</td>\n",
              "      <td>1</td>\n",
              "      <td>9</td>\n",
              "    </tr>\n",
              "    <tr>\n",
              "      <th>2013-01-09</th>\n",
              "      <td>1</td>\n",
              "      <td>1</td>\n",
              "      <td>12</td>\n",
              "    </tr>\n",
              "    <tr>\n",
              "      <th>2013-01-10</th>\n",
              "      <td>1</td>\n",
              "      <td>1</td>\n",
              "      <td>9</td>\n",
              "    </tr>\n",
              "  </tbody>\n",
              "</table>\n",
              "</div>\n",
              "    <div class=\"colab-df-buttons\">\n",
              "\n",
              "  <div class=\"colab-df-container\">\n",
              "    <button class=\"colab-df-convert\" onclick=\"convertToInteractive('df-99eab348-2d6f-4158-8663-d430182835b1')\"\n",
              "            title=\"Convert this dataframe to an interactive table.\"\n",
              "            style=\"display:none;\">\n",
              "\n",
              "  <svg xmlns=\"http://www.w3.org/2000/svg\" height=\"24px\" viewBox=\"0 -960 960 960\">\n",
              "    <path d=\"M120-120v-720h720v720H120Zm60-500h600v-160H180v160Zm220 220h160v-160H400v160Zm0 220h160v-160H400v160ZM180-400h160v-160H180v160Zm440 0h160v-160H620v160ZM180-180h160v-160H180v160Zm440 0h160v-160H620v160Z\"/>\n",
              "  </svg>\n",
              "    </button>\n",
              "\n",
              "  <style>\n",
              "    .colab-df-container {\n",
              "      display:flex;\n",
              "      gap: 12px;\n",
              "    }\n",
              "\n",
              "    .colab-df-convert {\n",
              "      background-color: #E8F0FE;\n",
              "      border: none;\n",
              "      border-radius: 50%;\n",
              "      cursor: pointer;\n",
              "      display: none;\n",
              "      fill: #1967D2;\n",
              "      height: 32px;\n",
              "      padding: 0 0 0 0;\n",
              "      width: 32px;\n",
              "    }\n",
              "\n",
              "    .colab-df-convert:hover {\n",
              "      background-color: #E2EBFA;\n",
              "      box-shadow: 0px 1px 2px rgba(60, 64, 67, 0.3), 0px 1px 3px 1px rgba(60, 64, 67, 0.15);\n",
              "      fill: #174EA6;\n",
              "    }\n",
              "\n",
              "    .colab-df-buttons div {\n",
              "      margin-bottom: 4px;\n",
              "    }\n",
              "\n",
              "    [theme=dark] .colab-df-convert {\n",
              "      background-color: #3B4455;\n",
              "      fill: #D2E3FC;\n",
              "    }\n",
              "\n",
              "    [theme=dark] .colab-df-convert:hover {\n",
              "      background-color: #434B5C;\n",
              "      box-shadow: 0px 1px 3px 1px rgba(0, 0, 0, 0.15);\n",
              "      filter: drop-shadow(0px 1px 2px rgba(0, 0, 0, 0.3));\n",
              "      fill: #FFFFFF;\n",
              "    }\n",
              "  </style>\n",
              "\n",
              "    <script>\n",
              "      const buttonEl =\n",
              "        document.querySelector('#df-99eab348-2d6f-4158-8663-d430182835b1 button.colab-df-convert');\n",
              "      buttonEl.style.display =\n",
              "        google.colab.kernel.accessAllowed ? 'block' : 'none';\n",
              "\n",
              "      async function convertToInteractive(key) {\n",
              "        const element = document.querySelector('#df-99eab348-2d6f-4158-8663-d430182835b1');\n",
              "        const dataTable =\n",
              "          await google.colab.kernel.invokeFunction('convertToInteractive',\n",
              "                                                    [key], {});\n",
              "        if (!dataTable) return;\n",
              "\n",
              "        const docLinkHtml = 'Like what you see? Visit the ' +\n",
              "          '<a target=\"_blank\" href=https://colab.research.google.com/notebooks/data_table.ipynb>data table notebook</a>'\n",
              "          + ' to learn more about interactive tables.';\n",
              "        element.innerHTML = '';\n",
              "        dataTable['output_type'] = 'display_data';\n",
              "        await google.colab.output.renderOutput(dataTable, element);\n",
              "        const docLink = document.createElement('div');\n",
              "        docLink.innerHTML = docLinkHtml;\n",
              "        element.appendChild(docLink);\n",
              "      }\n",
              "    </script>\n",
              "  </div>\n",
              "\n",
              "\n",
              "<div id=\"df-b2226bfa-3dfb-4220-a563-c86b6b7a2f9a\">\n",
              "  <button class=\"colab-df-quickchart\" onclick=\"quickchart('df-b2226bfa-3dfb-4220-a563-c86b6b7a2f9a')\"\n",
              "            title=\"Suggest charts\"\n",
              "            style=\"display:none;\">\n",
              "\n",
              "<svg xmlns=\"http://www.w3.org/2000/svg\" height=\"24px\"viewBox=\"0 0 24 24\"\n",
              "     width=\"24px\">\n",
              "    <g>\n",
              "        <path d=\"M19 3H5c-1.1 0-2 .9-2 2v14c0 1.1.9 2 2 2h14c1.1 0 2-.9 2-2V5c0-1.1-.9-2-2-2zM9 17H7v-7h2v7zm4 0h-2V7h2v10zm4 0h-2v-4h2v4z\"/>\n",
              "    </g>\n",
              "</svg>\n",
              "  </button>\n",
              "\n",
              "<style>\n",
              "  .colab-df-quickchart {\n",
              "      --bg-color: #E8F0FE;\n",
              "      --fill-color: #1967D2;\n",
              "      --hover-bg-color: #E2EBFA;\n",
              "      --hover-fill-color: #174EA6;\n",
              "      --disabled-fill-color: #AAA;\n",
              "      --disabled-bg-color: #DDD;\n",
              "  }\n",
              "\n",
              "  [theme=dark] .colab-df-quickchart {\n",
              "      --bg-color: #3B4455;\n",
              "      --fill-color: #D2E3FC;\n",
              "      --hover-bg-color: #434B5C;\n",
              "      --hover-fill-color: #FFFFFF;\n",
              "      --disabled-bg-color: #3B4455;\n",
              "      --disabled-fill-color: #666;\n",
              "  }\n",
              "\n",
              "  .colab-df-quickchart {\n",
              "    background-color: var(--bg-color);\n",
              "    border: none;\n",
              "    border-radius: 50%;\n",
              "    cursor: pointer;\n",
              "    display: none;\n",
              "    fill: var(--fill-color);\n",
              "    height: 32px;\n",
              "    padding: 0;\n",
              "    width: 32px;\n",
              "  }\n",
              "\n",
              "  .colab-df-quickchart:hover {\n",
              "    background-color: var(--hover-bg-color);\n",
              "    box-shadow: 0 1px 2px rgba(60, 64, 67, 0.3), 0 1px 3px 1px rgba(60, 64, 67, 0.15);\n",
              "    fill: var(--button-hover-fill-color);\n",
              "  }\n",
              "\n",
              "  .colab-df-quickchart-complete:disabled,\n",
              "  .colab-df-quickchart-complete:disabled:hover {\n",
              "    background-color: var(--disabled-bg-color);\n",
              "    fill: var(--disabled-fill-color);\n",
              "    box-shadow: none;\n",
              "  }\n",
              "\n",
              "  .colab-df-spinner {\n",
              "    border: 2px solid var(--fill-color);\n",
              "    border-color: transparent;\n",
              "    border-bottom-color: var(--fill-color);\n",
              "    animation:\n",
              "      spin 1s steps(1) infinite;\n",
              "  }\n",
              "\n",
              "  @keyframes spin {\n",
              "    0% {\n",
              "      border-color: transparent;\n",
              "      border-bottom-color: var(--fill-color);\n",
              "      border-left-color: var(--fill-color);\n",
              "    }\n",
              "    20% {\n",
              "      border-color: transparent;\n",
              "      border-left-color: var(--fill-color);\n",
              "      border-top-color: var(--fill-color);\n",
              "    }\n",
              "    30% {\n",
              "      border-color: transparent;\n",
              "      border-left-color: var(--fill-color);\n",
              "      border-top-color: var(--fill-color);\n",
              "      border-right-color: var(--fill-color);\n",
              "    }\n",
              "    40% {\n",
              "      border-color: transparent;\n",
              "      border-right-color: var(--fill-color);\n",
              "      border-top-color: var(--fill-color);\n",
              "    }\n",
              "    60% {\n",
              "      border-color: transparent;\n",
              "      border-right-color: var(--fill-color);\n",
              "    }\n",
              "    80% {\n",
              "      border-color: transparent;\n",
              "      border-right-color: var(--fill-color);\n",
              "      border-bottom-color: var(--fill-color);\n",
              "    }\n",
              "    90% {\n",
              "      border-color: transparent;\n",
              "      border-bottom-color: var(--fill-color);\n",
              "    }\n",
              "  }\n",
              "</style>\n",
              "\n",
              "  <script>\n",
              "    async function quickchart(key) {\n",
              "      const quickchartButtonEl =\n",
              "        document.querySelector('#' + key + ' button');\n",
              "      quickchartButtonEl.disabled = true;  // To prevent multiple clicks.\n",
              "      quickchartButtonEl.classList.add('colab-df-spinner');\n",
              "      try {\n",
              "        const charts = await google.colab.kernel.invokeFunction(\n",
              "            'suggestCharts', [key], {});\n",
              "      } catch (error) {\n",
              "        console.error('Error during call to suggestCharts:', error);\n",
              "      }\n",
              "      quickchartButtonEl.classList.remove('colab-df-spinner');\n",
              "      quickchartButtonEl.classList.add('colab-df-quickchart-complete');\n",
              "    }\n",
              "    (() => {\n",
              "      let quickchartButtonEl =\n",
              "        document.querySelector('#df-b2226bfa-3dfb-4220-a563-c86b6b7a2f9a button');\n",
              "      quickchartButtonEl.style.display =\n",
              "        google.colab.kernel.accessAllowed ? 'block' : 'none';\n",
              "    })();\n",
              "  </script>\n",
              "</div>\n",
              "    </div>\n",
              "  </div>\n"
            ],
            "application/vnd.google.colaboratory.intrinsic+json": {
              "type": "dataframe",
              "variable_name": "train"
            }
          },
          "metadata": {},
          "execution_count": 3
        }
      ]
    },
    {
      "cell_type": "code",
      "source": [
        "train.info()"
      ],
      "metadata": {
        "id": "4cLUCtNlGq_F",
        "outputId": "a018b261-d601-4a3c-d82a-2418f7edd447",
        "colab": {
          "base_uri": "https://localhost:8080/"
        }
      },
      "execution_count": 4,
      "outputs": [
        {
          "output_type": "stream",
          "name": "stdout",
          "text": [
            "<class 'pandas.core.frame.DataFrame'>\n",
            "DatetimeIndex: 913000 entries, 2013-01-01 to 2017-12-31\n",
            "Data columns (total 3 columns):\n",
            " #   Column  Non-Null Count   Dtype\n",
            "---  ------  --------------   -----\n",
            " 0   store   913000 non-null  int64\n",
            " 1   item    913000 non-null  int64\n",
            " 2   sales   913000 non-null  int64\n",
            "dtypes: int64(3)\n",
            "memory usage: 27.9 MB\n"
          ]
        }
      ]
    },
    {
      "cell_type": "code",
      "source": [
        "train.reset_index(inplace=True)"
      ],
      "metadata": {
        "id": "mIQVblYKXfts"
      },
      "execution_count": 10,
      "outputs": []
    },
    {
      "cell_type": "code",
      "source": [
        "def calculate_confidence_interval(data):\n",
        "    mean = np.mean(data)\n",
        "    confidence = 0.95\n",
        "    h = st.t.interval(confidence, len(data) - 1, loc=mean, scale=st.sem(data))\n",
        "    return mean, h\n",
        "\n",
        "def analyze_sales(df, item_id):\n",
        "    item_data = df[df['item'] == item_id]\n",
        "    monthly_sales = item_data.groupby(pd.Grouper(key='date', freq='M'))['sales'].apply(list)\n",
        "    results = {}\n",
        "    for month, sales in monthly_sales.items():\n",
        "        mean, ci = calculate_confidence_interval(sales)\n",
        "        results[month] = {'mean': mean, 'min': ci[0], 'max':ci[1]}\n",
        "    return pd.DataFrame(results).T\n",
        "\n",
        "ci= analyze_sales(train,1)"
      ],
      "metadata": {
        "id": "SHmfOLFZVIe8"
      },
      "execution_count": 22,
      "outputs": []
    },
    {
      "cell_type": "code",
      "source": [
        "ci"
      ],
      "metadata": {
        "id": "_XBMYN31apSx",
        "outputId": "ed0346dc-03c2-4922-fef4-43190403e1f4",
        "colab": {
          "base_uri": "https://localhost:8080/",
          "height": 1000
        }
      },
      "execution_count": 23,
      "outputs": [
        {
          "output_type": "execute_result",
          "data": {
            "text/plain": [
              "                 mean        min        max\n",
              "2013-01-31  12.238710  11.727711  12.749709\n",
              "2013-02-28  13.796429  13.227150  14.365707\n",
              "2013-03-31  16.741935  16.154508  17.329363\n",
              "2013-04-30  19.276667  18.558981  19.994352\n",
              "2013-05-31  20.316129  19.547333  21.084925\n",
              "2013-06-30  22.463333  21.715349  23.211317\n",
              "2013-07-31  22.925806  22.119638  23.731975\n",
              "2013-08-31  20.941935  20.240553  21.643318\n",
              "2013-09-30  18.976667  18.253563  19.699770\n",
              "2013-10-31  17.732258  17.063266  18.401250\n",
              "2013-11-30  19.860000  19.136202  20.583798\n",
              "2013-12-31  13.900000  13.349347  14.450653\n",
              "2014-01-31  13.945161  13.371776  14.518546\n",
              "2014-02-28  15.682143  15.031109  16.333177\n",
              "2014-03-31  18.903226  18.223318  19.583134\n",
              "2014-04-30  21.840000  21.102955  22.577045\n",
              "2014-05-31  23.774194  22.958483  24.589904\n",
              "2014-06-30  26.293333  25.377331  27.209336\n",
              "2014-07-31  26.870968  25.905517  27.836418\n",
              "2014-08-31  23.874194  23.014012  24.734375\n",
              "2014-09-30  21.996667  21.243437  22.749896\n",
              "2014-10-31  20.680645  19.894322  21.466968\n",
              "2014-11-30  22.473333  21.694854  23.251813\n",
              "2014-12-31  15.838710  15.265400  16.412019\n",
              "2015-01-31  14.922581  14.314703  15.530459\n",
              "2015-02-28  16.546429  15.872384  17.220473\n",
              "2015-03-31  19.745161  18.998128  20.492195\n",
              "2015-04-30  23.533333  22.725357  24.341310\n",
              "2015-05-31  25.025806  24.174084  25.877529\n",
              "2015-06-30  26.640000  25.696120  27.583880\n",
              "2015-07-31  28.509677  27.556814  29.462541\n",
              "2015-08-31  25.064516  24.188213  25.940819\n",
              "2015-09-30  23.370000  22.570855  24.169145\n",
              "2015-10-31  21.432258  20.614620  22.249896\n",
              "2015-11-30  23.673333  22.835160  24.511506\n",
              "2015-12-31  15.974194  15.365463  16.582924\n",
              "2016-01-31  16.154839  15.541585  16.768093\n",
              "2016-02-29  17.793103  17.102795  18.483412\n",
              "2016-03-31  21.367742  20.574339  22.161144\n",
              "2016-04-30  25.656667  24.767707  26.545626\n",
              "2016-05-31  26.580645  25.620302  27.540988\n",
              "2016-06-30  29.503333  28.504302  30.502365\n",
              "2016-07-31  31.477419  30.450962  32.503876\n",
              "2016-08-31  26.374194  25.439550  27.308837\n",
              "2016-09-30  24.890000  24.067599  25.712401\n",
              "2016-10-31  23.325806  22.530673  24.120940\n",
              "2016-11-30  24.446667  23.567756  25.325577\n",
              "2016-12-31  18.316129  17.632784  18.999474\n",
              "2017-01-31  16.890323  16.274710  17.505935\n",
              "2017-02-28  18.925000  18.205741  19.644259\n",
              "2017-03-31  21.754839  20.990992  22.518686\n",
              "2017-04-30  26.423333  25.487259  27.359408\n",
              "2017-05-31  27.616129  26.705920  28.526338\n",
              "2017-06-30  29.766667  28.768226  30.765107\n",
              "2017-07-31  32.129032  31.055732  33.202332\n",
              "2017-08-31  27.574194  26.666287  28.482101\n",
              "2017-09-30  26.143333  25.275230  27.011436\n",
              "2017-10-31  24.580645  23.684440  25.476850\n",
              "2017-11-30  25.586667  24.727665  26.445668\n",
              "2017-12-31  18.738710  18.027801  19.449619"
            ],
            "text/html": [
              "\n",
              "  <div id=\"df-0961dd35-2304-48db-9797-61074ff38a95\" class=\"colab-df-container\">\n",
              "    <div>\n",
              "<style scoped>\n",
              "    .dataframe tbody tr th:only-of-type {\n",
              "        vertical-align: middle;\n",
              "    }\n",
              "\n",
              "    .dataframe tbody tr th {\n",
              "        vertical-align: top;\n",
              "    }\n",
              "\n",
              "    .dataframe thead th {\n",
              "        text-align: right;\n",
              "    }\n",
              "</style>\n",
              "<table border=\"1\" class=\"dataframe\">\n",
              "  <thead>\n",
              "    <tr style=\"text-align: right;\">\n",
              "      <th></th>\n",
              "      <th>mean</th>\n",
              "      <th>min</th>\n",
              "      <th>max</th>\n",
              "    </tr>\n",
              "  </thead>\n",
              "  <tbody>\n",
              "    <tr>\n",
              "      <th>2013-01-31</th>\n",
              "      <td>12.238710</td>\n",
              "      <td>11.727711</td>\n",
              "      <td>12.749709</td>\n",
              "    </tr>\n",
              "    <tr>\n",
              "      <th>2013-02-28</th>\n",
              "      <td>13.796429</td>\n",
              "      <td>13.227150</td>\n",
              "      <td>14.365707</td>\n",
              "    </tr>\n",
              "    <tr>\n",
              "      <th>2013-03-31</th>\n",
              "      <td>16.741935</td>\n",
              "      <td>16.154508</td>\n",
              "      <td>17.329363</td>\n",
              "    </tr>\n",
              "    <tr>\n",
              "      <th>2013-04-30</th>\n",
              "      <td>19.276667</td>\n",
              "      <td>18.558981</td>\n",
              "      <td>19.994352</td>\n",
              "    </tr>\n",
              "    <tr>\n",
              "      <th>2013-05-31</th>\n",
              "      <td>20.316129</td>\n",
              "      <td>19.547333</td>\n",
              "      <td>21.084925</td>\n",
              "    </tr>\n",
              "    <tr>\n",
              "      <th>2013-06-30</th>\n",
              "      <td>22.463333</td>\n",
              "      <td>21.715349</td>\n",
              "      <td>23.211317</td>\n",
              "    </tr>\n",
              "    <tr>\n",
              "      <th>2013-07-31</th>\n",
              "      <td>22.925806</td>\n",
              "      <td>22.119638</td>\n",
              "      <td>23.731975</td>\n",
              "    </tr>\n",
              "    <tr>\n",
              "      <th>2013-08-31</th>\n",
              "      <td>20.941935</td>\n",
              "      <td>20.240553</td>\n",
              "      <td>21.643318</td>\n",
              "    </tr>\n",
              "    <tr>\n",
              "      <th>2013-09-30</th>\n",
              "      <td>18.976667</td>\n",
              "      <td>18.253563</td>\n",
              "      <td>19.699770</td>\n",
              "    </tr>\n",
              "    <tr>\n",
              "      <th>2013-10-31</th>\n",
              "      <td>17.732258</td>\n",
              "      <td>17.063266</td>\n",
              "      <td>18.401250</td>\n",
              "    </tr>\n",
              "    <tr>\n",
              "      <th>2013-11-30</th>\n",
              "      <td>19.860000</td>\n",
              "      <td>19.136202</td>\n",
              "      <td>20.583798</td>\n",
              "    </tr>\n",
              "    <tr>\n",
              "      <th>2013-12-31</th>\n",
              "      <td>13.900000</td>\n",
              "      <td>13.349347</td>\n",
              "      <td>14.450653</td>\n",
              "    </tr>\n",
              "    <tr>\n",
              "      <th>2014-01-31</th>\n",
              "      <td>13.945161</td>\n",
              "      <td>13.371776</td>\n",
              "      <td>14.518546</td>\n",
              "    </tr>\n",
              "    <tr>\n",
              "      <th>2014-02-28</th>\n",
              "      <td>15.682143</td>\n",
              "      <td>15.031109</td>\n",
              "      <td>16.333177</td>\n",
              "    </tr>\n",
              "    <tr>\n",
              "      <th>2014-03-31</th>\n",
              "      <td>18.903226</td>\n",
              "      <td>18.223318</td>\n",
              "      <td>19.583134</td>\n",
              "    </tr>\n",
              "    <tr>\n",
              "      <th>2014-04-30</th>\n",
              "      <td>21.840000</td>\n",
              "      <td>21.102955</td>\n",
              "      <td>22.577045</td>\n",
              "    </tr>\n",
              "    <tr>\n",
              "      <th>2014-05-31</th>\n",
              "      <td>23.774194</td>\n",
              "      <td>22.958483</td>\n",
              "      <td>24.589904</td>\n",
              "    </tr>\n",
              "    <tr>\n",
              "      <th>2014-06-30</th>\n",
              "      <td>26.293333</td>\n",
              "      <td>25.377331</td>\n",
              "      <td>27.209336</td>\n",
              "    </tr>\n",
              "    <tr>\n",
              "      <th>2014-07-31</th>\n",
              "      <td>26.870968</td>\n",
              "      <td>25.905517</td>\n",
              "      <td>27.836418</td>\n",
              "    </tr>\n",
              "    <tr>\n",
              "      <th>2014-08-31</th>\n",
              "      <td>23.874194</td>\n",
              "      <td>23.014012</td>\n",
              "      <td>24.734375</td>\n",
              "    </tr>\n",
              "    <tr>\n",
              "      <th>2014-09-30</th>\n",
              "      <td>21.996667</td>\n",
              "      <td>21.243437</td>\n",
              "      <td>22.749896</td>\n",
              "    </tr>\n",
              "    <tr>\n",
              "      <th>2014-10-31</th>\n",
              "      <td>20.680645</td>\n",
              "      <td>19.894322</td>\n",
              "      <td>21.466968</td>\n",
              "    </tr>\n",
              "    <tr>\n",
              "      <th>2014-11-30</th>\n",
              "      <td>22.473333</td>\n",
              "      <td>21.694854</td>\n",
              "      <td>23.251813</td>\n",
              "    </tr>\n",
              "    <tr>\n",
              "      <th>2014-12-31</th>\n",
              "      <td>15.838710</td>\n",
              "      <td>15.265400</td>\n",
              "      <td>16.412019</td>\n",
              "    </tr>\n",
              "    <tr>\n",
              "      <th>2015-01-31</th>\n",
              "      <td>14.922581</td>\n",
              "      <td>14.314703</td>\n",
              "      <td>15.530459</td>\n",
              "    </tr>\n",
              "    <tr>\n",
              "      <th>2015-02-28</th>\n",
              "      <td>16.546429</td>\n",
              "      <td>15.872384</td>\n",
              "      <td>17.220473</td>\n",
              "    </tr>\n",
              "    <tr>\n",
              "      <th>2015-03-31</th>\n",
              "      <td>19.745161</td>\n",
              "      <td>18.998128</td>\n",
              "      <td>20.492195</td>\n",
              "    </tr>\n",
              "    <tr>\n",
              "      <th>2015-04-30</th>\n",
              "      <td>23.533333</td>\n",
              "      <td>22.725357</td>\n",
              "      <td>24.341310</td>\n",
              "    </tr>\n",
              "    <tr>\n",
              "      <th>2015-05-31</th>\n",
              "      <td>25.025806</td>\n",
              "      <td>24.174084</td>\n",
              "      <td>25.877529</td>\n",
              "    </tr>\n",
              "    <tr>\n",
              "      <th>2015-06-30</th>\n",
              "      <td>26.640000</td>\n",
              "      <td>25.696120</td>\n",
              "      <td>27.583880</td>\n",
              "    </tr>\n",
              "    <tr>\n",
              "      <th>2015-07-31</th>\n",
              "      <td>28.509677</td>\n",
              "      <td>27.556814</td>\n",
              "      <td>29.462541</td>\n",
              "    </tr>\n",
              "    <tr>\n",
              "      <th>2015-08-31</th>\n",
              "      <td>25.064516</td>\n",
              "      <td>24.188213</td>\n",
              "      <td>25.940819</td>\n",
              "    </tr>\n",
              "    <tr>\n",
              "      <th>2015-09-30</th>\n",
              "      <td>23.370000</td>\n",
              "      <td>22.570855</td>\n",
              "      <td>24.169145</td>\n",
              "    </tr>\n",
              "    <tr>\n",
              "      <th>2015-10-31</th>\n",
              "      <td>21.432258</td>\n",
              "      <td>20.614620</td>\n",
              "      <td>22.249896</td>\n",
              "    </tr>\n",
              "    <tr>\n",
              "      <th>2015-11-30</th>\n",
              "      <td>23.673333</td>\n",
              "      <td>22.835160</td>\n",
              "      <td>24.511506</td>\n",
              "    </tr>\n",
              "    <tr>\n",
              "      <th>2015-12-31</th>\n",
              "      <td>15.974194</td>\n",
              "      <td>15.365463</td>\n",
              "      <td>16.582924</td>\n",
              "    </tr>\n",
              "    <tr>\n",
              "      <th>2016-01-31</th>\n",
              "      <td>16.154839</td>\n",
              "      <td>15.541585</td>\n",
              "      <td>16.768093</td>\n",
              "    </tr>\n",
              "    <tr>\n",
              "      <th>2016-02-29</th>\n",
              "      <td>17.793103</td>\n",
              "      <td>17.102795</td>\n",
              "      <td>18.483412</td>\n",
              "    </tr>\n",
              "    <tr>\n",
              "      <th>2016-03-31</th>\n",
              "      <td>21.367742</td>\n",
              "      <td>20.574339</td>\n",
              "      <td>22.161144</td>\n",
              "    </tr>\n",
              "    <tr>\n",
              "      <th>2016-04-30</th>\n",
              "      <td>25.656667</td>\n",
              "      <td>24.767707</td>\n",
              "      <td>26.545626</td>\n",
              "    </tr>\n",
              "    <tr>\n",
              "      <th>2016-05-31</th>\n",
              "      <td>26.580645</td>\n",
              "      <td>25.620302</td>\n",
              "      <td>27.540988</td>\n",
              "    </tr>\n",
              "    <tr>\n",
              "      <th>2016-06-30</th>\n",
              "      <td>29.503333</td>\n",
              "      <td>28.504302</td>\n",
              "      <td>30.502365</td>\n",
              "    </tr>\n",
              "    <tr>\n",
              "      <th>2016-07-31</th>\n",
              "      <td>31.477419</td>\n",
              "      <td>30.450962</td>\n",
              "      <td>32.503876</td>\n",
              "    </tr>\n",
              "    <tr>\n",
              "      <th>2016-08-31</th>\n",
              "      <td>26.374194</td>\n",
              "      <td>25.439550</td>\n",
              "      <td>27.308837</td>\n",
              "    </tr>\n",
              "    <tr>\n",
              "      <th>2016-09-30</th>\n",
              "      <td>24.890000</td>\n",
              "      <td>24.067599</td>\n",
              "      <td>25.712401</td>\n",
              "    </tr>\n",
              "    <tr>\n",
              "      <th>2016-10-31</th>\n",
              "      <td>23.325806</td>\n",
              "      <td>22.530673</td>\n",
              "      <td>24.120940</td>\n",
              "    </tr>\n",
              "    <tr>\n",
              "      <th>2016-11-30</th>\n",
              "      <td>24.446667</td>\n",
              "      <td>23.567756</td>\n",
              "      <td>25.325577</td>\n",
              "    </tr>\n",
              "    <tr>\n",
              "      <th>2016-12-31</th>\n",
              "      <td>18.316129</td>\n",
              "      <td>17.632784</td>\n",
              "      <td>18.999474</td>\n",
              "    </tr>\n",
              "    <tr>\n",
              "      <th>2017-01-31</th>\n",
              "      <td>16.890323</td>\n",
              "      <td>16.274710</td>\n",
              "      <td>17.505935</td>\n",
              "    </tr>\n",
              "    <tr>\n",
              "      <th>2017-02-28</th>\n",
              "      <td>18.925000</td>\n",
              "      <td>18.205741</td>\n",
              "      <td>19.644259</td>\n",
              "    </tr>\n",
              "    <tr>\n",
              "      <th>2017-03-31</th>\n",
              "      <td>21.754839</td>\n",
              "      <td>20.990992</td>\n",
              "      <td>22.518686</td>\n",
              "    </tr>\n",
              "    <tr>\n",
              "      <th>2017-04-30</th>\n",
              "      <td>26.423333</td>\n",
              "      <td>25.487259</td>\n",
              "      <td>27.359408</td>\n",
              "    </tr>\n",
              "    <tr>\n",
              "      <th>2017-05-31</th>\n",
              "      <td>27.616129</td>\n",
              "      <td>26.705920</td>\n",
              "      <td>28.526338</td>\n",
              "    </tr>\n",
              "    <tr>\n",
              "      <th>2017-06-30</th>\n",
              "      <td>29.766667</td>\n",
              "      <td>28.768226</td>\n",
              "      <td>30.765107</td>\n",
              "    </tr>\n",
              "    <tr>\n",
              "      <th>2017-07-31</th>\n",
              "      <td>32.129032</td>\n",
              "      <td>31.055732</td>\n",
              "      <td>33.202332</td>\n",
              "    </tr>\n",
              "    <tr>\n",
              "      <th>2017-08-31</th>\n",
              "      <td>27.574194</td>\n",
              "      <td>26.666287</td>\n",
              "      <td>28.482101</td>\n",
              "    </tr>\n",
              "    <tr>\n",
              "      <th>2017-09-30</th>\n",
              "      <td>26.143333</td>\n",
              "      <td>25.275230</td>\n",
              "      <td>27.011436</td>\n",
              "    </tr>\n",
              "    <tr>\n",
              "      <th>2017-10-31</th>\n",
              "      <td>24.580645</td>\n",
              "      <td>23.684440</td>\n",
              "      <td>25.476850</td>\n",
              "    </tr>\n",
              "    <tr>\n",
              "      <th>2017-11-30</th>\n",
              "      <td>25.586667</td>\n",
              "      <td>24.727665</td>\n",
              "      <td>26.445668</td>\n",
              "    </tr>\n",
              "    <tr>\n",
              "      <th>2017-12-31</th>\n",
              "      <td>18.738710</td>\n",
              "      <td>18.027801</td>\n",
              "      <td>19.449619</td>\n",
              "    </tr>\n",
              "  </tbody>\n",
              "</table>\n",
              "</div>\n",
              "    <div class=\"colab-df-buttons\">\n",
              "\n",
              "  <div class=\"colab-df-container\">\n",
              "    <button class=\"colab-df-convert\" onclick=\"convertToInteractive('df-0961dd35-2304-48db-9797-61074ff38a95')\"\n",
              "            title=\"Convert this dataframe to an interactive table.\"\n",
              "            style=\"display:none;\">\n",
              "\n",
              "  <svg xmlns=\"http://www.w3.org/2000/svg\" height=\"24px\" viewBox=\"0 -960 960 960\">\n",
              "    <path d=\"M120-120v-720h720v720H120Zm60-500h600v-160H180v160Zm220 220h160v-160H400v160Zm0 220h160v-160H400v160ZM180-400h160v-160H180v160Zm440 0h160v-160H620v160ZM180-180h160v-160H180v160Zm440 0h160v-160H620v160Z\"/>\n",
              "  </svg>\n",
              "    </button>\n",
              "\n",
              "  <style>\n",
              "    .colab-df-container {\n",
              "      display:flex;\n",
              "      gap: 12px;\n",
              "    }\n",
              "\n",
              "    .colab-df-convert {\n",
              "      background-color: #E8F0FE;\n",
              "      border: none;\n",
              "      border-radius: 50%;\n",
              "      cursor: pointer;\n",
              "      display: none;\n",
              "      fill: #1967D2;\n",
              "      height: 32px;\n",
              "      padding: 0 0 0 0;\n",
              "      width: 32px;\n",
              "    }\n",
              "\n",
              "    .colab-df-convert:hover {\n",
              "      background-color: #E2EBFA;\n",
              "      box-shadow: 0px 1px 2px rgba(60, 64, 67, 0.3), 0px 1px 3px 1px rgba(60, 64, 67, 0.15);\n",
              "      fill: #174EA6;\n",
              "    }\n",
              "\n",
              "    .colab-df-buttons div {\n",
              "      margin-bottom: 4px;\n",
              "    }\n",
              "\n",
              "    [theme=dark] .colab-df-convert {\n",
              "      background-color: #3B4455;\n",
              "      fill: #D2E3FC;\n",
              "    }\n",
              "\n",
              "    [theme=dark] .colab-df-convert:hover {\n",
              "      background-color: #434B5C;\n",
              "      box-shadow: 0px 1px 3px 1px rgba(0, 0, 0, 0.15);\n",
              "      filter: drop-shadow(0px 1px 2px rgba(0, 0, 0, 0.3));\n",
              "      fill: #FFFFFF;\n",
              "    }\n",
              "  </style>\n",
              "\n",
              "    <script>\n",
              "      const buttonEl =\n",
              "        document.querySelector('#df-0961dd35-2304-48db-9797-61074ff38a95 button.colab-df-convert');\n",
              "      buttonEl.style.display =\n",
              "        google.colab.kernel.accessAllowed ? 'block' : 'none';\n",
              "\n",
              "      async function convertToInteractive(key) {\n",
              "        const element = document.querySelector('#df-0961dd35-2304-48db-9797-61074ff38a95');\n",
              "        const dataTable =\n",
              "          await google.colab.kernel.invokeFunction('convertToInteractive',\n",
              "                                                    [key], {});\n",
              "        if (!dataTable) return;\n",
              "\n",
              "        const docLinkHtml = 'Like what you see? Visit the ' +\n",
              "          '<a target=\"_blank\" href=https://colab.research.google.com/notebooks/data_table.ipynb>data table notebook</a>'\n",
              "          + ' to learn more about interactive tables.';\n",
              "        element.innerHTML = '';\n",
              "        dataTable['output_type'] = 'display_data';\n",
              "        await google.colab.output.renderOutput(dataTable, element);\n",
              "        const docLink = document.createElement('div');\n",
              "        docLink.innerHTML = docLinkHtml;\n",
              "        element.appendChild(docLink);\n",
              "      }\n",
              "    </script>\n",
              "  </div>\n",
              "\n",
              "\n",
              "<div id=\"df-baafc1c9-f0d4-401e-9535-71b5e92d251d\">\n",
              "  <button class=\"colab-df-quickchart\" onclick=\"quickchart('df-baafc1c9-f0d4-401e-9535-71b5e92d251d')\"\n",
              "            title=\"Suggest charts\"\n",
              "            style=\"display:none;\">\n",
              "\n",
              "<svg xmlns=\"http://www.w3.org/2000/svg\" height=\"24px\"viewBox=\"0 0 24 24\"\n",
              "     width=\"24px\">\n",
              "    <g>\n",
              "        <path d=\"M19 3H5c-1.1 0-2 .9-2 2v14c0 1.1.9 2 2 2h14c1.1 0 2-.9 2-2V5c0-1.1-.9-2-2-2zM9 17H7v-7h2v7zm4 0h-2V7h2v10zm4 0h-2v-4h2v4z\"/>\n",
              "    </g>\n",
              "</svg>\n",
              "  </button>\n",
              "\n",
              "<style>\n",
              "  .colab-df-quickchart {\n",
              "      --bg-color: #E8F0FE;\n",
              "      --fill-color: #1967D2;\n",
              "      --hover-bg-color: #E2EBFA;\n",
              "      --hover-fill-color: #174EA6;\n",
              "      --disabled-fill-color: #AAA;\n",
              "      --disabled-bg-color: #DDD;\n",
              "  }\n",
              "\n",
              "  [theme=dark] .colab-df-quickchart {\n",
              "      --bg-color: #3B4455;\n",
              "      --fill-color: #D2E3FC;\n",
              "      --hover-bg-color: #434B5C;\n",
              "      --hover-fill-color: #FFFFFF;\n",
              "      --disabled-bg-color: #3B4455;\n",
              "      --disabled-fill-color: #666;\n",
              "  }\n",
              "\n",
              "  .colab-df-quickchart {\n",
              "    background-color: var(--bg-color);\n",
              "    border: none;\n",
              "    border-radius: 50%;\n",
              "    cursor: pointer;\n",
              "    display: none;\n",
              "    fill: var(--fill-color);\n",
              "    height: 32px;\n",
              "    padding: 0;\n",
              "    width: 32px;\n",
              "  }\n",
              "\n",
              "  .colab-df-quickchart:hover {\n",
              "    background-color: var(--hover-bg-color);\n",
              "    box-shadow: 0 1px 2px rgba(60, 64, 67, 0.3), 0 1px 3px 1px rgba(60, 64, 67, 0.15);\n",
              "    fill: var(--button-hover-fill-color);\n",
              "  }\n",
              "\n",
              "  .colab-df-quickchart-complete:disabled,\n",
              "  .colab-df-quickchart-complete:disabled:hover {\n",
              "    background-color: var(--disabled-bg-color);\n",
              "    fill: var(--disabled-fill-color);\n",
              "    box-shadow: none;\n",
              "  }\n",
              "\n",
              "  .colab-df-spinner {\n",
              "    border: 2px solid var(--fill-color);\n",
              "    border-color: transparent;\n",
              "    border-bottom-color: var(--fill-color);\n",
              "    animation:\n",
              "      spin 1s steps(1) infinite;\n",
              "  }\n",
              "\n",
              "  @keyframes spin {\n",
              "    0% {\n",
              "      border-color: transparent;\n",
              "      border-bottom-color: var(--fill-color);\n",
              "      border-left-color: var(--fill-color);\n",
              "    }\n",
              "    20% {\n",
              "      border-color: transparent;\n",
              "      border-left-color: var(--fill-color);\n",
              "      border-top-color: var(--fill-color);\n",
              "    }\n",
              "    30% {\n",
              "      border-color: transparent;\n",
              "      border-left-color: var(--fill-color);\n",
              "      border-top-color: var(--fill-color);\n",
              "      border-right-color: var(--fill-color);\n",
              "    }\n",
              "    40% {\n",
              "      border-color: transparent;\n",
              "      border-right-color: var(--fill-color);\n",
              "      border-top-color: var(--fill-color);\n",
              "    }\n",
              "    60% {\n",
              "      border-color: transparent;\n",
              "      border-right-color: var(--fill-color);\n",
              "    }\n",
              "    80% {\n",
              "      border-color: transparent;\n",
              "      border-right-color: var(--fill-color);\n",
              "      border-bottom-color: var(--fill-color);\n",
              "    }\n",
              "    90% {\n",
              "      border-color: transparent;\n",
              "      border-bottom-color: var(--fill-color);\n",
              "    }\n",
              "  }\n",
              "</style>\n",
              "\n",
              "  <script>\n",
              "    async function quickchart(key) {\n",
              "      const quickchartButtonEl =\n",
              "        document.querySelector('#' + key + ' button');\n",
              "      quickchartButtonEl.disabled = true;  // To prevent multiple clicks.\n",
              "      quickchartButtonEl.classList.add('colab-df-spinner');\n",
              "      try {\n",
              "        const charts = await google.colab.kernel.invokeFunction(\n",
              "            'suggestCharts', [key], {});\n",
              "      } catch (error) {\n",
              "        console.error('Error during call to suggestCharts:', error);\n",
              "      }\n",
              "      quickchartButtonEl.classList.remove('colab-df-spinner');\n",
              "      quickchartButtonEl.classList.add('colab-df-quickchart-complete');\n",
              "    }\n",
              "    (() => {\n",
              "      let quickchartButtonEl =\n",
              "        document.querySelector('#df-baafc1c9-f0d4-401e-9535-71b5e92d251d button');\n",
              "      quickchartButtonEl.style.display =\n",
              "        google.colab.kernel.accessAllowed ? 'block' : 'none';\n",
              "    })();\n",
              "  </script>\n",
              "</div>\n",
              "    </div>\n",
              "  </div>\n"
            ],
            "application/vnd.google.colaboratory.intrinsic+json": {
              "type": "dataframe",
              "variable_name": "ci",
              "summary": "{\n  \"name\": \"ci\",\n  \"rows\": 60,\n  \"fields\": [\n    {\n      \"column\": \"mean\",\n      \"properties\": {\n        \"dtype\": \"number\",\n        \"std\": 4.7369944673710105,\n        \"min\": 12.238709677419354,\n        \"max\": 32.12903225806452,\n        \"num_unique_values\": 60,\n        \"samples\": [\n          12.238709677419354,\n          22.463333333333335,\n          16.15483870967742\n        ],\n        \"semantic_type\": \"\",\n        \"description\": \"\"\n      }\n    },\n    {\n      \"column\": \"min\",\n      \"properties\": {\n        \"dtype\": \"number\",\n        \"std\": 4.606628885112723,\n        \"min\": 11.727710843958427,\n        \"max\": 31.05573210027112,\n        \"num_unique_values\": 60,\n        \"samples\": [\n          11.727710843958427,\n          21.715349281430395,\n          15.541584590429794\n        ],\n        \"semantic_type\": \"\",\n        \"description\": \"\"\n      }\n    },\n    {\n      \"column\": \"max\",\n      \"properties\": {\n        \"dtype\": \"number\",\n        \"std\": 4.867519988159334,\n        \"min\": 12.749708510880282,\n        \"max\": 33.202332415857924,\n        \"num_unique_values\": 60,\n        \"samples\": [\n          12.749708510880282,\n          23.211317385236274,\n          16.768092828925045\n        ],\n        \"semantic_type\": \"\",\n        \"description\": \"\"\n      }\n    }\n  ]\n}"
            }
          },
          "metadata": {},
          "execution_count": 23
        }
      ]
    },
    {
      "cell_type": "code",
      "source": [
        "fig=plt.figure(figsize=(10,6))\n",
        "plt.plot(ci['min'])\n",
        "plt.plot(ci['mean'])\n",
        "plt.plot(ci['max'])\n",
        "plt.show()"
      ],
      "metadata": {
        "id": "He5WqoZoakQ5",
        "outputId": "761197b5-fd22-43f6-8268-024647dfecb5",
        "colab": {
          "base_uri": "https://localhost:8080/",
          "height": 521
        }
      },
      "execution_count": 25,
      "outputs": [
        {
          "output_type": "display_data",
          "data": {
            "text/plain": [
              "<Figure size 1000x600 with 1 Axes>"
            ],
            "image/png": "[encoded data removed]"
          },
          "metadata": {}
        }
      ]
    },
    {
      "cell_type": "markdown",
      "source": [
        "  2. Давайте трошки зрозуміємо дані. У нас 10 магазинів і 50 айтемів в кожному. Хочемо зрозуміти, чи відрізняється динаміка по кожному айтему в магазинах. Як би ви це візуалізували? Побудуйте 3 графіка, які вам допоможуть. Можна використати будь-який інструмент: matplotlib, seaborn, plotly.\n",
        "\n",
        "  Напишіть висновок з побудованих вами візуалізацій.\n",
        "  \n",
        "    **Підказка**: я б спробувала вивести середнє значення і довірчий інтервал (який включає весь діапазон значень з різних магазинів) для динаміки кожного айтема, або принаймні для декількох айтемів, аби зрозуміти тенденцію.\n",
        "\n"
      ],
      "metadata": {
        "id": "gSw_jvd2WCvb"
      }
    },
    {
      "cell_type": "code",
      "source": [
        "a=train.groupby(['store','item'])['sales'].mean().reset_index()"
      ],
      "metadata": {
        "id": "Pu1sFxgjaYVW"
      },
      "execution_count": null,
      "outputs": []
    },
    {
      "cell_type": "code",
      "source": [
        "px.bar(a, x='store', y='sales', color='item')"
      ],
      "metadata": {
        "id": "_swgsb5VYH4b"
      },
      "execution_count": null,
      "outputs": []
    },
    {
      "cell_type": "code",
      "source": [
        "train['month']=train.index.strftime(date_format='%Y-%m')"
      ],
      "metadata": {
        "id": "zisFcS81pzIh"
      },
      "execution_count": null,
      "outputs": []
    },
    {
      "cell_type": "code",
      "source": [
        "b=train.groupby(['store','month'])['sales'].mean().reset_index()"
      ],
      "metadata": {
        "id": "ro5kvNAgts0R"
      },
      "execution_count": null,
      "outputs": []
    },
    {
      "cell_type": "code",
      "source": [
        "c=train.groupby(['item','month'])['sales'].mean().reset_index()"
      ],
      "metadata": {
        "id": "K0QiwOUwe4tM"
      },
      "execution_count": null,
      "outputs": []
    },
    {
      "cell_type": "code",
      "source": [
        "px.line(c, x='month', y='sales', color='item')"
      ],
      "metadata": {
        "id": "dGR0ifjNf7Vz"
      },
      "execution_count": null,
      "outputs": []
    },
    {
      "cell_type": "code",
      "source": [
        "px.line(b, x='month', y='sales', color='store')"
      ],
      "metadata": {
        "id": "w1KS8NVotX4s"
      },
      "execution_count": null,
      "outputs": []
    },
    {
      "cell_type": "markdown",
      "source": [
        "Спостерігається сезонність як для кожного з товарів та і загалом по магазинах. Пікові продажі в липні кожного року. Від початку року до липня спостерігається підвищення продажів і до кінця року продажі йдуть на спад. Найвищі показники продадів у 2 та 8 магазинів. Видно тренд на зростання продажів з часом, а також збільшується варіативність даних протягом року (більша різниця між мінімумом та максимумом продажів протягом року)."
      ],
      "metadata": {
        "id": "xwBr9XnFgZiy"
      }
    },
    {
      "cell_type": "markdown",
      "source": [
        "3. **Для початку проаналізуємо лише один ряд, а далі зможемо зациклити тренування моделей.**\n",
        "  \n",
        "  Виберіть підмножину даних, що відповідає продажам товару з `item == 1` у магазині з `store == 1`.\n",
        "\n",
        "  Зробіть декомпозицію цього рядку за адитивною моделлю на тренд, сезонність і залишки з бібліотекою `statsmodels`.\n",
        "\n",
        "  Зробіть висновки з отриманих візуалізацій. Чи щось би могло вам допомогти ліпше зрозуміти ці візуалізації? (з точки зору обробки даних)"
      ],
      "metadata": {
        "id": "qEKWxGKlVr2T"
      }
    },
    {
      "cell_type": "code",
      "source": [
        "import plotly.graph_objects as go"
      ],
      "metadata": {
        "id": "KBkGQ1r2-DkX"
      },
      "execution_count": null,
      "outputs": []
    },
    {
      "cell_type": "code",
      "source": [
        "?px.line"
      ],
      "metadata": {
        "id": "XkDSczE_C6dT"
      },
      "execution_count": null,
      "outputs": []
    },
    {
      "cell_type": "code",
      "source": [
        "train_month=train[train['item']==1].groupby('month')['sales'].mean()"
      ],
      "metadata": {
        "id": "vI_8yUzsGXjM"
      },
      "execution_count": null,
      "outputs": []
    },
    {
      "cell_type": "code",
      "source": [
        "train_m=pd.DataFrame(train_month.reset_index())"
      ],
      "metadata": {
        "id": "5Mde_TsuIpFO"
      },
      "execution_count": null,
      "outputs": []
    },
    {
      "cell_type": "code",
      "source": [
        "train_m.columns"
      ],
      "metadata": {
        "id": "NlcgcIVmJA3O"
      },
      "execution_count": null,
      "outputs": []
    },
    {
      "cell_type": "code",
      "source": [
        "train_month=train[train['item']==1].groupby('month')['sales'].mean()\n",
        "fig=go.Figure()\n",
        "fig.add_trace(go.Scatter(x=train_m['month'], y=train_m['sales'], name='store 1'))\n",
        "fig.add_trace(go.Scatter(x=item1_month['month'], y=item1_month['sales'], name='all stores'))\n",
        "fig.show()\n"
      ],
      "metadata": {
        "id": "dio1obGc81uf"
      },
      "execution_count": null,
      "outputs": []
    },
    {
      "cell_type": "code",
      "source": [
        "item1_month=item1.groupby('month')['sales'].mean().reset_index()"
      ],
      "metadata": {
        "id": "NrWS8tCw8X9y"
      },
      "execution_count": null,
      "outputs": []
    },
    {
      "cell_type": "code",
      "source": [
        "px.line(item1_month)"
      ],
      "metadata": {
        "id": "xyKDCsX08N1O"
      },
      "execution_count": null,
      "outputs": []
    },
    {
      "cell_type": "code",
      "source": [
        "item1=train[(train.item==1)&(train.store==1)]"
      ],
      "metadata": {
        "id": "vfJQeSm2LMUa"
      },
      "execution_count": null,
      "outputs": []
    },
    {
      "cell_type": "code",
      "source": [
        "decomp_add=seasonal_decompose(item1['sales'], model='multiplicative', period=365)\n",
        "decomp_add.plot();"
      ],
      "metadata": {
        "id": "qovxhvf1pZ8j"
      },
      "execution_count": null,
      "outputs": []
    },
    {
      "cell_type": "markdown",
      "source": [
        "Думаю, що для легшого сприйняття даних можна було б згрупувати дані по місяцях та взяти середнє по місяцю значення, тоді було б видно тренд. Такрж залишки видаються дуже великими."
      ],
      "metadata": {
        "id": "boMI7JTbq7kr"
      }
    },
    {
      "cell_type": "markdown",
      "source": [
        "4. Зі створеної підможени даних в попередньому пункті створіть обʼєкт класу `TimeSeries` в `darts` лише для колонки `sales`."
      ],
      "metadata": {
        "id": "r8GwI9USb69x"
      }
    },
    {
      "cell_type": "code",
      "source": [
        "from darts import TimeSeries"
      ],
      "metadata": {
        "id": "TeZai9rZt7Rp"
      },
      "execution_count": null,
      "outputs": []
    },
    {
      "cell_type": "code",
      "source": [
        "item1_series=TimeSeries.from_dataframe(item1, value_cols='sales')"
      ],
      "metadata": {
        "id": "Z-IJp0urt-g7"
      },
      "execution_count": null,
      "outputs": []
    },
    {
      "cell_type": "code",
      "source": [
        "item1_series.plot()"
      ],
      "metadata": {
        "id": "aBdFdN_muyAm"
      },
      "execution_count": null,
      "outputs": []
    },
    {
      "cell_type": "markdown",
      "source": [
        "5. Використовуючи метод `series.split_before` розбийте дані на тренування і валідацію так, аби валідація починалась з `2017-10-01` включно.\n",
        "\n",
        "  Візуалізуйте на одному графіку тренувальну і валідаційну частину як було показано в лекції."
      ],
      "metadata": {
        "id": "fdazrckIaUJt"
      }
    },
    {
      "cell_type": "code",
      "source": [
        "item1_train, item1_val=item1_series.split_before(pd.Timestamp('2017-10-01'))"
      ],
      "metadata": {
        "id": "hSdLhW7uLNwi"
      },
      "execution_count": null,
      "outputs": []
    },
    {
      "cell_type": "code",
      "source": [
        "item1_train.plot(label='train')\n",
        "item1_val.plot(label='validation');"
      ],
      "metadata": {
        "id": "_RlGPzqLVi34"
      },
      "execution_count": null,
      "outputs": []
    },
    {
      "cell_type": "markdown",
      "source": [
        "6. Побудуйте часткову автокореляційну фукнцію для цього нашого ряду в `series`. Напишіть висновки - які лаги є важливими для прогнозування?"
      ],
      "metadata": {
        "id": "FCDyi3lNa1_3"
      }
    },
    {
      "cell_type": "code",
      "source": [
        "plot_acf_d(item1_series, max_lag=720, alpha=0.05, m=364)"
      ],
      "metadata": {
        "id": "DkxY5VpYLOSM"
      },
      "execution_count": null,
      "outputs": []
    },
    {
      "cell_type": "code",
      "source": [
        "plot_pacf(item1_series, max_lag=100, alpha=0.05)"
      ],
      "metadata": {
        "id": "OQ884etaln6A"
      },
      "execution_count": null,
      "outputs": []
    },
    {
      "cell_type": "markdown",
      "source": [
        "Лаги 1 та 2 є важливими для прогнозування та 12  (річна сезонність)."
      ],
      "metadata": {
        "id": "AqEUEy5t4qbE"
      }
    },
    {
      "cell_type": "markdown",
      "source": [
        "7. Виявіть сезональність тренувального ряду використовуючи фукнкцію `check_seasonality` з `darts`."
      ],
      "metadata": {
        "id": "rlGfs2gnbXFn"
      }
    },
    {
      "cell_type": "code",
      "source": [
        "for m in range(2, 720):\n",
        "    is_seasonal, period = check_seasonality(item1_series, m=m, alpha=0.05, max_lag=720)\n",
        "    if is_seasonal:\n",
        "        print(\"There is seasonality of order {}.\".format(period))"
      ],
      "metadata": {
        "id": "DG67fnxkLO1d"
      },
      "execution_count": null,
      "outputs": []
    },
    {
      "cell_type": "markdown",
      "source": [
        "8. Побудуйте наївну модель NaiveSeasonal + NaieDrift для прогнозування даних. Кількість кроків для прогнозування визначіть зі свого аналізу в попередніх пунктах. Візуалізайте передбачення проти справжніх даних так, аби було видно якість передбачень. Зробіть висновок про модель. Вона точна?\n",
        "\n",
        "  Якщо у вас є ідеї, як поліпшити якість передбачення саме наївними моделями - реалізуйте їх в цьому пункті :)"
      ],
      "metadata": {
        "id": "vTAzPIh-bmrj"
      }
    },
    {
      "cell_type": "code",
      "source": [
        "naive_season=NaiveSeasonal(K=364)\n",
        "naive_season.fit(item1_train)\n",
        "predict_season=naive_season.predict(92)\n",
        "plt.figure(figsize=(10, 6))\n",
        "item1_val.plot(label='actual')\n",
        "predict_season.plot(label='predict');"
      ],
      "metadata": {
        "id": "0psfyEYPLPgv"
      },
      "execution_count": null,
      "outputs": []
    },
    {
      "cell_type": "code",
      "source": [
        "naive_drift=NaiveDrift()\n",
        "naive_drift.fit(item1_train)\n",
        "naive_predict=naive_drift.predict(92)\n",
        "drift_forecast=predict_season+naive_predict-item1_train.last_value()\n",
        "plt.figure(figsize=(10, 6))\n",
        "drift_forecast.plot(label='forecast')\n",
        "item1_val.plot(label='true')\n",
        "predict_season.plot(label='predict_season')"
      ],
      "metadata": {
        "id": "qPSMD3_QKGER"
      },
      "execution_count": null,
      "outputs": []
    },
    {
      "cell_type": "markdown",
      "source": [
        "9. Обчисліть помилку прогнозу на валідації наївною моделлю з mape. Далі для всіх моделей необхідно обчислювати помилку прогнозу на валідації."
      ],
      "metadata": {
        "id": "bBMrGdU3eoDN"
      }
    },
    {
      "cell_type": "code",
      "source": [
        "mape(item1_val, predict_season )"
      ],
      "metadata": {
        "id": "IDPv4fVPGUMH"
      },
      "execution_count": null,
      "outputs": []
    },
    {
      "cell_type": "code",
      "source": [
        "mape(item1_val, drift_forecast)"
      ],
      "metadata": {
        "id": "u51yN7CdPEIJ"
      },
      "execution_count": null,
      "outputs": []
    },
    {
      "cell_type": "markdown",
      "source": [
        "10. Натренуйте XBGModel з `darts` для передбачення наших даних. Можна додавати всі додаткові ознаки, які вважаєте за потрібне, наприклад, ознаки з дати. Зробіть висновок про якість моделі."
      ],
      "metadata": {
        "id": "sKHQPJyvfZMj"
      }
    },
    {
      "cell_type": "code",
      "source": [
        "xgbmodel=XGBModel(lags=364,\n",
        "                  output_chunk_length=1,\n",
        "                  n_estimators=100,\n",
        "                  max_depth=3,\n",
        "                 learning_rate=0.1\n",
        "                  )\n",
        "xgbmodel.fit(item1_train)\n",
        "xgb_pred=xgbmodel.predict(92)\n",
        "mape(item1_val, xgb_pred)"
      ],
      "metadata": {
        "id": "bhpacFVlLTow"
      },
      "execution_count": null,
      "outputs": []
    },
    {
      "cell_type": "code",
      "source": [
        "def enrich_with_date_features(df):\n",
        "  df[\"dayofweek\"] = df['date'].dt.dayofweek\n",
        "  df[\"quarter\"] = df['date'].dt.quarter\n",
        "  df[\"month\"] = df['date'].dt.month\n",
        "  df[\"year\"] = df['date'].dt.year\n",
        "  df[\"dayofyear\"] = df['date'].dt.dayofyear\n",
        "  df[\"sin_day\"] = np.sin(df[\"dayofyear\"])\n",
        "  df[\"cos_day\"] = np.cos(df[\"dayofyear\"])\n",
        "  df[\"dayofmonth\"] = df['date'].dt.day\n",
        "  return df"
      ],
      "metadata": {
        "id": "XAY00rH2d61d"
      },
      "execution_count": null,
      "outputs": []
    },
    {
      "cell_type": "code",
      "source": [
        "series_enrich=enrich_with_date_features(item1_series.to_dataframe().reset_index())"
      ],
      "metadata": {
        "id": "-5KbzLbliYtw"
      },
      "execution_count": null,
      "outputs": []
    },
    {
      "cell_type": "code",
      "source": [
        "future_covariates=TimeSeries.from_dataframe(series_enrich.drop('sales', axis=1).set_index('date'))"
      ],
      "metadata": {
        "id": "3y20sWsFhFA6"
      },
      "execution_count": null,
      "outputs": []
    },
    {
      "cell_type": "code",
      "source": [
        "train_cov, val_cov=future_covariates.split_before(pd.Timestamp('2017-10-01'))"
      ],
      "metadata": {
        "id": "pgSJtWfbzXa1"
      },
      "execution_count": null,
      "outputs": []
    },
    {
      "cell_type": "code",
      "source": [
        "scaler=Scaler()\n",
        "train_transformed=scaler.fit_transform(item1_train)\n",
        "val_transformed=scaler.transform(item1_val)\n",
        "scaler_cov=Scaler()\n",
        "train_cov_transf=scaler_cov.fit_transform(train_cov)\n",
        "val_cov_transf=scaler_cov.transform(val_cov)"
      ],
      "metadata": {
        "id": "Xf9kBb6Yi3tR"
      },
      "execution_count": null,
      "outputs": []
    },
    {
      "cell_type": "code",
      "source": [
        "model=XGBModel(lags=31,\n",
        "                  output_chunk_length=1,\n",
        "                  n_estimators=300,\n",
        "                  max_depth=3,\n",
        "                 learning_rate=0.1,\n",
        "               lags_future_covariates=[0])\n",
        "model.fit(train_transformed, future_covariates=train_cov_transf)\n",
        "pred=model.predict(92, future_covariates=val_cov_transf)\n",
        "val_pred=scaler.inverse_transform(pred)\n",
        "mape(item1_val, val_pred)"
      ],
      "metadata": {
        "id": "-QmTrtEmjpLe"
      },
      "execution_count": null,
      "outputs": []
    },
    {
      "cell_type": "markdown",
      "source": [
        "11. Натренуйте модель ExponentialSmoothing та зробіть висновок про її якість."
      ],
      "metadata": {
        "id": "ED9yK-oJgyer"
      }
    },
    {
      "cell_type": "code",
      "source": [
        "from darts.utils.utils import ModelMode, SeasonalityMode"
      ],
      "metadata": {
        "id": "MFcfcK2d8iga"
      },
      "execution_count": null,
      "outputs": []
    },
    {
      "cell_type": "code",
      "source": [
        "exp_model=ExponentialSmoothing(trend=ModelMode.ADDITIVE, seasonal=SeasonalityMode.MULTIPLICATIVE, seasonal_periods=364)\n",
        "exp_model.fit(item1_train)\n",
        "exp_pred=exp_model.predict(92)\n",
        "mape(item1_val, exp_pred)"
      ],
      "metadata": {
        "id": "Z28N-uehLUlO"
      },
      "execution_count": null,
      "outputs": []
    },
    {
      "cell_type": "markdown",
      "source": [
        "12. Натренуйте модель ARIMA, параметри оберіть самостійно.Зробіть висновок про її якість."
      ],
      "metadata": {
        "id": "iMAxcHd9Dug2"
      }
    },
    {
      "cell_type": "code",
      "source": [
        "arima_model=ARIMA(p=7, d=0, q=1)\n",
        "arima_model.fit(item1_train)\n",
        "arima_pred=arima_model.predict(92)\n",
        "mape(item1_val, arima_pred)"
      ],
      "metadata": {
        "id": "pdmoaUwbLVF1"
      },
      "execution_count": null,
      "outputs": []
    },
    {
      "cell_type": "code",
      "source": [
        "sarima=ARIMA(p=1, d=0, q=1, seasonal_order=(1,1,1,31))\n",
        "sarima.fit(item1_train)\n",
        "sarima_pred=arima_model.predict(92)\n",
        "mape(item1_val, sarima_pred)"
      ],
      "metadata": {
        "id": "gO4M6gKTU7gi"
      },
      "execution_count": null,
      "outputs": []
    },
    {
      "cell_type": "markdown",
      "source": [
        "13. Знайдіть оптимальні параметри моделі ARIMA з допомогою AutoARIMA моделі. Виконайте пошук параметрів, виведіть, які паарметри виявились оптимальними і обчисліть якість моделі. Чи поліпшилась якість порівняно з попереднім експериментом?"
      ],
      "metadata": {
        "id": "nD-DN96ZD3GX"
      }
    },
    {
      "cell_type": "code",
      "source": [
        "from statsmodels.tsa.stattools import adfuller\n",
        "\n",
        "result = adfuller(item1['sales'])\n",
        "print('ADF Statistic: %f' % result[0])\n",
        "print('p-value: %f' % result[1])\n",
        "print('Critical Values:')\n",
        "for key, value in result[4].items():\n",
        "    print('\\t%s: %.3f' % (key, value))"
      ],
      "metadata": {
        "id": "foPR1ZUgooKf"
      },
      "execution_count": null,
      "outputs": []
    },
    {
      "cell_type": "code",
      "source": [
        "auto_model=AutoARIMA(start_p=1, max_p=365, start_q=1)\n",
        "auto_model.fit(item1_train)\n",
        "auto_pred=auto_model.predict(92)\n",
        "mape(item1_val, auto_pred)"
      ],
      "metadata": {
        "id": "9JdklGCPLW7u"
      },
      "execution_count": null,
      "outputs": []
    },
    {
      "cell_type": "code",
      "source": [
        "auto_model.model.summary()"
      ],
      "metadata": {
        "id": "ZORfLcdfj9bV"
      },
      "execution_count": null,
      "outputs": []
    },
    {
      "cell_type": "markdown",
      "source": [
        "14. Натренуйте модель Prophet та зробіть висновок про її якість."
      ],
      "metadata": {
        "id": "KY9HuSugFEy9"
      }
    },
    {
      "cell_type": "code",
      "source": [
        "prophet_model = Prophet(seasonality_mode='multiplicative')\n",
        "prophet_model.fit(item1_train, future_covariates=train_cov_transf)\n",
        "forecast =prophet_model.predict(92, future_covariates=val_cov_transf)\n",
        "mape(item1_val, forecast)"
      ],
      "metadata": {
        "id": "QaA8jUkeLX-q"
      },
      "execution_count": null,
      "outputs": []
    },
    {
      "cell_type": "code",
      "source": [],
      "metadata": {
        "id": "5jgzEqQ_wG0r"
      },
      "execution_count": null,
      "outputs": []
    },
    {
      "cell_type": "markdown",
      "source": [
        "15. Натренуйте модель `RNNModel` та зробіть висновок про її якість."
      ],
      "metadata": {
        "id": "aR4VhvxHFVU_"
      }
    },
    {
      "cell_type": "code",
      "source": [
        "rnn_model = RNNModel(model='LSTM', input_chunk_length=1,  output_chunk_length=92,  n_epochs=100, random_state=42)\n",
        "rnn_model.fit(item1_train)\n",
        "forecast = rnn_model.predict(92)\n",
        "mape(item1_val, forecast)"
      ],
      "metadata": {
        "id": "BLof1tTgLY75"
      },
      "execution_count": null,
      "outputs": []
    },
    {
      "cell_type": "markdown",
      "source": [
        "16. Виконайте бектест для тої моделі, яка виявилась найкращою у вашому дослідженні на періоді 1 рік з передбаченнями на 1 місяць щоразу. Візуалізуйте як поводилась модель протягом бектесту, яка була точність?"
      ],
      "metadata": {
        "id": "oYylvI5BGazj"
      }
    },
    {
      "cell_type": "code",
      "source": [
        "prophet_model = Prophet(seasonality_mode='multiplicative')\n",
        "prophet_model.fit(item1_train, future_covariates=train_cov_transf)\n",
        "forecast =prophet_model.predict(92, future_covariates=val_cov_transf)\n",
        "mape(item1_val, forecast)"
      ],
      "metadata": {
        "id": "L4Hp3o6xlsLg"
      },
      "execution_count": null,
      "outputs": []
    },
    {
      "cell_type": "code",
      "source": [
        "hfc_params = {\n",
        "    \"series\": item1_train,\n",
        "    \"start\": pd.Timestamp(\"2016-10-01\"),\n",
        "    \"forecast_horizon\": 91,\n",
        "    \"verbose\": True,\n",
        "}\n",
        "\n",
        "historical_fcast = prophet_model.historical_forecasts( last_points_only=True, **hfc_params)"
      ],
      "metadata": {
        "id": "VzAaV0-qKu7F"
      },
      "execution_count": null,
      "outputs": []
    },
    {
      "cell_type": "code",
      "source": [
        "mape(item1_train, historical_fcast)"
      ],
      "metadata": {
        "id": "_vKlrWvznJCn"
      },
      "execution_count": null,
      "outputs": []
    },
    {
      "cell_type": "code",
      "source": [
        "historical_fcast_all = prophet_model.historical_forecasts(last_points_only=False, stride=91, **hfc_params)\n",
        "\n",
        "item1_train.plot(label=\"data\")\n",
        "for idx, hfc in enumerate(historical_fcast_all):\n",
        "    hfc.plot(label=f\"forecast {idx}\")\n",
        "\n",
        "from darts import concatenate\n",
        "historical_fcast_all = concatenate(historical_fcast_all, axis=0)\n",
        "print(f\"MAPE = {mape(item1_train, historical_fcast_all):.2f}%\")"
      ],
      "metadata": {
        "id": "FZQFdjBbog4d"
      },
      "execution_count": null,
      "outputs": []
    },
    {
      "cell_type": "markdown",
      "source": [
        "Всю варіантивність не вгадали, але виглядає непогано!"
      ],
      "metadata": {
        "id": "0ai_ekpeJBAK"
      }
    },
    {
      "cell_type": "markdown",
      "source": [
        "17. На цьому етапі ви зрозуміли, як моделювати продажі одного айтему з 1 магазину. Як би ви підійшли до задачі прогнозування продажів в наступному місяці для кожного з 50 айтемів в кожному з 10 магазинів? Опишіть загальний підхід\n",
        "- яку модель ви б використали\n",
        "- скільки моделей ви б тренували\n",
        "- обгрунтуйте свій вибір."
      ],
      "metadata": {
        "id": "IteMLFv3JvMj"
      }
    },
    {
      "cell_type": "markdown",
      "source": [
        "Для прогнозування даних для 50 товарів я би використала 18 моделей, виходячи з графіку продажів по кожному з товарів, осільки графіки деяких товарів накладаються один на одного і чітко виділяються 18 груп товарів."
      ],
      "metadata": {
        "id": "9cmQS6dLLbQA"
      }
    }
  ]
}