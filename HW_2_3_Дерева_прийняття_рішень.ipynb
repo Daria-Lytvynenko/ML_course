{
  "nbformat": 4,
  "nbformat_minor": 0,
  "metadata": {
    "colab": {
      "provenance": [],
      "include_colab_link": true
    },
    "kernelspec": {
      "name": "python3",
      "display_name": "Python 3"
    },
    "language_info": {
      "name": "python"
    }
  },
  "cells": [
    {
      "cell_type": "markdown",
      "metadata": {
        "id": "view-in-github",
        "colab_type": "text"
      },
      "source": [
        "<a href=\"https://colab.research.google.com/github/Daria-Lytvynenko/ML_course/blob/main/HW_2_3_%D0%94%D0%B5%D1%80%D0%B5%D0%B2%D0%B0_%D0%BF%D1%80%D0%B8%D0%B9%D0%BD%D1%8F%D1%82%D1%82%D1%8F_%D1%80%D1%96%D1%88%D0%B5%D0%BD%D1%8C.ipynb\" target=\"_parent\"><img src=\"https://colab.research.google.com/assets/colab-badge.svg\" alt=\"Open In Colab\"/></a>"
      ]
    },
    {
      "cell_type": "markdown",
      "source": [
        "В цьому домашньому завданні ми знову працюємо з даними з нашого змагання [\"Bank Customer Churn Prediction (DLU Course)\"](https://www.kaggle.com/t/7c080c5d8ec64364a93cf4e8f880b6a0).\n",
        "\n",
        "Тут ми побудуємо рішення задачі класифікації з використанням Decision Trees і зробимо новий submission на змагання на Kaggle.\n",
        "\n",
        "В цьому ДЗ ми працюємо без pipelines, бо так буде зручніше для візуалізації і інтерпретації моделі дерева прийняття рішень. Так буває і в робочих проєктах: іноді зручніше використати sklearn.Pipelines, іноді зручніше без них. На етапі пошуку рішення (research) зручніше без пайплайнів, а з пайплайнами - коли ви відлагодили процес обробки даних і хочете поекспериментувати з різними моделями і гіперпараметрами."
      ],
      "metadata": {
        "id": "8J0vzsqQfZlU"
      }
    },
    {
      "cell_type": "markdown",
      "source": [
        "**Завдання 1.**\n",
        "\n",
        "У попередньому домашньому завданні, `HW 2.7 Логістична регресія з scikit learn.ipynb`, ми писали обробку даних для змагання. Ваше завдання зараз - за прикладом, наведеним в лекції `Майстер-клас з перенесення коду з jupyter notebook у Python модуль`, перенести попередню обробку сирих даних з вашого розв'язку ДЗ 2.7 у файл `process_bank_churn.py` в функцію `preprocess_data(...)`.\n",
        "\n",
        "Функція `preprocess_data()` має приймати `raw_df` і вертати `X_train`, `train_targets`, `X_val`, `val_targets`, `input_cols`(перелік назв колонок, які Ви використовуєте в X), `scaler`, `encoder`, які ми потім будемо використовувати для тренування дерева прийняття рішень.\n",
        "\n",
        "\n",
        "### Кроки попередньої обробки:\n",
        "\n",
        "1. Обираємо колонки для роботи. В цьому завдання для чистоти експериментів рекомендую прибрати колонку `Surname`, так буде простіше інтрепретувати модель. Ви можете її додати вже за самостійних подальших експериментів.\n",
        "2. Розбиття сирих даних на тренувальні і валідаційні.\n",
        "3. Обробка категоріальних даних (one hot encoding).\n",
        "4. Масштабування числових даних (було частиною попередньої обробки в попередніх завданнях). Для дерев нам не обовʼязково масштабувати ознаки, тож в коді можна зробити цю частину опціональною, додавши в `preprocess_data` параметр `scaler_numeric`, який приймає значення `True` або `False`. Це дозволить використовувати код попередньоъ обробки з різними моделями.\n",
        "\n",
        "\n",
        "### Інструкції:\n",
        "1. Перенесіть попередню обробку даних у файл `process_bank_churn.py`.\n",
        "2. Забезпечте модулярну структуру функцій: кожна функція повинна виконувати лише одну дію, наприклад, масштабувати ознаки.\n",
        "3. Додайте докстрінги до кожної функції.\n",
        "4. Використовуйте typing для аргументів та значень, що повертаються функціями.\n",
        "5. Передбачте обробку нових даних. Додайте спеціальну функцію `preprocess_new_data(...)`, яка приймає на вхід нові дані в вигляді pandas DataFrame та використовує вже навчені скейлер та енкодер (передані теж як аргументи фукнціх) для їх обробки. Ця функція буде корисною для обробки нових даних перед передбаченням або оцінкою моделі, коли оброблятимемо `test.csv`.\n",
        "\n",
        "Можна і рекомендовано виконувати це завдання з ChatGPT (бажано, новіше, ніж 3.5) як було наведено у відео-прикладі, тільки **ваше додаткове завдання - розібратись з кодом, який вам згенерувала мовна модель :)**.\n",
        "\n",
        "## В результаті цього завдання\n",
        "\n",
        "1. Завантажте ваш готовий `process_bank_churn.py` файл на GitHub у свій репозиторій.\n",
        "2. Додайте посилання на файл в репозиторії тут у ноутбуці.\n",
        "3. Нижче зробіть імпорт функції `preprocess_data` з вашого модуля `process_bank_churn.py`.\n",
        "\n"
      ],
      "metadata": {
        "id": "NQ2RvQ9G6H_v"
      }
    },
    {
      "cell_type": "code",
      "source": [
        "from google.colab import drive\n",
        "drive.mount('/content/drive')\n",
        "import sys\n",
        "import pandas as pd\n",
        "import numpy as np\n",
        "from sklearn.preprocessing import OneHotEncoder, MinMaxScaler\n",
        "from sklearn.model_selection import train_test_split\n",
        "from sklearn.tree import DecisionTreeClassifier\n",
        "from sklearn.metrics import confusion_matrix, roc_auc_score, roc_curve, f1_score, auc\n",
        "from matplotlib import pyplot as plt\n",
        "import plotly.graph_objects as go"
      ],
      "metadata": {
        "id": "gJKP4iL38AEL",
        "colab": {
          "base_uri": "https://localhost:8080/"
        },
        "outputId": "df4f5cda-1f32-4428-f49f-cfb783c9ac38"
      },
      "execution_count": 21,
      "outputs": [
        {
          "output_type": "stream",
          "name": "stdout",
          "text": [
            "Drive already mounted at /content/drive; to attempt to forcibly remount, call drive.mount(\"/content/drive\", force_remount=True).\n"
          ]
        }
      ]
    },
    {
      "cell_type": "code",
      "source": [
        "sys.path.append('drive/MyDrive/ML_course')"
      ],
      "metadata": {
        "id": "rzNHLazPj8Rc"
      },
      "execution_count": 22,
      "outputs": []
    },
    {
      "cell_type": "code",
      "source": [
        "!ls 'drive/MyDrive/ML_course'"
      ],
      "metadata": {
        "colab": {
          "base_uri": "https://localhost:8080/"
        },
        "id": "5CtLo5elr7DD",
        "outputId": "feb6cbd3-4665-4e2d-9deb-a5fe39e7e614"
      },
      "execution_count": 23,
      "outputs": [
        {
          "output_type": "stream",
          "name": "stdout",
          "text": [
            "application_data.csv.zip\t medical-charges.csv\t       submission_log_reg.csv\n",
            "application_data_processed.zip\t model_pipeline.joblib\t       test.csv\n",
            "cars.csv\t\t\t previous_application.csv.zip  train.csv\n",
            "columns_description.csv\t\t process_bank_churn.py\t       train_inputs\n",
            "columns_description.gsheet\t __pycache__\t\t       train_targets\n",
            "customer_churn_pred.joblib\t regression_data.csv\t       val_inputs\n",
            "customer_segmentation_train.csv  sample_submission.csv\t       val_targets\n"
          ]
        }
      ]
    },
    {
      "cell_type": "code",
      "source": [
        "from process_bank_churn import *"
      ],
      "metadata": {
        "colab": {
          "base_uri": "https://localhost:8080/",
          "height": 314
        },
        "id": "LHLrruxEidEH",
        "outputId": "077e5622-0d7d-46b2-fe8b-f556efd03611"
      },
      "execution_count": 24,
      "outputs": [
        {
          "output_type": "error",
          "ename": "ModuleNotFoundError",
          "evalue": "No module named 'process_bank_churn'",
          "traceback": [
            "\u001b[0;31m---------------------------------------------------------------------------\u001b[0m",
            "\u001b[0;31mModuleNotFoundError\u001b[0m                       Traceback (most recent call last)",
            "\u001b[0;32m<ipython-input-24-6e92b19f8f41>\u001b[0m in \u001b[0;36m<cell line: 0>\u001b[0;34m()\u001b[0m\n\u001b[0;32m----> 1\u001b[0;31m \u001b[0;32mfrom\u001b[0m \u001b[0mprocess_bank_churn\u001b[0m \u001b[0;32mimport\u001b[0m \u001b[0;34m*\u001b[0m\u001b[0;34m\u001b[0m\u001b[0;34m\u001b[0m\u001b[0m\n\u001b[0m",
            "\u001b[0;31mModuleNotFoundError\u001b[0m: No module named 'process_bank_churn'",
            "",
            "\u001b[0;31m---------------------------------------------------------------------------\u001b[0;32m\nNOTE: If your import is failing due to a missing package, you can\nmanually install dependencies using either !pip or !apt.\n\nTo view examples of installing some common dependencies, click the\n\"Open Examples\" button below.\n\u001b[0;31m---------------------------------------------------------------------------\u001b[0m\n"
          ],
          "errorDetails": {
            "actions": [
              {
                "action": "open_url",
                "actionText": "Open Examples",
                "url": "/notebooks/snippets/importing_libraries.ipynb"
              }
            ]
          }
        }
      ]
    },
    {
      "cell_type": "code",
      "source": [
        "import importlib\n",
        "importlib.reload(process_bank_churn)"
      ],
      "metadata": {
        "id": "P8MWLEeW12yd"
      },
      "execution_count": null,
      "outputs": []
    },
    {
      "cell_type": "code",
      "source": [
        "raw_df=pd.read_csv('drive/MyDrive/ML_course/train.csv')"
      ],
      "metadata": {
        "id": "9JF08eFDv8ig"
      },
      "execution_count": null,
      "outputs": []
    },
    {
      "cell_type": "code",
      "source": [
        "raw_df.head()"
      ],
      "metadata": {
        "id": "gDxy67UWw3Ta"
      },
      "execution_count": null,
      "outputs": []
    },
    {
      "cell_type": "code",
      "source": [
        "raw_df.columns"
      ],
      "metadata": {
        "id": "Lrq3bK5UyASY"
      },
      "execution_count": null,
      "outputs": []
    },
    {
      "cell_type": "code",
      "source": [
        "with open ('drive/MyDrive/ML_course/process_bank_churn.py', 'r') as f:\n",
        "  print(f.read())"
      ],
      "metadata": {
        "id": "6ldd-Mv5CAIB"
      },
      "execution_count": null,
      "outputs": []
    },
    {
      "cell_type": "code",
      "source": [
        "result=preprocess_data(raw_df)"
      ],
      "metadata": {
        "id": "To5EjfMh786V"
      },
      "execution_count": null,
      "outputs": []
    },
    {
      "cell_type": "code",
      "source": [
        "X_train=result['X_train']\n",
        "train_targets=result['train_targets']\n",
        "X_val=result['X_val']\n",
        "val_targets=result['val_targets']\n",
        "input_cols=result['input_cols']\n",
        "scaler=result['scaler']\n",
        "encoder=result['encoder']\n",
        "categorical_cols=result['categorical_cols']\n",
        "numeric_cols=result['numeric_cols']\n",
        "categories=result['categories']"
      ],
      "metadata": {
        "id": "_1js58yuw6SS"
      },
      "execution_count": null,
      "outputs": []
    },
    {
      "cell_type": "markdown",
      "source": [
        "**Завдання 2.**\n",
        "1. Натренуйте дерево прийняття рішень з зафіксованим `random_state` і з рештою аргументів за замовченням.\n",
        "2. Виведіть area under ROC для моделі на тренувальних і тестувальних даних. Нам потрібна ця метрика, бо вона основна в змаганні. Модель ок, чи є пере- або недотренування?\n",
        "3. Виведіть глибину дерева.\n",
        "4. Побудуйте дерево до глибини 2 включно. Напишіть, які ознаки бачите, що є найвпливовішими тут?\n",
        "5. Створіть датафрейм `importance_df` з feature importances, де в першому стовпчику `feature` - назва ознаки з нашого Х, а в другому `importance` - значення, наскільки ця ознака є важливою в побудованій моделі. Виведіть топ 10 найвпливовіших ознак разом з їх скором важливості (можна або у вигляді таблиці, або в вигляді barplot)."
      ],
      "metadata": {
        "id": "B4YZMqOqaAH1"
      }
    },
    {
      "cell_type": "code",
      "source": [
        "tree=DecisionTreeClassifier(random_state=42, max_depth=5)"
      ],
      "metadata": {
        "id": "v2U2dJIaF_W4"
      },
      "execution_count": null,
      "outputs": []
    },
    {
      "cell_type": "code",
      "source": [
        "tree.fit(X_train, train_targets)"
      ],
      "metadata": {
        "id": "r9Xo5HX-6owC"
      },
      "execution_count": null,
      "outputs": []
    },
    {
      "cell_type": "code",
      "source": [
        "pred_train=tree.predict(X_train)\n",
        "pred_val=tree.predict(X_val)"
      ],
      "metadata": {
        "id": "HZrfV8Gb8dCm"
      },
      "execution_count": null,
      "outputs": []
    },
    {
      "cell_type": "code",
      "source": [
        "pred_train_proba=tree.predict_proba(X_train)[:,1]\n",
        "pred_val_proba=tree.predict_proba(X_val)[:,1]\n",
        "fpr, tpr, threshold = roc_curve(train_targets, pred_train_proba)\n",
        "roc_auc=auc(fpr, tpr)*100\n",
        "plt.plot(fpr, tpr)\n",
        "print(f'area under curve train = {roc_auc}%')"
      ],
      "metadata": {
        "id": "PzP8sxMK8hDC"
      },
      "execution_count": null,
      "outputs": []
    },
    {
      "cell_type": "code",
      "source": [
        "fpr, tpr, threshold = roc_curve(val_targets, pred_val_proba)\n",
        "roc_auc=auc(fpr, tpr)*100\n",
        "plt.plot(fpr, tpr)\n",
        "print(f'area under curve val = {roc_auc}%')"
      ],
      "metadata": {
        "id": "Ua9nHZKk92ZT"
      },
      "execution_count": null,
      "outputs": []
    },
    {
      "cell_type": "code",
      "source": [
        "feature_df=pd.DataFrame(zip(tree.feature_names_in_, tree.feature_importances_), columns=['feature', 'importance']).sort_values(by='importance', ascending=False)"
      ],
      "metadata": {
        "id": "s7zGaXmS_hFl"
      },
      "execution_count": null,
      "outputs": []
    },
    {
      "cell_type": "code",
      "source": [
        "feature_df"
      ],
      "metadata": {
        "id": "_RXGKNlZBnMU"
      },
      "execution_count": null,
      "outputs": []
    },
    {
      "cell_type": "markdown",
      "source": [
        "**Завдання 3**. Спробуйте знайти такі параметри моделі `DecisionTree` аби модель генералізувала ліпше (був вищий показник AUROC на валідаційній вибірці). Проекспериментуйте з різними значеннями параметрів `max_leaf_nodes`, `max_depth` та лишіть ті, які дають найкращий результат, разом з відповідними AUROC на тренувальній і валідаційній вибірках.\n",
        "\n",
        "В цьому завданні спробуйте просто знайти параметри методом \"тика\" :)"
      ],
      "metadata": {
        "id": "F-qp7eROd2MF"
      }
    },
    {
      "cell_type": "code",
      "source": [
        "?plt.plot"
      ],
      "metadata": {
        "id": "z4PK69GAGCsc"
      },
      "execution_count": null,
      "outputs": []
    },
    {
      "cell_type": "markdown",
      "source": [
        "**Завдання 4**. В циклі пройдіться по значенням max_depth від 1 до 20 включно, на кожній ітерації натренуйте DecisionTree модель і виміряйте AUROC на трейн і валідаційних даних.\n",
        "\n",
        "В кінці виведіть на графік залеєність між AUROC на трейн і валідаційних даних і номером ітерації."
      ],
      "metadata": {
        "id": "F-g1OXxofYqC"
      }
    },
    {
      "cell_type": "code",
      "source": [
        "def max_depth():\n",
        "  train_preds=[]\n",
        "  val_preds=[]\n",
        "  for i in range(1,21):\n",
        "    tree=DecisionTreeClassifier(random_state=42, max_depth=i)\n",
        "    tree.fit(X_train, train_targets)\n",
        "    pred_train=tree.predict(X_train)\n",
        "    pred_val=tree.predict(X_val)\n",
        "    pred_train_proba=tree.predict_proba(X_train)[:,1]\n",
        "    pred_val_proba=tree.predict_proba(X_val)[:,1]\n",
        "    fpr_tr, tpr_tr, threshold_tr = roc_curve(train_targets, pred_train_proba)\n",
        "    roc_auc_tr=auc(fpr_tr, tpr_tr)*100\n",
        "    fpr_val, tpr_val, threshold_val = roc_curve(val_targets, pred_val_proba)\n",
        "    roc_auc_val=auc(fpr_val, tpr_val)*100\n",
        "    train_preds.append( roc_auc_tr)\n",
        "    val_preds.append( roc_auc_val)\n",
        "  plt.plot(train_preds, label='train')\n",
        "  plt.plot(val_preds, label='validation')\n",
        "  plt.xlabel('iteration')\n",
        "  plt.ylabel('area under curve')\n",
        "  plt.xticks(range(1,21))"
      ],
      "metadata": {
        "id": "R6RVg0TvGDu1"
      },
      "execution_count": null,
      "outputs": []
    },
    {
      "cell_type": "code",
      "source": [
        "max_depth()"
      ],
      "metadata": {
        "id": "ht4keXPIeFaE"
      },
      "execution_count": null,
      "outputs": []
    },
    {
      "cell_type": "markdown",
      "source": [
        "**Завдання 5**.\n",
        "1. Натренуйте модель `DecisionTree` з найкращим значенням `max_depth`, яке ви знайшли на попередній ітерації.\n",
        "2. Завантажте тестові дані змагання з `test.csv`.\n",
        "3. Зробіть попередню обробку даних з функцією `preprocess_new_data` з вашого модуля `process_bank_churn.py`.\n",
        "4. Зробіть передбачення використовуючи цю модель на тестових даних змагання.\n",
        "5. Сформуйте `submission.csv`.\n",
        "6. Зробіть новий Submission на Kaggle і додайте тут скріншот Вашого скору на паблік лідерборді :)\n"
      ],
      "metadata": {
        "id": "3cpULQtgiC5T"
      }
    },
    {
      "cell_type": "code",
      "source": [
        "test=pd.read_csv('drive/MyDrive/ML_course/test.csv')"
      ],
      "metadata": {
        "id": "ht6fOjbQGH2D"
      },
      "execution_count": null,
      "outputs": []
    },
    {
      "cell_type": "code",
      "source": [
        "preprocess_new_data(test, encoder, scaler, categorical_cols, numeric_cols, categories)"
      ],
      "metadata": {
        "id": "ferzrS0Bp7wj"
      },
      "execution_count": null,
      "outputs": []
    }
  ]
}