{
  "nbformat": 4,
  "nbformat_minor": 0,
  "metadata": {
    "colab": {
      "provenance": [],
      "include_colab_link": true
    },
    "kernelspec": {
      "name": "python3",
      "display_name": "Python 3"
    },
    "language_info": {
      "name": "python"
    }
  },
  "cells": [
    {
      "cell_type": "markdown",
      "metadata": {
        "id": "view-in-github",
        "colab_type": "text"
      },
      "source": [
        "<a href=\"https://colab.research.google.com/github/Daria-Lytvynenko/ML_course/blob/main/HW_2_1_%D0%A4%D1%83%D0%BD%D0%BA%D1%86%D1%96%D1%97_%D1%96_%D0%BF%D0%BE%D1%85%D1%96%D0%B4%D0%BD%D1%96.ipynb\" target=\"_parent\"><img src=\"https://colab.research.google.com/assets/colab-badge.svg\" alt=\"Open In Colab\"/></a>"
      ]
    },
    {
      "cell_type": "markdown",
      "source": [
        "### Домашні завдання на відпрацювання поняття функції та її похідної\n",
        "\n",
        "1. Задана функція залежності оцінки від кількості годин, витрачених на навчання: $ f(x) = 10x - 5 $.\n",
        "  1. З допомогою Python обчисліть похідну цієї функції.\n",
        "  2. Використовуйте бібліотеку `matplotlib` для побудови графіків функції та її похідної в діапазоні значень від 0 до 10 годин. Проаналізуйте, як зміна кількості годин вивчення впливає на оцінку.\n",
        "\n"
      ],
      "metadata": {
        "id": "96Jt4SJFgNMT"
      }
    },
    {
      "cell_type": "code",
      "source": [],
      "metadata": {
        "id": "R15CgY_gt63W"
      },
      "execution_count": null,
      "outputs": []
    },
    {
      "cell_type": "markdown",
      "source": [
        "2. Використовуючи Python і `SymPy`, обчисліть похідні для функцій $ f(x) = \\sin(x) $ та $ f(x) = \\ln(x) $. Зобразіть ці функції та їхні похідні за допомогою `matplotlib`.\n",
        "\n"
      ],
      "metadata": {
        "id": "9KlJeYO4fNJq"
      }
    },
    {
      "cell_type": "code",
      "source": [],
      "metadata": {
        "id": "yR4tg0zDuAAQ"
      },
      "execution_count": null,
      "outputs": []
    },
    {
      "cell_type": "markdown",
      "source": [
        "\n",
        "3. Загальні витрати компанії від обсягу виробництва задані функцією $ f(x) = x^2 - 5x + 1 $, де $ x $ — кількість вироблених одиниць. Обчисліть похідну цієї функції з допомогою SymPy та візуалізуйте значення функції і її похідної на відрізку від 0 до 100."
      ],
      "metadata": {
        "id": "A-BVEn9PgkN8"
      }
    },
    {
      "cell_type": "code",
      "source": [],
      "metadata": {
        "id": "Dx4g-2gDuA4g"
      },
      "execution_count": null,
      "outputs": []
    }
  ]
}