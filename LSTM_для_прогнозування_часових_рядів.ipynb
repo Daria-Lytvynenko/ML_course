{
  "nbformat": 4,
  "nbformat_minor": 0,
  "metadata": {
    "colab": {
      "provenance": [],
      "include_colab_link": true
    },
    "kernelspec": {
      "name": "python3",
      "display_name": "Python 3"
    },
    "language_info": {
      "name": "python"
    }
  },
  "cells": [
    {
      "cell_type": "markdown",
      "metadata": {
        "id": "view-in-github",
        "colab_type": "text"
      },
      "source": [
        "<a href=\"https://colab.research.google.com/github/Daria-Lytvynenko/ML_course/blob/main/LSTM_%D0%B4%D0%BB%D1%8F_%D0%BF%D1%80%D0%BE%D0%B3%D0%BD%D0%BE%D0%B7%D1%83%D0%B2%D0%B0%D0%BD%D0%BD%D1%8F_%D1%87%D0%B0%D1%81%D0%BE%D0%B2%D0%B8%D1%85_%D1%80%D1%8F%D0%B4%D1%96%D0%B2.ipynb\" target=\"_parent\"><img src=\"https://colab.research.google.com/assets/colab-badge.svg\" alt=\"Open In Colab\"/></a>"
      ]
    },
    {
      "cell_type": "markdown",
      "source": [
        "Давайте подивимося, як LSTM можна використовувати для побудови нейронної мережі прогнозування часових.\n",
        "\n",
        "Будемо працювати з задачею прогнозування кількості пасажирів міжнародних авіаліній. З цим набором даних ми вже працювали в лекції \"Time Series Analysis\" і ви зможете порівняти результати :)\n",
        "\n",
        "Задача полягає в тому, щоб за заданими роком і місяцем передбачити кількість пасажирів міжнародних авіаліній в одиницях виміру 1,000. Дані охоплюють період з січня 1949 року по грудень 1960 року, тобто 12 років, зі 144 спостереженнями.\n",
        "\n",
        "Це регресійна задача. Тобто, знаючи кількість пасажирів (в тисячах) за останні місяці, можна передбачити, якою буде кількість пасажирів у наступному місяці. Набір даних має лише одну характеристику: \"Кількість пасажирів\" - `Passengers`.\n",
        "\n",
        "Далі вже наведений код для читання даних, але нам їх ще треба буде трошки обробити."
      ],
      "metadata": {
        "id": "QVNVsLwJvV9S"
      }
    },
    {
      "cell_type": "code",
      "execution_count": 1,
      "metadata": {
        "id": "hw3dGYsyluYm",
        "colab": {
          "base_uri": "https://localhost:8080/",
          "height": 237
        },
        "outputId": "477bf25e-0331-4e94-eed4-e07dd3482f0a"
      },
      "outputs": [
        {
          "output_type": "display_data",
          "data": {
            "text/plain": [
              "         Passengers\n",
              "Month              \n",
              "1949-01         112\n",
              "1949-02         118\n",
              "1949-03         132\n",
              "1949-04         129\n",
              "1949-05         121"
            ],
            "text/html": [
              "\n",
              "  <div id=\"df-649be2c9-3f0d-40f8-8355-3079fdee2056\" class=\"colab-df-container\">\n",
              "    <div>\n",
              "<style scoped>\n",
              "    .dataframe tbody tr th:only-of-type {\n",
              "        vertical-align: middle;\n",
              "    }\n",
              "\n",
              "    .dataframe tbody tr th {\n",
              "        vertical-align: top;\n",
              "    }\n",
              "\n",
              "    .dataframe thead th {\n",
              "        text-align: right;\n",
              "    }\n",
              "</style>\n",
              "<table border=\"1\" class=\"dataframe\">\n",
              "  <thead>\n",
              "    <tr style=\"text-align: right;\">\n",
              "      <th></th>\n",
              "      <th>Passengers</th>\n",
              "    </tr>\n",
              "    <tr>\n",
              "      <th>Month</th>\n",
              "      <th></th>\n",
              "    </tr>\n",
              "  </thead>\n",
              "  <tbody>\n",
              "    <tr>\n",
              "      <th>1949-01</th>\n",
              "      <td>112</td>\n",
              "    </tr>\n",
              "    <tr>\n",
              "      <th>1949-02</th>\n",
              "      <td>118</td>\n",
              "    </tr>\n",
              "    <tr>\n",
              "      <th>1949-03</th>\n",
              "      <td>132</td>\n",
              "    </tr>\n",
              "    <tr>\n",
              "      <th>1949-04</th>\n",
              "      <td>129</td>\n",
              "    </tr>\n",
              "    <tr>\n",
              "      <th>1949-05</th>\n",
              "      <td>121</td>\n",
              "    </tr>\n",
              "  </tbody>\n",
              "</table>\n",
              "</div>\n",
              "    <div class=\"colab-df-buttons\">\n",
              "\n",
              "  <div class=\"colab-df-container\">\n",
              "    <button class=\"colab-df-convert\" onclick=\"convertToInteractive('df-649be2c9-3f0d-40f8-8355-3079fdee2056')\"\n",
              "            title=\"Convert this dataframe to an interactive table.\"\n",
              "            style=\"display:none;\">\n",
              "\n",
              "  <svg xmlns=\"http://www.w3.org/2000/svg\" height=\"24px\" viewBox=\"0 -960 960 960\">\n",
              "    <path d=\"M120-120v-720h720v720H120Zm60-500h600v-160H180v160Zm220 220h160v-160H400v160Zm0 220h160v-160H400v160ZM180-400h160v-160H180v160Zm440 0h160v-160H620v160ZM180-180h160v-160H180v160Zm440 0h160v-160H620v160Z\"/>\n",
              "  </svg>\n",
              "    </button>\n",
              "\n",
              "  <style>\n",
              "    .colab-df-container {\n",
              "      display:flex;\n",
              "      gap: 12px;\n",
              "    }\n",
              "\n",
              "    .colab-df-convert {\n",
              "      background-color: #E8F0FE;\n",
              "      border: none;\n",
              "      border-radius: 50%;\n",
              "      cursor: pointer;\n",
              "      display: none;\n",
              "      fill: #1967D2;\n",
              "      height: 32px;\n",
              "      padding: 0 0 0 0;\n",
              "      width: 32px;\n",
              "    }\n",
              "\n",
              "    .colab-df-convert:hover {\n",
              "      background-color: #E2EBFA;\n",
              "      box-shadow: 0px 1px 2px rgba(60, 64, 67, 0.3), 0px 1px 3px 1px rgba(60, 64, 67, 0.15);\n",
              "      fill: #174EA6;\n",
              "    }\n",
              "\n",
              "    .colab-df-buttons div {\n",
              "      margin-bottom: 4px;\n",
              "    }\n",
              "\n",
              "    [theme=dark] .colab-df-convert {\n",
              "      background-color: #3B4455;\n",
              "      fill: #D2E3FC;\n",
              "    }\n",
              "\n",
              "    [theme=dark] .colab-df-convert:hover {\n",
              "      background-color: #434B5C;\n",
              "      box-shadow: 0px 1px 3px 1px rgba(0, 0, 0, 0.15);\n",
              "      filter: drop-shadow(0px 1px 2px rgba(0, 0, 0, 0.3));\n",
              "      fill: #FFFFFF;\n",
              "    }\n",
              "  </style>\n",
              "\n",
              "    <script>\n",
              "      const buttonEl =\n",
              "        document.querySelector('#df-649be2c9-3f0d-40f8-8355-3079fdee2056 button.colab-df-convert');\n",
              "      buttonEl.style.display =\n",
              "        google.colab.kernel.accessAllowed ? 'block' : 'none';\n",
              "\n",
              "      async function convertToInteractive(key) {\n",
              "        const element = document.querySelector('#df-649be2c9-3f0d-40f8-8355-3079fdee2056');\n",
              "        const dataTable =\n",
              "          await google.colab.kernel.invokeFunction('convertToInteractive',\n",
              "                                                    [key], {});\n",
              "        if (!dataTable) return;\n",
              "\n",
              "        const docLinkHtml = 'Like what you see? Visit the ' +\n",
              "          '<a target=\"_blank\" href=https://colab.research.google.com/notebooks/data_table.ipynb>data table notebook</a>'\n",
              "          + ' to learn more about interactive tables.';\n",
              "        element.innerHTML = '';\n",
              "        dataTable['output_type'] = 'display_data';\n",
              "        await google.colab.output.renderOutput(dataTable, element);\n",
              "        const docLink = document.createElement('div');\n",
              "        docLink.innerHTML = docLinkHtml;\n",
              "        element.appendChild(docLink);\n",
              "      }\n",
              "    </script>\n",
              "  </div>\n",
              "\n",
              "\n",
              "    <div id=\"df-30f5ead2-2295-41e7-bde2-bb49944b558d\">\n",
              "      <button class=\"colab-df-quickchart\" onclick=\"quickchart('df-30f5ead2-2295-41e7-bde2-bb49944b558d')\"\n",
              "                title=\"Suggest charts\"\n",
              "                style=\"display:none;\">\n",
              "\n",
              "<svg xmlns=\"http://www.w3.org/2000/svg\" height=\"24px\"viewBox=\"0 0 24 24\"\n",
              "     width=\"24px\">\n",
              "    <g>\n",
              "        <path d=\"M19 3H5c-1.1 0-2 .9-2 2v14c0 1.1.9 2 2 2h14c1.1 0 2-.9 2-2V5c0-1.1-.9-2-2-2zM9 17H7v-7h2v7zm4 0h-2V7h2v10zm4 0h-2v-4h2v4z\"/>\n",
              "    </g>\n",
              "</svg>\n",
              "      </button>\n",
              "\n",
              "<style>\n",
              "  .colab-df-quickchart {\n",
              "      --bg-color: #E8F0FE;\n",
              "      --fill-color: #1967D2;\n",
              "      --hover-bg-color: #E2EBFA;\n",
              "      --hover-fill-color: #174EA6;\n",
              "      --disabled-fill-color: #AAA;\n",
              "      --disabled-bg-color: #DDD;\n",
              "  }\n",
              "\n",
              "  [theme=dark] .colab-df-quickchart {\n",
              "      --bg-color: #3B4455;\n",
              "      --fill-color: #D2E3FC;\n",
              "      --hover-bg-color: #434B5C;\n",
              "      --hover-fill-color: #FFFFFF;\n",
              "      --disabled-bg-color: #3B4455;\n",
              "      --disabled-fill-color: #666;\n",
              "  }\n",
              "\n",
              "  .colab-df-quickchart {\n",
              "    background-color: var(--bg-color);\n",
              "    border: none;\n",
              "    border-radius: 50%;\n",
              "    cursor: pointer;\n",
              "    display: none;\n",
              "    fill: var(--fill-color);\n",
              "    height: 32px;\n",
              "    padding: 0;\n",
              "    width: 32px;\n",
              "  }\n",
              "\n",
              "  .colab-df-quickchart:hover {\n",
              "    background-color: var(--hover-bg-color);\n",
              "    box-shadow: 0 1px 2px rgba(60, 64, 67, 0.3), 0 1px 3px 1px rgba(60, 64, 67, 0.15);\n",
              "    fill: var(--button-hover-fill-color);\n",
              "  }\n",
              "\n",
              "  .colab-df-quickchart-complete:disabled,\n",
              "  .colab-df-quickchart-complete:disabled:hover {\n",
              "    background-color: var(--disabled-bg-color);\n",
              "    fill: var(--disabled-fill-color);\n",
              "    box-shadow: none;\n",
              "  }\n",
              "\n",
              "  .colab-df-spinner {\n",
              "    border: 2px solid var(--fill-color);\n",
              "    border-color: transparent;\n",
              "    border-bottom-color: var(--fill-color);\n",
              "    animation:\n",
              "      spin 1s steps(1) infinite;\n",
              "  }\n",
              "\n",
              "  @keyframes spin {\n",
              "    0% {\n",
              "      border-color: transparent;\n",
              "      border-bottom-color: var(--fill-color);\n",
              "      border-left-color: var(--fill-color);\n",
              "    }\n",
              "    20% {\n",
              "      border-color: transparent;\n",
              "      border-left-color: var(--fill-color);\n",
              "      border-top-color: var(--fill-color);\n",
              "    }\n",
              "    30% {\n",
              "      border-color: transparent;\n",
              "      border-left-color: var(--fill-color);\n",
              "      border-top-color: var(--fill-color);\n",
              "      border-right-color: var(--fill-color);\n",
              "    }\n",
              "    40% {\n",
              "      border-color: transparent;\n",
              "      border-right-color: var(--fill-color);\n",
              "      border-top-color: var(--fill-color);\n",
              "    }\n",
              "    60% {\n",
              "      border-color: transparent;\n",
              "      border-right-color: var(--fill-color);\n",
              "    }\n",
              "    80% {\n",
              "      border-color: transparent;\n",
              "      border-right-color: var(--fill-color);\n",
              "      border-bottom-color: var(--fill-color);\n",
              "    }\n",
              "    90% {\n",
              "      border-color: transparent;\n",
              "      border-bottom-color: var(--fill-color);\n",
              "    }\n",
              "  }\n",
              "</style>\n",
              "\n",
              "      <script>\n",
              "        async function quickchart(key) {\n",
              "          const quickchartButtonEl =\n",
              "            document.querySelector('#' + key + ' button');\n",
              "          quickchartButtonEl.disabled = true;  // To prevent multiple clicks.\n",
              "          quickchartButtonEl.classList.add('colab-df-spinner');\n",
              "          try {\n",
              "            const charts = await google.colab.kernel.invokeFunction(\n",
              "                'suggestCharts', [key], {});\n",
              "          } catch (error) {\n",
              "            console.error('Error during call to suggestCharts:', error);\n",
              "          }\n",
              "          quickchartButtonEl.classList.remove('colab-df-spinner');\n",
              "          quickchartButtonEl.classList.add('colab-df-quickchart-complete');\n",
              "        }\n",
              "        (() => {\n",
              "          let quickchartButtonEl =\n",
              "            document.querySelector('#df-30f5ead2-2295-41e7-bde2-bb49944b558d button');\n",
              "          quickchartButtonEl.style.display =\n",
              "            google.colab.kernel.accessAllowed ? 'block' : 'none';\n",
              "        })();\n",
              "      </script>\n",
              "    </div>\n",
              "    </div>\n",
              "  </div>\n"
            ],
            "application/vnd.google.colaboratory.intrinsic+json": {
              "type": "dataframe",
              "summary": "{\n  \"name\": \"display(df\",\n  \"rows\": 5,\n  \"fields\": [\n    {\n      \"column\": \"Month\",\n      \"properties\": {\n        \"dtype\": \"object\",\n        \"num_unique_values\": 5,\n        \"samples\": [\n          \"1949-02\",\n          \"1949-05\",\n          \"1949-03\"\n        ],\n        \"semantic_type\": \"\",\n        \"description\": \"\"\n      }\n    },\n    {\n      \"column\": \"Passengers\",\n      \"properties\": {\n        \"dtype\": \"number\",\n        \"std\": 8,\n        \"min\": 112,\n        \"max\": 132,\n        \"num_unique_values\": 5,\n        \"samples\": [\n          118,\n          121,\n          132\n        ],\n        \"semantic_type\": \"\",\n        \"description\": \"\"\n      }\n    }\n  ]\n}"
            }
          },
          "metadata": {}
        }
      ],
      "source": [
        "import pandas as pd\n",
        "import numpy as np\n",
        "from matplotlib import pyplot as plt\n",
        "import torch\n",
        "import torch.nn as nn\n",
        "from torch.utils.data import Dataset, DataLoader, TensorDataset\n",
        "\n",
        "# Завантаження даних\n",
        "url = \"https://raw.githubusercontent.com/jbrownlee/Datasets/master/airline-passengers.csv\"\n",
        "df = pd.read_csv(url)\n",
        "df.set_index('Month', inplace=True)\n",
        "display(df.head())"
      ]
    },
    {
      "cell_type": "code",
      "source": [
        "df.info()"
      ],
      "metadata": {
        "id": "tm-Qk2cHUtuR",
        "outputId": "9e3afd5f-3eab-4eab-f42e-674ea606fa8b",
        "colab": {
          "base_uri": "https://localhost:8080/"
        }
      },
      "execution_count": 2,
      "outputs": [
        {
          "output_type": "stream",
          "name": "stdout",
          "text": [
            "<class 'pandas.core.frame.DataFrame'>\n",
            "Index: 144 entries, 1949-01 to 1960-12\n",
            "Data columns (total 1 columns):\n",
            " #   Column      Non-Null Count  Dtype\n",
            "---  ------      --------------  -----\n",
            " 0   Passengers  144 non-null    int64\n",
            "dtypes: int64(1)\n",
            "memory usage: 2.2+ KB\n"
          ]
        }
      ]
    },
    {
      "cell_type": "markdown",
      "source": [
        "**Завдання 1.** Створіть змінну типу `numpy.ndarray`, яка містить значення кількості пасажирів в форматі `float32`. Такий формат даних нам треба для тренування нейромережі."
      ],
      "metadata": {
        "id": "BCcNvF28wSH3"
      }
    },
    {
      "cell_type": "code",
      "source": [
        "passengers=np.array(df.Passengers).astype('float32')"
      ],
      "metadata": {
        "id": "7PcJkPAoBOH5"
      },
      "execution_count": 3,
      "outputs": []
    },
    {
      "cell_type": "markdown",
      "source": [
        "Очікуваний результат:\n",
        "```array([112., 118., 132., 129., 121.], dtype=float32)```"
      ],
      "metadata": {
        "id": "Vms2Pxp1xCrB"
      }
    },
    {
      "cell_type": "markdown",
      "source": [
        "**Завдання 2**. Розбийте дані на тренувальні і валідаційні у співвідношенні 67% йде у тренування, 33 - у валідацію. Памʼятаємо, що ми працюємо з tim series, відповідно, навчаємось на давніших, валідуємось - на новіших."
      ],
      "metadata": {
        "id": "vESTxq-OxLRK"
      }
    },
    {
      "cell_type": "code",
      "source": [
        "train=passengers[:int(len(passengers)*0.67)]\n",
        "test=passengers[int(len(passengers)*0.67):]"
      ],
      "metadata": {
        "id": "USpGte_tBPR1"
      },
      "execution_count": 4,
      "outputs": []
    },
    {
      "cell_type": "markdown",
      "source": [
        "**Завдання 3**.\n",
        "\n",
        "Реалізуйте функцію `create_dataset`, яка перетворить одномірний часовий ряд (набір даних) у формат, придатний для тренування нейромережі.\n",
        "\n",
        "Функція повинна приймати два аргументи:\n",
        "- `dataset` — numpy-масив часового ряду,\n",
        "- `lookback` — кількість попередніх кроків, які використовуватимуться для передбачення.\n",
        "\n",
        "Функція повинна повернути два **тензори** PyTorch:\n",
        "- `X` — набір ознак (вікно попередніх значень),\n",
        "- `y` — цільові значення (наступні після вікна кроки).\n",
        "\n",
        "Дані ми будемо подавати моделі в наступному форматі:\n",
        "`\n",
        "tensor([[112.],\n",
        "        [118.],\n",
        "        [132.],\n",
        "        [129.],\n",
        "        [121.]])\n",
        "`\n",
        "Відповідно першою розмірністю буде йти розмір вхідного батча, а другою - розмір вхіднизх даних і в нас це 1, бо лише одне значення на вході щоразу.\n",
        "\n",
        "Після виконання завдання запустіть код нижче. Ми будемо передбачати на основі кількості пасажирів в попередній день кількість пасажирів в наступний, тому `lookback == 1`."
      ],
      "metadata": {
        "id": "YB-e-vEDx3bn"
      }
    },
    {
      "cell_type": "code",
      "source": [
        "def create_dataset(dataset, lookback):\n",
        "  X= torch.from_numpy(dataset[1:].reshape(-1,1,1))\n",
        "  y=torch.from_numpy(dataset[:-1].reshape(-1,1))\n",
        "  return X, y"
      ],
      "metadata": {
        "id": "s5UXOiAHBVwe"
      },
      "execution_count": 5,
      "outputs": []
    },
    {
      "cell_type": "code",
      "source": [
        "lookback = 1\n",
        "X_train, y_train = create_dataset(train, lookback=lookback)\n",
        "X_test, y_test = create_dataset(test, lookback=lookback)\n",
        "print(X_train.shape, y_train.shape)\n",
        "print(X_test.shape, y_test.shape)"
      ],
      "metadata": {
        "colab": {
          "base_uri": "https://localhost:8080/"
        },
        "id": "dA8FwOfwuPyl",
        "outputId": "bf28b1aa-474b-46e1-b607-a024c093811a"
      },
      "execution_count": 6,
      "outputs": [
        {
          "output_type": "stream",
          "name": "stdout",
          "text": [
            "torch.Size([95, 1, 1]) torch.Size([95, 1])\n",
            "torch.Size([47, 1, 1]) torch.Size([47, 1])\n"
          ]
        }
      ]
    },
    {
      "cell_type": "markdown",
      "source": [
        "Очікуваний результат:\n",
        "```\n",
        "torch.Size([95, 1]) torch.Size([95, 1])\n",
        "torch.Size([47, 1]) torch.Size([47, 1])\n",
        "```"
      ],
      "metadata": {
        "id": "dvEA-D-SzcWf"
      }
    },
    {
      "cell_type": "markdown",
      "source": [
        "**Завдання 4**.\n",
        "\n",
        "Зверніть увагу на розмірності в попередньому завданні. Ми\n",
        "З допомогою модуля `torch.nn` опишіть клас `AirModel`, який є нейронною мережею для прогнозування кількості пасажирів за допомогою LSTM.\n",
        "\n",
        "1. **Конструктор класу** повинен приймати параметри `hidden_size`, `num_layers` та ініціювати шари:\n",
        "   - LSTM-шар з наступними параметрами:\n",
        "     - `input_size` — кожна точка часового ряду є окремим входом,,\n",
        "     - `hidden_size` — заданий в конструкторі класу мережі,\n",
        "     - `num_layers=1` — кількість шарів LSTM, задана в конструкторі мережі,\n",
        "     - `batch_first=True` — визначає, що першим виміром є розмір батчу.\n",
        "   - Лінійний шар (`nn.Linear`) для перетворення виходу LSTM на прогноз однієї точки.\n",
        "\n",
        "2. **Метод forward** повинен виконувати наступні дії:\n",
        "   - Передати вхідний тензор через LSTM-шар і отримати виходи (ігноруючи приховані стани).\n",
        "   - Пропустити вихід LSTM через лінійний шар для отримання остаточного прогнозу.\n",
        "\n",
        "Створіть об'єкт класу `AirModel` зі значеннями параметрів `hidden_size=50`, `num_layers=1` і протестуйте роботу моделі на вхідному тензорі `tensor([[112.]])`. На цьому етапі ми маємо переконатись, що модель здатна генерувати передбачення з рандомно ініційованими вагами."
      ],
      "metadata": {
        "id": "eeiFJ-jDznj5"
      }
    },
    {
      "cell_type": "code",
      "source": [
        "class AirModel(nn.Module):\n",
        "  def __init__(self, input_size, hidden_size, num_layers, output_size, batch_first=True):\n",
        "    super(AirModel, self).__init__()\n",
        "    self.hidden_size=hidden_size\n",
        "    self.hidden_size=hidden_size\n",
        "\n",
        "    self.lstm=nn.LSTM(input_size, hidden_size, num_layers, batch_first=True)\n",
        "\n",
        "    self.lin=nn.Linear(hidden_size, output_size)\n",
        "\n",
        "  def forward(self, x):\n",
        "    out, _=self.lstm(x)\n",
        "    out=self.lin(out[:,-1,:])\n",
        "    return out"
      ],
      "metadata": {
        "id": "dcafrsmrDHsz"
      },
      "execution_count": 7,
      "outputs": []
    },
    {
      "cell_type": "code",
      "source": [
        "airmodel=AirModel(input_size=1, hidden_size=50, num_layers=1, output_size=1)"
      ],
      "metadata": {
        "id": "nJ2ccOM34maT"
      },
      "execution_count": 8,
      "outputs": []
    },
    {
      "cell_type": "code",
      "source": [
        "a=airmodel(torch.tensor([[[112.]]]))"
      ],
      "metadata": {
        "id": "9QlAiIR35rh6"
      },
      "execution_count": 9,
      "outputs": []
    },
    {
      "cell_type": "code",
      "source": [
        "a"
      ],
      "metadata": {
        "colab": {
          "base_uri": "https://localhost:8080/"
        },
        "id": "DTk6s0sk6I4-",
        "outputId": "ea4130d0-3155-4581-c624-187752bc3f6d"
      },
      "execution_count": 10,
      "outputs": [
        {
          "output_type": "execute_result",
          "data": {
            "text/plain": [
              "tensor([[0.3112]], grad_fn=<AddmmBackward0>)"
            ]
          },
          "metadata": {},
          "execution_count": 10
        }
      ]
    },
    {
      "cell_type": "markdown",
      "source": [
        "**Завдання 5**.\n",
        "\n",
        "Створіть об'єкт DataLoader для завантаження даних, використовуючи тренувальні вибірки `X_train` та `y_train`. Ваш DataLoader повинен виконувати наступні вимоги:\n",
        "\n",
        "1. Використовувати клас `TensorDataset`, щоб об'єднати тензори ознак `X_train` і цільових значень `y_train`.\n",
        "2. Дані повинні завантажуватися невеликими батчами розміром 8 за допомогою параметра `batch_size`.\n",
        "3. Використовувати параметр `shuffle=True`, щоб дані перемішувалися перед кожною епохою тренування.\n"
      ],
      "metadata": {
        "id": "-R6zv9nu2tWB"
      }
    },
    {
      "cell_type": "code",
      "source": [
        "train_set=TensorDataset(X_train, y_train)\n",
        "dl_train=DataLoader(dataset=train_set, batch_size=8, shuffle=True)"
      ],
      "metadata": {
        "id": "WKdkptY7DMAc"
      },
      "execution_count": 11,
      "outputs": []
    },
    {
      "cell_type": "code",
      "source": [
        "test_set=TensorDataset(X_test, y_test)\n",
        "dl_test=DataLoader(dataset=test_set, batch_size=8, shuffle=False)"
      ],
      "metadata": {
        "id": "WYofUOAR9dpE"
      },
      "execution_count": 12,
      "outputs": []
    },
    {
      "cell_type": "markdown",
      "source": [
        "**Завдання 6**.\n",
        "\n",
        "1. Реалізуйте навчання нейронної мережі `AirModel` для прогнозування часових рядів, використовуючи Adam-оптимізатор та функцію втрат MSE (середньоквадратичну похибку).\n",
        "2. Створіть цикл тренування для 2000 епох, у якому на кожній епосі:\n",
        "   - Виконуйте крок тренування моделі (прямий прохід, обчислення похибки, зворотний прохід і оновлення ваг).\n",
        "   - Підраховуйте середню похибку на кожному батчі даних і зберігайте її у списку `losses`.\n",
        "3. Раз на 100 епох проводьте валідацію моделі:\n",
        "   - Перевіряйте модель на тренувальних та тестових даних без оновлення ваг.\n",
        "   - Обчислюйте корінь середньоквадратичної похибки (RMSE) для тренувальної та тестової вибірок і виводьте результати на екран.\n",
        "   \n",
        "**Примітка:**\n",
        "- Використовуйте вже створений `DataLoader` для отримання батчів даних.\n",
        "- Валідацію виконуйте в режимі `eval()`, вимикаючи обчислення градієнтів з `torch.no_grad()`.\n",
        "\n",
        "**Приклад виходу:**\n",
        "```\n",
        "Epoch 0: train RMSE 12.3456, test RMSE 15.6789\n",
        "Epoch 100: train RMSE 9.8765, test RMSE 12.3456\n",
        "...\n",
        "```"
      ],
      "metadata": {
        "id": "6ZaGh7IF2nfT"
      }
    },
    {
      "cell_type": "code",
      "source": [
        "mse=nn.MSELoss()"
      ],
      "metadata": {
        "id": "pEVnWusrDNTt"
      },
      "execution_count": 13,
      "outputs": []
    },
    {
      "cell_type": "code",
      "source": [
        "def train(model, optimizer, dataloader):\n",
        "  model.train()\n",
        "  losses=0\n",
        "  for batch_idx, (inputs, targets) in enumerate(dataloader):\n",
        "    model.zero_grad()\n",
        "    pred=model(inputs)\n",
        "    loss=mse(pred, targets)\n",
        "    losses+=loss.item()\n",
        "    loss.backward()\n",
        "    optimizer.step()\n",
        "  avg_loss=losses/len(dataloader)\n",
        "  return pred, np.sqrt(avg_loss)"
      ],
      "metadata": {
        "id": "V6VpkE_9FFo-"
      },
      "execution_count": 14,
      "outputs": []
    },
    {
      "cell_type": "code",
      "source": [
        "def validate(model, dataloader):\n",
        "  model.eval()\n",
        "  losses=0\n",
        "  with torch.no_grad():\n",
        "    for inputs, targets in dataloader:\n",
        "      pred=model(inputs)\n",
        "      loss=mse(pred, targets)\n",
        "      losses+=loss.item()\n",
        "  avg_loss=losses/len(dataloader)\n",
        "  return pred, np.sqrt(avg_loss)"
      ],
      "metadata": {
        "id": "pTC4RgFzIXqn"
      },
      "execution_count": 15,
      "outputs": []
    },
    {
      "cell_type": "code",
      "source": [
        "def train_model(model, optimizer, epochs, dataloader_train, dataloader_test):\n",
        "  losses_tr=[]\n",
        "  losses_test=[]\n",
        "  for i in range(1, epochs+1):\n",
        "    output_tr, loss_tr=train(model, optimizer, dataloader_train)\n",
        "    losses_tr.append(loss_tr)\n",
        "    output_test, loss_test=validate(model, dataloader_test)\n",
        "    losses_test.append(loss_test)\n",
        "    if i%100==0:\n",
        "      print(f'Epoch {i}: train RMSE {loss_tr}, test RMSE {loss_test}')\n",
        "  return losses_tr, losses_test\n"
      ],
      "metadata": {
        "id": "T7UROnnB6gnf"
      },
      "execution_count": 16,
      "outputs": []
    },
    {
      "cell_type": "code",
      "source": [
        "opt=torch.optim.Adam(airmodel.parameters(), lr=0.1)\n",
        "epochs=2000"
      ],
      "metadata": {
        "id": "xxDdK_mQEalV"
      },
      "execution_count": 17,
      "outputs": []
    },
    {
      "cell_type": "code",
      "source": [
        "losses_tr, losses_test=train_model(airmodel, opt, 2000, dl_train, dl_test)"
      ],
      "metadata": {
        "colab": {
          "base_uri": "https://localhost:8080/"
        },
        "id": "fWOaAPWc-MGn",
        "outputId": "7141b658-7604-4ca6-94c9-1c468d95245f"
      },
      "execution_count": 18,
      "outputs": [
        {
          "output_type": "stream",
          "name": "stdout",
          "text": [
            "Epoch 100: train RMSE 71.15603927605675, test RMSE 216.32148911665212\n",
            "Epoch 200: train RMSE 71.24967526367426, test RMSE 216.64817554308146\n",
            "Epoch 300: train RMSE 71.22674373742983, test RMSE 217.77063577233616\n",
            "Epoch 400: train RMSE 71.30252484188848, test RMSE 218.40532965299482\n",
            "Epoch 500: train RMSE 71.37313058234415, test RMSE 218.33538236554406\n",
            "Epoch 600: train RMSE 71.35015475909731, test RMSE 216.17475584606117\n",
            "Epoch 700: train RMSE 71.77292407736523, test RMSE 214.45312974347294\n",
            "Epoch 800: train RMSE 71.72525529910196, test RMSE 216.7407140095626\n",
            "Epoch 900: train RMSE 71.19681360208365, test RMSE 215.94677229248336\n",
            "Epoch 1000: train RMSE 71.07396244772647, test RMSE 217.24781012153878\n",
            "Epoch 1100: train RMSE 71.65012957784609, test RMSE 217.86173896461833\n",
            "Epoch 1200: train RMSE 71.5521671303746, test RMSE 219.3041648755692\n",
            "Epoch 1300: train RMSE 71.25572515318414, test RMSE 219.36402216122406\n",
            "Epoch 1400: train RMSE 71.51757397342467, test RMSE 216.87826156289077\n",
            "Epoch 1500: train RMSE 71.63640336383398, test RMSE 219.18885591492023\n",
            "Epoch 1600: train RMSE 71.29641799953068, test RMSE 215.75382172406972\n",
            "Epoch 1700: train RMSE 71.40905248705944, test RMSE 218.60764638936087\n",
            "Epoch 1800: train RMSE 71.49264196846771, test RMSE 217.32883890259478\n",
            "Epoch 1900: train RMSE 71.357930704971, test RMSE 217.56524778620053\n",
            "Epoch 2000: train RMSE 71.73101598028884, test RMSE 219.8696983324252\n"
          ]
        }
      ]
    },
    {
      "cell_type": "markdown",
      "source": [
        "**Завдання 7.** Побудуйте графік лосів. Зробіть висновок з графіку, чи навчилась модель?"
      ],
      "metadata": {
        "id": "m0sIo4kp5X_s"
      }
    },
    {
      "cell_type": "code",
      "source": [
        "plt.plot(losses_tr)"
      ],
      "metadata": {
        "id": "AS2USLRq76up",
        "colab": {
          "base_uri": "https://localhost:8080/",
          "height": 447
        },
        "outputId": "08ca6cf7-de20-42b5-f780-75216e5c7581"
      },
      "execution_count": 19,
      "outputs": [
        {
          "output_type": "execute_result",
          "data": {
            "text/plain": [
              "[<matplotlib.lines.Line2D at 0x7a5355844710>]"
            ]
          },
          "metadata": {},
          "execution_count": 19
        },
        {
          "output_type": "display_data",
          "data": {
            "text/plain": [
              "<Figure size 640x480 with 1 Axes>"
            ],
            "image/png": "[encoded data removed]"
          },
          "metadata": {}
        }
      ]
    },
    {
      "cell_type": "code",
      "source": [
        "plt.plot(losses_test)"
      ],
      "metadata": {
        "colab": {
          "base_uri": "https://localhost:8080/",
          "height": 447
        },
        "id": "bpzpoB-BQRP6",
        "outputId": "de7494a4-179e-46af-e52d-550384a88cea"
      },
      "execution_count": 20,
      "outputs": [
        {
          "output_type": "execute_result",
          "data": {
            "text/plain": [
              "[<matplotlib.lines.Line2D at 0x7a535287fe90>]"
            ]
          },
          "metadata": {},
          "execution_count": 20
        },
        {
          "output_type": "display_data",
          "data": {
            "text/plain": [
              "<Figure size 640x480 with 1 Axes>"
            ],
            "image/png": "[encoded data removed]"
          },
          "metadata": {}
        }
      ]
    },
    {
      "cell_type": "markdown",
      "source": [
        "Модель навчилась, але не факт, що точно)"
      ],
      "metadata": {
        "id": "8eBoUQVB5p0h"
      }
    },
    {
      "cell_type": "markdown",
      "source": [
        "Доволі неочікувано, що середньоквадратичне відхилення тестового набору даних буде на порядок більшим за одиниці в нашому наборі даних. Середньоквадратичне відхилення 100 означає, що прогноз і фактичне значення будуть відрізнятися в середньому на 100 (тобто, 100 000 пасажирів у цьому наборі даних).\n",
        "\n"
      ],
      "metadata": {
        "id": "-vCiGfQw7sEK"
      }
    },
    {
      "cell_type": "markdown",
      "source": [
        "Щоб краще зрозуміти якість прогнозу, ви можете побудувати графік з кодом нижче (а ще нижче - описано, що відбувається в цьому коді, бо це теж корисно зрозуміти):"
      ],
      "metadata": {
        "id": "bgtO7NZh77vU"
      }
    },
    {
      "cell_type": "code",
      "source": [
        "def plot_predicts():\n",
        "  with torch.no_grad():\n",
        "      # Зсув прогнозів для тренувальних даних\n",
        "      train_plot = np.ones_like(timeseries) * np.nan\n",
        "      y_pred = model(X_train)\n",
        "      y_pred = y_pred[:, -1]\n",
        "      train_plot[lookback:train_size] = model(X_train)[:, -1]\n",
        "\n",
        "      # Зсув прогнозів для тестових даних\n",
        "      test_plot = np.ones_like(timeseries) * np.nan\n",
        "      test_plot[train_size+lookback:len(timeseries)] = model(X_test)[:, -1]\n",
        "\n",
        "  # Візуалізація результатів\n",
        "  plt.plot(timeseries, c='b')  # Реальні дані\n",
        "  plt.plot(train_plot, c='r')  # Прогнози на тренувальних даних\n",
        "  plt.plot(test_plot, c='g')   # Прогнози на тестових даних\n",
        "  plt.show()\n",
        "\n",
        "plot_predicts()"
      ],
      "metadata": {
        "id": "ZznU2AK0vES5",
        "colab": {
          "base_uri": "https://localhost:8080/",
          "height": 297
        },
        "outputId": "e787bf11-d2b5-47e9-cb5d-1d7eab2e3657"
      },
      "execution_count": 21,
      "outputs": [
        {
          "output_type": "error",
          "ename": "NameError",
          "evalue": "name 'timeseries' is not defined",
          "traceback": [
            "\u001b[0;31m---------------------------------------------------------------------------\u001b[0m",
            "\u001b[0;31mNameError\u001b[0m                                 Traceback (most recent call last)",
            "\u001b[0;32m<ipython-input-21-f885d675f3c1>\u001b[0m in \u001b[0;36m<cell line: 0>\u001b[0;34m()\u001b[0m\n\u001b[1;32m     17\u001b[0m   \u001b[0mplt\u001b[0m\u001b[0;34m.\u001b[0m\u001b[0mshow\u001b[0m\u001b[0;34m(\u001b[0m\u001b[0;34m)\u001b[0m\u001b[0;34m\u001b[0m\u001b[0;34m\u001b[0m\u001b[0m\n\u001b[1;32m     18\u001b[0m \u001b[0;34m\u001b[0m\u001b[0m\n\u001b[0;32m---> 19\u001b[0;31m \u001b[0mplot_predicts\u001b[0m\u001b[0;34m(\u001b[0m\u001b[0;34m)\u001b[0m\u001b[0;34m\u001b[0m\u001b[0;34m\u001b[0m\u001b[0m\n\u001b[0m",
            "\u001b[0;32m<ipython-input-21-f885d675f3c1>\u001b[0m in \u001b[0;36mplot_predicts\u001b[0;34m()\u001b[0m\n\u001b[1;32m      2\u001b[0m   \u001b[0;32mwith\u001b[0m \u001b[0mtorch\u001b[0m\u001b[0;34m.\u001b[0m\u001b[0mno_grad\u001b[0m\u001b[0;34m(\u001b[0m\u001b[0;34m)\u001b[0m\u001b[0;34m:\u001b[0m\u001b[0;34m\u001b[0m\u001b[0;34m\u001b[0m\u001b[0m\n\u001b[1;32m      3\u001b[0m       \u001b[0;31m# Зсув прогнозів для тренувальних даних\u001b[0m\u001b[0;34m\u001b[0m\u001b[0;34m\u001b[0m\u001b[0m\n\u001b[0;32m----> 4\u001b[0;31m       \u001b[0mtrain_plot\u001b[0m \u001b[0;34m=\u001b[0m \u001b[0mnp\u001b[0m\u001b[0;34m.\u001b[0m\u001b[0mones_like\u001b[0m\u001b[0;34m(\u001b[0m\u001b[0mtimeseries\u001b[0m\u001b[0;34m)\u001b[0m \u001b[0;34m*\u001b[0m \u001b[0mnp\u001b[0m\u001b[0;34m.\u001b[0m\u001b[0mnan\u001b[0m\u001b[0;34m\u001b[0m\u001b[0;34m\u001b[0m\u001b[0m\n\u001b[0m\u001b[1;32m      5\u001b[0m       \u001b[0my_pred\u001b[0m \u001b[0;34m=\u001b[0m \u001b[0mmodel\u001b[0m\u001b[0;34m(\u001b[0m\u001b[0mX_train\u001b[0m\u001b[0;34m)\u001b[0m\u001b[0;34m\u001b[0m\u001b[0;34m\u001b[0m\u001b[0m\n\u001b[1;32m      6\u001b[0m       \u001b[0my_pred\u001b[0m \u001b[0;34m=\u001b[0m \u001b[0my_pred\u001b[0m\u001b[0;34m[\u001b[0m\u001b[0;34m:\u001b[0m\u001b[0;34m,\u001b[0m \u001b[0;34m-\u001b[0m\u001b[0;36m1\u001b[0m\u001b[0;34m]\u001b[0m\u001b[0;34m\u001b[0m\u001b[0;34m\u001b[0m\u001b[0m\n",
            "\u001b[0;31mNameError\u001b[0m: name 'timeseries' is not defined"
          ]
        }
      ]
    },
    {
      "cell_type": "markdown",
      "source": [
        "**Що відбувається в коді вище.** В цьому коді здійснюється процес прогнозування часових рядів за допомогою LSTM моделі, а також виведення графіку, який показує реальні значення, тренувальні та тестові прогнози. Ось що відбувається на кожному етапі:\n",
        "\n",
        "1. **`torch.no_grad()`**: Цей контекстний менеджер вимикає обчислення градієнтів, що означає, що під час прогнозування не будуть зберігатися проміжні обчислення для зворотного проходу (backpropagation). Це підвищує ефективність під час прогнозування і зменшує використання пам'яті.\n",
        "\n",
        "2. **Зсув прогнозів для тренувальних даних:**\n",
        "   - Створюється масив `train_plot`, який має такий самий розмір, як і часовий ряд (`timeseries`), і заповнюється значеннями NaN (`np.nan`), щоб залишити місце для реальних значень.\n",
        "   - Модель передбачає виходи для тренувальних даних `X_train`.\n",
        "   - Використовується лише останнє передбачене значення для кожного входу LSTM (`y_pred[:, -1]`).\n",
        "   - Прогнози зсуваються, починаючи з індексу `lookback` до кінця тренувальних даних (індекс `train_size`). Цей зсув потрібен, щоб зробити прогноз на основі попередніх даних і відобразити його на правильній частині графіку.\n",
        "\n",
        "3. **Зсув прогнозів для тестових даних:**\n",
        "   - Створюється масив `test_plot`, який також заповнюється NaN.\n",
        "   - Прогнози для тестових даних додаються з індексу `train_size + lookback` до кінця реальних даних, щоб відобразити, де модель починає прогнозувати тестову вибірку.\n",
        "\n",
        "4. **Побудова графіка:**\n",
        "   - `plt.plot(timeseries, c='b')`: Виводить реальні значення часового ряду (синя лінія).\n",
        "   - `plt.plot(train_plot, c='r')`: Виводить тренувальні прогнози (червона лінія).\n",
        "   - `plt.plot(test_plot, c='g')`: Виводить тестові прогнози (зелена лінія).\n",
        "\n",
        "**Чому це робиться:**\n",
        "- Зсув прогнозів для тренувальних і тестових даних дозволяє візуально зрівняти, наскільки добре модель прогнозує як на тренувальній, так і на тестовій вибірках. Зазвичай, червона лінія (тренувальні прогнози) повинна точно відповідати синій лінії (реальні дані), а зелена лінія (тестові прогнози) дає змогу побачити, наскільки модель добре працює на нових даних, яких вона раніше не бачила."
      ],
      "metadata": {
        "id": "ahPW3iiJDg1R"
      }
    },
    {
      "cell_type": "markdown",
      "source": [
        "**Завдання 8**. Навчіть модель з hidden_size=100 та порівняйте результати прогнозів з попередніми."
      ],
      "metadata": {
        "id": "PhoeHLus-xIr"
      }
    },
    {
      "cell_type": "code",
      "source": [],
      "metadata": {
        "id": "92032N_E_PxY"
      },
      "execution_count": null,
      "outputs": []
    }
  ]
}