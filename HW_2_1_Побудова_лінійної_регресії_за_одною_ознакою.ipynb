{
  "nbformat": 4,
  "nbformat_minor": 0,
  "metadata": {
    "colab": {
      "provenance": [],
      "include_colab_link": true
    },
    "kernelspec": {
      "name": "python3",
      "display_name": "Python 3"
    },
    "language_info": {
      "name": "python"
    }
  },
  "cells": [
    {
      "cell_type": "markdown",
      "metadata": {
        "id": "view-in-github",
        "colab_type": "text"
      },
      "source": [
        "<a href=\"https://colab.research.google.com/github/Daria-Lytvynenko/ML_course/blob/main/HW_2_1_%D0%9F%D0%BE%D0%B1%D1%83%D0%B4%D0%BE%D0%B2%D0%B0_%D0%BB%D1%96%D0%BD%D1%96%D0%B9%D0%BD%D0%BE%D1%97_%D1%80%D0%B5%D0%B3%D1%80%D0%B5%D1%81%D1%96%D1%97_%D0%B7%D0%B0_%D0%BE%D0%B4%D0%BD%D0%BE%D1%8E_%D0%BE%D0%B7%D0%BD%D0%B0%D0%BA%D0%BE%D1%8E.ipynb\" target=\"_parent\"><img src=\"https://colab.research.google.com/assets/colab-badge.svg\" alt=\"Open In Colab\"/></a>"
      ]
    },
    {
      "cell_type": "markdown",
      "source": [
        "В цьому домашньому завданні кожне завдання оцінюється по 10 балів."
      ],
      "metadata": {
        "id": "EWomc9mXPTqZ"
      }
    },
    {
      "cell_type": "markdown",
      "metadata": {
        "id": "6c79c881"
      },
      "source": [
        " **Завдання 1.** Після перегляду лекцій про поняття функії, вступ до лінійної алгебри і мат. формулювання лін. регресії знайдіть найкращу лінію для прогнозу `charges` за `age` **для некурців** (датафрейм `non_smoker_df`) з допомогою\n",
        "\n",
        "1. Методу МНК (з використанням тільки `numpy`, без `scikit learn`)\n",
        "\n",
        "2. Full-Batch градієнтного спуску з `numpy` . Протестуйте 3 різних learning rate і зробіть висновок, який є найкращим виходячи з практик для цього, наведених в лекції. Зверніть увагу, що на вхід треба набір даних дворозміний, для цього можливо треба буде трансформувати Ваші дані X в формат, як був в лекції \"Математичне формулювання лінійної регресії\". Також, градієнтний спуск в нашому випадку може розходитись з навчальним рейтом 0.1, бо цей рейт в цій задачі завеликий. Спробуйте нижчі рейти.\n",
        "3. З `scikit-learn.LinearRegression`. Тут зверніть увагу, що вхід `X` має бути двовимірним масивом, тому нам потрібно передати dataframe, а не окрему колонку. Якщо у Вас X - колонка (а у Вас так мало б бути), то можна скористатись `X.to_frame()` щоб конвертувати колонку в датафрейм.\n",
        "\n",
        "Для кожного методу\n",
        "- знайдіть і виведіть коефіцієнти моделі\n",
        "- обчисліть прогнози моделі і збережіть в окрему змінну\n",
        "- порахуйте точність прогнозу RMSE  \n",
        "\n",
        "Для градієнтного спуску виведіть графік помилки в залежності від ітерації.\n",
        "\n",
        "А також побудуйте на одному графіку дані `age` проти `charges` в вигляді діаграми розсіювання і всі три лінії регресії, знайдені кожним з методів (для град. спуску оберіть варіант з тим learning rate, який виявився найкращим).\n",
        "\n",
        "Зробіть висновки, чи відрізняються результати моделей?\n",
        "Чи є знайдены параметри моделы близькими до ваших найкращих припущень?"
      ]
    },
    {
      "cell_type": "code",
      "source": [
        "from google.colab import drive\n",
        "drive.mount('/content/drive')"
      ],
      "metadata": {
        "id": "xPSWQXohQQXq",
        "outputId": "0b719c37-4224-4fcc-9134-59b7a8085aa5",
        "colab": {
          "base_uri": "https://localhost:8080/"
        }
      },
      "execution_count": 7,
      "outputs": [
        {
          "output_type": "stream",
          "name": "stdout",
          "text": [
            "Mounted at /content/drive\n"
          ]
        }
      ]
    },
    {
      "cell_type": "code",
      "source": [
        "!ls drive/MyDrive/ML_course"
      ],
      "metadata": {
        "id": "zQ1nXEmRRPoT",
        "outputId": "2c552bb9-6c8d-4e9a-e295-7a20aba7e37d",
        "colab": {
          "base_uri": "https://localhost:8080/"
        }
      },
      "execution_count": 8,
      "outputs": [
        {
          "output_type": "stream",
          "name": "stdout",
          "text": [
            "application_data.csv.zip\tcolumns_description.csv     medical-charges.csv\n",
            "application_data_processed.zip\tcolumns_description.gsheet  previous_application.csv.zip\n"
          ]
        }
      ]
    },
    {
      "cell_type": "code",
      "source": [
        "import pandas as pd\n",
        "import numpy as np\n",
        "import plotly.express as px\n",
        "import plotly.subplots as ps\n",
        "from scipy.stats import shapiro\n",
        "from sklearn.linear_model import LinearRegression\n",
        "from sklearn.metrics import root_mean_squared_error, mean_absolute_error, r2_score\n",
        "medical_df = pd.read_csv('drive/MyDrive/ML_course/medical-charges.csv') # замініть на ваш шлях до файлу\n",
        "non_smoker_df = medical_df[medical_df.smoker == 'no']"
      ],
      "metadata": {
        "id": "FQoRJkFUX6ln"
      },
      "execution_count": 51,
      "outputs": []
    },
    {
      "cell_type": "code",
      "source": [
        "x=non_smoker_df.age\n",
        "y=non_smoker_df.charges\n",
        "x_frame=x.to_frame()"
      ],
      "metadata": {
        "id": "DTkYxGddX-5r"
      },
      "execution_count": 121,
      "outputs": []
    },
    {
      "cell_type": "markdown",
      "source": [
        "theta=theta-alpha*"
      ],
      "metadata": {
        "id": "XTqD61smqZHa"
      }
    },
    {
      "cell_type": "code",
      "source": [
        "x=np.expand_dims(x, axis=1)\n",
        "x"
      ],
      "metadata": {
        "id": "Xb9kkwPqtELQ",
        "outputId": "ff6b1839-1828-40fe-eb17-2ce42e1d1a5d",
        "colab": {
          "base_uri": "https://localhost:8080/"
        }
      },
      "execution_count": 122,
      "outputs": [
        {
          "output_type": "execute_result",
          "data": {
            "text/plain": [
              "array([[18],\n",
              "       [28],\n",
              "       [33],\n",
              "       ...,\n",
              "       [18],\n",
              "       [18],\n",
              "       [21]])"
            ]
          },
          "metadata": {},
          "execution_count": 122
        }
      ]
    },
    {
      "cell_type": "code",
      "source": [
        "x.dtype"
      ],
      "metadata": {
        "id": "T3gsZb3Pzomc",
        "outputId": "4e77ae4b-e734-44fd-9a89-63ca049fd013",
        "colab": {
          "base_uri": "https://localhost:8080/"
        }
      },
      "execution_count": 106,
      "outputs": [
        {
          "output_type": "execute_result",
          "data": {
            "text/plain": [
              "dtype('int64')"
            ]
          },
          "metadata": {},
          "execution_count": 106
        }
      ]
    },
    {
      "cell_type": "code",
      "source": [
        "def full_batch_gradient_descent(x, y, lr=0.0001, epochs=1000):\n",
        "    m, b = 0.0, 0.0  # Початкові параметри\n",
        "    n = len(y)\n",
        "    ers = []\n",
        "    for _ in range(epochs):\n",
        "        y_preds = m * x[:, 0] + b\n",
        "        er = y_preds - y\n",
        "        ers.append(sum(er**2))\n",
        "        m_gradient = (2/n) * np.dot(er, x[:, 0])\n",
        "        b_gradient = (2/n) * np.sum(er)\n",
        "        m = m - lr * m_gradient\n",
        "        b = b - lr * b_gradient\n",
        "    return m, b, ers\n",
        "\n",
        "m, b, ers = full_batch_gradient_descent(x, y, lr=0.0001, epochs=1000)\n",
        "predictions_fbgd = m * x[:, 0] + b\n",
        "\n",
        "m, b"
      ],
      "metadata": {
        "id": "64uBGhSBqQZ3",
        "outputId": "75c655c1-de0e-4834-c71a-5c5b9e83351a",
        "colab": {
          "base_uri": "https://localhost:8080/"
        }
      },
      "execution_count": 129,
      "outputs": [
        {
          "output_type": "execute_result",
          "data": {
            "text/plain": [
              "(221.1045843794301, -41.98126853149978)"
            ]
          },
          "metadata": {},
          "execution_count": 129
        }
      ]
    },
    {
      "cell_type": "code",
      "source": [
        "predictions_fbgd"
      ],
      "metadata": {
        "id": "uFaBrkBS32p9",
        "outputId": "7a3af38e-b35a-414c-d864-6f81aad52ce7",
        "colab": {
          "base_uri": "https://localhost:8080/"
        }
      },
      "execution_count": 130,
      "outputs": [
        {
          "output_type": "execute_result",
          "data": {
            "text/plain": [
              "array([3937.9012503 , 6148.94709409, 7254.47001599, ..., 3937.9012503 ,\n",
              "       3937.9012503 , 4601.21500344])"
            ]
          },
          "metadata": {},
          "execution_count": 130
        }
      ]
    },
    {
      "cell_type": "code",
      "source": [
        "root_mean_squared_error(y, predictions_fbgd)"
      ],
      "metadata": {
        "id": "COMdB9MB4v2d",
        "outputId": "f29fc65a-9739-4cea-de58-d9975a8c5c53",
        "colab": {
          "base_uri": "https://localhost:8080/"
        }
      },
      "execution_count": 131,
      "outputs": [
        {
          "output_type": "execute_result",
          "data": {
            "text/plain": [
              "4713.250582815521"
            ]
          },
          "metadata": {},
          "execution_count": 131
        }
      ]
    },
    {
      "cell_type": "code",
      "source": [
        "lr=LinearRegression()\n",
        "lr.fit(x_frame,y)"
      ],
      "metadata": {
        "id": "Gxcp_dYdorJP",
        "outputId": "03fb445e-a6c4-4070-d5be-26874961418a",
        "colab": {
          "base_uri": "https://localhost:8080/",
          "height": 80
        }
      },
      "execution_count": 66,
      "outputs": [
        {
          "output_type": "execute_result",
          "data": {
            "text/plain": [
              "LinearRegression()"
            ],
            "text/html": [
              "<style>#sk-container-id-3 {\n",
              "  /* Definition of color scheme common for light and dark mode */\n",
              "  --sklearn-color-text: #000;\n",
              "  --sklearn-color-text-muted: #666;\n",
              "  --sklearn-color-line: gray;\n",
              "  /* Definition of color scheme for unfitted estimators */\n",
              "  --sklearn-color-unfitted-level-0: #fff5e6;\n",
              "  --sklearn-color-unfitted-level-1: #f6e4d2;\n",
              "  --sklearn-color-unfitted-level-2: #ffe0b3;\n",
              "  --sklearn-color-unfitted-level-3: chocolate;\n",
              "  /* Definition of color scheme for fitted estimators */\n",
              "  --sklearn-color-fitted-level-0: #f0f8ff;\n",
              "  --sklearn-color-fitted-level-1: #d4ebff;\n",
              "  --sklearn-color-fitted-level-2: #b3dbfd;\n",
              "  --sklearn-color-fitted-level-3: cornflowerblue;\n",
              "\n",
              "  /* Specific color for light theme */\n",
              "  --sklearn-color-text-on-default-background: var(--sg-text-color, var(--theme-code-foreground, var(--jp-content-font-color1, black)));\n",
              "  --sklearn-color-background: var(--sg-background-color, var(--theme-background, var(--jp-layout-color0, white)));\n",
              "  --sklearn-color-border-box: var(--sg-text-color, var(--theme-code-foreground, var(--jp-content-font-color1, black)));\n",
              "  --sklearn-color-icon: #696969;\n",
              "\n",
              "  @media (prefers-color-scheme: dark) {\n",
              "    /* Redefinition of color scheme for dark theme */\n",
              "    --sklearn-color-text-on-default-background: var(--sg-text-color, var(--theme-code-foreground, var(--jp-content-font-color1, white)));\n",
              "    --sklearn-color-background: var(--sg-background-color, var(--theme-background, var(--jp-layout-color0, #111)));\n",
              "    --sklearn-color-border-box: var(--sg-text-color, var(--theme-code-foreground, var(--jp-content-font-color1, white)));\n",
              "    --sklearn-color-icon: #878787;\n",
              "  }\n",
              "}\n",
              "\n",
              "#sk-container-id-3 {\n",
              "  color: var(--sklearn-color-text);\n",
              "}\n",
              "\n",
              "#sk-container-id-3 pre {\n",
              "  padding: 0;\n",
              "}\n",
              "\n",
              "#sk-container-id-3 input.sk-hidden--visually {\n",
              "  border: 0;\n",
              "  clip: rect(1px 1px 1px 1px);\n",
              "  clip: rect(1px, 1px, 1px, 1px);\n",
              "  height: 1px;\n",
              "  margin: -1px;\n",
              "  overflow: hidden;\n",
              "  padding: 0;\n",
              "  position: absolute;\n",
              "  width: 1px;\n",
              "}\n",
              "\n",
              "#sk-container-id-3 div.sk-dashed-wrapped {\n",
              "  border: 1px dashed var(--sklearn-color-line);\n",
              "  margin: 0 0.4em 0.5em 0.4em;\n",
              "  box-sizing: border-box;\n",
              "  padding-bottom: 0.4em;\n",
              "  background-color: var(--sklearn-color-background);\n",
              "}\n",
              "\n",
              "#sk-container-id-3 div.sk-container {\n",
              "  /* jupyter's `normalize.less` sets `[hidden] { display: none; }`\n",
              "     but bootstrap.min.css set `[hidden] { display: none !important; }`\n",
              "     so we also need the `!important` here to be able to override the\n",
              "     default hidden behavior on the sphinx rendered scikit-learn.org.\n",
              "     See: https://github.com/scikit-learn/scikit-learn/issues/21755 */\n",
              "  display: inline-block !important;\n",
              "  position: relative;\n",
              "}\n",
              "\n",
              "#sk-container-id-3 div.sk-text-repr-fallback {\n",
              "  display: none;\n",
              "}\n",
              "\n",
              "div.sk-parallel-item,\n",
              "div.sk-serial,\n",
              "div.sk-item {\n",
              "  /* draw centered vertical line to link estimators */\n",
              "  background-image: linear-gradient(var(--sklearn-color-text-on-default-background), var(--sklearn-color-text-on-default-background));\n",
              "  background-size: 2px 100%;\n",
              "  background-repeat: no-repeat;\n",
              "  background-position: center center;\n",
              "}\n",
              "\n",
              "/* Parallel-specific style estimator block */\n",
              "\n",
              "#sk-container-id-3 div.sk-parallel-item::after {\n",
              "  content: \"\";\n",
              "  width: 100%;\n",
              "  border-bottom: 2px solid var(--sklearn-color-text-on-default-background);\n",
              "  flex-grow: 1;\n",
              "}\n",
              "\n",
              "#sk-container-id-3 div.sk-parallel {\n",
              "  display: flex;\n",
              "  align-items: stretch;\n",
              "  justify-content: center;\n",
              "  background-color: var(--sklearn-color-background);\n",
              "  position: relative;\n",
              "}\n",
              "\n",
              "#sk-container-id-3 div.sk-parallel-item {\n",
              "  display: flex;\n",
              "  flex-direction: column;\n",
              "}\n",
              "\n",
              "#sk-container-id-3 div.sk-parallel-item:first-child::after {\n",
              "  align-self: flex-end;\n",
              "  width: 50%;\n",
              "}\n",
              "\n",
              "#sk-container-id-3 div.sk-parallel-item:last-child::after {\n",
              "  align-self: flex-start;\n",
              "  width: 50%;\n",
              "}\n",
              "\n",
              "#sk-container-id-3 div.sk-parallel-item:only-child::after {\n",
              "  width: 0;\n",
              "}\n",
              "\n",
              "/* Serial-specific style estimator block */\n",
              "\n",
              "#sk-container-id-3 div.sk-serial {\n",
              "  display: flex;\n",
              "  flex-direction: column;\n",
              "  align-items: center;\n",
              "  background-color: var(--sklearn-color-background);\n",
              "  padding-right: 1em;\n",
              "  padding-left: 1em;\n",
              "}\n",
              "\n",
              "\n",
              "/* Toggleable style: style used for estimator/Pipeline/ColumnTransformer box that is\n",
              "clickable and can be expanded/collapsed.\n",
              "- Pipeline and ColumnTransformer use this feature and define the default style\n",
              "- Estimators will overwrite some part of the style using the `sk-estimator` class\n",
              "*/\n",
              "\n",
              "/* Pipeline and ColumnTransformer style (default) */\n",
              "\n",
              "#sk-container-id-3 div.sk-toggleable {\n",
              "  /* Default theme specific background. It is overwritten whether we have a\n",
              "  specific estimator or a Pipeline/ColumnTransformer */\n",
              "  background-color: var(--sklearn-color-background);\n",
              "}\n",
              "\n",
              "/* Toggleable label */\n",
              "#sk-container-id-3 label.sk-toggleable__label {\n",
              "  cursor: pointer;\n",
              "  display: flex;\n",
              "  width: 100%;\n",
              "  margin-bottom: 0;\n",
              "  padding: 0.5em;\n",
              "  box-sizing: border-box;\n",
              "  text-align: center;\n",
              "  align-items: start;\n",
              "  justify-content: space-between;\n",
              "  gap: 0.5em;\n",
              "}\n",
              "\n",
              "#sk-container-id-3 label.sk-toggleable__label .caption {\n",
              "  font-size: 0.6rem;\n",
              "  font-weight: lighter;\n",
              "  color: var(--sklearn-color-text-muted);\n",
              "}\n",
              "\n",
              "#sk-container-id-3 label.sk-toggleable__label-arrow:before {\n",
              "  /* Arrow on the left of the label */\n",
              "  content: \"▸\";\n",
              "  float: left;\n",
              "  margin-right: 0.25em;\n",
              "  color: var(--sklearn-color-icon);\n",
              "}\n",
              "\n",
              "#sk-container-id-3 label.sk-toggleable__label-arrow:hover:before {\n",
              "  color: var(--sklearn-color-text);\n",
              "}\n",
              "\n",
              "/* Toggleable content - dropdown */\n",
              "\n",
              "#sk-container-id-3 div.sk-toggleable__content {\n",
              "  max-height: 0;\n",
              "  max-width: 0;\n",
              "  overflow: hidden;\n",
              "  text-align: left;\n",
              "  /* unfitted */\n",
              "  background-color: var(--sklearn-color-unfitted-level-0);\n",
              "}\n",
              "\n",
              "#sk-container-id-3 div.sk-toggleable__content.fitted {\n",
              "  /* fitted */\n",
              "  background-color: var(--sklearn-color-fitted-level-0);\n",
              "}\n",
              "\n",
              "#sk-container-id-3 div.sk-toggleable__content pre {\n",
              "  margin: 0.2em;\n",
              "  border-radius: 0.25em;\n",
              "  color: var(--sklearn-color-text);\n",
              "  /* unfitted */\n",
              "  background-color: var(--sklearn-color-unfitted-level-0);\n",
              "}\n",
              "\n",
              "#sk-container-id-3 div.sk-toggleable__content.fitted pre {\n",
              "  /* unfitted */\n",
              "  background-color: var(--sklearn-color-fitted-level-0);\n",
              "}\n",
              "\n",
              "#sk-container-id-3 input.sk-toggleable__control:checked~div.sk-toggleable__content {\n",
              "  /* Expand drop-down */\n",
              "  max-height: 200px;\n",
              "  max-width: 100%;\n",
              "  overflow: auto;\n",
              "}\n",
              "\n",
              "#sk-container-id-3 input.sk-toggleable__control:checked~label.sk-toggleable__label-arrow:before {\n",
              "  content: \"▾\";\n",
              "}\n",
              "\n",
              "/* Pipeline/ColumnTransformer-specific style */\n",
              "\n",
              "#sk-container-id-3 div.sk-label input.sk-toggleable__control:checked~label.sk-toggleable__label {\n",
              "  color: var(--sklearn-color-text);\n",
              "  background-color: var(--sklearn-color-unfitted-level-2);\n",
              "}\n",
              "\n",
              "#sk-container-id-3 div.sk-label.fitted input.sk-toggleable__control:checked~label.sk-toggleable__label {\n",
              "  background-color: var(--sklearn-color-fitted-level-2);\n",
              "}\n",
              "\n",
              "/* Estimator-specific style */\n",
              "\n",
              "/* Colorize estimator box */\n",
              "#sk-container-id-3 div.sk-estimator input.sk-toggleable__control:checked~label.sk-toggleable__label {\n",
              "  /* unfitted */\n",
              "  background-color: var(--sklearn-color-unfitted-level-2);\n",
              "}\n",
              "\n",
              "#sk-container-id-3 div.sk-estimator.fitted input.sk-toggleable__control:checked~label.sk-toggleable__label {\n",
              "  /* fitted */\n",
              "  background-color: var(--sklearn-color-fitted-level-2);\n",
              "}\n",
              "\n",
              "#sk-container-id-3 div.sk-label label.sk-toggleable__label,\n",
              "#sk-container-id-3 div.sk-label label {\n",
              "  /* The background is the default theme color */\n",
              "  color: var(--sklearn-color-text-on-default-background);\n",
              "}\n",
              "\n",
              "/* On hover, darken the color of the background */\n",
              "#sk-container-id-3 div.sk-label:hover label.sk-toggleable__label {\n",
              "  color: var(--sklearn-color-text);\n",
              "  background-color: var(--sklearn-color-unfitted-level-2);\n",
              "}\n",
              "\n",
              "/* Label box, darken color on hover, fitted */\n",
              "#sk-container-id-3 div.sk-label.fitted:hover label.sk-toggleable__label.fitted {\n",
              "  color: var(--sklearn-color-text);\n",
              "  background-color: var(--sklearn-color-fitted-level-2);\n",
              "}\n",
              "\n",
              "/* Estimator label */\n",
              "\n",
              "#sk-container-id-3 div.sk-label label {\n",
              "  font-family: monospace;\n",
              "  font-weight: bold;\n",
              "  display: inline-block;\n",
              "  line-height: 1.2em;\n",
              "}\n",
              "\n",
              "#sk-container-id-3 div.sk-label-container {\n",
              "  text-align: center;\n",
              "}\n",
              "\n",
              "/* Estimator-specific */\n",
              "#sk-container-id-3 div.sk-estimator {\n",
              "  font-family: monospace;\n",
              "  border: 1px dotted var(--sklearn-color-border-box);\n",
              "  border-radius: 0.25em;\n",
              "  box-sizing: border-box;\n",
              "  margin-bottom: 0.5em;\n",
              "  /* unfitted */\n",
              "  background-color: var(--sklearn-color-unfitted-level-0);\n",
              "}\n",
              "\n",
              "#sk-container-id-3 div.sk-estimator.fitted {\n",
              "  /* fitted */\n",
              "  background-color: var(--sklearn-color-fitted-level-0);\n",
              "}\n",
              "\n",
              "/* on hover */\n",
              "#sk-container-id-3 div.sk-estimator:hover {\n",
              "  /* unfitted */\n",
              "  background-color: var(--sklearn-color-unfitted-level-2);\n",
              "}\n",
              "\n",
              "#sk-container-id-3 div.sk-estimator.fitted:hover {\n",
              "  /* fitted */\n",
              "  background-color: var(--sklearn-color-fitted-level-2);\n",
              "}\n",
              "\n",
              "/* Specification for estimator info (e.g. \"i\" and \"?\") */\n",
              "\n",
              "/* Common style for \"i\" and \"?\" */\n",
              "\n",
              ".sk-estimator-doc-link,\n",
              "a:link.sk-estimator-doc-link,\n",
              "a:visited.sk-estimator-doc-link {\n",
              "  float: right;\n",
              "  font-size: smaller;\n",
              "  line-height: 1em;\n",
              "  font-family: monospace;\n",
              "  background-color: var(--sklearn-color-background);\n",
              "  border-radius: 1em;\n",
              "  height: 1em;\n",
              "  width: 1em;\n",
              "  text-decoration: none !important;\n",
              "  margin-left: 0.5em;\n",
              "  text-align: center;\n",
              "  /* unfitted */\n",
              "  border: var(--sklearn-color-unfitted-level-1) 1pt solid;\n",
              "  color: var(--sklearn-color-unfitted-level-1);\n",
              "}\n",
              "\n",
              ".sk-estimator-doc-link.fitted,\n",
              "a:link.sk-estimator-doc-link.fitted,\n",
              "a:visited.sk-estimator-doc-link.fitted {\n",
              "  /* fitted */\n",
              "  border: var(--sklearn-color-fitted-level-1) 1pt solid;\n",
              "  color: var(--sklearn-color-fitted-level-1);\n",
              "}\n",
              "\n",
              "/* On hover */\n",
              "div.sk-estimator:hover .sk-estimator-doc-link:hover,\n",
              ".sk-estimator-doc-link:hover,\n",
              "div.sk-label-container:hover .sk-estimator-doc-link:hover,\n",
              ".sk-estimator-doc-link:hover {\n",
              "  /* unfitted */\n",
              "  background-color: var(--sklearn-color-unfitted-level-3);\n",
              "  color: var(--sklearn-color-background);\n",
              "  text-decoration: none;\n",
              "}\n",
              "\n",
              "div.sk-estimator.fitted:hover .sk-estimator-doc-link.fitted:hover,\n",
              ".sk-estimator-doc-link.fitted:hover,\n",
              "div.sk-label-container:hover .sk-estimator-doc-link.fitted:hover,\n",
              ".sk-estimator-doc-link.fitted:hover {\n",
              "  /* fitted */\n",
              "  background-color: var(--sklearn-color-fitted-level-3);\n",
              "  color: var(--sklearn-color-background);\n",
              "  text-decoration: none;\n",
              "}\n",
              "\n",
              "/* Span, style for the box shown on hovering the info icon */\n",
              ".sk-estimator-doc-link span {\n",
              "  display: none;\n",
              "  z-index: 9999;\n",
              "  position: relative;\n",
              "  font-weight: normal;\n",
              "  right: .2ex;\n",
              "  padding: .5ex;\n",
              "  margin: .5ex;\n",
              "  width: min-content;\n",
              "  min-width: 20ex;\n",
              "  max-width: 50ex;\n",
              "  color: var(--sklearn-color-text);\n",
              "  box-shadow: 2pt 2pt 4pt #999;\n",
              "  /* unfitted */\n",
              "  background: var(--sklearn-color-unfitted-level-0);\n",
              "  border: .5pt solid var(--sklearn-color-unfitted-level-3);\n",
              "}\n",
              "\n",
              ".sk-estimator-doc-link.fitted span {\n",
              "  /* fitted */\n",
              "  background: var(--sklearn-color-fitted-level-0);\n",
              "  border: var(--sklearn-color-fitted-level-3);\n",
              "}\n",
              "\n",
              ".sk-estimator-doc-link:hover span {\n",
              "  display: block;\n",
              "}\n",
              "\n",
              "/* \"?\"-specific style due to the `<a>` HTML tag */\n",
              "\n",
              "#sk-container-id-3 a.estimator_doc_link {\n",
              "  float: right;\n",
              "  font-size: 1rem;\n",
              "  line-height: 1em;\n",
              "  font-family: monospace;\n",
              "  background-color: var(--sklearn-color-background);\n",
              "  border-radius: 1rem;\n",
              "  height: 1rem;\n",
              "  width: 1rem;\n",
              "  text-decoration: none;\n",
              "  /* unfitted */\n",
              "  color: var(--sklearn-color-unfitted-level-1);\n",
              "  border: var(--sklearn-color-unfitted-level-1) 1pt solid;\n",
              "}\n",
              "\n",
              "#sk-container-id-3 a.estimator_doc_link.fitted {\n",
              "  /* fitted */\n",
              "  border: var(--sklearn-color-fitted-level-1) 1pt solid;\n",
              "  color: var(--sklearn-color-fitted-level-1);\n",
              "}\n",
              "\n",
              "/* On hover */\n",
              "#sk-container-id-3 a.estimator_doc_link:hover {\n",
              "  /* unfitted */\n",
              "  background-color: var(--sklearn-color-unfitted-level-3);\n",
              "  color: var(--sklearn-color-background);\n",
              "  text-decoration: none;\n",
              "}\n",
              "\n",
              "#sk-container-id-3 a.estimator_doc_link.fitted:hover {\n",
              "  /* fitted */\n",
              "  background-color: var(--sklearn-color-fitted-level-3);\n",
              "}\n",
              "</style><div id=\"sk-container-id-3\" class=\"sk-top-container\"><div class=\"sk-text-repr-fallback\"><pre>LinearRegression()</pre><b>In a Jupyter environment, please rerun this cell to show the HTML representation or trust the notebook. <br />On GitHub, the HTML representation is unable to render, please try loading this page with nbviewer.org.</b></div><div class=\"sk-container\" hidden><div class=\"sk-item\"><div class=\"sk-estimator fitted sk-toggleable\"><input class=\"sk-toggleable__control sk-hidden--visually\" id=\"sk-estimator-id-3\" type=\"checkbox\" checked><label for=\"sk-estimator-id-3\" class=\"sk-toggleable__label fitted sk-toggleable__label-arrow\"><div><div>LinearRegression</div></div><div><a class=\"sk-estimator-doc-link fitted\" rel=\"noreferrer\" target=\"_blank\" href=\"https://scikit-learn.org/1.6/modules/generated/sklearn.linear_model.LinearRegression.html\">?<span>Documentation for LinearRegression</span></a><span class=\"sk-estimator-doc-link fitted\">i<span>Fitted</span></span></div></label><div class=\"sk-toggleable__content fitted\"><pre>LinearRegression()</pre></div> </div></div></div></div>"
            ]
          },
          "metadata": {},
          "execution_count": 66
        }
      ]
    },
    {
      "cell_type": "code",
      "source": [
        "lr.coef_, lr.intercept_"
      ],
      "metadata": {
        "id": "hYcPaQYmo5_W",
        "outputId": "d2b0a419-c208-4b00-99a9-42937798d0dd",
        "colab": {
          "base_uri": "https://localhost:8080/"
        }
      },
      "execution_count": 67,
      "outputs": [
        {
          "output_type": "execute_result",
          "data": {
            "text/plain": [
              "(array([267.24891283]), -2091.4205565650864)"
            ]
          },
          "metadata": {},
          "execution_count": 67
        }
      ]
    },
    {
      "cell_type": "code",
      "source": [
        "y_pred_lr=lr.predict(x_frame)"
      ],
      "metadata": {
        "id": "mDZLhO-cpTK_"
      },
      "execution_count": 68,
      "outputs": []
    },
    {
      "cell_type": "code",
      "source": [
        "root_mean_squared_error(y, y_pred_lr)"
      ],
      "metadata": {
        "id": "wHwigOe_pqE_",
        "outputId": "de8f4f3d-c8b4-438b-caee-7e9cff6c0c91",
        "colab": {
          "base_uri": "https://localhost:8080/"
        }
      },
      "execution_count": 69,
      "outputs": [
        {
          "output_type": "execute_result",
          "data": {
            "text/plain": [
              "4662.505766636395"
            ]
          },
          "metadata": {},
          "execution_count": 69
        }
      ]
    },
    {
      "cell_type": "code",
      "source": [
        "x.shape"
      ],
      "metadata": {
        "id": "EVyv_PigZJIS",
        "outputId": "a94bbe41-b7c5-49f7-9c46-16556faeeb21",
        "colab": {
          "base_uri": "https://localhost:8080/"
        }
      },
      "execution_count": 15,
      "outputs": [
        {
          "output_type": "execute_result",
          "data": {
            "text/plain": [
              "(1064,)"
            ]
          },
          "metadata": {},
          "execution_count": 15
        }
      ]
    },
    {
      "cell_type": "code",
      "source": [
        "x=np.c_[np.ones((x.shape[0],1)),x]"
      ],
      "metadata": {
        "id": "BgCA905KY-Mp"
      },
      "execution_count": 120,
      "outputs": []
    },
    {
      "cell_type": "code",
      "source": [
        "x"
      ],
      "metadata": {
        "id": "vI2e5SN2ZcJo",
        "outputId": "6488c7e6-557b-4b83-daee-3780b220704c",
        "colab": {
          "base_uri": "https://localhost:8080/"
        }
      },
      "execution_count": 18,
      "outputs": [
        {
          "output_type": "execute_result",
          "data": {
            "text/plain": [
              "array([[ 1., 18.],\n",
              "       [ 1., 28.],\n",
              "       [ 1., 33.],\n",
              "       ...,\n",
              "       [ 1., 18.],\n",
              "       [ 1., 18.],\n",
              "       [ 1., 21.]])"
            ]
          },
          "metadata": {},
          "execution_count": 18
        }
      ]
    },
    {
      "cell_type": "markdown",
      "source": [
        "X.T * X * theta=X.T * y\n",
        "L=(y-theta*X).T *(y-theta*X)\n",
        "Мінімізація фнукції втрат: похідна від L по theta, тому що в мінімумі функції похідна = 0\n",
        "theta=(X.T * X)**-1 * X.T * y"
      ],
      "metadata": {
        "id": "BzwpwWKhTNMt"
      }
    },
    {
      "cell_type": "code",
      "source": [
        "theta=np.linalg.inv(x.T.dot(x)).dot(x.T).dot(y)"
      ],
      "metadata": {
        "id": "BZmXFtcGTLV2"
      },
      "execution_count": 19,
      "outputs": []
    },
    {
      "cell_type": "code",
      "source": [
        "theta.shape"
      ],
      "metadata": {
        "id": "mQJSE2n94JNW",
        "outputId": "50cfc3f6-6ba5-48b3-f66b-c418935dd71c",
        "colab": {
          "base_uri": "https://localhost:8080/"
        }
      },
      "execution_count": 119,
      "outputs": [
        {
          "output_type": "execute_result",
          "data": {
            "text/plain": [
              "(2,)"
            ]
          },
          "metadata": {},
          "execution_count": 119
        }
      ]
    },
    {
      "cell_type": "code",
      "source": [
        "y_pred=np.dot(x, theta)"
      ],
      "metadata": {
        "id": "TVGtg90raOkM"
      },
      "execution_count": 22,
      "outputs": []
    },
    {
      "cell_type": "code",
      "source": [
        "y_pred"
      ],
      "metadata": {
        "id": "jO9U_Qg7ajw5",
        "outputId": "fe665a7a-b693-4339-e41e-4d065a4da55b",
        "colab": {
          "base_uri": "https://localhost:8080/"
        }
      },
      "execution_count": 23,
      "outputs": [
        {
          "output_type": "execute_result",
          "data": {
            "text/plain": [
              "array([2719.0598744 , 5391.54900271, 6727.79356686, ..., 2719.0598744 ,\n",
              "       2719.0598744 , 3520.80661289])"
            ]
          },
          "metadata": {},
          "execution_count": 23
        }
      ]
    },
    {
      "cell_type": "code",
      "source": [
        "px.scatter(y_pred, trendline='ols')"
      ],
      "metadata": {
        "id": "LjrK6Bykf-WJ",
        "outputId": "52df2174-6ef5-4e90-ffc6-d9361d6b9fe0",
        "colab": {
          "base_uri": "https://localhost:8080/",
          "height": 542
        }
      },
      "execution_count": 39,
      "outputs": [
        {
          "output_type": "display_data",
          "data": {
            "text/html": [
              "<html>\n",
              "<head><meta charset=\"utf-8\" /></head>\n",
              "<body>\n",
              "    <div>            <script src=\"https://cdnjs.cloudflare.com/ajax/libs/mathjax/2.7.5/MathJax.js?config=TeX-AMS-MML_SVG\"></script><script type=\"text/javascript\">if (window.MathJax && window.MathJax.Hub && window.MathJax.Hub.Config) {window.MathJax.Hub.Config({SVG: {font: \"STIX-Web\"}});}</script>                <script type=\"text/javascript\">window.PlotlyConfig = {MathJaxConfig: 'local'};</script>\n",
              "        <script charset=\"utf-8\" src=\"https://cdn.plot.ly/plotly-2.35.2.min.js\"></script>                <div id=\"4a5d0490-75ac-4db1-8729-5b44f707e107\" class=\"plotly-graph-div\" style=\"height:525px; width:100%;\"></div>            <script type=\"text/javascript\">                                    window.PLOTLYENV=window.PLOTLYENV || {};                                    if (document.getElementById(\"4a5d0490-75ac-4db1-8729-5b44f707e107\")) {                    Plotly.newPlot(                        \"4a5d0490-75ac-4db1-8729-5b44f707e107\",                        [{\"hovertemplate\":\"variable=0\\u003cbr\\u003eindex=%{x}\\u003cbr\\u003evalue=%{y}\\u003cextra\\u003e\\u003c\\u002fextra\\u003e\",\"legendgroup\":\"0\",\"marker\":{\"color\":\"#636efa\",\"symbol\":\"circle\"},\"mode\":\"markers\",\"name\":\"0\",\"showlegend\":true,\"x\":[0,1,2,3,4,5,6,7,8,9,10,11,12,13,14,15,16,17,18,19,20,21,22,23,24,25,26,27,28,29,30,31,32,33,34,35,36,37,38,39,40,41,42,43,44,45,46,47,48,49,50,51,52,53,54,55,56,57,58,59,60,61,62,63,64,65,66,67,68,69,70,71,72,73,74,75,76,77,78,79,80,81,82,83,84,85,86,87,88,89,90,91,92,93,94,95,96,97,98,99,100,101,102,103,104,105,106,107,108,109,110,111,112,113,114,115,116,117,118,119,120,121,122,123,124,125,126,127,128,129,130,131,132,133,134,135,136,137,138,139,140,141,142,143,144,145,146,147,148,149,150,151,152,153,154,155,156,157,158,159,160,161,162,163,164,165,166,167,168,169,170,171,172,173,174,175,176,177,178,179,180,181,182,183,184,185,186,187,188,189,190,191,192,193,194,195,196,197,198,199,200,201,202,203,204,205,206,207,208,209,210,211,212,213,214,215,216,217,218,219,220,221,222,223,224,225,226,227,228,229,230,231,232,233,234,235,236,237,238,239,240,241,242,243,244,245,246,247,248,249,250,251,252,253,254,255,256,257,258,259,260,261,262,263,264,265,266,267,268,269,270,271,272,273,274,275,276,277,278,279,280,281,282,283,284,285,286,287,288,289,290,291,292,293,294,295,296,297,298,299,300,301,302,303,304,305,306,307,308,309,310,311,312,313,314,315,316,317,318,319,320,321,322,323,324,325,326,327,328,329,330,331,332,333,334,335,336,337,338,339,340,341,342,343,344,345,346,347,348,349,350,351,352,353,354,355,356,357,358,359,360,361,362,363,364,365,366,367,368,369,370,371,372,373,374,375,376,377,378,379,380,381,382,383,384,385,386,387,388,389,390,391,392,393,394,395,396,397,398,399,400,401,402,403,404,405,406,407,408,409,410,411,412,413,414,415,416,417,418,419,420,421,422,423,424,425,426,427,428,429,430,431,432,433,434,435,436,437,438,439,440,441,442,443,444,445,446,447,448,449,450,451,452,453,454,455,456,457,458,459,460,461,462,463,464,465,466,467,468,469,470,471,472,473,474,475,476,477,478,479,480,481,482,483,484,485,486,487,488,489,490,491,492,493,494,495,496,497,498,499,500,501,502,503,504,505,506,507,508,509,510,511,512,513,514,515,516,517,518,519,520,521,522,523,524,525,526,527,528,529,530,531,532,533,534,535,536,537,538,539,540,541,542,543,544,545,546,547,548,549,550,551,552,553,554,555,556,557,558,559,560,561,562,563,564,565,566,567,568,569,570,571,572,573,574,575,576,577,578,579,580,581,582,583,584,585,586,587,588,589,590,591,592,593,594,595,596,597,598,599,600,601,602,603,604,605,606,607,608,609,610,611,612,613,614,615,616,617,618,619,620,621,622,623,624,625,626,627,628,629,630,631,632,633,634,635,636,637,638,639,640,641,642,643,644,645,646,647,648,649,650,651,652,653,654,655,656,657,658,659,660,661,662,663,664,665,666,667,668,669,670,671,672,673,674,675,676,677,678,679,680,681,682,683,684,685,686,687,688,689,690,691,692,693,694,695,696,697,698,699,700,701,702,703,704,705,706,707,708,709,710,711,712,713,714,715,716,717,718,719,720,721,722,723,724,725,726,727,728,729,730,731,732,733,734,735,736,737,738,739,740,741,742,743,744,745,746,747,748,749,750,751,752,753,754,755,756,757,758,759,760,761,762,763,764,765,766,767,768,769,770,771,772,773,774,775,776,777,778,779,780,781,782,783,784,785,786,787,788,789,790,791,792,793,794,795,796,797,798,799,800,801,802,803,804,805,806,807,808,809,810,811,812,813,814,815,816,817,818,819,820,821,822,823,824,825,826,827,828,829,830,831,832,833,834,835,836,837,838,839,840,841,842,843,844,845,846,847,848,849,850,851,852,853,854,855,856,857,858,859,860,861,862,863,864,865,866,867,868,869,870,871,872,873,874,875,876,877,878,879,880,881,882,883,884,885,886,887,888,889,890,891,892,893,894,895,896,897,898,899,900,901,902,903,904,905,906,907,908,909,910,911,912,913,914,915,916,917,918,919,920,921,922,923,924,925,926,927,928,929,930,931,932,933,934,935,936,937,938,939,940,941,942,943,944,945,946,947,948,949,950,951,952,953,954,955,956,957,958,959,960,961,962,963,964,965,966,967,968,969,970,971,972,973,974,975,976,977,978,979,980,981,982,983,984,985,986,987,988,989,990,991,992,993,994,995,996,997,998,999,1000,1001,1002,1003,1004,1005,1006,1007,1008,1009,1010,1011,1012,1013,1014,1015,1016,1017,1018,1019,1020,1021,1022,1023,1024,1025,1026,1027,1028,1029,1030,1031,1032,1033,1034,1035,1036,1037,1038,1039,1040,1041,1042,1043,1044,1045,1046,1047,1048,1049,1050,1051,1052,1053,1054,1055,1056,1057,1058,1059,1060,1061,1062,1063],\"xaxis\":\"x\",\"y\":[2719.059874396516,5391.549002708514,6727.793566864511,6460.544654033312,6193.295741202113,10202.02943367011,7796.789218189311,7796.789218189311,13943.514213306906,4589.8022642149135,4055.304438552515,12874.518561982108,2986.308787227715,11805.522910657308,4055.304438552515,12874.518561982108,13943.514213306906,5926.046828370912,2719.059874396516,7796.789218189311,13676.265300475707,14745.260951800505,12607.269649150907,4055.304438552515,2719.059874396516,2986.308787227715,14745.260951800505,2986.308787227715,14478.012038969307,4857.051177046114,4322.5533513837145,6193.295741202113,8865.784869514111,7796.789218189311,8064.03813102051,12607.269649150907,2719.059874396516,5391.549002708514,13943.514213306906,2719.059874396516,3520.806612890115,8598.53595668291,13409.016387644508,6995.042479695712,9400.28269517651,4589.8022642149135,15012.509864631706,5391.549002708514,2986.308787227715,14210.763126138107,8598.53595668291,8598.53595668291,6193.295741202113,12072.771823488509,13409.016387644508,9667.53160800771,13141.767474813307,5658.797915539713,3520.806612890115,3788.055525721315,8865.784869514111,6193.295741202113,9934.780520838909,10736.52725933251,12874.518561982108,10202.02943367011,12607.269649150907,3520.806612890115,12072.771823488509,7262.291392526911,5391.549002708514,12340.020736319708,12607.269649150907,8865.784869514111,5926.046828370912,2719.059874396516,6995.042479695712,2986.308787227715,4857.051177046114,5658.797915539713,12340.020736319708,12607.269649150907,7796.789218189311,3520.806612890115,11805.522910657308,13943.514213306906,13409.016387644508,11003.776172163709,7796.789218189311,9667.53160800771,2719.059874396516,3253.557700058915,10469.278346501309,4857.051177046114,11805.522910657308,8064.03813102051,13676.265300475707,14210.763126138107,12072.771823488509,2986.308787227715,3253.557700058915,3788.055525721315,2986.308787227715,3788.055525721315,12340.020736319708,3788.055525721315,6995.042479695712,4857.051177046114,5658.797915539713,5658.797915539713,11538.273997826109,12072.771823488509,2986.308787227715,7262.291392526911,10736.52725933251,6460.544654033312,8598.53595668291,9667.53160800771,11271.025084994908,12340.020736319708,6460.544654033312,7796.789218189311,10469.278346501309,3253.557700058915,6460.544654033312,2986.308787227715,5124.300089877313,14745.260951800505,11003.776172163709,2719.059874396516,7262.291392526911,4322.5533513837145,8064.03813102051,12340.020736319708,10202.02943367011,8865.784869514111,13409.016387644508,2719.059874396516,3788.055525721315,9667.53160800771,9667.53160800771,4857.051177046114,5926.046828370912,8865.784869514111,5658.797915539713,14210.763126138107,7529.540305358112,4589.8022642149135,12874.518561982108,2719.059874396516,2986.308787227715,8331.287043851711,9934.780520838909,11538.273997826109,15012.509864631706,2986.308787227715,10736.52725933251,13943.514213306906,10202.02943367011,5391.549002708514,13676.265300475707,14745.260951800505,8598.53595668291,3253.557700058915,8598.53595668291,4322.5533513837145,6995.042479695712,9934.780520838909,8865.784869514111,12072.771823488509,5124.300089877313,4857.051177046114,4322.5533513837145,6995.042479695712,12072.771823488509,6460.544654033312,12607.269649150907,5391.549002708514,13409.016387644508,8865.784869514111,10469.278346501309,9133.03378234531,13676.265300475707,2986.308787227715,13676.265300475707,8331.287043851711,2719.059874396516,6193.295741202113,9667.53160800771,6727.793566864511,12607.269649150907,8598.53595668291,12340.020736319708,13943.514213306906,4322.5533513837145,2986.308787227715,5658.797915539713,5124.300089877313,12607.269649150907,8064.03813102051,11538.273997826109,13409.016387644508,12072.771823488509,13676.265300475707,9934.780520838909,11003.776172163709,2719.059874396516,8865.784869514111,11271.025084994908,4589.8022642149135,10469.278346501309,2986.308787227715,3788.055525721315,13676.265300475707,11538.273997826109,5926.046828370912,12607.269649150907,11805.522910657308,10202.02943367011,10202.02943367011,14745.260951800505,11805.522910657308,5391.549002708514,5658.797915539713,3788.055525721315,4589.8022642149135,2719.059874396516,10736.52725933251,7529.540305358112,12874.518561982108,5391.549002708514,13141.767474813307,5658.797915539713,5391.549002708514,5926.046828370912,13409.016387644508,8865.784869514111,11271.025084994908,2986.308787227715,11003.776172163709,11805.522910657308,11271.025084994908,12340.020736319708,9667.53160800771,6460.544654033312,6995.042479695712,4857.051177046114,13141.767474813307,5658.797915539713,8598.53595668291,5124.300089877313,11805.522910657308,14210.763126138107,12874.518561982108,9400.28269517651,15012.509864631706,13943.514213306906,14478.012038969307,10202.02943367011,4322.5533513837145,14478.012038969307,13943.514213306906,14745.260951800505,11003.776172163709,6995.042479695712,6727.793566864511,10202.02943367011,7529.540305358112,2986.308787227715,13141.767474813307,11271.025084994908,5926.046828370912,6727.793566864511,2719.059874396516,10202.02943367011,10202.02943367011,10469.278346501309,4055.304438552515,2719.059874396516,10736.52725933251,7262.291392526911,3520.806612890115,3520.806612890115,11003.776172163709,12874.518561982108,9133.03378234531,9667.53160800771,2719.059874396516,14210.763126138107,13141.767474813307,9133.03378234531,3253.557700058915,15012.509864631706,14478.012038969307,12607.269649150907,7262.291392526911,9667.53160800771,2986.308787227715,13409.016387644508,11271.025084994908,4857.051177046114,4322.5533513837145,10736.52725933251,2986.308787227715,10736.52725933251,11003.776172163709,10202.02943367011,10202.02943367011,9400.28269517651,3520.806612890115,15012.509864631706,2719.059874396516,11538.273997826109,10469.278346501309,15012.509864631706,11003.776172163709,6193.295741202113,11805.522910657308,6727.793566864511,10469.278346501309,8064.03813102051,6460.544654033312,2986.308787227715,4589.8022642149135,2986.308787227715,9400.28269517651,11805.522910657308,15012.509864631706,4589.8022642149135,10736.52725933251,9934.780520838909,8064.03813102051,2719.059874396516,3520.806612890115,5124.300089877313,2986.308787227715,5658.797915539713,9133.03378234531,13943.514213306906,6193.295741202113,13943.514213306906,3788.055525721315,7262.291392526911,11805.522910657308,4857.051177046114,6193.295741202113,2719.059874396516,13676.265300475707,9934.780520838909,13943.514213306906,12874.518561982108,8598.53595668291,7262.291392526911,8331.287043851711,5926.046828370912,4322.5533513837145,3253.557700058915,6460.544654033312,13676.265300475707,12607.269649150907,13141.767474813307,12874.518561982108,8598.53595668291,11003.776172163709,14478.012038969307,12874.518561982108,2986.308787227715,13943.514213306906,12874.518561982108,5391.549002708514,2719.059874396516,5124.300089877313,2719.059874396516,2986.308787227715,10469.278346501309,4589.8022642149135,3520.806612890115,4055.304438552515,14745.260951800505,11003.776172163709,2719.059874396516,11538.273997826109,10736.52725933251,6193.295741202113,12340.020736319708,2986.308787227715,12072.771823488509,2986.308787227715,14210.763126138107,2719.059874396516,14210.763126138107,3253.557700058915,6193.295741202113,9934.780520838909,9667.53160800771,14478.012038969307,9400.28269517651,8064.03813102051,7796.789218189311,3788.055525721315,3520.806612890115,4322.5533513837145,13141.767474813307,12874.518561982108,5124.300089877313,11538.273997826109,2986.308787227715,13409.016387644508,3253.557700058915,9934.780520838909,7262.291392526911,6193.295741202113,11271.025084994908,6460.544654033312,11538.273997826109,8064.03813102051,2719.059874396516,2986.308787227715,11538.273997826109,10202.02943367011,2719.059874396516,14478.012038969307,13676.265300475707,7796.789218189311,15012.509864631706,8064.03813102051,6727.793566864511,10202.02943367011,10202.02943367011,12072.771823488509,6995.042479695712,3253.557700058915,14745.260951800505,12340.020736319708,5391.549002708514,12340.020736319708,4589.8022642149135,14745.260951800505,6460.544654033312,14478.012038969307,11805.522910657308,4589.8022642149135,5391.549002708514,10202.02943367011,6995.042479695712,2986.308787227715,10202.02943367011,12340.020736319708,5124.300089877313,11271.025084994908,2719.059874396516,2986.308787227715,8064.03813102051,8865.784869514111,11003.776172163709,6193.295741202113,2719.059874396516,5926.046828370912,14478.012038969307,13141.767474813307,13409.016387644508,3788.055525721315,11805.522910657308,4589.8022642149135,13676.265300475707,2986.308787227715,8331.287043851711,6460.544654033312,2986.308787227715,6727.793566864511,3520.806612890115,14210.763126138107,8064.03813102051,13409.016387644508,10469.278346501309,3253.557700058915,8865.784869514111,10202.02943367011,9133.03378234531,6995.042479695712,9400.28269517651,11805.522910657308,2719.059874396516,11538.273997826109,12874.518561982108,15012.509864631706,11538.273997826109,5124.300089877313,5391.549002708514,10469.278346501309,8064.03813102051,2719.059874396516,6995.042479695712,3253.557700058915,12874.518561982108,12607.269649150907,5926.046828370912,11003.776172163709,13676.265300475707,5658.797915539713,7529.540305358112,6727.793566864511,13409.016387644508,12072.771823488509,4322.5533513837145,5658.797915539713,8598.53595668291,11538.273997826109,15012.509864631706,2986.308787227715,7262.291392526911,12874.518561982108,6727.793566864511,14210.763126138107,4055.304438552515,9400.28269517651,10736.52725933251,8331.287043851711,8598.53595668291,2719.059874396516,13409.016387644508,11003.776172163709,12072.771823488509,10736.52725933251,9934.780520838909,13676.265300475707,4857.051177046114,5124.300089877313,10736.52725933251,13141.767474813307,7796.789218189311,13141.767474813307,6460.544654033312,2719.059874396516,11003.776172163709,8598.53595668291,5926.046828370912,5658.797915539713,7529.540305358112,8865.784869514111,9934.780520838909,12607.269649150907,12874.518561982108,11003.776172163709,3520.806612890115,2986.308787227715,12072.771823488509,6727.793566864511,12072.771823488509,9133.03378234531,8598.53595668291,10469.278346501309,3520.806612890115,10469.278346501309,3253.557700058915,4322.5533513837145,5124.300089877313,4857.051177046114,12072.771823488509,12874.518561982108,4055.304438552515,3520.806612890115,11271.025084994908,12072.771823488509,6995.042479695712,10469.278346501309,6727.793566864511,11003.776172163709,6193.295741202113,7529.540305358112,2719.059874396516,11271.025084994908,9400.28269517651,3253.557700058915,4322.5533513837145,13943.514213306906,11003.776172163709,13943.514213306906,11538.273997826109,13409.016387644508,11538.273997826109,12072.771823488509,14478.012038969307,2986.308787227715,11271.025084994908,8865.784869514111,2719.059874396516,8865.784869514111,12072.771823488509,4322.5533513837145,10736.52725933251,13676.265300475707,11003.776172163709,4857.051177046114,9934.780520838909,6193.295741202113,11271.025084994908,11271.025084994908,6995.042479695712,2986.308787227715,10469.278346501309,5391.549002708514,3520.806612890115,15012.509864631706,13409.016387644508,4322.5533513837145,6193.295741202113,8331.287043851711,5926.046828370912,3788.055525721315,4055.304438552515,5124.300089877313,9934.780520838909,13141.767474813307,10469.278346501309,9133.03378234531,15012.509864631706,8064.03813102051,14210.763126138107,12072.771823488509,9667.53160800771,8865.784869514111,11538.273997826109,8598.53595668291,9934.780520838909,7262.291392526911,12072.771823488509,2719.059874396516,11538.273997826109,6193.295741202113,7262.291392526911,13943.514213306906,3520.806612890115,5658.797915539713,14478.012038969307,8331.287043851711,2986.308787227715,3788.055525721315,8331.287043851711,5926.046828370912,5926.046828370912,13409.016387644508,9133.03378234531,15012.509864631706,3520.806612890115,4055.304438552515,9934.780520838909,8598.53595668291,2986.308787227715,2719.059874396516,4589.8022642149135,10202.02943367011,6727.793566864511,12340.020736319708,5391.549002708514,7529.540305358112,3253.557700058915,4322.5533513837145,4055.304438552515,9934.780520838909,4857.051177046114,2719.059874396516,9667.53160800771,13943.514213306906,15012.509864631706,8331.287043851711,14745.260951800505,7529.540305358112,5391.549002708514,13409.016387644508,7529.540305358112,9133.03378234531,7529.540305358112,12874.518561982108,7262.291392526911,13676.265300475707,3520.806612890115,13676.265300475707,12072.771823488509,11538.273997826109,4055.304438552515,5124.300089877313,12607.269649150907,14210.763126138107,12072.771823488509,3253.557700058915,4589.8022642149135,13141.767474813307,8064.03813102051,12607.269649150907,7529.540305358112,11538.273997826109,8598.53595668291,2719.059874396516,13141.767474813307,14210.763126138107,4589.8022642149135,11271.025084994908,4857.051177046114,9133.03378234531,9400.28269517651,9667.53160800771,4055.304438552515,11003.776172163709,6727.793566864511,8865.784869514111,7796.789218189311,3788.055525721315,4055.304438552515,3520.806612890115,4589.8022642149135,7529.540305358112,3788.055525721315,13141.767474813307,7529.540305358112,12340.020736319708,14478.012038969307,14210.763126138107,2986.308787227715,2719.059874396516,2986.308787227715,11003.776172163709,4857.051177046114,11003.776172163709,13943.514213306906,4857.051177046114,5124.300089877313,9667.53160800771,14745.260951800505,3788.055525721315,13676.265300475707,9667.53160800771,6727.793566864511,4322.5533513837145,14210.763126138107,7262.291392526911,14478.012038969307,14478.012038969307,8064.03813102051,6995.042479695712,9400.28269517651,11271.025084994908,2986.308787227715,13141.767474813307,14478.012038969307,8865.784869514111,4857.051177046114,8331.287043851711,10202.02943367011,9934.780520838909,6460.544654033312,13676.265300475707,9667.53160800771,8331.287043851711,2719.059874396516,12072.771823488509,2719.059874396516,11271.025084994908,2719.059874396516,2986.308787227715,14478.012038969307,12874.518561982108,9133.03378234531,9133.03378234531,13141.767474813307,5926.046828370912,6193.295741202113,4322.5533513837145,10736.52725933251,2986.308787227715,5658.797915539713,14745.260951800505,10202.02943367011,11805.522910657308,7262.291392526911,9667.53160800771,3520.806612890115,8331.287043851711,11271.025084994908,6995.042479695712,3788.055525721315,2986.308787227715,4857.051177046114,10736.52725933251,4857.051177046114,9934.780520838909,7529.540305358112,12340.020736319708,6995.042479695712,5124.300089877313,3253.557700058915,9667.53160800771,9400.28269517651,9934.780520838909,6995.042479695712,4857.051177046114,8064.03813102051,11271.025084994908,8064.03813102051,8331.287043851711,8331.287043851711,14745.260951800505,6727.793566864511,7529.540305358112,4322.5533513837145,10736.52725933251,10469.278346501309,5658.797915539713,5391.549002708514,4589.8022642149135,11538.273997826109,10736.52725933251,14210.763126138107,10736.52725933251,8064.03813102051,13676.265300475707,2986.308787227715,4857.051177046114,12340.020736319708,3520.806612890115,11538.273997826109,2719.059874396516,10469.278346501309,3520.806612890115,4055.304438552515,12340.020736319708,7796.789218189311,5926.046828370912,14210.763126138107,12340.020736319708,3788.055525721315,2986.308787227715,2719.059874396516,5391.549002708514,12607.269649150907,9400.28269517651,4589.8022642149135,9667.53160800771,15012.509864631706,11003.776172163709,5124.300089877313,12607.269649150907,10736.52725933251,9934.780520838909,4322.5533513837145,6460.544654033312,4322.5533513837145,13141.767474813307,7529.540305358112,5658.797915539713,9133.03378234531,10736.52725933251,8331.287043851711,14745.260951800505,12340.020736319708,14745.260951800505,3520.806612890115,12340.020736319708,13943.514213306906,6460.544654033312,10469.278346501309,3520.806612890115,14745.260951800505,2719.059874396516,6460.544654033312,8064.03813102051,6460.544654033312,14478.012038969307,12607.269649150907,13141.767474813307,11805.522910657308,12874.518561982108,12607.269649150907,4055.304438552515,11271.025084994908,2719.059874396516,3788.055525721315,11805.522910657308,4589.8022642149135,12072.771823488509,5658.797915539713,13409.016387644508,7796.789218189311,12340.020736319708,11003.776172163709,11271.025084994908,4857.051177046114,9934.780520838909,12340.020736319708,5391.549002708514,4055.304438552515,12607.269649150907,8865.784869514111,5926.046828370912,10202.02943367011,5124.300089877313,14745.260951800505,12607.269649150907,7262.291392526911,6995.042479695712,2986.308787227715,8331.287043851711,5124.300089877313,13141.767474813307,11805.522910657308,5391.549002708514,11271.025084994908,9667.53160800771,4857.051177046114,6727.793566864511,11271.025084994908,8865.784869514111,11805.522910657308,8331.287043851711,11271.025084994908,11805.522910657308,3253.557700058915,12607.269649150907,9133.03378234531,2719.059874396516,13409.016387644508,7262.291392526911,10736.52725933251,7529.540305358112,4055.304438552515,3253.557700058915,6460.544654033312,9400.28269517651,6995.042479695712,5926.046828370912,2719.059874396516,8865.784869514111,7262.291392526911,13141.767474813307,5658.797915539713,6460.544654033312,7796.789218189311,12874.518561982108,8064.03813102051,5658.797915539713,3788.055525721315,8598.53595668291,4055.304438552515,9133.03378234531,4322.5533513837145,4589.8022642149135,10736.52725933251,9934.780520838909,14478.012038969307,4055.304438552515,6193.295741202113,8865.784869514111,13409.016387644508,10736.52725933251,6193.295741202113,2986.308787227715,8865.784869514111,8598.53595668291,6193.295741202113,7796.789218189311,10202.02943367011,3788.055525721315,11538.273997826109,7262.291392526911,13676.265300475707,13676.265300475707,7529.540305358112,8331.287043851711,2719.059874396516,11805.522910657308,5124.300089877313,2719.059874396516,8598.53595668291,5658.797915539713,8064.03813102051,5926.046828370912,8598.53595668291,11271.025084994908,8865.784869514111,6727.793566864511,8064.03813102051,9133.03378234531,12874.518561982108,13409.016387644508,12340.020736319708,13409.016387644508,9934.780520838909,4857.051177046114,14745.260951800505,13409.016387644508,7796.789218189311,4589.8022642149135,3788.055525721315,5391.549002708514,2719.059874396516,5391.549002708514,9934.780520838909,6727.793566864511,2719.059874396516,2986.308787227715,8598.53595668291,6995.042479695712,9133.03378234531,11538.273997826109,12340.020736319708,12607.269649150907,11805.522910657308,6460.544654033312,5391.549002708514,8865.784869514111,9400.28269517651,11003.776172163709,12607.269649150907,3253.557700058915,9934.780520838909,4857.051177046114,4589.8022642149135,9400.28269517651,7262.291392526911,13141.767474813307,3788.055525721315,6460.544654033312,4589.8022642149135,10736.52725933251,2719.059874396516,10469.278346501309,5391.549002708514,7529.540305358112,9667.53160800771,8064.03813102051,3520.806612890115,10202.02943367011,13409.016387644508,3253.557700058915,2719.059874396516,5391.549002708514,6727.793566864511,2986.308787227715,4589.8022642149135,4322.5533513837145,8865.784869514111,9133.03378234531,6727.793566864511,6995.042479695712,2719.059874396516,2986.308787227715,2719.059874396516,7262.291392526911,8331.287043851711,6193.295741202113,14478.012038969307,6193.295741202113,14210.763126138107,9133.03378234531,11538.273997826109,4055.304438552515,11805.522910657308,13141.767474813307,4055.304438552515,11805.522910657308,11271.025084994908,2719.059874396516,2719.059874396516,3520.806612890115],\"yaxis\":\"y\",\"type\":\"scattergl\"},{\"hovertemplate\":\"\\u003cb\\u003eOLS trendline\\u003c\\u002fb\\u003e\\u003cbr\\u003evalue = -0.279994 * index + 8583.08\\u003cbr\\u003eR\\u003csup\\u003e2\\u003c\\u002fsup\\u003e=0.000523\\u003cbr\\u003e\\u003cbr\\u003evariable=0\\u003cbr\\u003eindex=%{x}\\u003cbr\\u003evalue=%{y} \\u003cb\\u003e(trend)\\u003c\\u002fb\\u003e\\u003cextra\\u003e\\u003c\\u002fextra\\u003e\",\"legendgroup\":\"0\",\"marker\":{\"color\":\"#636efa\",\"symbol\":\"circle\"},\"mode\":\"lines\",\"name\":\"0\",\"showlegend\":false,\"x\":[0,1,2,3,4,5,6,7,8,9,10,11,12,13,14,15,16,17,18,19,20,21,22,23,24,25,26,27,28,29,30,31,32,33,34,35,36,37,38,39,40,41,42,43,44,45,46,47,48,49,50,51,52,53,54,55,56,57,58,59,60,61,62,63,64,65,66,67,68,69,70,71,72,73,74,75,76,77,78,79,80,81,82,83,84,85,86,87,88,89,90,91,92,93,94,95,96,97,98,99,100,101,102,103,104,105,106,107,108,109,110,111,112,113,114,115,116,117,118,119,120,121,122,123,124,125,126,127,128,129,130,131,132,133,134,135,136,137,138,139,140,141,142,143,144,145,146,147,148,149,150,151,152,153,154,155,156,157,158,159,160,161,162,163,164,165,166,167,168,169,170,171,172,173,174,175,176,177,178,179,180,181,182,183,184,185,186,187,188,189,190,191,192,193,194,195,196,197,198,199,200,201,202,203,204,205,206,207,208,209,210,211,212,213,214,215,216,217,218,219,220,221,222,223,224,225,226,227,228,229,230,231,232,233,234,235,236,237,238,239,240,241,242,243,244,245,246,247,248,249,250,251,252,253,254,255,256,257,258,259,260,261,262,263,264,265,266,267,268,269,270,271,272,273,274,275,276,277,278,279,280,281,282,283,284,285,286,287,288,289,290,291,292,293,294,295,296,297,298,299,300,301,302,303,304,305,306,307,308,309,310,311,312,313,314,315,316,317,318,319,320,321,322,323,324,325,326,327,328,329,330,331,332,333,334,335,336,337,338,339,340,341,342,343,344,345,346,347,348,349,350,351,352,353,354,355,356,357,358,359,360,361,362,363,364,365,366,367,368,369,370,371,372,373,374,375,376,377,378,379,380,381,382,383,384,385,386,387,388,389,390,391,392,393,394,395,396,397,398,399,400,401,402,403,404,405,406,407,408,409,410,411,412,413,414,415,416,417,418,419,420,421,422,423,424,425,426,427,428,429,430,431,432,433,434,435,436,437,438,439,440,441,442,443,444,445,446,447,448,449,450,451,452,453,454,455,456,457,458,459,460,461,462,463,464,465,466,467,468,469,470,471,472,473,474,475,476,477,478,479,480,481,482,483,484,485,486,487,488,489,490,491,492,493,494,495,496,497,498,499,500,501,502,503,504,505,506,507,508,509,510,511,512,513,514,515,516,517,518,519,520,521,522,523,524,525,526,527,528,529,530,531,532,533,534,535,536,537,538,539,540,541,542,543,544,545,546,547,548,549,550,551,552,553,554,555,556,557,558,559,560,561,562,563,564,565,566,567,568,569,570,571,572,573,574,575,576,577,578,579,580,581,582,583,584,585,586,587,588,589,590,591,592,593,594,595,596,597,598,599,600,601,602,603,604,605,606,607,608,609,610,611,612,613,614,615,616,617,618,619,620,621,622,623,624,625,626,627,628,629,630,631,632,633,634,635,636,637,638,639,640,641,642,643,644,645,646,647,648,649,650,651,652,653,654,655,656,657,658,659,660,661,662,663,664,665,666,667,668,669,670,671,672,673,674,675,676,677,678,679,680,681,682,683,684,685,686,687,688,689,690,691,692,693,694,695,696,697,698,699,700,701,702,703,704,705,706,707,708,709,710,711,712,713,714,715,716,717,718,719,720,721,722,723,724,725,726,727,728,729,730,731,732,733,734,735,736,737,738,739,740,741,742,743,744,745,746,747,748,749,750,751,752,753,754,755,756,757,758,759,760,761,762,763,764,765,766,767,768,769,770,771,772,773,774,775,776,777,778,779,780,781,782,783,784,785,786,787,788,789,790,791,792,793,794,795,796,797,798,799,800,801,802,803,804,805,806,807,808,809,810,811,812,813,814,815,816,817,818,819,820,821,822,823,824,825,826,827,828,829,830,831,832,833,834,835,836,837,838,839,840,841,842,843,844,845,846,847,848,849,850,851,852,853,854,855,856,857,858,859,860,861,862,863,864,865,866,867,868,869,870,871,872,873,874,875,876,877,878,879,880,881,882,883,884,885,886,887,888,889,890,891,892,893,894,895,896,897,898,899,900,901,902,903,904,905,906,907,908,909,910,911,912,913,914,915,916,917,918,919,920,921,922,923,924,925,926,927,928,929,930,931,932,933,934,935,936,937,938,939,940,941,942,943,944,945,946,947,948,949,950,951,952,953,954,955,956,957,958,959,960,961,962,963,964,965,966,967,968,969,970,971,972,973,974,975,976,977,978,979,980,981,982,983,984,985,986,987,988,989,990,991,992,993,994,995,996,997,998,999,1000,1001,1002,1003,1004,1005,1006,1007,1008,1009,1010,1011,1012,1013,1014,1015,1016,1017,1018,1019,1020,1021,1022,1023,1024,1025,1026,1027,1028,1029,1030,1031,1032,1033,1034,1035,1036,1037,1038,1039,1040,1041,1042,1043,1044,1045,1046,1047,1048,1049,1050,1051,1052,1053,1054,1055,1056,1057,1058,1059,1060,1061,1062,1063],\"xaxis\":\"x\",\"y\":[8583.084877157311,8582.804883593244,8582.524890029179,8582.244896465112,8581.964902901047,8581.68490933698,8581.404915772915,8581.124922208848,8580.844928644783,8580.564935080716,8580.284941516651,8580.004947952584,8579.72495438852,8579.444960824452,8579.164967260387,8578.88497369632,8578.604980132255,8578.324986568188,8578.044993004123,8577.764999440056,8577.48500587599,8577.205012311924,8576.925018747857,8576.645025183792,8576.365031619725,8576.08503805566,8575.805044491593,8575.525050927528,8575.245057363461,8574.965063799396,8574.68507023533,8574.405076671264,8574.125083107197,8573.845089543132,8573.565095979066,8573.285102415,8573.005108850934,8572.725115286867,8572.445121722802,8572.165128158735,8571.88513459467,8571.605141030603,8571.325147466538,8571.04515390247,8570.765160338406,8570.485166774339,8570.205173210274,8569.925179646207,8569.645186082142,8569.365192518075,8569.08519895401,8568.805205389943,8568.525211825878,8568.24521826181,8567.965224697746,8567.685231133679,8567.405237569612,8567.125244005547,8566.84525044148,8566.565256877415,8566.285263313348,8566.005269749283,8565.725276185216,8565.44528262115,8565.165289057084,8564.885295493019,8564.605301928952,8564.325308364887,8564.04531480082,8563.765321236755,8563.485327672688,8563.205334108623,8562.925340544556,8562.645346980491,8562.365353416424,8562.085359852357,8561.805366288292,8561.525372724225,8561.24537916016,8560.965385596093,8560.685392032028,8560.405398467961,8560.125404903896,8559.84541133983,8559.565417775764,8559.285424211697,8559.005430647632,8558.725437083565,8558.4454435195,8558.165449955433,8557.885456391368,8557.605462827301,8557.325469263236,8557.04547569917,8556.765482135103,8556.485488571037,8556.20549500697,8555.925501442905,8555.645507878839,8555.365514314773,8555.085520750707,8554.805527186641,8554.525533622575,8554.24554005851,8553.965546494443,8553.685552930378,8553.40555936631,8553.125565802246,8552.845572238179,8552.565578674114,8552.285585110047,8552.00559154598,8551.725597981915,8551.445604417848,8551.165610853783,8550.885617289716,8550.60562372565,8550.325630161584,8550.045636597519,8549.765643033452,8549.485649469387,8549.20565590532,8548.925662341255,8548.645668777188,8548.365675213123,8548.085681649056,8547.80568808499,8547.525694520924,8547.245700956859,8546.965707392792,8546.685713828725,8546.40572026466,8546.125726700593,8545.845733136528,8545.565739572461,8545.285746008396,8545.00575244433,8544.725758880264,8544.445765316197,8544.165771752132,8543.885778188065,8543.605784624,8543.325791059933,8543.045797495868,8542.765803931801,8542.485810367736,8542.20581680367,8541.925823239604,8541.645829675537,8541.36583611147,8541.085842547405,8540.805848983338,8540.525855419273,8540.245861855206,8539.965868291141,8539.685874727074,8539.40588116301,8539.125887598942,8538.845894034877,8538.56590047081,8538.285906906745,8538.005913342678,8537.725919778613,8537.445926214546,8537.165932650481,8536.885939086415,8536.605945522348,8536.325951958283,8536.045958394216,8535.76596483015,8535.485971266084,8535.205977702019,8534.925984137952,8534.645990573887,8534.36599700982,8534.086003445755,8533.806009881688,8533.526016317623,8533.246022753556,8532.96602918949,8532.686035625424,8532.406042061359,8532.126048497292,8531.846054933227,8531.56606136916,8531.286067805093,8531.006074241028,8530.726080676961,8530.446087112896,8530.166093548829,8529.886099984764,8529.606106420697,8529.326112856632,8529.046119292565,8528.7661257285,8528.486132164433,8528.206138600368,8527.926145036301,8527.646151472236,8527.366157908169,8527.086164344104,8526.806170780037,8526.526177215972,8526.246183651905,8525.966190087838,8525.686196523773,8525.406202959706,8525.126209395641,8524.846215831574,8524.56622226751,8524.286228703442,8524.006235139377,8523.72624157531,8523.446248011245,8523.166254447178,8522.886260883113,8522.606267319046,8522.326273754981,8522.046280190914,8521.76628662685,8521.486293062782,8521.206299498715,8520.92630593465,8520.646312370583,8520.366318806518,8520.086325242451,8519.806331678386,8519.52633811432,8519.246344550254,8518.966350986188,8518.686357422122,8518.406363858056,8518.12637029399,8517.846376729924,8517.566383165858,8517.286389601792,8517.006396037727,8516.72640247366,8516.446408909595,8516.166415345528,8515.88642178146,8515.606428217396,8515.326434653329,8515.046441089264,8514.766447525197,8514.486453961132,8514.206460397065,8513.926466833,8513.646473268933,8513.366479704868,8513.0864861408,8512.806492576736,8512.526499012669,8512.246505448604,8511.966511884537,8511.686518320472,8511.406524756405,8511.12653119234,8510.846537628273,8510.566544064206,8510.286550500141,8510.006556936074,8509.726563372009,8509.446569807942,8509.166576243877,8508.88658267981,8508.606589115745,8508.326595551678,8508.046601987613,8507.766608423546,8507.486614859481,8507.206621295414,8506.926627731349,8506.646634167282,8506.366640603217,8506.08664703915,8505.806653475083,8505.526659911018,8505.246666346951,8504.966672782886,8504.68667921882,8504.406685654754,8504.126692090687,8503.846698526622,8503.566704962555,8503.28671139849,8503.006717834423,8502.726724270358,8502.446730706291,8502.166737142226,8501.88674357816,8501.606750014094,8501.326756450027,8501.046762885962,8500.766769321895,8500.486775757829,8500.206782193764,8499.926788629697,8499.646795065632,8499.366801501565,8499.0868079375,8498.806814373433,8498.526820809368,8498.2468272453,8497.966833681236,8497.686840117169,8497.406846553104,8497.126852989037,8496.846859424972,8496.566865860905,8496.28687229684,8496.006878732773,8495.726885168708,8495.44689160464,8495.166898040574,8494.886904476509,8494.606910912442,8494.326917348377,8494.04692378431,8493.766930220245,8493.486936656178,8493.206943092113,8492.926949528046,8492.64695596398,8492.366962399914,8492.086968835849,8491.806975271782,8491.526981707717,8491.24698814365,8490.966994579585,8490.687001015518,8490.407007451453,8490.127013887386,8489.84702032332,8489.567026759254,8489.287033195187,8489.007039631122,8488.727046067055,8488.44705250299,8488.167058938923,8487.887065374858,8487.607071810791,8487.327078246726,8487.04708468266,8486.767091118594,8486.487097554527,8486.207103990462,8485.927110426395,8485.64711686233,8485.367123298263,8485.087129734196,8484.807136170131,8484.527142606064,8484.247149042,8483.967155477932,8483.687161913867,8483.4071683498,8483.127174785735,8482.847181221669,8482.567187657603,8482.287194093537,8482.007200529471,8481.727206965405,8481.44721340134,8481.167219837273,8480.887226273207,8480.60723270914,8480.327239145076,8480.047245581009,8479.767252016942,8479.487258452877,8479.20726488881,8478.927271324745,8478.647277760678,8478.367284196613,8478.087290632546,8477.80729706848,8477.527303504414,8477.247309940349,8476.967316376282,8476.687322812217,8476.40732924815,8476.127335684085,8475.847342120018,8475.567348555953,8475.287354991886,8475.00736142782,8474.727367863754,8474.447374299687,8474.167380735622,8473.887387171555,8473.60739360749,8473.327400043423,8473.047406479358,8472.767412915291,8472.487419351226,8472.207425787159,8471.927432223094,8471.647438659027,8471.367445094962,8471.087451530895,8470.80745796683,8470.527464402763,8470.247470838698,8469.967477274631,8469.687483710564,8469.4074901465,8469.127496582432,8468.847503018367,8468.5675094543,8468.287515890235,8468.007522326168,8467.727528762103,8467.447535198036,8467.167541633971,8466.887548069904,8466.60755450584,8466.327560941772,8466.047567377707,8465.76757381364,8465.487580249575,8465.207586685508,8464.927593121443,8464.647599557376,8464.36760599331,8464.087612429244,8463.807618865178,8463.527625301112,8463.247631737046,8462.96763817298,8462.687644608914,8462.407651044849,8462.127657480782,8461.847663916717,8461.56767035265,8461.287676788585,8461.007683224518,8460.727689660453,8460.447696096386,8460.16770253232,8459.887708968254,8459.607715404189,8459.327721840122,8459.047728276055,8458.76773471199,8458.487741147923,8458.207747583858,8457.92775401979,8457.647760455726,8457.367766891659,8457.087773327594,8456.807779763527,8456.527786199462,8456.247792635395,8455.96779907133,8455.687805507263,8455.407811943198,8455.127818379131,8454.847824815066,8454.567831250999,8454.287837686934,8454.007844122867,8453.7278505588,8453.447856994735,8453.167863430668,8452.887869866603,8452.607876302536,8452.327882738471,8452.047889174404,8451.76789561034,8451.487902046272,8451.207908482207,8450.92791491814,8450.647921354075,8450.367927790008,8450.087934225943,8449.807940661876,8449.527947097811,8449.247953533744,8448.967959969677,8448.687966405612,8448.407972841545,8448.12797927748,8447.847985713413,8447.567992149348,8447.287998585281,8447.008005021216,8446.72801145715,8446.448017893084,8446.168024329017,8445.888030764952,8445.608037200886,8445.32804363682,8445.048050072754,8444.768056508688,8444.488062944622,8444.208069380556,8443.92807581649,8443.648082252423,8443.368088688358,8443.08809512429,8442.808101560226,8442.528107996159,8442.248114432094,8441.968120868027,8441.688127303962,8441.408133739895,8441.12814017583,8440.848146611763,8440.568153047698,8440.28815948363,8440.008165919566,8439.728172355499,8439.448178791434,8439.168185227367,8438.888191663302,8438.608198099235,8438.328204535168,8438.048210971103,8437.768217407036,8437.488223842971,8437.208230278904,8436.928236714839,8436.648243150772,8436.368249586707,8436.08825602264,8435.808262458575,8435.528268894508,8435.248275330443,8434.968281766376,8434.688288202311,8434.408294638244,8434.128301074179,8433.848307510112,8433.568313946045,8433.28832038198,8433.008326817913,8432.728333253848,8432.448339689781,8432.168346125716,8431.88835256165,8431.608358997584,8431.328365433517,8431.048371869452,8430.768378305385,8430.48838474132,8430.208391177253,8429.928397613188,8429.648404049121,8429.368410485056,8429.08841692099,8428.808423356924,8428.528429792857,8428.24843622879,8427.968442664725,8427.688449100659,8427.408455536593,8427.128461972527,8426.848468408461,8426.568474844395,8426.28848128033,8426.008487716263,8425.728494152198,8425.44850058813,8425.168507024066,8424.888513459999,8424.608519895934,8424.328526331867,8424.048532767802,8423.768539203735,8423.48854563967,8423.208552075603,8422.928558511536,8422.64856494747,8422.368571383404,8422.088577819339,8421.808584255272,8421.528590691207,8421.24859712714,8420.968603563075,8420.688609999008,8420.408616434943,8420.128622870876,8419.84862930681,8419.568635742744,8419.288642178679,8419.008648614612,8418.728655050547,8418.44866148648,8418.168667922415,8417.888674358348,8417.608680794281,8417.328687230216,8417.04869366615,8416.768700102084,8416.488706538017,8416.208712973952,8415.928719409885,8415.64872584582,8415.368732281753,8415.088738717688,8414.808745153621,8414.528751589556,8414.24875802549,8413.968764461424,8413.688770897357,8413.408777333292,8413.128783769225,8412.848790205158,8412.568796641093,8412.288803077026,8412.008809512961,8411.728815948894,8411.44882238483,8411.168828820762,8410.888835256697,8410.60884169263,8410.328848128565,8410.048854564498,8409.768861000433,8409.488867436366,8409.208873872301,8408.928880308235,8408.64888674417,8408.368893180103,8408.088899616037,8407.80890605197,8407.528912487904,8407.248918923839,8406.968925359772,8406.688931795707,8406.40893823164,8406.128944667575,8405.848951103508,8405.568957539443,8405.288963975376,8405.00897041131,8404.728976847244,8404.448983283179,8404.168989719112,8403.888996155047,8403.60900259098,8403.329009026915,8403.049015462848,8402.769021898783,8402.489028334716,8402.209034770649,8401.929041206584,8401.649047642517,8401.369054078452,8401.089060514385,8400.80906695032,8400.529073386253,8400.249079822188,8399.969086258121,8399.689092694056,8399.409099129989,8399.129105565924,8398.849112001857,8398.569118437792,8398.289124873725,8398.00913130966,8397.729137745593,8397.449144181526,8397.169150617461,8396.889157053394,8396.60916348933,8396.329169925262,8396.049176361197,8395.76918279713,8395.489189233065,8395.209195668998,8394.929202104933,8394.649208540866,8394.369214976801,8394.089221412734,8393.80922784867,8393.529234284602,8393.249240720537,8392.96924715647,8392.689253592405,8392.409260028338,8392.129266464271,8391.849272900206,8391.56927933614,8391.289285772074,8391.009292208008,8390.729298643942,8390.449305079876,8390.16931151581,8389.889317951744,8389.609324387678,8389.329330823612,8389.049337259547,8388.76934369548,8388.489350131415,8388.209356567348,8387.929363003283,8387.649369439216,8387.36937587515,8387.089382311084,8386.809388747017,8386.529395182952,8386.249401618885,8385.96940805482,8385.689414490753,8385.409420926688,8385.12942736262,8384.849433798556,8384.569440234489,8384.289446670424,8384.009453106357,8383.729459542292,8383.449465978225,8383.16947241416,8382.889478850093,8382.609485286028,8382.329491721961,8382.049498157896,8381.769504593829,8381.489511029762,8381.209517465697,8380.92952390163,8380.649530337565,8380.369536773498,8380.089543209433,8379.809549645366,8379.529556081301,8379.249562517234,8378.969568953169,8378.689575389102,8378.409581825037,8378.12958826097,8377.849594696905,8377.569601132838,8377.289607568773,8377.009614004706,8376.72962044064,8376.449626876574,8376.169633312507,8375.889639748442,8375.609646184375,8375.32965262031,8375.049659056243,8374.769665492178,8374.489671928111,8374.209678364046,8373.92968479998,8373.649691235914,8373.369697671847,8373.089704107782,8372.809710543715,8372.52971697965,8372.249723415584,8371.969729851518,8371.689736287452,8371.409742723385,8371.12974915932,8370.849755595253,8370.569762031188,8370.28976846712,8370.009774903056,8369.729781338989,8369.449787774924,8369.169794210857,8368.889800646792,8368.609807082725,8368.32981351866,8368.049819954593,8367.769826390528,8367.48983282646,8367.209839262396,8366.929845698329,8366.649852134262,8366.369858570197,8366.08986500613,8365.809871442065,8365.529877877998,8365.249884313933,8364.969890749866,8364.6898971858,8364.409903621734,8364.129910057669,8363.849916493602,8363.569922929537,8363.28992936547,8363.009935801405,8362.729942237338,8362.449948673273,8362.169955109206,8361.889961545141,8361.609967981074,8361.329974417007,8361.049980852942,8360.769987288875,8360.48999372481,8360.210000160743,8359.930006596678,8359.650013032611,8359.370019468546,8359.09002590448,8358.810032340414,8358.530038776347,8358.250045212282,8357.970051648215,8357.69005808415,8357.410064520083,8357.130070956018,8356.850077391951,8356.570083827886,8356.29009026382,8356.010096699752,8355.730103135687,8355.45010957162,8355.170116007555,8354.890122443489,8354.610128879423,8354.330135315357,8354.050141751291,8353.770148187225,8353.49015462316,8353.210161059093,8352.930167495027,8352.65017393096,8352.370180366896,8352.090186802829,8351.810193238764,8351.530199674697,8351.250206110632,8350.970212546565,8350.690218982498,8350.410225418433,8350.130231854366,8349.8502382903,8349.570244726234,8349.290251162169,8349.010257598102,8348.730264034037,8348.45027046997,8348.170276905905,8347.890283341838,8347.610289777773,8347.330296213706,8347.05030264964,8346.770309085574,8346.490315521509,8346.210321957442,8345.930328393377,8345.65033482931,8345.370341265243,8345.090347701178,8344.810354137111,8344.530360573046,8344.250367008979,8343.970373444914,8343.690379880847,8343.410386316782,8343.130392752715,8342.85039918865,8342.570405624583,8342.290412060518,8342.010418496451,8341.730424932386,8341.45043136832,8341.170437804254,8340.890444240187,8340.61045067612,8340.330457112055,8340.050463547988,8339.770469983923,8339.490476419856,8339.210482855791,8338.930489291724,8338.65049572766,8338.370502163592,8338.090508599527,8337.81051503546,8337.530521471395,8337.250527907328,8336.970534343263,8336.690540779196,8336.410547215131,8336.130553651064,8335.850560087,8335.570566522932,8335.290572958866,8335.0105793948,8334.730585830734,8334.450592266669,8334.170598702602,8333.890605138537,8333.61061157447,8333.330618010405,8333.050624446338,8332.770630882273,8332.490637318206,8332.21064375414,8331.930650190074,8331.650656626009,8331.370663061942,8331.090669497877,8330.81067593381,8330.530682369743,8330.250688805678,8329.97069524161,8329.690701677546,8329.410708113479,8329.130714549414,8328.850720985347,8328.570727421282,8328.290733857215,8328.01074029315,8327.730746729083,8327.450753165018,8327.170759600951,8326.890766036886,8326.610772472819,8326.330778908754,8326.050785344687,8325.770791780622,8325.490798216555,8325.210804652488,8324.930811088423,8324.650817524356,8324.370823960291,8324.090830396224,8323.81083683216,8323.530843268092,8323.250849704027,8322.97085613996,8322.690862575895,8322.410869011828,8322.130875447763,8321.850881883696,8321.570888319631,8321.290894755564,8321.0109011915,8320.730907627432,8320.450914063367,8320.1709204993,8319.890926935233,8319.610933371168,8319.330939807101,8319.050946243036,8318.77095267897,8318.490959114904,8318.210965550837,8317.930971986772,8317.650978422706,8317.37098485864,8317.090991294574,8316.810997730508,8316.531004166442,8316.251010602376,8315.97101703831,8315.691023474245,8315.411029910178,8315.131036346113,8314.851042782046,8314.571049217979,8314.291055653914,8314.011062089847,8313.731068525782,8313.451074961715,8313.17108139765,8312.891087833583,8312.611094269518,8312.33110070545,8312.051107141386,8311.771113577319,8311.491120013254,8311.211126449187,8310.931132885122,8310.651139321055,8310.37114575699,8310.091152192923,8309.811158628858,8309.531165064791,8309.251171500724,8308.971177936659,8308.691184372592,8308.411190808527,8308.13119724446,8307.851203680395,8307.571210116328,8307.291216552263,8307.011222988196,8306.731229424131,8306.451235860064,8306.171242295999,8305.891248731932,8305.611255167867,8305.3312616038,8305.051268039735,8304.771274475668,8304.491280911601,8304.211287347536,8303.93129378347,8303.651300219404,8303.371306655337,8303.091313091272,8302.811319527205,8302.53132596314,8302.251332399073,8301.971338835008,8301.691345270941,8301.411351706876,8301.13135814281,8300.851364578744,8300.571371014677,8300.291377450612,8300.011383886545,8299.731390322479,8299.451396758413,8299.171403194347,8298.891409630281,8298.611416066215,8298.33142250215,8298.051428938083,8297.771435374018,8297.49144180995,8297.211448245886,8296.931454681819,8296.651461117754,8296.371467553687,8296.091473989622,8295.811480425555,8295.53148686149,8295.251493297423,8294.971499733358,8294.69150616929,8294.411512605224,8294.131519041159,8293.851525477092,8293.571531913027,8293.29153834896,8293.011544784895,8292.731551220828,8292.451557656763,8292.171564092696,8291.89157052863,8291.611576964564,8291.331583400499,8291.051589836432,8290.771596272367,8290.4916027083,8290.211609144235,8289.931615580168,8289.651622016103,8289.371628452036,8289.09163488797,8288.811641323904,8288.531647759837,8288.251654195772,8287.971660631705,8287.69166706764,8287.411673503573,8287.131679939508,8286.851686375441,8286.571692811376,8286.29169924731,8286.011705683244,8285.731712119177,8285.451718555112],\"yaxis\":\"y\",\"type\":\"scattergl\"}],                        {\"template\":{\"data\":{\"histogram2dcontour\":[{\"type\":\"histogram2dcontour\",\"colorbar\":{\"outlinewidth\":0,\"ticks\":\"\"},\"colorscale\":[[0.0,\"#0d0887\"],[0.1111111111111111,\"#46039f\"],[0.2222222222222222,\"#7201a8\"],[0.3333333333333333,\"#9c179e\"],[0.4444444444444444,\"#bd3786\"],[0.5555555555555556,\"#d8576b\"],[0.6666666666666666,\"#ed7953\"],[0.7777777777777778,\"#fb9f3a\"],[0.8888888888888888,\"#fdca26\"],[1.0,\"#f0f921\"]]}],\"choropleth\":[{\"type\":\"choropleth\",\"colorbar\":{\"outlinewidth\":0,\"ticks\":\"\"}}],\"histogram2d\":[{\"type\":\"histogram2d\",\"colorbar\":{\"outlinewidth\":0,\"ticks\":\"\"},\"colorscale\":[[0.0,\"#0d0887\"],[0.1111111111111111,\"#46039f\"],[0.2222222222222222,\"#7201a8\"],[0.3333333333333333,\"#9c179e\"],[0.4444444444444444,\"#bd3786\"],[0.5555555555555556,\"#d8576b\"],[0.6666666666666666,\"#ed7953\"],[0.7777777777777778,\"#fb9f3a\"],[0.8888888888888888,\"#fdca26\"],[1.0,\"#f0f921\"]]}],\"heatmap\":[{\"type\":\"heatmap\",\"colorbar\":{\"outlinewidth\":0,\"ticks\":\"\"},\"colorscale\":[[0.0,\"#0d0887\"],[0.1111111111111111,\"#46039f\"],[0.2222222222222222,\"#7201a8\"],[0.3333333333333333,\"#9c179e\"],[0.4444444444444444,\"#bd3786\"],[0.5555555555555556,\"#d8576b\"],[0.6666666666666666,\"#ed7953\"],[0.7777777777777778,\"#fb9f3a\"],[0.8888888888888888,\"#fdca26\"],[1.0,\"#f0f921\"]]}],\"heatmapgl\":[{\"type\":\"heatmapgl\",\"colorbar\":{\"outlinewidth\":0,\"ticks\":\"\"},\"colorscale\":[[0.0,\"#0d0887\"],[0.1111111111111111,\"#46039f\"],[0.2222222222222222,\"#7201a8\"],[0.3333333333333333,\"#9c179e\"],[0.4444444444444444,\"#bd3786\"],[0.5555555555555556,\"#d8576b\"],[0.6666666666666666,\"#ed7953\"],[0.7777777777777778,\"#fb9f3a\"],[0.8888888888888888,\"#fdca26\"],[1.0,\"#f0f921\"]]}],\"contourcarpet\":[{\"type\":\"contourcarpet\",\"colorbar\":{\"outlinewidth\":0,\"ticks\":\"\"}}],\"contour\":[{\"type\":\"contour\",\"colorbar\":{\"outlinewidth\":0,\"ticks\":\"\"},\"colorscale\":[[0.0,\"#0d0887\"],[0.1111111111111111,\"#46039f\"],[0.2222222222222222,\"#7201a8\"],[0.3333333333333333,\"#9c179e\"],[0.4444444444444444,\"#bd3786\"],[0.5555555555555556,\"#d8576b\"],[0.6666666666666666,\"#ed7953\"],[0.7777777777777778,\"#fb9f3a\"],[0.8888888888888888,\"#fdca26\"],[1.0,\"#f0f921\"]]}],\"surface\":[{\"type\":\"surface\",\"colorbar\":{\"outlinewidth\":0,\"ticks\":\"\"},\"colorscale\":[[0.0,\"#0d0887\"],[0.1111111111111111,\"#46039f\"],[0.2222222222222222,\"#7201a8\"],[0.3333333333333333,\"#9c179e\"],[0.4444444444444444,\"#bd3786\"],[0.5555555555555556,\"#d8576b\"],[0.6666666666666666,\"#ed7953\"],[0.7777777777777778,\"#fb9f3a\"],[0.8888888888888888,\"#fdca26\"],[1.0,\"#f0f921\"]]}],\"mesh3d\":[{\"type\":\"mesh3d\",\"colorbar\":{\"outlinewidth\":0,\"ticks\":\"\"}}],\"scatter\":[{\"fillpattern\":{\"fillmode\":\"overlay\",\"size\":10,\"solidity\":0.2},\"type\":\"scatter\"}],\"parcoords\":[{\"type\":\"parcoords\",\"line\":{\"colorbar\":{\"outlinewidth\":0,\"ticks\":\"\"}}}],\"scatterpolargl\":[{\"type\":\"scatterpolargl\",\"marker\":{\"colorbar\":{\"outlinewidth\":0,\"ticks\":\"\"}}}],\"bar\":[{\"error_x\":{\"color\":\"#2a3f5f\"},\"error_y\":{\"color\":\"#2a3f5f\"},\"marker\":{\"line\":{\"color\":\"#E5ECF6\",\"width\":0.5},\"pattern\":{\"fillmode\":\"overlay\",\"size\":10,\"solidity\":0.2}},\"type\":\"bar\"}],\"scattergeo\":[{\"type\":\"scattergeo\",\"marker\":{\"colorbar\":{\"outlinewidth\":0,\"ticks\":\"\"}}}],\"scatterpolar\":[{\"type\":\"scatterpolar\",\"marker\":{\"colorbar\":{\"outlinewidth\":0,\"ticks\":\"\"}}}],\"histogram\":[{\"marker\":{\"pattern\":{\"fillmode\":\"overlay\",\"size\":10,\"solidity\":0.2}},\"type\":\"histogram\"}],\"scattergl\":[{\"type\":\"scattergl\",\"marker\":{\"colorbar\":{\"outlinewidth\":0,\"ticks\":\"\"}}}],\"scatter3d\":[{\"type\":\"scatter3d\",\"line\":{\"colorbar\":{\"outlinewidth\":0,\"ticks\":\"\"}},\"marker\":{\"colorbar\":{\"outlinewidth\":0,\"ticks\":\"\"}}}],\"scattermapbox\":[{\"type\":\"scattermapbox\",\"marker\":{\"colorbar\":{\"outlinewidth\":0,\"ticks\":\"\"}}}],\"scatterternary\":[{\"type\":\"scatterternary\",\"marker\":{\"colorbar\":{\"outlinewidth\":0,\"ticks\":\"\"}}}],\"scattercarpet\":[{\"type\":\"scattercarpet\",\"marker\":{\"colorbar\":{\"outlinewidth\":0,\"ticks\":\"\"}}}],\"carpet\":[{\"aaxis\":{\"endlinecolor\":\"#2a3f5f\",\"gridcolor\":\"white\",\"linecolor\":\"white\",\"minorgridcolor\":\"white\",\"startlinecolor\":\"#2a3f5f\"},\"baxis\":{\"endlinecolor\":\"#2a3f5f\",\"gridcolor\":\"white\",\"linecolor\":\"white\",\"minorgridcolor\":\"white\",\"startlinecolor\":\"#2a3f5f\"},\"type\":\"carpet\"}],\"table\":[{\"cells\":{\"fill\":{\"color\":\"#EBF0F8\"},\"line\":{\"color\":\"white\"}},\"header\":{\"fill\":{\"color\":\"#C8D4E3\"},\"line\":{\"color\":\"white\"}},\"type\":\"table\"}],\"barpolar\":[{\"marker\":{\"line\":{\"color\":\"#E5ECF6\",\"width\":0.5},\"pattern\":{\"fillmode\":\"overlay\",\"size\":10,\"solidity\":0.2}},\"type\":\"barpolar\"}],\"pie\":[{\"automargin\":true,\"type\":\"pie\"}]},\"layout\":{\"autotypenumbers\":\"strict\",\"colorway\":[\"#636efa\",\"#EF553B\",\"#00cc96\",\"#ab63fa\",\"#FFA15A\",\"#19d3f3\",\"#FF6692\",\"#B6E880\",\"#FF97FF\",\"#FECB52\"],\"font\":{\"color\":\"#2a3f5f\"},\"hovermode\":\"closest\",\"hoverlabel\":{\"align\":\"left\"},\"paper_bgcolor\":\"white\",\"plot_bgcolor\":\"#E5ECF6\",\"polar\":{\"bgcolor\":\"#E5ECF6\",\"angularaxis\":{\"gridcolor\":\"white\",\"linecolor\":\"white\",\"ticks\":\"\"},\"radialaxis\":{\"gridcolor\":\"white\",\"linecolor\":\"white\",\"ticks\":\"\"}},\"ternary\":{\"bgcolor\":\"#E5ECF6\",\"aaxis\":{\"gridcolor\":\"white\",\"linecolor\":\"white\",\"ticks\":\"\"},\"baxis\":{\"gridcolor\":\"white\",\"linecolor\":\"white\",\"ticks\":\"\"},\"caxis\":{\"gridcolor\":\"white\",\"linecolor\":\"white\",\"ticks\":\"\"}},\"coloraxis\":{\"colorbar\":{\"outlinewidth\":0,\"ticks\":\"\"}},\"colorscale\":{\"sequential\":[[0.0,\"#0d0887\"],[0.1111111111111111,\"#46039f\"],[0.2222222222222222,\"#7201a8\"],[0.3333333333333333,\"#9c179e\"],[0.4444444444444444,\"#bd3786\"],[0.5555555555555556,\"#d8576b\"],[0.6666666666666666,\"#ed7953\"],[0.7777777777777778,\"#fb9f3a\"],[0.8888888888888888,\"#fdca26\"],[1.0,\"#f0f921\"]],\"sequentialminus\":[[0.0,\"#0d0887\"],[0.1111111111111111,\"#46039f\"],[0.2222222222222222,\"#7201a8\"],[0.3333333333333333,\"#9c179e\"],[0.4444444444444444,\"#bd3786\"],[0.5555555555555556,\"#d8576b\"],[0.6666666666666666,\"#ed7953\"],[0.7777777777777778,\"#fb9f3a\"],[0.8888888888888888,\"#fdca26\"],[1.0,\"#f0f921\"]],\"diverging\":[[0,\"#8e0152\"],[0.1,\"#c51b7d\"],[0.2,\"#de77ae\"],[0.3,\"#f1b6da\"],[0.4,\"#fde0ef\"],[0.5,\"#f7f7f7\"],[0.6,\"#e6f5d0\"],[0.7,\"#b8e186\"],[0.8,\"#7fbc41\"],[0.9,\"#4d9221\"],[1,\"#276419\"]]},\"xaxis\":{\"gridcolor\":\"white\",\"linecolor\":\"white\",\"ticks\":\"\",\"title\":{\"standoff\":15},\"zerolinecolor\":\"white\",\"automargin\":true,\"zerolinewidth\":2},\"yaxis\":{\"gridcolor\":\"white\",\"linecolor\":\"white\",\"ticks\":\"\",\"title\":{\"standoff\":15},\"zerolinecolor\":\"white\",\"automargin\":true,\"zerolinewidth\":2},\"scene\":{\"xaxis\":{\"backgroundcolor\":\"#E5ECF6\",\"gridcolor\":\"white\",\"linecolor\":\"white\",\"showbackground\":true,\"ticks\":\"\",\"zerolinecolor\":\"white\",\"gridwidth\":2},\"yaxis\":{\"backgroundcolor\":\"#E5ECF6\",\"gridcolor\":\"white\",\"linecolor\":\"white\",\"showbackground\":true,\"ticks\":\"\",\"zerolinecolor\":\"white\",\"gridwidth\":2},\"zaxis\":{\"backgroundcolor\":\"#E5ECF6\",\"gridcolor\":\"white\",\"linecolor\":\"white\",\"showbackground\":true,\"ticks\":\"\",\"zerolinecolor\":\"white\",\"gridwidth\":2}},\"shapedefaults\":{\"line\":{\"color\":\"#2a3f5f\"}},\"annotationdefaults\":{\"arrowcolor\":\"#2a3f5f\",\"arrowhead\":0,\"arrowwidth\":1},\"geo\":{\"bgcolor\":\"white\",\"landcolor\":\"#E5ECF6\",\"subunitcolor\":\"white\",\"showland\":true,\"showlakes\":true,\"lakecolor\":\"white\"},\"title\":{\"x\":0.05},\"mapbox\":{\"style\":\"light\"}}},\"xaxis\":{\"anchor\":\"y\",\"domain\":[0.0,1.0],\"title\":{\"text\":\"index\"}},\"yaxis\":{\"anchor\":\"x\",\"domain\":[0.0,1.0],\"title\":{\"text\":\"value\"}},\"legend\":{\"title\":{\"text\":\"variable\"},\"tracegroupgap\":0},\"margin\":{\"t\":60}},                        {\"responsive\": true}                    ).then(function(){\n",
              "                            \n",
              "var gd = document.getElementById('4a5d0490-75ac-4db1-8729-5b44f707e107');\n",
              "var x = new MutationObserver(function (mutations, observer) {{\n",
              "        var display = window.getComputedStyle(gd).display;\n",
              "        if (!display || display === 'none') {{\n",
              "            console.log([gd, 'removed!']);\n",
              "            Plotly.purge(gd);\n",
              "            observer.disconnect();\n",
              "        }}\n",
              "}});\n",
              "\n",
              "// Listen for the removal of the full notebook cells\n",
              "var notebookContainer = gd.closest('#notebook-container');\n",
              "if (notebookContainer) {{\n",
              "    x.observe(notebookContainer, {childList: true});\n",
              "}}\n",
              "\n",
              "// Listen for the clearing of the current output cell\n",
              "var outputEl = gd.closest('.output');\n",
              "if (outputEl) {{\n",
              "    x.observe(outputEl, {childList: true});\n",
              "}}\n",
              "\n",
              "                        })                };                            </script>        </div>\n",
              "</body>\n",
              "</html>"
            ]
          },
          "metadata": {}
        }
      ]
    },
    {
      "cell_type": "code",
      "source": [
        "non_smoker_df.info()"
      ],
      "metadata": {
        "id": "kozCSdcfgWXz",
        "outputId": "7b62e258-663d-46d8-8c29-925e579176bc",
        "colab": {
          "base_uri": "https://localhost:8080/"
        }
      },
      "execution_count": 40,
      "outputs": [
        {
          "output_type": "stream",
          "name": "stdout",
          "text": [
            "<class 'pandas.core.frame.DataFrame'>\n",
            "Index: 1064 entries, 1 to 1336\n",
            "Data columns (total 7 columns):\n",
            " #   Column    Non-Null Count  Dtype  \n",
            "---  ------    --------------  -----  \n",
            " 0   age       1064 non-null   int64  \n",
            " 1   sex       1064 non-null   object \n",
            " 2   bmi       1064 non-null   float64\n",
            " 3   children  1064 non-null   int64  \n",
            " 4   smoker    1064 non-null   object \n",
            " 5   region    1064 non-null   object \n",
            " 6   charges   1064 non-null   float64\n",
            "dtypes: float64(2), int64(2), object(3)\n",
            "memory usage: 66.5+ KB\n"
          ]
        }
      ]
    },
    {
      "cell_type": "code",
      "source": [
        "rms=root_mean_squared_error(y, y_pred)"
      ],
      "metadata": {
        "id": "God3P-GijzsP"
      },
      "execution_count": 53,
      "outputs": []
    },
    {
      "cell_type": "code",
      "source": [
        "rms"
      ],
      "metadata": {
        "id": "4A7wnYoxkkFm",
        "outputId": "c60e7f13-9506-435b-88d5-c8ebf780150e",
        "colab": {
          "base_uri": "https://localhost:8080/"
        }
      },
      "execution_count": 54,
      "outputs": [
        {
          "output_type": "execute_result",
          "data": {
            "text/plain": [
              "4662.505766636395"
            ]
          },
          "metadata": {},
          "execution_count": 54
        }
      ]
    },
    {
      "cell_type": "code",
      "source": [
        "rmse=np.sqrt(sum((y-y_pred)**2)/len(y))"
      ],
      "metadata": {
        "id": "0SdYmp_6anC_"
      },
      "execution_count": 24,
      "outputs": []
    },
    {
      "cell_type": "code",
      "source": [
        "rmse"
      ],
      "metadata": {
        "id": "hHoFKo1dbYsb",
        "outputId": "eab1e021-2e3c-4882-ac58-259b93aa7d8d",
        "colab": {
          "base_uri": "https://localhost:8080/"
        }
      },
      "execution_count": 25,
      "outputs": [
        {
          "output_type": "execute_result",
          "data": {
            "text/plain": [
              "4662.505766636393"
            ]
          },
          "metadata": {},
          "execution_count": 25
        }
      ]
    },
    {
      "cell_type": "code",
      "source": [
        "errors=y-y_pred"
      ],
      "metadata": {
        "id": "wTrbKOCwftYQ"
      },
      "execution_count": 37,
      "outputs": []
    },
    {
      "cell_type": "code",
      "source": [
        "stat, pvalue=shapiro(errors)"
      ],
      "metadata": {
        "id": "8DUc9gdfhJvp"
      },
      "execution_count": 42,
      "outputs": []
    },
    {
      "cell_type": "code",
      "source": [
        "stat, pvalue"
      ],
      "metadata": {
        "id": "MGWUT6sShOcK",
        "outputId": "5b7a4db3-98a8-4d18-cc75-c03f7f6b0b8e",
        "colab": {
          "base_uri": "https://localhost:8080/"
        }
      },
      "execution_count": 43,
      "outputs": [
        {
          "output_type": "execute_result",
          "data": {
            "text/plain": [
              "(0.4948739848262308, 1.2522403040505031e-47)"
            ]
          },
          "metadata": {},
          "execution_count": 43
        }
      ]
    },
    {
      "cell_type": "code",
      "source": [
        "px.histogram(errors)"
      ],
      "metadata": {
        "id": "qVZkKMOzhWbP",
        "outputId": "42cf3bea-7f89-4294-d6c8-b80ac12bf2bf",
        "colab": {
          "base_uri": "https://localhost:8080/",
          "height": 542
        }
      },
      "execution_count": 44,
      "outputs": [
        {
          "output_type": "display_data",
          "data": {
            "text/html": [
              "<html>\n",
              "<head><meta charset=\"utf-8\" /></head>\n",
              "<body>\n",
              "    <div>            <script src=\"https://cdnjs.cloudflare.com/ajax/libs/mathjax/2.7.5/MathJax.js?config=TeX-AMS-MML_SVG\"></script><script type=\"text/javascript\">if (window.MathJax && window.MathJax.Hub && window.MathJax.Hub.Config) {window.MathJax.Hub.Config({SVG: {font: \"STIX-Web\"}});}</script>                <script type=\"text/javascript\">window.PlotlyConfig = {MathJaxConfig: 'local'};</script>\n",
              "        <script charset=\"utf-8\" src=\"https://cdn.plot.ly/plotly-2.35.2.min.js\"></script>                <div id=\"7e448655-963f-44ef-9fe2-0a430df8b0fb\" class=\"plotly-graph-div\" style=\"height:525px; width:100%;\"></div>            <script type=\"text/javascript\">                                    window.PLOTLYENV=window.PLOTLYENV || {};                                    if (document.getElementById(\"7e448655-963f-44ef-9fe2-0a430df8b0fb\")) {                    Plotly.newPlot(                        \"7e448655-963f-44ef-9fe2-0a430df8b0fb\",                        [{\"alignmentgroup\":\"True\",\"bingroup\":\"x\",\"hovertemplate\":\"variable=charges\\u003cbr\\u003evalue=%{x}\\u003cbr\\u003ecount=%{y}\\u003cextra\\u003e\\u003c\\u002fextra\\u003e\",\"legendgroup\":\"charges\",\"marker\":{\"color\":\"#636efa\",\"pattern\":{\"shape\":\"\"}},\"name\":\"charges\",\"offsetgroup\":\"charges\",\"orientation\":\"v\",\"showlegend\":true,\"x\":[-993.507574396516,-942.0870027085139,15256.677043135489,-2593.6894540333124,-2436.6741412021133,-1961.4398336701106,-515.2836181893108,-1390.3785181893109,14979.622706693095,-1868.4814642149136,-2228.4614385525147,-1783.8007619821074,-1149.071787227715,-1008.1867106573081,-1660.132888552515,-2272.1335619821075,-714.6672633069065,-1776.3108283709125,-1582.048874396516,-1592.8874681893112,324.86849952429293,-293.4258018005039,-338.6373991509063,-1280.112288552515,-520.8700243965159,1701.4882127722844,-975.163051800504,-1360.8750372277152,1134.181311030692,-2554.751177046114,-1276.4913513837146,-1243.537041202113,-2593.307669514111,-1483.0302181893112,-1984.3666310205099,8023.013860849094,674.2964756034839,-1834.6267027085141,-1313.6175133069064,-507.9291243965163,59.02208710988498,-538.8568566829099,198.352362355492,-1005.5188296957122,-794.0652951765096,-85.13986421491336,15154.108305368296,-1257.9073527085147,-1243.0947872277152,24.308873861893517,-2209.1581066829103,-2678.4318566829106,606.1622587978864,-331.0458234885082,-1462.3904876445085,-1940.6776080077098,-1785.106574813306,-1711.3848155397131,-1988.336912890115,-1033.034575721315,-2294.7605195141114,-1752.0825912021137,-1999.489370838909,297.1344406674907,-1801.3425619821082,-2175.3628336701104,-1524.6924491509071,-1493.8325128901151,-1130.6397734885086,-1533.2860925269115,-1624.6652027085142,-234.70073631970808,-2380.985449150907,-2679.6578695141106,-2280.9574283709126,18625.78682560348,-1991.1894796957122,-654.7897872277154,-979.7469270461143,-2791.6783155397134,-1514.7670363197085,-725.9116491509067,-3150.030218189311,-1116.072812890115,-317.2059606573075,16316.481346693094,-2027.690987644508,-2402.4468721637095,-1110.357918189311,-1927.1946080077096,-1013.4353743965162,-996.0824500589151,-354.2694965013088,-1471.6520270461142,-2170.9849106573074,-1981.6331310205105,-860.8203504757075,-594.404526138107,-909.2038234885094,-1353.744337227715,-796.346550058915,-1632.3740257213149,-1724.8667872277151,-1742.370275721315,14982.713123680292,-1621.323525721315,20380.86230030429,-1366.5020770461142,12499.078084460287,-520.5412155397134,-1660.6662978261083,-1113.0771234885087,-1143.7897872277151,-2137.0756925269116,-2946.8922593325096,-126.20110403331273,-1521.34655668291,-2718.8308080077104,8478.358295005091,-1889.4687363197081,-1308.4106540333123,-2768.642618189311,-62.192496501309506,1577.072299941085,-331.7472040333123,-267.029037227715,-296.39513987731334,-1339.8706518005056,-2887.0961721637086,-1024.2634743965161,-2016.2443925269117,-1467.1158013837144,-1608.1754810205102,-1903.9247363197082,-1378.7504336701095,-327.49641951411104,-1673.137337644508,-1087.238674396516,217.36697427868512,-2248.05370800771,-1936.1045080077101,-875.0743770461145,-600.3958283709126,-2089.823869514111,-735.8820155397134,-1653.1578261381073,-2645.674305358112,-2452.1486642149134,-830.1765619821072,-1581.590174396516,-1346.745687227715,-2681.572043851711,-1417.9515208389093,-1894.0214978261083,-110.99316463170544,-855.632887227715,-1865.3755593325095,-931.3055633069052,-3054.9244336701104,-1053.8138027085142,-1932.9663004757058,-864.3119518005042,-1988.4262566829102,-1273.4877000589152,-435.8197066829098,-784.8503513837145,-1992.2597796957125,-1414.7545208389092,-1494.0128695141111,-1717.1308234885091,-2640.5640898773136,-1464.0743770461145,20759.214488616286,-1982.5714796957127,-1507.8873234885086,-1207.020654033312,-620.1014491509068,-2702.0536027085145,10818.320852355493,-1507.609219514111,-1244.0219465013088,-1689.3907323453104,325.0213995242939,-1258.523787227715,-1342.4373004757072,-1621.0951438517113,-1103.2931743965162,-1730.0906412021131,-2514.86020800771,-1373.7189168645118,22552.864920849097,-1401.66895668291,12136.457773680293,-1294.8108133069054,-2335.6199513837146,-1154.214787227715,-1618.2396655397133,-863.5560898773138,440.06270084909374,-2663.0576310205106,-18.17414782610831,-1571.8563876445078,8390.225836511492,914.3667495242935,-2493.727520838909,-1721.2955721637081,-999.623574396516,-1600.0823695141107,-1653.3626349949081,-2066.6327642149135,-753.4373465013086,-182.6109372277151,-1637.586525721315,-747.4742004757063,-1683.1425978261086,-1688.9202783709125,-728.1655991509069,-2179.602910657308,-2459.9196336701098,-769.1041336701091,-489.068151800504,14187.298129342691,-2219.5310027085143,14619.009594460285,-1631.303725721315,-683.6752642149136,-1014.4917743965161,-1487.0320593325105,-782.7978053581119,-609.0116619821074,-1042.0870027085139,-495.5604748133064,13783.555584460288,14786.122127291485,-1775.0181283709126,-1464.4220376445082,-1116.6284695141112,-2826.551084994908,-1248.9327872277152,-2879.3677721637087,-2082.7534106573075,-2435.7601349949073,-1904.9554863197081,-2246.33705800771,-1792.9370040333124,-2100.289179695712,19814.612162953883,-1575.4669248133068,-2792.7069155397135,-1998.3300066829106,-1562.4111898773135,-2660.9579106573074,-781.7277261381059,-1216.139411982107,9744.29382482349,-1189.7068646317057,-1800.935613306905,-540.3455389693081,-1969.3906336701093,14632.666818616286,-1125.9122389693075,-726.4197133069065,-763.4106018005041,-26.56987216370908,-810.7430796957124,-1837.7940668645115,-1867.5718836701108,-2051.5035053581123,-1350.5751372277152,-1311.1602748133064,-2338.941084994907,-2371.8438283709124,5677.085533135489,11413.977875603483,14401.01893632989,-1257.914333670109,-848.9476465013086,-2218.022538552515,-1111.549774396516,-693.2782593325101,-2511.2213925269116,-923.027612890115,-340.2965128901151,-1225.4289721637087,555.7464380178917,-1115.9726323453096,-1551.2627580077096,762.8081256034839,-795.7250261381068,-1112.4807748133062,-1493.6163323453102,-1862.029000058915,1443.1979853682933,12522.972691030693,8174.219270849093,-1415.3737925269115,-1364.9959580077102,-1724.4497872277152,-1552.6048876445075,19013.617855005094,-1680.2352770461143,295.52654861628525,0.34349066749018675,-848.2380872277149,-1772.4667093325097,-1713.6366721637096,-791.0244336701107,-2675.3229836701103,-878.2796951765085,13065.691097109884,-24.07786463170487,-1087.391574396516,-2273.4769978261083,-2385.3585465013093,-319.84051463170545,-734.3161721637098,-2933.096741202113,-408.62271065730783,-2542.6956668645116,-1929.6073465013087,-1411.5093310205102,-2386.0909540333123,-1364.968587227715,490.293735785086,-851.4072872277152,-2054.556095176509,-2664.5719106573088,-594.2294646317059,-1862.4071642149133,-1768.19725933251,-145.91462083890838,-1508.9677810205103,4604.674944603485,-353.3507628901152,13680.452310122688,20096.646542772287,-752.3882655397138,-3163.31078234531,-1305.319213306906,-1949.7056912021135,-23.691313306906522,-1533.2588257213151,-1335.4453925269117,787.0115893426919,-1959.7276770461144,-1455.0275412021128,-1569.663974396516,14611.632359524292,-2589.6965208389092,-1212.5146133069065,-1420.497061982107,-2687.5919566829098,-2499.9623925269116,-819.0200438517113,-1893.8061283709126,-2352.9393513837144,-1484.0260500589152,-1774.155954033312,8120.735099524294,-725.3000491509065,-1300.9924248133066,-2273.1065619821075,-915.8659566829101,-622.2974721637092,752.3120110306918,-1709.1009119821083,-1354.272537227715,-718.8212133069064,-231.1407619821075,17897.379397291486,-517.9627743965161,-2627.2617898773133,-515.5880243965162,-1241.8437872277152,10409.50608349869,-2055.4085142149133,-1986.502112890115,-2231.0190385525148,809.9277981994946,-1699.0742721637089,-1096.871374396516,-1658.2059978261095,-1173.4982593325094,-1846.2723912021129,135.33056368029247,-1732.3727872277152,-1610.7924234885086,-1237.5347872277152,10302.328133861894,-522.5866743965162,-1636.7141261381057,-1286.535000058915,-1261.6487412021133,-1906.8125208389092,-1456.4314080077093,-1007.1520389693069,-2562.913995176509,-2089.6534310205107,-999.9259681893109,-1144.7870257213149,-443.71111289011515,-1278.3400513837146,-1686.487474813306,-1111.5176619821086,-2625.8856898773133,-2176.947197826108,-1730.0097872277152,-2046.2613876445084,24470.731049941085,-1521.3174708389088,-2021.526392526911,-2335.536491202113,14385.550175005093,-2466.3668540333124,-1671.9691478261084,-2666.4214310205107,8763.574975603484,21073.371402772285,-1677.2489978261092,-1859.1206836701094,-1011.058474396516,-434.5353389693082,-750.3793004757063,11417.916311810688,-1181.3946646317054,-1996.91138102051,-755.4155668645117,-1376.9434336701106,-1968.93193367011,15273.27024651149,-798.5944796957119,-197.16960005891497,-858.056951800505,-2108.520836319707,-2122.7023527085144,-801.5997363197075,-1376.1802142149136,-1354.7019518005054,-2487.6199540333123,-1520.894038969307,-617.8662106573083,13289.098415785085,-1543.8750027085143,-1867.4398336701106,-3059.862579695712,-1339.8790872277152,-1008.1909336701101,-1416.0875363197083,-2630.2780898773135,-2212.2947849949087,82.19892560348399,-857.877737227715,-1690.4807810205102,-1609.061769514111,549.1278278362915,-2432.0037412021134,-499.61477439651617,-1172.4100283709122,17141.98902103069,82.28957518669267,-1186.1180876445069,-2123.055925721315,-2080.992910657307,-1383.3109142149137,-762.2729004757075,-1346.745687227715,-1975.016343851711,11165.694855966687,-1743.492787227715,-1948.1912668645118,340.40303710988474,-575.1252261381069,-2087.20703102051,-1566.5743876445085,-2041.2090465013098,-687.0870000589152,-3156.6204695141114,-1378.04368367011,-1492.7245823453104,-1400.196979695712,-1958.781695176509,21666.44897934269,-1086.015474396516,-2364.1383478261087,-1803.9835619821079,1072.617635368295,-2254.711997826109,-1565.6798398773135,-956.4548027085148,-1921.5870465013086,-1492.4941310205104,-511.36242439651596,-242.0044796957127,-1373.4877000589152,-1216.4035119821074,-1893.6256491509066,-2266.7008283709124,-1821.6061721637088,-1546.6511504757073,-1922.3332155397134,-780.9491053581123,4598.921303135488,-2043.0643876445083,-1986.9258234885092,-2344.7383513837144,-2292.1282155397134,-1425.1760066829102,-2146.9279978261093,-601.5777646317056,-277.19688722771525,17652.754867473086,74.63683801789193,-61.550566864510984,-1066.8982761381067,411.316961447485,9405.86277482349,-595.391059332509,-2207.718243851711,-346.25165668291083,-1006.832874396516,-978.0630376445079,-1202.8879721637095,-1493.0608234885094,-2455.90455933251,-1407.2485208389098,-1431.7343004757058,-1446.7271770461143,-1065.5876398773134,15655.733030667488,1252.6306751866941,-1361.1655181893111,9050.669635186692,-1311.9920540333123,-1582.660474396516,-2300.320172163709,-2098.3000566829105,-1088.4645283709124,-1715.2025155397132,-3129.8093053581124,-2680.4640695141106,-2711.994270838909,-121.46874915090666,-510.97156198210723,-846.992972163709,-935.5376128901153,-1744.0487872277151,-2209.3000234885094,-1961.7715668645114,-828.3949234885094,-1403.3880323453104,-3159.78685668291,15767.30162349869,-1416.6932128901149,-2401.0933465013086,-891.3286500589152,-1969.5849013837146,-1546.3010898773136,-1655.8060270461142,17113.71053651149,-1898.2728119821077,-554.6921385525152,-1500.254312890115,-1729.3295349949076,-2568.4615234885096,-1609.7045796957118,-1538.343796501309,-1352.7555668645118,-739.3340721637087,-80.06469120211295,-2060.5337053581125,-991.5198743965161,-1163.8044849949074,-1089.4435451765094,-1269.1044000589152,-1865.0513513837145,-1796.5432133069062,-1436.7852721637082,-830.9094133069066,-690.1396978261091,-1177.402787644507,-1662.5935978261095,-808.2308234885095,-1498.6540389693073,-1723.059787227715,-1164.8908349949088,-2201.098919514111,-501.458674396516,-2084.4306695141113,-2007.3588234885083,-87.62635138371479,-1289.2769093325096,330.9566995242931,-1419.8828721637092,-1372.7201770461143,-1330.296870838909,-2435.4509412021134,-2443.815184994908,-1360.6652349949072,4742.806360304288,-1359.0263372277152,-1912.3713465013097,-2329.0407527085144,-1614.448362890115,-801.9739146317061,-1575.2340876445069,12805.872728616287,-1162.0261912021133,-345.47204385171153,-497.31912837091204,137.7026742786852,-1638.349438552515,-2053.4913898773134,-839.7122708389088,-1299.143724813306,-2406.514346501309,-2082.3917823453103,-693.4788646317047,-1130.79588102051,13730.524453861894,-921.9918234885081,3129.6780119922896,-1604.043869514111,-977.7822978261083,-1611.83895668291,-2486.376570838909,-1327.9115925269116,-2202.961623488509,-1572.2632743965162,-2152.112697826109,-1842.7813412021133,-848.1133925269114,-1202.346763306905,-1603.488212890115,-449.2190655397135,-1020.0512389693067,-2669.0620438517108,-1733.9017872277152,-1056.1433257213148,-1121.7952438517113,-1659.8810283709126,-1206.5227783709124,-1560.875387644508,-2086.31158234531,-698.6635646317063,-1417.7266128901151,-2239.428538552515,-2202.9226708389087,19878.19903331709,-849.426537227715,-1587.5532743965161,-1280.0096642149133,-787.1094336701099,-366.7999668645116,-1326.3088363197076,-962.6611527085142,-1945.2346053581123,-1375.628300058915,-1479.7926013837146,-457.70843855251496,-2488.8625208389094,-2176.101877046114,-1097.177174396516,-1448.3277080077096,-1419.9094133069066,1056.5748853682944,-2213.7925438517113,-1351.5049518005053,-2263.174705358112,-671.8124527085147,-1665.0822876445072,-2152.082505358112,-1972.7034823453105,-3127.307305358112,-1216.7996619821079,-860.0000425269109,-1054.0858004757065,-1994.4946128901151,-1352.329300475707,-2000.716773488508,-1665.5729978261097,-1617.2492385525152,-2150.1740898773132,-2005.6373991509063,-91.1431261381058,-343.09232348850855,-1378.213700058915,13628.359125785088,-2176.321474813307,-912.9461310205106,-337.5809991509068,-2071.4938553581123,-2755.8049978261097,-1998.1749566829103,-1577.6147743965162,-1565.6374748133076,-1081.159676138106,-198.15026421491348,-2813.2070849949087,-1464.6859770461142,-3166.1463823453105,-2551.2566951765093,-776.3921080077107,-1365.1906385525149,15136.584127836291,-74.00496686451152,-2583.5498695141114,-1484.837218189311,-344.99152572131516,-1266.2470385525148,-934.9559628901152,288.1787857850868,-2257.364505358112,-2105.458525721315,-1196.6347748133066,-285.72670535811176,-1917.1040863197086,-923.0071389693076,-1146.8801261381068,-764.7443372277153,-1084.486474396516,-868.969937227715,-2314.9173221637084,-195.76482704611408,-2877.991672163709,-1298.9252133069058,-292.85972704611413,-277.3799398773135,-2033.8110080077104,424.8080481994948,-1149.012625721315,706.4437495242928,-2040.5386080077096,-1470.2856168645112,-1849.2192513837144,-1168.8421261381063,-2017.0644925269116,-1026.890038969308,-1015.492038969307,-2575.7761310205105,-2674.631629695712,-3149.8476951765088,14062.307755005091,-72.73978722771517,-1109.4414748133077,-1007.2076389693066,-2576.029969514111,-1929.9864770461145,-2092.9890438517114,-105.0594336701106,-2586.6385208389092,-1787.152454033312,-1442.4373004757072,22441.13121199229,634.5087061482882,-415.0576743965162,-2585.127623488508,-1597.185974396516,-1721.4599849949082,-501.5907243965162,-1357.837887227715,-1495.1373389693072,-1200.3885619821085,-1972.93978234531,-2774.25733234531,-1606.8948248133074,-1398.863878370912,-2317.561641202113,8287.333668616286,17732.39175066749,-256.20093722771526,-2305.5139155397133,-270.5859518005054,-701.4563836701091,14661.574459342692,-2515.9473925269112,-2149.50625800771,-240.9380628901149,265.540756148288,-568.3826849949073,-2002.6660796957121,-1260.2368757213148,-1226.9707872277152,-2534.4293770461145,-2932.36675933251,-1954.1446770461143,-230.11247083890885,-2640.5035053581123,13177.092893680292,-2494.7032296957123,11672.111850122688,1661.5021499410846,-2042.90160800771,-990.2358451765085,18405.408329161088,-2476.216229695712,-1478.1411770461145,-919.1754810205102,-1152.601084994907,-2579.57083102051,-344.8117938517107,-912.7650438517112,-857.2924518005038,-176.04346686451117,-2261.722155358112,-2349.6033513837147,10495.655000667492,-1841.7372465013086,-1225.4102155397131,-953.2856027085145,18651.672265785084,-1580.552397826108,-2467.48325933251,22369.519033861896,-1971.27825933251,-2680.50213102051,-1551.2729004757075,-277.0648372277151,-869.1251770461145,155.27011368029162,22498.143907109883,-2739.680997826108,-1008.033074396516,-1899.4165465013084,-1500.6296128901151,17540.077851447488,-2489.588736319707,-918.8091181893114,-1788.524128370912,-1260.6919261381063,-245.54273631970864,-1537.220325721315,19507.350852772288,-1014.3597243965162,-2230.095002708514,-1213.2040991509075,-2075.234495176509,-995.6314142149135,-1644.3961580077103,-617.9519646317058,-1715.7494721637086,-1770.8297898773135,-2012.768099150906,-2459.0042593325106,7994.522849161092,-1841.5742513837145,-1997.822854033312,-2340.9714513837143,-1587.5438748133074,-981.3452553581119,50.06908446028683,-2087.5347823453103,-1758.3421593325093,-2573.873593851711,-395.40655180050453,-1411.1717363197076,-770.8054018005041,-1611.279162890115,-243.36953631970755,-739.2285633069059,-1897.7025540333125,-1917.9313465013092,-1418.5419128901149,416.27344819949576,9164.988705603484,-2006.1420040333123,-2208.13563102051,-2384.0476540333125,541.7480110306933,-1810.9193991509073,-1788.5398748133066,-2056.6123106573086,-2297.431561982108,-1320.7309491509077,-463.82443855251495,28.3179150050928,1842.1286256034841,-2113.4232257213152,11240.04324934269,-1362.6811642149137,-819.3508234885085,-2187.3883155397134,-2045.7331876445078,12623.81543181069,-2001.089136319708,-2015.6174221637084,-777.0792849949084,-1952.9631770461142,-1329.4190208389082,-827.6157363197071,-79.37915270851408,-1659.2085385525152,-1799.7833491509064,356.6177304858884,-232.61632837091202,-1854.8651336701096,13779.191320122685,-490.6527518005041,-2392.6336491509064,-1425.770992526911,7363.321890304287,-1257.4117872277152,251.01525614828824,-1430.8720898773136,7567.252865186692,-1814.4852606573077,14281.786727291485,-185.43828499490883,-2044.01360800771,-1680.7634770461145,-3023.4390668645115,-2222.997784994908,-911.2678695141112,15312.470869342693,-1993.211443851711,-1640.628084994907,-516.4136606573084,-991.9889000589151,-1815.3096491509077,-3153.3027823453103,-515.3239243965163,-1173.1771876445073,-1631.8335425269115,278.6474406674897,-301.32465535811207,10370.769411447485,-793.8376000589151,-2470.7036540333124,-1673.029495176509,-1870.8537796957125,13037.125091629088,-518.2290243965163,-1712.2309695141112,-2034.3026425269109,-2159.266174813307,-1129.3209155397135,-1789.904654033312,-1684.4362681893108,-1780.8956619821074,-1606.1947310205105,-1224.8820155397134,-1633.6945257213151,-2101.6499566829098,-1155.8150885525151,-1482.2600323453098,-1471.8696013837143,-1956.8102642149133,-1289.1448593325094,-1330.9571208389098,-633.2148389693066,9071.373011447484,-865.8954912021136,4859.686970485889,-389.855337644507,-2065.33600933251,-2059.2132912021134,15852.394872772284,-3165.9473695141114,-2204.9325066829106,-1258.5907412021133,-1598.0374181893112,-1468.8001836701096,-1732.730625721315,-1574.2139978261093,-2145.7909925269114,23234.342729524295,-1329.0933004757062,-2156.1760553581125,15231.729136148288,-1016.604574396516,-998.6839106573079,-1168.2286398773135,10170.997775603484,-3182.8747566829106,-1600.6818155397132,-526.8742310205107,-1207.8432783709122,-2005.0276566829098,-2828.3580849949085,-2007.3052695141114,-1932.1367668645116,-1423.49328102051,-1971.02158234531,-2280.292861982107,-1470.760437644507,139.6882136802924,-2063.4973876445074,-1419.0218208389088,-2157.4828270461144,-295.40655180050453,-1184.665537644507,-811.2822681893113,-1351.3665642149135,508.2156742786851,-2219.9341027085143,-1583.119174396516,223.81999729148538,-832.9825208389084,-668.6205668645116,-1085.098074396516,-1744.743787227715,7230.2857733170895,-2579.883679695712,-2659.02078234531,-101.5358478261096,-1034.0861863197078,17456.310900849094,-1607.7507106573084,-1916.3098540333121,-2114.3880027085143,-2095.592369514111,-2062.5346951765096,-632.8636221637098,-1902.7996491509075,-1373.070700058915,-1319.4805208389098,-1564.5213270461145,-1567.9931142149135,5078.047454823491,-2515.2384925269116,-2182.437474813307,-1046.1075257213151,-2103.5010040333127,-400.68916421491394,-2452.846559332509,-998.7061743965162,-1934.606546501309,-1658.923902708514,-2057.0913053581125,-2520.0588080077105,-930.1356310205101,-2005.461712890115,-900.1358836701093,-1477.8911376445085,-1288.7777000589151,-1010.134124396516,-1051.1081027085147,-1466.3241168645118,-275.48023722771495,-1381.0152642149137,-1857.9345513837143,-1989.8238695141108,-2192.12393234531,-2156.3805168645113,-2458.7834796957122,8553.271515603483,-1254.6317872277152,-1555.597174396516,12234.427777473089,-1129.586193851711,-768.2723912021129,-1496.6663389693076,-1953.4030912021135,-1067.4264761381073,-2083.0124823453098,-2160.3692978261097,18340.439801447486,-1480.3169106573077,-512.6018748133065,6740.632891447485,-393.8379106573084,-670.4767849949076,-513.0790743965163,-1089.2263743965161,-1512.861612890115],\"xaxis\":\"x\",\"yaxis\":\"y\",\"type\":\"histogram\"}],                        {\"template\":{\"data\":{\"histogram2dcontour\":[{\"type\":\"histogram2dcontour\",\"colorbar\":{\"outlinewidth\":0,\"ticks\":\"\"},\"colorscale\":[[0.0,\"#0d0887\"],[0.1111111111111111,\"#46039f\"],[0.2222222222222222,\"#7201a8\"],[0.3333333333333333,\"#9c179e\"],[0.4444444444444444,\"#bd3786\"],[0.5555555555555556,\"#d8576b\"],[0.6666666666666666,\"#ed7953\"],[0.7777777777777778,\"#fb9f3a\"],[0.8888888888888888,\"#fdca26\"],[1.0,\"#f0f921\"]]}],\"choropleth\":[{\"type\":\"choropleth\",\"colorbar\":{\"outlinewidth\":0,\"ticks\":\"\"}}],\"histogram2d\":[{\"type\":\"histogram2d\",\"colorbar\":{\"outlinewidth\":0,\"ticks\":\"\"},\"colorscale\":[[0.0,\"#0d0887\"],[0.1111111111111111,\"#46039f\"],[0.2222222222222222,\"#7201a8\"],[0.3333333333333333,\"#9c179e\"],[0.4444444444444444,\"#bd3786\"],[0.5555555555555556,\"#d8576b\"],[0.6666666666666666,\"#ed7953\"],[0.7777777777777778,\"#fb9f3a\"],[0.8888888888888888,\"#fdca26\"],[1.0,\"#f0f921\"]]}],\"heatmap\":[{\"type\":\"heatmap\",\"colorbar\":{\"outlinewidth\":0,\"ticks\":\"\"},\"colorscale\":[[0.0,\"#0d0887\"],[0.1111111111111111,\"#46039f\"],[0.2222222222222222,\"#7201a8\"],[0.3333333333333333,\"#9c179e\"],[0.4444444444444444,\"#bd3786\"],[0.5555555555555556,\"#d8576b\"],[0.6666666666666666,\"#ed7953\"],[0.7777777777777778,\"#fb9f3a\"],[0.8888888888888888,\"#fdca26\"],[1.0,\"#f0f921\"]]}],\"heatmapgl\":[{\"type\":\"heatmapgl\",\"colorbar\":{\"outlinewidth\":0,\"ticks\":\"\"},\"colorscale\":[[0.0,\"#0d0887\"],[0.1111111111111111,\"#46039f\"],[0.2222222222222222,\"#7201a8\"],[0.3333333333333333,\"#9c179e\"],[0.4444444444444444,\"#bd3786\"],[0.5555555555555556,\"#d8576b\"],[0.6666666666666666,\"#ed7953\"],[0.7777777777777778,\"#fb9f3a\"],[0.8888888888888888,\"#fdca26\"],[1.0,\"#f0f921\"]]}],\"contourcarpet\":[{\"type\":\"contourcarpet\",\"colorbar\":{\"outlinewidth\":0,\"ticks\":\"\"}}],\"contour\":[{\"type\":\"contour\",\"colorbar\":{\"outlinewidth\":0,\"ticks\":\"\"},\"colorscale\":[[0.0,\"#0d0887\"],[0.1111111111111111,\"#46039f\"],[0.2222222222222222,\"#7201a8\"],[0.3333333333333333,\"#9c179e\"],[0.4444444444444444,\"#bd3786\"],[0.5555555555555556,\"#d8576b\"],[0.6666666666666666,\"#ed7953\"],[0.7777777777777778,\"#fb9f3a\"],[0.8888888888888888,\"#fdca26\"],[1.0,\"#f0f921\"]]}],\"surface\":[{\"type\":\"surface\",\"colorbar\":{\"outlinewidth\":0,\"ticks\":\"\"},\"colorscale\":[[0.0,\"#0d0887\"],[0.1111111111111111,\"#46039f\"],[0.2222222222222222,\"#7201a8\"],[0.3333333333333333,\"#9c179e\"],[0.4444444444444444,\"#bd3786\"],[0.5555555555555556,\"#d8576b\"],[0.6666666666666666,\"#ed7953\"],[0.7777777777777778,\"#fb9f3a\"],[0.8888888888888888,\"#fdca26\"],[1.0,\"#f0f921\"]]}],\"mesh3d\":[{\"type\":\"mesh3d\",\"colorbar\":{\"outlinewidth\":0,\"ticks\":\"\"}}],\"scatter\":[{\"fillpattern\":{\"fillmode\":\"overlay\",\"size\":10,\"solidity\":0.2},\"type\":\"scatter\"}],\"parcoords\":[{\"type\":\"parcoords\",\"line\":{\"colorbar\":{\"outlinewidth\":0,\"ticks\":\"\"}}}],\"scatterpolargl\":[{\"type\":\"scatterpolargl\",\"marker\":{\"colorbar\":{\"outlinewidth\":0,\"ticks\":\"\"}}}],\"bar\":[{\"error_x\":{\"color\":\"#2a3f5f\"},\"error_y\":{\"color\":\"#2a3f5f\"},\"marker\":{\"line\":{\"color\":\"#E5ECF6\",\"width\":0.5},\"pattern\":{\"fillmode\":\"overlay\",\"size\":10,\"solidity\":0.2}},\"type\":\"bar\"}],\"scattergeo\":[{\"type\":\"scattergeo\",\"marker\":{\"colorbar\":{\"outlinewidth\":0,\"ticks\":\"\"}}}],\"scatterpolar\":[{\"type\":\"scatterpolar\",\"marker\":{\"colorbar\":{\"outlinewidth\":0,\"ticks\":\"\"}}}],\"histogram\":[{\"marker\":{\"pattern\":{\"fillmode\":\"overlay\",\"size\":10,\"solidity\":0.2}},\"type\":\"histogram\"}],\"scattergl\":[{\"type\":\"scattergl\",\"marker\":{\"colorbar\":{\"outlinewidth\":0,\"ticks\":\"\"}}}],\"scatter3d\":[{\"type\":\"scatter3d\",\"line\":{\"colorbar\":{\"outlinewidth\":0,\"ticks\":\"\"}},\"marker\":{\"colorbar\":{\"outlinewidth\":0,\"ticks\":\"\"}}}],\"scattermapbox\":[{\"type\":\"scattermapbox\",\"marker\":{\"colorbar\":{\"outlinewidth\":0,\"ticks\":\"\"}}}],\"scatterternary\":[{\"type\":\"scatterternary\",\"marker\":{\"colorbar\":{\"outlinewidth\":0,\"ticks\":\"\"}}}],\"scattercarpet\":[{\"type\":\"scattercarpet\",\"marker\":{\"colorbar\":{\"outlinewidth\":0,\"ticks\":\"\"}}}],\"carpet\":[{\"aaxis\":{\"endlinecolor\":\"#2a3f5f\",\"gridcolor\":\"white\",\"linecolor\":\"white\",\"minorgridcolor\":\"white\",\"startlinecolor\":\"#2a3f5f\"},\"baxis\":{\"endlinecolor\":\"#2a3f5f\",\"gridcolor\":\"white\",\"linecolor\":\"white\",\"minorgridcolor\":\"white\",\"startlinecolor\":\"#2a3f5f\"},\"type\":\"carpet\"}],\"table\":[{\"cells\":{\"fill\":{\"color\":\"#EBF0F8\"},\"line\":{\"color\":\"white\"}},\"header\":{\"fill\":{\"color\":\"#C8D4E3\"},\"line\":{\"color\":\"white\"}},\"type\":\"table\"}],\"barpolar\":[{\"marker\":{\"line\":{\"color\":\"#E5ECF6\",\"width\":0.5},\"pattern\":{\"fillmode\":\"overlay\",\"size\":10,\"solidity\":0.2}},\"type\":\"barpolar\"}],\"pie\":[{\"automargin\":true,\"type\":\"pie\"}]},\"layout\":{\"autotypenumbers\":\"strict\",\"colorway\":[\"#636efa\",\"#EF553B\",\"#00cc96\",\"#ab63fa\",\"#FFA15A\",\"#19d3f3\",\"#FF6692\",\"#B6E880\",\"#FF97FF\",\"#FECB52\"],\"font\":{\"color\":\"#2a3f5f\"},\"hovermode\":\"closest\",\"hoverlabel\":{\"align\":\"left\"},\"paper_bgcolor\":\"white\",\"plot_bgcolor\":\"#E5ECF6\",\"polar\":{\"bgcolor\":\"#E5ECF6\",\"angularaxis\":{\"gridcolor\":\"white\",\"linecolor\":\"white\",\"ticks\":\"\"},\"radialaxis\":{\"gridcolor\":\"white\",\"linecolor\":\"white\",\"ticks\":\"\"}},\"ternary\":{\"bgcolor\":\"#E5ECF6\",\"aaxis\":{\"gridcolor\":\"white\",\"linecolor\":\"white\",\"ticks\":\"\"},\"baxis\":{\"gridcolor\":\"white\",\"linecolor\":\"white\",\"ticks\":\"\"},\"caxis\":{\"gridcolor\":\"white\",\"linecolor\":\"white\",\"ticks\":\"\"}},\"coloraxis\":{\"colorbar\":{\"outlinewidth\":0,\"ticks\":\"\"}},\"colorscale\":{\"sequential\":[[0.0,\"#0d0887\"],[0.1111111111111111,\"#46039f\"],[0.2222222222222222,\"#7201a8\"],[0.3333333333333333,\"#9c179e\"],[0.4444444444444444,\"#bd3786\"],[0.5555555555555556,\"#d8576b\"],[0.6666666666666666,\"#ed7953\"],[0.7777777777777778,\"#fb9f3a\"],[0.8888888888888888,\"#fdca26\"],[1.0,\"#f0f921\"]],\"sequentialminus\":[[0.0,\"#0d0887\"],[0.1111111111111111,\"#46039f\"],[0.2222222222222222,\"#7201a8\"],[0.3333333333333333,\"#9c179e\"],[0.4444444444444444,\"#bd3786\"],[0.5555555555555556,\"#d8576b\"],[0.6666666666666666,\"#ed7953\"],[0.7777777777777778,\"#fb9f3a\"],[0.8888888888888888,\"#fdca26\"],[1.0,\"#f0f921\"]],\"diverging\":[[0,\"#8e0152\"],[0.1,\"#c51b7d\"],[0.2,\"#de77ae\"],[0.3,\"#f1b6da\"],[0.4,\"#fde0ef\"],[0.5,\"#f7f7f7\"],[0.6,\"#e6f5d0\"],[0.7,\"#b8e186\"],[0.8,\"#7fbc41\"],[0.9,\"#4d9221\"],[1,\"#276419\"]]},\"xaxis\":{\"gridcolor\":\"white\",\"linecolor\":\"white\",\"ticks\":\"\",\"title\":{\"standoff\":15},\"zerolinecolor\":\"white\",\"automargin\":true,\"zerolinewidth\":2},\"yaxis\":{\"gridcolor\":\"white\",\"linecolor\":\"white\",\"ticks\":\"\",\"title\":{\"standoff\":15},\"zerolinecolor\":\"white\",\"automargin\":true,\"zerolinewidth\":2},\"scene\":{\"xaxis\":{\"backgroundcolor\":\"#E5ECF6\",\"gridcolor\":\"white\",\"linecolor\":\"white\",\"showbackground\":true,\"ticks\":\"\",\"zerolinecolor\":\"white\",\"gridwidth\":2},\"yaxis\":{\"backgroundcolor\":\"#E5ECF6\",\"gridcolor\":\"white\",\"linecolor\":\"white\",\"showbackground\":true,\"ticks\":\"\",\"zerolinecolor\":\"white\",\"gridwidth\":2},\"zaxis\":{\"backgroundcolor\":\"#E5ECF6\",\"gridcolor\":\"white\",\"linecolor\":\"white\",\"showbackground\":true,\"ticks\":\"\",\"zerolinecolor\":\"white\",\"gridwidth\":2}},\"shapedefaults\":{\"line\":{\"color\":\"#2a3f5f\"}},\"annotationdefaults\":{\"arrowcolor\":\"#2a3f5f\",\"arrowhead\":0,\"arrowwidth\":1},\"geo\":{\"bgcolor\":\"white\",\"landcolor\":\"#E5ECF6\",\"subunitcolor\":\"white\",\"showland\":true,\"showlakes\":true,\"lakecolor\":\"white\"},\"title\":{\"x\":0.05},\"mapbox\":{\"style\":\"light\"}}},\"xaxis\":{\"anchor\":\"y\",\"domain\":[0.0,1.0],\"title\":{\"text\":\"value\"}},\"yaxis\":{\"anchor\":\"x\",\"domain\":[0.0,1.0],\"title\":{\"text\":\"count\"}},\"legend\":{\"title\":{\"text\":\"variable\"},\"tracegroupgap\":0},\"margin\":{\"t\":60},\"barmode\":\"relative\"},                        {\"responsive\": true}                    ).then(function(){\n",
              "                            \n",
              "var gd = document.getElementById('7e448655-963f-44ef-9fe2-0a430df8b0fb');\n",
              "var x = new MutationObserver(function (mutations, observer) {{\n",
              "        var display = window.getComputedStyle(gd).display;\n",
              "        if (!display || display === 'none') {{\n",
              "            console.log([gd, 'removed!']);\n",
              "            Plotly.purge(gd);\n",
              "            observer.disconnect();\n",
              "        }}\n",
              "}});\n",
              "\n",
              "// Listen for the removal of the full notebook cells\n",
              "var notebookContainer = gd.closest('#notebook-container');\n",
              "if (notebookContainer) {{\n",
              "    x.observe(notebookContainer, {childList: true});\n",
              "}}\n",
              "\n",
              "// Listen for the clearing of the current output cell\n",
              "var outputEl = gd.closest('.output');\n",
              "if (outputEl) {{\n",
              "    x.observe(outputEl, {childList: true});\n",
              "}}\n",
              "\n",
              "                        })                };                            </script>        </div>\n",
              "</body>\n",
              "</html>"
            ]
          },
          "metadata": {}
        }
      ]
    },
    {
      "cell_type": "code",
      "source": [
        "px.scatter(errors, trendline='ols')"
      ],
      "metadata": {
        "id": "K15xpZjdfxF0",
        "outputId": "0d991580-de9b-4fe7-8205-8bd3069f081d",
        "colab": {
          "base_uri": "https://localhost:8080/",
          "height": 542
        }
      },
      "execution_count": 38,
      "outputs": [
        {
          "output_type": "display_data",
          "data": {
            "text/html": [
              "<html>\n",
              "<head><meta charset=\"utf-8\" /></head>\n",
              "<body>\n",
              "    <div>            <script src=\"https://cdnjs.cloudflare.com/ajax/libs/mathjax/2.7.5/MathJax.js?config=TeX-AMS-MML_SVG\"></script><script type=\"text/javascript\">if (window.MathJax && window.MathJax.Hub && window.MathJax.Hub.Config) {window.MathJax.Hub.Config({SVG: {font: \"STIX-Web\"}});}</script>                <script type=\"text/javascript\">window.PlotlyConfig = {MathJaxConfig: 'local'};</script>\n",
              "        <script charset=\"utf-8\" src=\"https://cdn.plot.ly/plotly-2.35.2.min.js\"></script>                <div id=\"84859203-4381-4ca0-bc32-eff59cf4e9e5\" class=\"plotly-graph-div\" style=\"height:525px; width:100%;\"></div>            <script type=\"text/javascript\">                                    window.PLOTLYENV=window.PLOTLYENV || {};                                    if (document.getElementById(\"84859203-4381-4ca0-bc32-eff59cf4e9e5\")) {                    Plotly.newPlot(                        \"84859203-4381-4ca0-bc32-eff59cf4e9e5\",                        [{\"hovertemplate\":\"variable=charges\\u003cbr\\u003eindex=%{x}\\u003cbr\\u003evalue=%{y}\\u003cextra\\u003e\\u003c\\u002fextra\\u003e\",\"legendgroup\":\"charges\",\"marker\":{\"color\":\"#636efa\",\"symbol\":\"circle\"},\"mode\":\"markers\",\"name\":\"charges\",\"showlegend\":true,\"x\":[1,2,3,4,5,6,7,8,9,10,12,13,15,16,17,18,20,21,22,24,25,26,27,28,31,32,33,35,36,37,40,41,42,43,44,45,46,47,48,50,51,54,56,59,60,61,62,63,65,66,67,68,71,72,73,74,75,76,77,78,79,80,81,83,87,88,89,90,91,93,95,96,97,100,101,102,104,106,107,108,110,111,112,113,114,115,116,118,119,120,121,122,124,125,127,129,130,131,132,133,134,135,136,137,138,139,140,141,143,145,147,148,149,150,151,152,154,155,159,162,163,164,165,166,167,168,169,170,171,172,173,174,176,177,178,179,180,181,182,183,184,186,187,188,189,190,191,192,193,194,195,196,197,198,199,200,201,202,204,205,206,208,209,210,211,212,213,214,215,216,217,218,219,220,221,222,225,226,227,228,229,230,231,232,233,234,236,237,239,241,242,243,245,246,247,248,249,253,255,257,258,260,264,267,268,269,270,272,273,274,275,276,277,278,279,282,283,284,285,286,287,289,290,291,293,294,295,299,300,302,303,304,305,306,307,308,309,310,311,313,315,316,317,318,319,320,321,323,324,325,326,329,332,333,334,335,336,337,339,340,341,342,343,344,345,346,347,348,349,350,351,352,353,354,355,356,357,358,359,360,361,363,364,365,366,367,368,369,370,371,372,374,378,379,382,383,384,385,386,387,388,389,390,391,392,393,394,395,396,397,398,399,400,401,402,403,404,405,406,407,408,409,410,413,414,415,416,418,423,424,425,426,427,428,429,430,431,432,433,434,435,436,437,438,439,440,442,443,445,446,447,448,449,450,451,452,453,454,455,456,457,458,459,460,462,463,464,466,467,468,469,470,471,472,473,477,478,479,480,481,482,483,484,485,486,487,489,490,491,492,493,495,496,497,498,499,501,504,505,506,507,508,509,510,511,512,513,515,516,517,518,519,520,521,522,523,525,526,527,528,529,531,532,533,534,535,536,537,538,539,540,541,542,544,546,547,548,550,551,552,553,554,555,556,557,559,560,561,562,563,564,565,566,567,568,570,571,572,573,574,575,576,578,579,580,581,582,583,584,585,586,588,589,590,591,592,594,595,596,597,598,599,600,601,602,603,605,606,608,610,611,612,613,614,616,619,620,622,624,625,626,627,628,630,631,632,633,634,635,636,637,639,640,642,643,644,645,646,647,648,649,650,651,652,653,654,656,657,658,659,660,661,662,663,666,669,670,671,672,673,675,676,678,679,680,681,683,684,685,686,687,688,690,691,692,693,694,695,696,698,699,700,701,702,703,704,705,707,708,709,710,711,712,713,714,715,716,717,718,719,720,721,722,723,724,726,728,729,731,732,733,734,735,737,740,743,744,745,746,747,748,749,751,752,753,754,755,756,758,760,761,763,764,765,766,767,768,769,770,771,772,774,775,776,777,778,779,781,782,784,785,786,787,788,789,790,791,792,794,796,797,798,800,801,802,804,805,806,807,808,809,810,811,812,813,814,815,816,817,820,821,822,823,824,825,829,830,831,832,833,834,835,836,837,838,839,840,841,844,846,847,848,849,851,853,855,858,859,861,862,863,864,865,866,867,868,869,870,871,872,873,874,875,876,877,878,879,880,881,882,884,887,888,889,891,892,894,895,897,898,899,900,902,903,904,905,906,907,908,910,912,913,914,915,918,919,920,921,922,923,924,925,926,927,928,929,930,931,932,933,934,935,936,937,938,939,940,941,942,943,944,945,946,948,950,952,955,957,959,960,961,962,963,964,965,967,968,969,970,971,972,973,974,976,977,978,979,980,981,983,984,985,986,987,988,990,991,992,993,995,996,997,998,999,1002,1003,1004,1005,1006,1008,1009,1010,1012,1013,1014,1015,1016,1017,1018,1019,1020,1023,1024,1025,1027,1028,1029,1032,1034,1035,1038,1039,1041,1043,1044,1046,1048,1050,1051,1052,1054,1055,1056,1057,1058,1059,1060,1061,1063,1064,1065,1066,1067,1068,1069,1071,1072,1073,1074,1075,1076,1077,1079,1080,1081,1082,1083,1084,1086,1087,1088,1089,1091,1092,1094,1095,1097,1098,1099,1101,1102,1103,1104,1105,1106,1107,1108,1109,1110,1113,1114,1115,1116,1119,1121,1123,1125,1126,1127,1128,1129,1130,1131,1132,1133,1134,1135,1136,1137,1138,1140,1141,1142,1143,1144,1145,1147,1148,1149,1150,1151,1153,1154,1155,1157,1158,1159,1160,1161,1162,1163,1164,1165,1166,1167,1168,1169,1172,1173,1174,1175,1177,1178,1180,1181,1182,1183,1185,1187,1189,1190,1191,1192,1193,1194,1195,1197,1198,1199,1200,1201,1202,1203,1205,1206,1209,1210,1211,1212,1213,1214,1215,1216,1217,1219,1220,1221,1222,1224,1225,1226,1227,1228,1229,1232,1233,1234,1235,1236,1237,1238,1239,1242,1243,1244,1245,1246,1247,1248,1251,1253,1254,1255,1256,1257,1258,1259,1260,1261,1262,1263,1264,1266,1268,1269,1270,1271,1272,1273,1275,1276,1277,1279,1280,1283,1285,1286,1287,1289,1290,1292,1293,1294,1295,1296,1297,1298,1299,1302,1305,1309,1310,1311,1312,1315,1316,1317,1318,1319,1320,1322,1324,1325,1326,1327,1328,1329,1330,1331,1332,1333,1334,1335,1336],\"xaxis\":\"x\",\"y\":[-993.507574396516,-942.0870027085139,15256.677043135489,-2593.6894540333124,-2436.6741412021133,-1961.4398336701106,-515.2836181893108,-1390.3785181893109,14979.622706693095,-1868.4814642149136,-2228.4614385525147,-1783.8007619821074,-1149.071787227715,-1008.1867106573081,-1660.132888552515,-2272.1335619821075,-714.6672633069065,-1776.3108283709125,-1582.048874396516,-1592.8874681893112,324.86849952429293,-293.4258018005039,-338.6373991509063,-1280.112288552515,-520.8700243965159,1701.4882127722844,-975.163051800504,-1360.8750372277152,1134.181311030692,-2554.751177046114,-1276.4913513837146,-1243.537041202113,-2593.307669514111,-1483.0302181893112,-1984.3666310205099,8023.013860849094,674.2964756034839,-1834.6267027085141,-1313.6175133069064,-507.9291243965163,59.02208710988498,-538.8568566829099,198.352362355492,-1005.5188296957122,-794.0652951765096,-85.13986421491336,15154.108305368296,-1257.9073527085147,-1243.0947872277152,24.308873861893517,-2209.1581066829103,-2678.4318566829106,606.1622587978864,-331.0458234885082,-1462.3904876445085,-1940.6776080077098,-1785.106574813306,-1711.3848155397131,-1988.336912890115,-1033.034575721315,-2294.7605195141114,-1752.0825912021137,-1999.489370838909,297.1344406674907,-1801.3425619821082,-2175.3628336701104,-1524.6924491509071,-1493.8325128901151,-1130.6397734885086,-1533.2860925269115,-1624.6652027085142,-234.70073631970808,-2380.985449150907,-2679.6578695141106,-2280.9574283709126,18625.78682560348,-1991.1894796957122,-654.7897872277154,-979.7469270461143,-2791.6783155397134,-1514.7670363197085,-725.9116491509067,-3150.030218189311,-1116.072812890115,-317.2059606573075,16316.481346693094,-2027.690987644508,-2402.4468721637095,-1110.357918189311,-1927.1946080077096,-1013.4353743965162,-996.0824500589151,-354.2694965013088,-1471.6520270461142,-2170.9849106573074,-1981.6331310205105,-860.8203504757075,-594.404526138107,-909.2038234885094,-1353.744337227715,-796.346550058915,-1632.3740257213149,-1724.8667872277151,-1742.370275721315,14982.713123680292,-1621.323525721315,20380.86230030429,-1366.5020770461142,12499.078084460287,-520.5412155397134,-1660.6662978261083,-1113.0771234885087,-1143.7897872277151,-2137.0756925269116,-2946.8922593325096,-126.20110403331273,-1521.34655668291,-2718.8308080077104,8478.358295005091,-1889.4687363197081,-1308.4106540333123,-2768.642618189311,-62.192496501309506,1577.072299941085,-331.7472040333123,-267.029037227715,-296.39513987731334,-1339.8706518005056,-2887.0961721637086,-1024.2634743965161,-2016.2443925269117,-1467.1158013837144,-1608.1754810205102,-1903.9247363197082,-1378.7504336701095,-327.49641951411104,-1673.137337644508,-1087.238674396516,217.36697427868512,-2248.05370800771,-1936.1045080077101,-875.0743770461145,-600.3958283709126,-2089.823869514111,-735.8820155397134,-1653.1578261381073,-2645.674305358112,-2452.1486642149134,-830.1765619821072,-1581.590174396516,-1346.745687227715,-2681.572043851711,-1417.9515208389093,-1894.0214978261083,-110.99316463170544,-855.632887227715,-1865.3755593325095,-931.3055633069052,-3054.9244336701104,-1053.8138027085142,-1932.9663004757058,-864.3119518005042,-1988.4262566829102,-1273.4877000589152,-435.8197066829098,-784.8503513837145,-1992.2597796957125,-1414.7545208389092,-1494.0128695141111,-1717.1308234885091,-2640.5640898773136,-1464.0743770461145,20759.214488616286,-1982.5714796957127,-1507.8873234885086,-1207.020654033312,-620.1014491509068,-2702.0536027085145,10818.320852355493,-1507.609219514111,-1244.0219465013088,-1689.3907323453104,325.0213995242939,-1258.523787227715,-1342.4373004757072,-1621.0951438517113,-1103.2931743965162,-1730.0906412021131,-2514.86020800771,-1373.7189168645118,22552.864920849097,-1401.66895668291,12136.457773680293,-1294.8108133069054,-2335.6199513837146,-1154.214787227715,-1618.2396655397133,-863.5560898773138,440.06270084909374,-2663.0576310205106,-18.17414782610831,-1571.8563876445078,8390.225836511492,914.3667495242935,-2493.727520838909,-1721.2955721637081,-999.623574396516,-1600.0823695141107,-1653.3626349949081,-2066.6327642149135,-753.4373465013086,-182.6109372277151,-1637.586525721315,-747.4742004757063,-1683.1425978261086,-1688.9202783709125,-728.1655991509069,-2179.602910657308,-2459.9196336701098,-769.1041336701091,-489.068151800504,14187.298129342691,-2219.5310027085143,14619.009594460285,-1631.303725721315,-683.6752642149136,-1014.4917743965161,-1487.0320593325105,-782.7978053581119,-609.0116619821074,-1042.0870027085139,-495.5604748133064,13783.555584460288,14786.122127291485,-1775.0181283709126,-1464.4220376445082,-1116.6284695141112,-2826.551084994908,-1248.9327872277152,-2879.3677721637087,-2082.7534106573075,-2435.7601349949073,-1904.9554863197081,-2246.33705800771,-1792.9370040333124,-2100.289179695712,19814.612162953883,-1575.4669248133068,-2792.7069155397135,-1998.3300066829106,-1562.4111898773135,-2660.9579106573074,-781.7277261381059,-1216.139411982107,9744.29382482349,-1189.7068646317057,-1800.935613306905,-540.3455389693081,-1969.3906336701093,14632.666818616286,-1125.9122389693075,-726.4197133069065,-763.4106018005041,-26.56987216370908,-810.7430796957124,-1837.7940668645115,-1867.5718836701108,-2051.5035053581123,-1350.5751372277152,-1311.1602748133064,-2338.941084994907,-2371.8438283709124,5677.085533135489,11413.977875603483,14401.01893632989,-1257.914333670109,-848.9476465013086,-2218.022538552515,-1111.549774396516,-693.2782593325101,-2511.2213925269116,-923.027612890115,-340.2965128901151,-1225.4289721637087,555.7464380178917,-1115.9726323453096,-1551.2627580077096,762.8081256034839,-795.7250261381068,-1112.4807748133062,-1493.6163323453102,-1862.029000058915,1443.1979853682933,12522.972691030693,8174.219270849093,-1415.3737925269115,-1364.9959580077102,-1724.4497872277152,-1552.6048876445075,19013.617855005094,-1680.2352770461143,295.52654861628525,0.34349066749018675,-848.2380872277149,-1772.4667093325097,-1713.6366721637096,-791.0244336701107,-2675.3229836701103,-878.2796951765085,13065.691097109884,-24.07786463170487,-1087.391574396516,-2273.4769978261083,-2385.3585465013093,-319.84051463170545,-734.3161721637098,-2933.096741202113,-408.62271065730783,-2542.6956668645116,-1929.6073465013087,-1411.5093310205102,-2386.0909540333123,-1364.968587227715,490.293735785086,-851.4072872277152,-2054.556095176509,-2664.5719106573088,-594.2294646317059,-1862.4071642149133,-1768.19725933251,-145.91462083890838,-1508.9677810205103,4604.674944603485,-353.3507628901152,13680.452310122688,20096.646542772287,-752.3882655397138,-3163.31078234531,-1305.319213306906,-1949.7056912021135,-23.691313306906522,-1533.2588257213151,-1335.4453925269117,787.0115893426919,-1959.7276770461144,-1455.0275412021128,-1569.663974396516,14611.632359524292,-2589.6965208389092,-1212.5146133069065,-1420.497061982107,-2687.5919566829098,-2499.9623925269116,-819.0200438517113,-1893.8061283709126,-2352.9393513837144,-1484.0260500589152,-1774.155954033312,8120.735099524294,-725.3000491509065,-1300.9924248133066,-2273.1065619821075,-915.8659566829101,-622.2974721637092,752.3120110306918,-1709.1009119821083,-1354.272537227715,-718.8212133069064,-231.1407619821075,17897.379397291486,-517.9627743965161,-2627.2617898773133,-515.5880243965162,-1241.8437872277152,10409.50608349869,-2055.4085142149133,-1986.502112890115,-2231.0190385525148,809.9277981994946,-1699.0742721637089,-1096.871374396516,-1658.2059978261095,-1173.4982593325094,-1846.2723912021129,135.33056368029247,-1732.3727872277152,-1610.7924234885086,-1237.5347872277152,10302.328133861894,-522.5866743965162,-1636.7141261381057,-1286.535000058915,-1261.6487412021133,-1906.8125208389092,-1456.4314080077093,-1007.1520389693069,-2562.913995176509,-2089.6534310205107,-999.9259681893109,-1144.7870257213149,-443.71111289011515,-1278.3400513837146,-1686.487474813306,-1111.5176619821086,-2625.8856898773133,-2176.947197826108,-1730.0097872277152,-2046.2613876445084,24470.731049941085,-1521.3174708389088,-2021.526392526911,-2335.536491202113,14385.550175005093,-2466.3668540333124,-1671.9691478261084,-2666.4214310205107,8763.574975603484,21073.371402772285,-1677.2489978261092,-1859.1206836701094,-1011.058474396516,-434.5353389693082,-750.3793004757063,11417.916311810688,-1181.3946646317054,-1996.91138102051,-755.4155668645117,-1376.9434336701106,-1968.93193367011,15273.27024651149,-798.5944796957119,-197.16960005891497,-858.056951800505,-2108.520836319707,-2122.7023527085144,-801.5997363197075,-1376.1802142149136,-1354.7019518005054,-2487.6199540333123,-1520.894038969307,-617.8662106573083,13289.098415785085,-1543.8750027085143,-1867.4398336701106,-3059.862579695712,-1339.8790872277152,-1008.1909336701101,-1416.0875363197083,-2630.2780898773135,-2212.2947849949087,82.19892560348399,-857.877737227715,-1690.4807810205102,-1609.061769514111,549.1278278362915,-2432.0037412021134,-499.61477439651617,-1172.4100283709122,17141.98902103069,82.28957518669267,-1186.1180876445069,-2123.055925721315,-2080.992910657307,-1383.3109142149137,-762.2729004757075,-1346.745687227715,-1975.016343851711,11165.694855966687,-1743.492787227715,-1948.1912668645118,340.40303710988474,-575.1252261381069,-2087.20703102051,-1566.5743876445085,-2041.2090465013098,-687.0870000589152,-3156.6204695141114,-1378.04368367011,-1492.7245823453104,-1400.196979695712,-1958.781695176509,21666.44897934269,-1086.015474396516,-2364.1383478261087,-1803.9835619821079,1072.617635368295,-2254.711997826109,-1565.6798398773135,-956.4548027085148,-1921.5870465013086,-1492.4941310205104,-511.36242439651596,-242.0044796957127,-1373.4877000589152,-1216.4035119821074,-1893.6256491509066,-2266.7008283709124,-1821.6061721637088,-1546.6511504757073,-1922.3332155397134,-780.9491053581123,4598.921303135488,-2043.0643876445083,-1986.9258234885092,-2344.7383513837144,-2292.1282155397134,-1425.1760066829102,-2146.9279978261093,-601.5777646317056,-277.19688722771525,17652.754867473086,74.63683801789193,-61.550566864510984,-1066.8982761381067,411.316961447485,9405.86277482349,-595.391059332509,-2207.718243851711,-346.25165668291083,-1006.832874396516,-978.0630376445079,-1202.8879721637095,-1493.0608234885094,-2455.90455933251,-1407.2485208389098,-1431.7343004757058,-1446.7271770461143,-1065.5876398773134,15655.733030667488,1252.6306751866941,-1361.1655181893111,9050.669635186692,-1311.9920540333123,-1582.660474396516,-2300.320172163709,-2098.3000566829105,-1088.4645283709124,-1715.2025155397132,-3129.8093053581124,-2680.4640695141106,-2711.994270838909,-121.46874915090666,-510.97156198210723,-846.992972163709,-935.5376128901153,-1744.0487872277151,-2209.3000234885094,-1961.7715668645114,-828.3949234885094,-1403.3880323453104,-3159.78685668291,15767.30162349869,-1416.6932128901149,-2401.0933465013086,-891.3286500589152,-1969.5849013837146,-1546.3010898773136,-1655.8060270461142,17113.71053651149,-1898.2728119821077,-554.6921385525152,-1500.254312890115,-1729.3295349949076,-2568.4615234885096,-1609.7045796957118,-1538.343796501309,-1352.7555668645118,-739.3340721637087,-80.06469120211295,-2060.5337053581125,-991.5198743965161,-1163.8044849949074,-1089.4435451765094,-1269.1044000589152,-1865.0513513837145,-1796.5432133069062,-1436.7852721637082,-830.9094133069066,-690.1396978261091,-1177.402787644507,-1662.5935978261095,-808.2308234885095,-1498.6540389693073,-1723.059787227715,-1164.8908349949088,-2201.098919514111,-501.458674396516,-2084.4306695141113,-2007.3588234885083,-87.62635138371479,-1289.2769093325096,330.9566995242931,-1419.8828721637092,-1372.7201770461143,-1330.296870838909,-2435.4509412021134,-2443.815184994908,-1360.6652349949072,4742.806360304288,-1359.0263372277152,-1912.3713465013097,-2329.0407527085144,-1614.448362890115,-801.9739146317061,-1575.2340876445069,12805.872728616287,-1162.0261912021133,-345.47204385171153,-497.31912837091204,137.7026742786852,-1638.349438552515,-2053.4913898773134,-839.7122708389088,-1299.143724813306,-2406.514346501309,-2082.3917823453103,-693.4788646317047,-1130.79588102051,13730.524453861894,-921.9918234885081,3129.6780119922896,-1604.043869514111,-977.7822978261083,-1611.83895668291,-2486.376570838909,-1327.9115925269116,-2202.961623488509,-1572.2632743965162,-2152.112697826109,-1842.7813412021133,-848.1133925269114,-1202.346763306905,-1603.488212890115,-449.2190655397135,-1020.0512389693067,-2669.0620438517108,-1733.9017872277152,-1056.1433257213148,-1121.7952438517113,-1659.8810283709126,-1206.5227783709124,-1560.875387644508,-2086.31158234531,-698.6635646317063,-1417.7266128901151,-2239.428538552515,-2202.9226708389087,19878.19903331709,-849.426537227715,-1587.5532743965161,-1280.0096642149133,-787.1094336701099,-366.7999668645116,-1326.3088363197076,-962.6611527085142,-1945.2346053581123,-1375.628300058915,-1479.7926013837146,-457.70843855251496,-2488.8625208389094,-2176.101877046114,-1097.177174396516,-1448.3277080077096,-1419.9094133069066,1056.5748853682944,-2213.7925438517113,-1351.5049518005053,-2263.174705358112,-671.8124527085147,-1665.0822876445072,-2152.082505358112,-1972.7034823453105,-3127.307305358112,-1216.7996619821079,-860.0000425269109,-1054.0858004757065,-1994.4946128901151,-1352.329300475707,-2000.716773488508,-1665.5729978261097,-1617.2492385525152,-2150.1740898773132,-2005.6373991509063,-91.1431261381058,-343.09232348850855,-1378.213700058915,13628.359125785088,-2176.321474813307,-912.9461310205106,-337.5809991509068,-2071.4938553581123,-2755.8049978261097,-1998.1749566829103,-1577.6147743965162,-1565.6374748133076,-1081.159676138106,-198.15026421491348,-2813.2070849949087,-1464.6859770461142,-3166.1463823453105,-2551.2566951765093,-776.3921080077107,-1365.1906385525149,15136.584127836291,-74.00496686451152,-2583.5498695141114,-1484.837218189311,-344.99152572131516,-1266.2470385525148,-934.9559628901152,288.1787857850868,-2257.364505358112,-2105.458525721315,-1196.6347748133066,-285.72670535811176,-1917.1040863197086,-923.0071389693076,-1146.8801261381068,-764.7443372277153,-1084.486474396516,-868.969937227715,-2314.9173221637084,-195.76482704611408,-2877.991672163709,-1298.9252133069058,-292.85972704611413,-277.3799398773135,-2033.8110080077104,424.8080481994948,-1149.012625721315,706.4437495242928,-2040.5386080077096,-1470.2856168645112,-1849.2192513837144,-1168.8421261381063,-2017.0644925269116,-1026.890038969308,-1015.492038969307,-2575.7761310205105,-2674.631629695712,-3149.8476951765088,14062.307755005091,-72.73978722771517,-1109.4414748133077,-1007.2076389693066,-2576.029969514111,-1929.9864770461145,-2092.9890438517114,-105.0594336701106,-2586.6385208389092,-1787.152454033312,-1442.4373004757072,22441.13121199229,634.5087061482882,-415.0576743965162,-2585.127623488508,-1597.185974396516,-1721.4599849949082,-501.5907243965162,-1357.837887227715,-1495.1373389693072,-1200.3885619821085,-1972.93978234531,-2774.25733234531,-1606.8948248133074,-1398.863878370912,-2317.561641202113,8287.333668616286,17732.39175066749,-256.20093722771526,-2305.5139155397133,-270.5859518005054,-701.4563836701091,14661.574459342692,-2515.9473925269112,-2149.50625800771,-240.9380628901149,265.540756148288,-568.3826849949073,-2002.6660796957121,-1260.2368757213148,-1226.9707872277152,-2534.4293770461145,-2932.36675933251,-1954.1446770461143,-230.11247083890885,-2640.5035053581123,13177.092893680292,-2494.7032296957123,11672.111850122688,1661.5021499410846,-2042.90160800771,-990.2358451765085,18405.408329161088,-2476.216229695712,-1478.1411770461145,-919.1754810205102,-1152.601084994907,-2579.57083102051,-344.8117938517107,-912.7650438517112,-857.2924518005038,-176.04346686451117,-2261.722155358112,-2349.6033513837147,10495.655000667492,-1841.7372465013086,-1225.4102155397131,-953.2856027085145,18651.672265785084,-1580.552397826108,-2467.48325933251,22369.519033861896,-1971.27825933251,-2680.50213102051,-1551.2729004757075,-277.0648372277151,-869.1251770461145,155.27011368029162,22498.143907109883,-2739.680997826108,-1008.033074396516,-1899.4165465013084,-1500.6296128901151,17540.077851447488,-2489.588736319707,-918.8091181893114,-1788.524128370912,-1260.6919261381063,-245.54273631970864,-1537.220325721315,19507.350852772288,-1014.3597243965162,-2230.095002708514,-1213.2040991509075,-2075.234495176509,-995.6314142149135,-1644.3961580077103,-617.9519646317058,-1715.7494721637086,-1770.8297898773135,-2012.768099150906,-2459.0042593325106,7994.522849161092,-1841.5742513837145,-1997.822854033312,-2340.9714513837143,-1587.5438748133074,-981.3452553581119,50.06908446028683,-2087.5347823453103,-1758.3421593325093,-2573.873593851711,-395.40655180050453,-1411.1717363197076,-770.8054018005041,-1611.279162890115,-243.36953631970755,-739.2285633069059,-1897.7025540333125,-1917.9313465013092,-1418.5419128901149,416.27344819949576,9164.988705603484,-2006.1420040333123,-2208.13563102051,-2384.0476540333125,541.7480110306933,-1810.9193991509073,-1788.5398748133066,-2056.6123106573086,-2297.431561982108,-1320.7309491509077,-463.82443855251495,28.3179150050928,1842.1286256034841,-2113.4232257213152,11240.04324934269,-1362.6811642149137,-819.3508234885085,-2187.3883155397134,-2045.7331876445078,12623.81543181069,-2001.089136319708,-2015.6174221637084,-777.0792849949084,-1952.9631770461142,-1329.4190208389082,-827.6157363197071,-79.37915270851408,-1659.2085385525152,-1799.7833491509064,356.6177304858884,-232.61632837091202,-1854.8651336701096,13779.191320122685,-490.6527518005041,-2392.6336491509064,-1425.770992526911,7363.321890304287,-1257.4117872277152,251.01525614828824,-1430.8720898773136,7567.252865186692,-1814.4852606573077,14281.786727291485,-185.43828499490883,-2044.01360800771,-1680.7634770461145,-3023.4390668645115,-2222.997784994908,-911.2678695141112,15312.470869342693,-1993.211443851711,-1640.628084994907,-516.4136606573084,-991.9889000589151,-1815.3096491509077,-3153.3027823453103,-515.3239243965163,-1173.1771876445073,-1631.8335425269115,278.6474406674897,-301.32465535811207,10370.769411447485,-793.8376000589151,-2470.7036540333124,-1673.029495176509,-1870.8537796957125,13037.125091629088,-518.2290243965163,-1712.2309695141112,-2034.3026425269109,-2159.266174813307,-1129.3209155397135,-1789.904654033312,-1684.4362681893108,-1780.8956619821074,-1606.1947310205105,-1224.8820155397134,-1633.6945257213151,-2101.6499566829098,-1155.8150885525151,-1482.2600323453098,-1471.8696013837143,-1956.8102642149133,-1289.1448593325094,-1330.9571208389098,-633.2148389693066,9071.373011447484,-865.8954912021136,4859.686970485889,-389.855337644507,-2065.33600933251,-2059.2132912021134,15852.394872772284,-3165.9473695141114,-2204.9325066829106,-1258.5907412021133,-1598.0374181893112,-1468.8001836701096,-1732.730625721315,-1574.2139978261093,-2145.7909925269114,23234.342729524295,-1329.0933004757062,-2156.1760553581125,15231.729136148288,-1016.604574396516,-998.6839106573079,-1168.2286398773135,10170.997775603484,-3182.8747566829106,-1600.6818155397132,-526.8742310205107,-1207.8432783709122,-2005.0276566829098,-2828.3580849949085,-2007.3052695141114,-1932.1367668645116,-1423.49328102051,-1971.02158234531,-2280.292861982107,-1470.760437644507,139.6882136802924,-2063.4973876445074,-1419.0218208389088,-2157.4828270461144,-295.40655180050453,-1184.665537644507,-811.2822681893113,-1351.3665642149135,508.2156742786851,-2219.9341027085143,-1583.119174396516,223.81999729148538,-832.9825208389084,-668.6205668645116,-1085.098074396516,-1744.743787227715,7230.2857733170895,-2579.883679695712,-2659.02078234531,-101.5358478261096,-1034.0861863197078,17456.310900849094,-1607.7507106573084,-1916.3098540333121,-2114.3880027085143,-2095.592369514111,-2062.5346951765096,-632.8636221637098,-1902.7996491509075,-1373.070700058915,-1319.4805208389098,-1564.5213270461145,-1567.9931142149135,5078.047454823491,-2515.2384925269116,-2182.437474813307,-1046.1075257213151,-2103.5010040333127,-400.68916421491394,-2452.846559332509,-998.7061743965162,-1934.606546501309,-1658.923902708514,-2057.0913053581125,-2520.0588080077105,-930.1356310205101,-2005.461712890115,-900.1358836701093,-1477.8911376445085,-1288.7777000589151,-1010.134124396516,-1051.1081027085147,-1466.3241168645118,-275.48023722771495,-1381.0152642149137,-1857.9345513837143,-1989.8238695141108,-2192.12393234531,-2156.3805168645113,-2458.7834796957122,8553.271515603483,-1254.6317872277152,-1555.597174396516,12234.427777473089,-1129.586193851711,-768.2723912021129,-1496.6663389693076,-1953.4030912021135,-1067.4264761381073,-2083.0124823453098,-2160.3692978261097,18340.439801447486,-1480.3169106573077,-512.6018748133065,6740.632891447485,-393.8379106573084,-670.4767849949076,-513.0790743965163,-1089.2263743965161,-1512.861612890115],\"yaxis\":\"y\",\"type\":\"scattergl\"},{\"hovertemplate\":\"\\u003cb\\u003eOLS trendline\\u003c\\u002fb\\u003e\\u003cbr\\u003evalue = 0.0201213 * index + -13.4305\\u003cbr\\u003eR\\u003csup\\u003e2\\u003c\\u002fsup\\u003e=0.000003\\u003cbr\\u003e\\u003cbr\\u003evariable=charges\\u003cbr\\u003eindex=%{x}\\u003cbr\\u003evalue=%{y} \\u003cb\\u003e(trend)\\u003c\\u002fb\\u003e\\u003cextra\\u003e\\u003c\\u002fextra\\u003e\",\"legendgroup\":\"charges\",\"marker\":{\"color\":\"#636efa\",\"symbol\":\"circle\"},\"mode\":\"lines\",\"name\":\"charges\",\"showlegend\":false,\"x\":[1,2,3,4,5,6,7,8,9,10,12,13,15,16,17,18,20,21,22,24,25,26,27,28,31,32,33,35,36,37,40,41,42,43,44,45,46,47,48,50,51,54,56,59,60,61,62,63,65,66,67,68,71,72,73,74,75,76,77,78,79,80,81,83,87,88,89,90,91,93,95,96,97,100,101,102,104,106,107,108,110,111,112,113,114,115,116,118,119,120,121,122,124,125,127,129,130,131,132,133,134,135,136,137,138,139,140,141,143,145,147,148,149,150,151,152,154,155,159,162,163,164,165,166,167,168,169,170,171,172,173,174,176,177,178,179,180,181,182,183,184,186,187,188,189,190,191,192,193,194,195,196,197,198,199,200,201,202,204,205,206,208,209,210,211,212,213,214,215,216,217,218,219,220,221,222,225,226,227,228,229,230,231,232,233,234,236,237,239,241,242,243,245,246,247,248,249,253,255,257,258,260,264,267,268,269,270,272,273,274,275,276,277,278,279,282,283,284,285,286,287,289,290,291,293,294,295,299,300,302,303,304,305,306,307,308,309,310,311,313,315,316,317,318,319,320,321,323,324,325,326,329,332,333,334,335,336,337,339,340,341,342,343,344,345,346,347,348,349,350,351,352,353,354,355,356,357,358,359,360,361,363,364,365,366,367,368,369,370,371,372,374,378,379,382,383,384,385,386,387,388,389,390,391,392,393,394,395,396,397,398,399,400,401,402,403,404,405,406,407,408,409,410,413,414,415,416,418,423,424,425,426,427,428,429,430,431,432,433,434,435,436,437,438,439,440,442,443,445,446,447,448,449,450,451,452,453,454,455,456,457,458,459,460,462,463,464,466,467,468,469,470,471,472,473,477,478,479,480,481,482,483,484,485,486,487,489,490,491,492,493,495,496,497,498,499,501,504,505,506,507,508,509,510,511,512,513,515,516,517,518,519,520,521,522,523,525,526,527,528,529,531,532,533,534,535,536,537,538,539,540,541,542,544,546,547,548,550,551,552,553,554,555,556,557,559,560,561,562,563,564,565,566,567,568,570,571,572,573,574,575,576,578,579,580,581,582,583,584,585,586,588,589,590,591,592,594,595,596,597,598,599,600,601,602,603,605,606,608,610,611,612,613,614,616,619,620,622,624,625,626,627,628,630,631,632,633,634,635,636,637,639,640,642,643,644,645,646,647,648,649,650,651,652,653,654,656,657,658,659,660,661,662,663,666,669,670,671,672,673,675,676,678,679,680,681,683,684,685,686,687,688,690,691,692,693,694,695,696,698,699,700,701,702,703,704,705,707,708,709,710,711,712,713,714,715,716,717,718,719,720,721,722,723,724,726,728,729,731,732,733,734,735,737,740,743,744,745,746,747,748,749,751,752,753,754,755,756,758,760,761,763,764,765,766,767,768,769,770,771,772,774,775,776,777,778,779,781,782,784,785,786,787,788,789,790,791,792,794,796,797,798,800,801,802,804,805,806,807,808,809,810,811,812,813,814,815,816,817,820,821,822,823,824,825,829,830,831,832,833,834,835,836,837,838,839,840,841,844,846,847,848,849,851,853,855,858,859,861,862,863,864,865,866,867,868,869,870,871,872,873,874,875,876,877,878,879,880,881,882,884,887,888,889,891,892,894,895,897,898,899,900,902,903,904,905,906,907,908,910,912,913,914,915,918,919,920,921,922,923,924,925,926,927,928,929,930,931,932,933,934,935,936,937,938,939,940,941,942,943,944,945,946,948,950,952,955,957,959,960,961,962,963,964,965,967,968,969,970,971,972,973,974,976,977,978,979,980,981,983,984,985,986,987,988,990,991,992,993,995,996,997,998,999,1002,1003,1004,1005,1006,1008,1009,1010,1012,1013,1014,1015,1016,1017,1018,1019,1020,1023,1024,1025,1027,1028,1029,1032,1034,1035,1038,1039,1041,1043,1044,1046,1048,1050,1051,1052,1054,1055,1056,1057,1058,1059,1060,1061,1063,1064,1065,1066,1067,1068,1069,1071,1072,1073,1074,1075,1076,1077,1079,1080,1081,1082,1083,1084,1086,1087,1088,1089,1091,1092,1094,1095,1097,1098,1099,1101,1102,1103,1104,1105,1106,1107,1108,1109,1110,1113,1114,1115,1116,1119,1121,1123,1125,1126,1127,1128,1129,1130,1131,1132,1133,1134,1135,1136,1137,1138,1140,1141,1142,1143,1144,1145,1147,1148,1149,1150,1151,1153,1154,1155,1157,1158,1159,1160,1161,1162,1163,1164,1165,1166,1167,1168,1169,1172,1173,1174,1175,1177,1178,1180,1181,1182,1183,1185,1187,1189,1190,1191,1192,1193,1194,1195,1197,1198,1199,1200,1201,1202,1203,1205,1206,1209,1210,1211,1212,1213,1214,1215,1216,1217,1219,1220,1221,1222,1224,1225,1226,1227,1228,1229,1232,1233,1234,1235,1236,1237,1238,1239,1242,1243,1244,1245,1246,1247,1248,1251,1253,1254,1255,1256,1257,1258,1259,1260,1261,1262,1263,1264,1266,1268,1269,1270,1271,1272,1273,1275,1276,1277,1279,1280,1283,1285,1286,1287,1289,1290,1292,1293,1294,1295,1296,1297,1298,1299,1302,1305,1309,1310,1311,1312,1315,1316,1317,1318,1319,1320,1322,1324,1325,1326,1327,1328,1329,1330,1331,1332,1333,1334,1335,1336],\"xaxis\":\"x\",\"y\":[-13.410378522289855,-13.390257243391563,-13.370135964493272,-13.35001468559498,-13.329893406696687,-13.309772127798396,-13.289650848900104,-13.269529570001811,-13.249408291103519,-13.229287012205226,-13.189044454408643,-13.16892317551035,-13.128680617713767,-13.108559338815475,-13.088438059917182,-13.06831678101889,-13.028074223222307,-13.007952944324014,-12.987831665425723,-12.947589107629138,-12.927467828730846,-12.907346549832553,-12.887225270934263,-12.86710399203597,-12.806740155341094,-12.786618876442802,-12.76649759754451,-12.726255039747926,-12.706133760849633,-12.686012481951341,-12.625648645256465,-12.605527366358173,-12.58540608745988,-12.56528480856159,-12.545163529663297,-12.525042250765004,-12.504920971866714,-12.484799692968421,-12.464678414070129,-12.424435856273544,-12.404314577375253,-12.343950740680377,-12.303708182883792,-12.243344346188916,-12.223223067290624,-12.203101788392331,-12.18298050949404,-12.162859230595748,-12.122616672799163,-12.10249539390087,-12.08237411500258,-12.062252836104287,-12.001888999409411,-11.981767720511119,-11.961646441612826,-11.941525162714534,-11.921403883816243,-11.90128260491795,-11.881161326019658,-11.861040047121367,-11.840918768223075,-11.820797489324782,-11.80067621042649,-11.760433652629906,-11.679948537036738,-11.659827258138446,-11.639705979240153,-11.61958470034186,-11.59946342144357,-11.559220863646985,-11.518978305850402,-11.498857026952109,-11.478735748053817,-11.41837191135894,-11.398250632460648,-11.378129353562358,-11.337886795765773,-11.297644237969187,-11.277522959070897,-11.257401680172604,-11.217159122376021,-11.197037843477728,-11.176916564579436,-11.156795285681143,-11.136674006782851,-11.11655272788456,-11.096431448986268,-11.056188891189684,-11.036067612291392,-11.0159463333931,-10.995825054494807,-10.975703775596514,-10.935461217799931,-10.915339938901639,-10.875097381105055,-10.83485482330847,-10.814733544410178,-10.794612265511887,-10.774490986613595,-10.754369707715302,-10.734248428817011,-10.714127149918719,-10.694005871020426,-10.673884592122134,-10.653763313223841,-10.63364203432555,-10.613520755427258,-10.593399476528965,-10.553156918732382,-10.512914360935797,-10.472671803139214,-10.452550524240921,-10.432429245342629,-10.412307966444338,-10.392186687546046,-10.372065408647753,-10.331822850851168,-10.311701571952877,-10.231216456359709,-10.170852619664831,-10.15073134076654,-10.130610061868248,-10.110488782969956,-10.090367504071665,-10.070246225173372,-10.05012494627508,-10.030003667376787,-10.009882388478495,-9.989761109580204,-9.969639830681912,-9.949518551783619,-9.929397272885328,-9.889154715088743,-9.86903343619045,-9.848912157292158,-9.828790878393868,-9.808669599495575,-9.788548320597283,-9.768427041698992,-9.7483057628007,-9.728184483902407,-9.687941926105822,-9.667820647207531,-9.647699368309238,-9.627578089410946,-9.607456810512655,-9.587335531614363,-9.56721425271607,-9.547092973817778,-9.526971694919485,-9.506850416021194,-9.486729137122902,-9.46660785822461,-9.446486579326319,-9.426365300428026,-9.406244021529734,-9.386122742631441,-9.366001463733149,-9.325758905936565,-9.305637627038273,-9.285516348139982,-9.245273790343397,-9.225152511445105,-9.205031232546812,-9.184909953648521,-9.164788674750229,-9.144667395851936,-9.124546116953645,-9.104424838055353,-9.08430355915706,-9.064182280258768,-9.044061001360475,-9.023939722462185,-9.003818443563892,-8.9836971646656,-8.963575885767309,-8.903212049072431,-8.883090770174139,-8.862969491275848,-8.842848212377556,-8.822726933479263,-8.802605654580972,-8.78248437568268,-8.762363096784387,-8.742241817886095,-8.722120538987802,-8.681877981191219,-8.661756702292926,-8.621514144496343,-8.581271586699758,-8.561150307801466,-8.541029028903175,-8.50078647110659,-8.4806651922083,-8.460543913310007,-8.440422634411714,-8.420301355513422,-8.339816239920253,-8.29957368212367,-8.259331124327085,-8.239209845428793,-8.19896728763221,-8.118482172039041,-8.058118335344165,-8.037997056445873,-8.01787577754758,-7.997754498649289,-7.957511940852704,-7.937390661954412,-7.91726938305612,-7.897148104157829,-7.877026825259536,-7.856905546361244,-7.836784267462952,-7.81666298856466,-7.756299151869784,-7.736177872971492,-7.7160565940731995,-7.695935315174907,-7.675814036276615,-7.655692757378324,-7.615450199581739,-7.595328920683447,-7.5752076417851555,-7.5349650839885705,-7.514843805090279,-7.494722526191987,-7.414237410598819,-7.394116131700526,-7.353873573903942,-7.333752295005651,-7.313631016107358,-7.293509737209066,-7.273388458310774,-7.253267179412482,-7.23314590051419,-7.213024621615897,-7.192903342717606,-7.172782063819314,-7.132539506022729,-7.092296948226146,-7.072175669327853,-7.052054390429561,-7.031933111531269,-7.0118118326329775,-6.991690553734685,-6.971569274836392,-6.931326717039809,-6.911205438141517,-6.891084159243224,-6.8709628803449325,-6.810599043650056,-6.75023520695518,-6.730113928056888,-6.709992649158596,-6.689871370260304,-6.669750091362012,-6.649628812463719,-6.609386254667136,-6.5892649757688435,-6.569143696870551,-6.549022417972259,-6.528901139073968,-6.508779860175675,-6.488658581277383,-6.468537302379091,-6.4484160234807995,-6.428294744582507,-6.408173465684214,-6.388052186785923,-6.367930907887631,-6.347809628989339,-6.327688350091046,-6.3075670711927545,-6.287445792294463,-6.26732451339617,-6.247203234497878,-6.227081955599586,-6.206960676701295,-6.186839397803002,-6.1667181189047096,-6.126475561108126,-6.106354282209834,-6.086233003311541,-6.06611172441325,-6.045990445514958,-6.0258691666166655,-6.005747887718373,-5.985626608820081,-5.96550532992179,-5.945384051023497,-5.905141493226913,-5.824656377633745,-5.804535098735453,-5.7441712620405765,-5.724049983142285,-5.703928704243992,-5.6838074253457,-5.663686146447408,-5.643564867549117,-5.623443588650824,-5.6033223097525315,-5.58320103085424,-5.563079751955948,-5.542958473057656,-5.522837194159363,-5.502715915261072,-5.48259463636278,-5.4624733574644875,-5.442352078566195,-5.422230799667904,-5.402109520769612,-5.381988241871319,-5.361866962973027,-5.341745684074734,-5.321624405176443,-5.301503126278151,-5.281381847379858,-5.261260568481568,-5.241139289583275,-5.221018010684983,-5.20089673178669,-5.180775452888398,-5.120411616193522,-5.100290337295231,-5.0801690583969386,-5.060047779498646,-5.019805221702061,-4.919198827210602,-4.8990775483123095,-4.878956269414017,-4.858834990515724,-4.838713711617434,-4.818592432719141,-4.798471153820849,-4.778349874922558,-4.758228596024265,-4.738107317125973,-4.71798603822768,-4.697864759329388,-4.677743480431097,-4.657622201532805,-4.637500922634512,-4.617379643736221,-4.597258364837929,-4.577137085939636,-4.536894528143051,-4.5167732492447605,-4.4765306914481755,-4.456409412549885,-4.436288133651592,-4.4161668547533,-4.396045575855007,-4.375924296956715,-4.355803018058424,-4.335681739160131,-4.315560460261839,-4.295439181363548,-4.275317902465256,-4.255196623566963,-4.235075344668671,-4.214954065770378,-4.194832786872087,-4.174711507973795,-4.134468950177212,-4.114347671278919,-4.094226392380627,-4.0539838345840415,-4.033862555685751,-4.013741276787458,-3.9936199978891658,-3.973498718990875,-3.9533774400925825,-3.93325616119429,-3.9131348822959975,-3.832649766702829,-3.8125284878045385,-3.792407208906246,-3.7722859300079534,-3.752164651109661,-3.7320433722113684,-3.7119220933130777,-3.691800814414785,-3.6716795355164926,-3.651558256618202,-3.6314369777199094,-3.5911944199233243,-3.571073141025032,-3.550951862126741,-3.5308305832284486,-3.510709304330156,-3.470466746533573,-3.4503454676352803,-3.4302241887369878,-3.4101029098386952,-3.3899816309404045,-3.3497390731438195,-3.2893752364489437,-3.269253957550651,-3.2491326786523587,-3.229011399754068,-3.2088901208557754,-3.188768841957483,-3.168647563059192,-3.1485262841608996,-3.128405005262607,-3.1082837263643146,-3.0680411685677313,-3.047919889669439,-3.0277986107711463,-3.0076773318728556,-2.987556052974563,-2.9674347740762705,-2.947313495177978,-2.9271922162796855,-2.9070709373813948,-2.8668283795848097,-2.846707100686519,-2.8265858217882265,-2.806464542889934,-2.7863432639916415,-2.746100706195058,-2.7259794272967657,-2.705858148398473,-2.6857368695001824,-2.66561559060189,-2.6454943117035974,-2.625373032805305,-2.6052517539070124,-2.5851304750087216,-2.565009196110429,-2.5448879172121366,-2.524766638313846,-2.484524080517261,-2.444281522720676,-2.424160243822385,-2.4040389649240925,-2.3637964071275093,-2.3436751282292168,-2.3235538493309242,-2.3034325704326317,-2.283311291534339,-2.2631900126360485,-2.243068733737756,-2.2229474548394634,-2.18270489704288,-2.1625836181445877,-2.142462339246295,-2.1223410603480026,-2.102219781449712,-2.0820985025514194,-2.061977223653127,-2.041855944754836,-2.0217346658565436,-2.001613386958251,-1.961370829161666,-1.9412495502633753,-1.9211282713650828,-1.9010069924667903,-1.8808857135684995,-1.860764434670207,-1.8406431557719145,-1.8004005979753295,-1.7802793190770387,-1.7601580401787462,-1.7400367612804537,-1.719915482382163,-1.6997942034838704,-1.679672924585578,-1.6595516456872854,-1.639430366788993,-1.5991878089924096,-1.5790665300941171,-1.5589452511958264,-1.5388239722975339,-1.5187026933992414,-1.4784601356026563,-1.4583388567043656,-1.438217577806073,-1.4180962989077806,-1.3979750200094898,-1.3778537411111973,-1.3577324622129048,-1.3376111833146123,-1.3174899044163197,-1.297368625518029,-1.257126067721444,-1.2370047888231532,-1.1967622310265682,-1.1565196732299832,-1.1363983943316924,-1.1162771154334,-1.0961558365351074,-1.0760345576368167,-1.0357919998402316,-0.9754281631453559,-0.9553068842470633,-0.9150643264504801,-0.874821768653895,-0.8547004897556025,-0.83457921085731,-0.8144579319590193,-0.7943366530607268,-0.7540940952641435,-0.733972816365851,-0.7138515374675585,-0.693730258569266,-0.6736089796709734,-0.6534877007726827,-0.6333664218743902,-0.6132451429760977,-0.5730025851795144,-0.5528813062812219,-0.5126387484846369,-0.4925174695863461,-0.4723961906880536,-0.4522749117897611,-0.43215363289147035,-0.41203235399317784,-0.3919110750948853,-0.3717897961965928,-0.3516685172983003,-0.33154723840000955,-0.31142595950171703,-0.2913046806034245,-0.2711834017051338,-0.23094084390854874,-0.21081956501025623,-0.1906982861119637,-0.17057700721367297,-0.15045572831538045,-0.13033444941708794,-0.1102131705187972,-0.09009189162050468,-0.029728054925627134,0.030635781769248638,0.05075706066753938,0.0708783395658319,0.09099961846412441,0.11112089736241693,0.15136345515900018,0.1714847340572927,0.21172729185387595,0.23184857075216847,0.251969849650461,0.2720911285487535,0.31233368634533676,0.3324549652436293,0.3525762441419218,0.37269752304021253,0.39281880193850505,0.41294008083679756,0.4531826386333826,0.47330391753167333,0.49342519642996585,0.5135464753282584,0.5336677542265491,0.5537890331248416,0.5739103120231341,0.6141528698197192,0.6342741487180099,0.6543954276163024,0.6745167065145949,0.6946379854128857,0.7147592643111782,0.7348805432094707,0.7550018221077632,0.7952443799043465,0.815365658802639,0.8354869377009315,0.8556082165992223,0.8757294954975148,0.8958507743958073,0.9159720532940998,0.9360933321923923,0.9562146110906831,0.9763358899889756,0.9964571688872681,1.0165784477855588,1.0366997266838514,1.0568210055821439,1.0769422844804364,1.097063563378729,1.1171848422770196,1.1373061211753122,1.1775486789718954,1.2177912367684804,1.237912515666773,1.2781550734633562,1.2982763523616487,1.3183976312599412,1.338518910158232,1.3586401890565245,1.3988827468531095,1.4592465835479853,1.519610420242861,1.5397316991411536,1.5598529780394461,1.5799742569377386,1.6000955358360294,1.6202168147343219,1.6403380936326144,1.6805806514291977,1.7007019303274902,1.7208232092257827,1.7409444881240752,1.761065767022366,1.7811870459206585,1.8214296037172417,1.8616721615138268,1.8817934404121193,1.9220359982087025,1.942157277106995,1.9622785560052876,1.9823998349035783,2.002521113801871,2.0226423927001633,2.042763671598456,2.0628849504967484,2.083006229395039,2.1031275082933316,2.143370066089915,2.1634913449882074,2.1836126238865,2.2037339027847924,2.223855181683085,2.2439764605813757,2.2842190183779607,2.3043402972762514,2.3445828550728365,2.364704133971129,2.3848254128694215,2.4049466917677123,2.4250679706660048,2.4451892495642973,2.465310528462588,2.4854318073608805,2.505553086259173,2.545795644055758,2.5860382018523396,2.606159480750634,2.6262807596489246,2.6665233174455096,2.6866445963438004,2.7067658752420947,2.7470084330386797,2.7671297119369704,2.787250990835261,2.8073722697335555,2.827493548631846,2.847614827530137,2.8677361064284312,2.887857385326722,2.9079786642250127,2.928099943123307,2.9482212220215978,2.968342500919892,2.988463779818183,3.0085850587164735,3.068948895411353,3.0890701743096436,3.1091914532079343,3.1293127321062286,3.1494340110045194,3.16955528990281,3.25004040549598,3.270161684394271,3.290282963292565,3.310404242190856,3.3305255210891467,3.350646799987441,3.3707680788857317,3.390889357784026,3.4110106366823167,3.4311319155806075,3.4512531944789018,3.4713744733771925,3.4914957522754833,3.551859588970359,3.592102146766944,3.6122234256652384,3.632344704563529,3.65246598346182,3.692708541258405,3.73295109905499,3.773193656851575,3.8335574935464507,3.8536787724447414,3.8939213302413265,3.914042609139617,3.9341638880379115,3.9542851669362022,3.974406445834493,3.9945277247327873,4.014649003631078,4.034770282529372,4.054891561427663,4.075012840325954,4.095134119224248,4.115255398122539,4.13537667702083,4.155497955919124,4.175619234817415,4.195740513715705,4.215861792614,4.23598307151229,4.256104350410585,4.276225629308875,4.296346908207166,4.31646818710546,4.3567107449020455,4.417074581596921,4.437195860495212,4.457317139393503,4.497559697190088,4.5176809760883785,4.5579235338849635,4.578044812783258,4.618287370579839,4.638408649478134,4.658529928376424,4.678651207274719,4.7188937650713,4.739015043969594,4.759136322867885,4.779257601766176,4.79937888066447,4.819500159562761,4.839621438461052,4.879863996257637,4.920106554054222,4.940227832952512,4.960349111850807,4.9804703907490975,5.040834227443973,5.0609555063422675,5.081076785240558,5.101198064138849,5.121319343037143,5.141440621935434,5.161561900833725,5.181683179732019,5.20180445863031,5.221925737528604,5.242047016426895,5.262168295325186,5.28228957422348,5.302410853121771,5.322532132020065,5.342653410918356,5.362774689816646,5.382895968714941,5.403017247613231,5.423138526511522,5.4432598054098165,5.463381084308107,5.483502363206398,5.503623642104692,5.523744921002983,5.543866199901277,5.563987478799568,5.584108757697859,5.604230036596153,5.644472594392738,5.6847151521893196,5.724957709985905,5.78532154668078,5.825564104477365,5.86580666227395,5.885927941172241,5.906049220070532,5.926170498968826,5.946291777867117,5.966413056765411,5.986534335663702,6.026776893460287,6.046898172358578,6.0670194512568685,6.087140730155163,6.1072620090534535,6.127383287951744,6.1475045668500385,6.167625845748329,6.207868403544914,6.227989682443205,6.248110961341499,6.26823224023979,6.288353519138084,6.308474798036375,6.34871735583296,6.368838634731251,6.388959913629542,6.409081192527836,6.429202471426127,6.449323750324417,6.489566308121002,6.509687587019297,6.5298088659175875,6.549930144815878,6.590172702612463,6.6102939815107575,6.630415260409048,6.650536539307339,6.670657818205633,6.731021654900509,6.7511429337988,6.771264212697091,6.791385491595385,6.811506770493676,6.851749328290261,6.871870607188551,6.891991886086846,6.932234443883431,6.952355722781721,6.972477001680012,6.9925982805783065,7.012719559476597,7.032840838374888,7.052962117273182,7.073083396171473,7.093204675069764,7.153568511764643,7.173689790662934,7.1938110695612245,7.2340536273578095,7.254174906256104,7.274296185154395,7.33466002184927,7.374902579645855,7.395023858544146,7.455387695239022,7.475508974137316,7.515751531933898,7.555994089730483,7.576115368628777,7.6163579264253585,7.6566004842219435,7.6968430420185285,7.716964320916819,7.73708559981511,7.777328157611695,7.797449436509989,7.81757071540828,7.837691994306571,7.857813273204865,7.877934552103156,7.89805583100145,7.918177109899741,7.958419667696326,7.978540946594617,7.998662225492907,8.018783504391202,8.038904783289492,8.059026062187783,8.079147341086077,8.119389898882662,8.139511177780953,8.159632456679244,8.179753735577538,8.199875014475829,8.219996293374123,8.240117572272414,8.280360130068999,8.30048140896729,8.32060268786558,8.340723966763875,8.360845245662166,8.380966524560456,8.421209082357041,8.441330361255336,8.461451640153626,8.481572919051917,8.521815476848502,8.541936755746796,8.582179313543378,8.602300592441672,8.642543150238254,8.662664429136548,8.682785708034839,8.723028265831424,8.743149544729715,8.763270823628009,8.7833921025263,8.80351338142459,8.823634660322885,8.843755939221175,8.86387721811947,8.88399849701776,8.904119775916051,8.964483612610927,8.984604891509221,9.004726170407512,9.024847449305803,9.085211286000682,9.125453843797263,9.165696401593848,9.205938959390433,9.226060238288724,9.246181517187019,9.26630279608531,9.2864240749836,9.306545353881894,9.326666632780185,9.346787911678476,9.36690919057677,9.38703046947506,9.407151748373355,9.427273027271646,9.447394306169937,9.46751558506823,9.507758142864816,9.527879421763107,9.548000700661397,9.568121979559692,9.588243258457982,9.608364537356273,9.648607095152858,9.668728374051149,9.688849652949443,9.708970931847734,9.729092210746028,9.76933476854261,9.789456047440904,9.809577326339195,9.84981988413578,9.86994116303407,9.890062441932365,9.910183720830656,9.930304999728946,9.95042627862724,9.970547557525531,9.990668836423822,10.010790115322116,10.030911394220407,10.051032673118701,10.071153952016992,10.091275230915283,10.151639067610162,10.171760346508453,10.191881625406744,10.212002904305038,10.25224546210162,10.272366740999914,10.312609298796495,10.33273057769479,10.35285185659308,10.372973135491375,10.413215693287956,10.453458251084541,10.493700808881126,10.513822087779417,10.533943366677711,10.554064645576002,10.574185924474293,10.594307203372587,10.614428482270878,10.654671040067463,10.674792318965753,10.694913597864048,10.715034876762338,10.73515615566063,10.755277434558923,10.775398713457214,10.8156412712538,10.83576255015209,10.896126386846966,10.91624766574526,10.93636894464355,10.956490223541842,10.976611502440136,10.996732781338427,11.01685406023672,11.036975339135012,11.057096618033302,11.097339175829887,11.117460454728182,11.137581733626472,11.157703012524763,11.197945570321348,11.218066849219639,11.238188128117933,11.258309407016224,11.278430685914515,11.298551964812809,11.358915801507685,11.379037080405976,11.39915835930427,11.41927963820256,11.439400917100855,11.459522195999146,11.479643474897436,11.49976475379573,11.560128590490606,11.580249869388897,11.600371148287188,11.620492427185482,11.640613706083773,11.660734984982067,11.680856263880358,11.741220100575234,11.781462658371819,11.80158393727011,11.821705216168404,11.841826495066694,11.861947773964985,11.88206905286328,11.90219033176157,11.922311610659861,11.942432889558155,11.962554168456446,11.98267544735474,12.002796726253031,12.043039284049616,12.083281841846201,12.103403120744492,12.123524399642783,12.143645678541077,12.163766957439368,12.183888236337658,12.224130794134243,12.244252073032534,12.264373351930828,12.304615909727413,12.324737188625704,12.38510102532058,12.425343583117165,12.445464862015456,12.46558614091375,12.505828698710332,12.525949977608626,12.566192535405207,12.586313814303502,12.606435093201792,12.626556372100087,12.646677650998377,12.666798929896668,12.686920208794962,12.707041487693253,12.767405324388129,12.827769161083005,12.908254276676175,12.928375555574465,12.94849683447276,12.96861811337105,13.028981950065926,13.04910322896422,13.069224507862511,13.089345786760802,13.109467065659096,13.129588344557387,13.169830902353972,13.210073460150554,13.230194739048848,13.250316017947139,13.270437296845433,13.290558575743724,13.310679854642014,13.330801133540309,13.3509224124386,13.371043691336894,13.391164970235184,13.411286249133475,13.43140752803177,13.45152880693006],\"yaxis\":\"y\",\"type\":\"scattergl\"}],                        {\"template\":{\"data\":{\"histogram2dcontour\":[{\"type\":\"histogram2dcontour\",\"colorbar\":{\"outlinewidth\":0,\"ticks\":\"\"},\"colorscale\":[[0.0,\"#0d0887\"],[0.1111111111111111,\"#46039f\"],[0.2222222222222222,\"#7201a8\"],[0.3333333333333333,\"#9c179e\"],[0.4444444444444444,\"#bd3786\"],[0.5555555555555556,\"#d8576b\"],[0.6666666666666666,\"#ed7953\"],[0.7777777777777778,\"#fb9f3a\"],[0.8888888888888888,\"#fdca26\"],[1.0,\"#f0f921\"]]}],\"choropleth\":[{\"type\":\"choropleth\",\"colorbar\":{\"outlinewidth\":0,\"ticks\":\"\"}}],\"histogram2d\":[{\"type\":\"histogram2d\",\"colorbar\":{\"outlinewidth\":0,\"ticks\":\"\"},\"colorscale\":[[0.0,\"#0d0887\"],[0.1111111111111111,\"#46039f\"],[0.2222222222222222,\"#7201a8\"],[0.3333333333333333,\"#9c179e\"],[0.4444444444444444,\"#bd3786\"],[0.5555555555555556,\"#d8576b\"],[0.6666666666666666,\"#ed7953\"],[0.7777777777777778,\"#fb9f3a\"],[0.8888888888888888,\"#fdca26\"],[1.0,\"#f0f921\"]]}],\"heatmap\":[{\"type\":\"heatmap\",\"colorbar\":{\"outlinewidth\":0,\"ticks\":\"\"},\"colorscale\":[[0.0,\"#0d0887\"],[0.1111111111111111,\"#46039f\"],[0.2222222222222222,\"#7201a8\"],[0.3333333333333333,\"#9c179e\"],[0.4444444444444444,\"#bd3786\"],[0.5555555555555556,\"#d8576b\"],[0.6666666666666666,\"#ed7953\"],[0.7777777777777778,\"#fb9f3a\"],[0.8888888888888888,\"#fdca26\"],[1.0,\"#f0f921\"]]}],\"heatmapgl\":[{\"type\":\"heatmapgl\",\"colorbar\":{\"outlinewidth\":0,\"ticks\":\"\"},\"colorscale\":[[0.0,\"#0d0887\"],[0.1111111111111111,\"#46039f\"],[0.2222222222222222,\"#7201a8\"],[0.3333333333333333,\"#9c179e\"],[0.4444444444444444,\"#bd3786\"],[0.5555555555555556,\"#d8576b\"],[0.6666666666666666,\"#ed7953\"],[0.7777777777777778,\"#fb9f3a\"],[0.8888888888888888,\"#fdca26\"],[1.0,\"#f0f921\"]]}],\"contourcarpet\":[{\"type\":\"contourcarpet\",\"colorbar\":{\"outlinewidth\":0,\"ticks\":\"\"}}],\"contour\":[{\"type\":\"contour\",\"colorbar\":{\"outlinewidth\":0,\"ticks\":\"\"},\"colorscale\":[[0.0,\"#0d0887\"],[0.1111111111111111,\"#46039f\"],[0.2222222222222222,\"#7201a8\"],[0.3333333333333333,\"#9c179e\"],[0.4444444444444444,\"#bd3786\"],[0.5555555555555556,\"#d8576b\"],[0.6666666666666666,\"#ed7953\"],[0.7777777777777778,\"#fb9f3a\"],[0.8888888888888888,\"#fdca26\"],[1.0,\"#f0f921\"]]}],\"surface\":[{\"type\":\"surface\",\"colorbar\":{\"outlinewidth\":0,\"ticks\":\"\"},\"colorscale\":[[0.0,\"#0d0887\"],[0.1111111111111111,\"#46039f\"],[0.2222222222222222,\"#7201a8\"],[0.3333333333333333,\"#9c179e\"],[0.4444444444444444,\"#bd3786\"],[0.5555555555555556,\"#d8576b\"],[0.6666666666666666,\"#ed7953\"],[0.7777777777777778,\"#fb9f3a\"],[0.8888888888888888,\"#fdca26\"],[1.0,\"#f0f921\"]]}],\"mesh3d\":[{\"type\":\"mesh3d\",\"colorbar\":{\"outlinewidth\":0,\"ticks\":\"\"}}],\"scatter\":[{\"fillpattern\":{\"fillmode\":\"overlay\",\"size\":10,\"solidity\":0.2},\"type\":\"scatter\"}],\"parcoords\":[{\"type\":\"parcoords\",\"line\":{\"colorbar\":{\"outlinewidth\":0,\"ticks\":\"\"}}}],\"scatterpolargl\":[{\"type\":\"scatterpolargl\",\"marker\":{\"colorbar\":{\"outlinewidth\":0,\"ticks\":\"\"}}}],\"bar\":[{\"error_x\":{\"color\":\"#2a3f5f\"},\"error_y\":{\"color\":\"#2a3f5f\"},\"marker\":{\"line\":{\"color\":\"#E5ECF6\",\"width\":0.5},\"pattern\":{\"fillmode\":\"overlay\",\"size\":10,\"solidity\":0.2}},\"type\":\"bar\"}],\"scattergeo\":[{\"type\":\"scattergeo\",\"marker\":{\"colorbar\":{\"outlinewidth\":0,\"ticks\":\"\"}}}],\"scatterpolar\":[{\"type\":\"scatterpolar\",\"marker\":{\"colorbar\":{\"outlinewidth\":0,\"ticks\":\"\"}}}],\"histogram\":[{\"marker\":{\"pattern\":{\"fillmode\":\"overlay\",\"size\":10,\"solidity\":0.2}},\"type\":\"histogram\"}],\"scattergl\":[{\"type\":\"scattergl\",\"marker\":{\"colorbar\":{\"outlinewidth\":0,\"ticks\":\"\"}}}],\"scatter3d\":[{\"type\":\"scatter3d\",\"line\":{\"colorbar\":{\"outlinewidth\":0,\"ticks\":\"\"}},\"marker\":{\"colorbar\":{\"outlinewidth\":0,\"ticks\":\"\"}}}],\"scattermapbox\":[{\"type\":\"scattermapbox\",\"marker\":{\"colorbar\":{\"outlinewidth\":0,\"ticks\":\"\"}}}],\"scatterternary\":[{\"type\":\"scatterternary\",\"marker\":{\"colorbar\":{\"outlinewidth\":0,\"ticks\":\"\"}}}],\"scattercarpet\":[{\"type\":\"scattercarpet\",\"marker\":{\"colorbar\":{\"outlinewidth\":0,\"ticks\":\"\"}}}],\"carpet\":[{\"aaxis\":{\"endlinecolor\":\"#2a3f5f\",\"gridcolor\":\"white\",\"linecolor\":\"white\",\"minorgridcolor\":\"white\",\"startlinecolor\":\"#2a3f5f\"},\"baxis\":{\"endlinecolor\":\"#2a3f5f\",\"gridcolor\":\"white\",\"linecolor\":\"white\",\"minorgridcolor\":\"white\",\"startlinecolor\":\"#2a3f5f\"},\"type\":\"carpet\"}],\"table\":[{\"cells\":{\"fill\":{\"color\":\"#EBF0F8\"},\"line\":{\"color\":\"white\"}},\"header\":{\"fill\":{\"color\":\"#C8D4E3\"},\"line\":{\"color\":\"white\"}},\"type\":\"table\"}],\"barpolar\":[{\"marker\":{\"line\":{\"color\":\"#E5ECF6\",\"width\":0.5},\"pattern\":{\"fillmode\":\"overlay\",\"size\":10,\"solidity\":0.2}},\"type\":\"barpolar\"}],\"pie\":[{\"automargin\":true,\"type\":\"pie\"}]},\"layout\":{\"autotypenumbers\":\"strict\",\"colorway\":[\"#636efa\",\"#EF553B\",\"#00cc96\",\"#ab63fa\",\"#FFA15A\",\"#19d3f3\",\"#FF6692\",\"#B6E880\",\"#FF97FF\",\"#FECB52\"],\"font\":{\"color\":\"#2a3f5f\"},\"hovermode\":\"closest\",\"hoverlabel\":{\"align\":\"left\"},\"paper_bgcolor\":\"white\",\"plot_bgcolor\":\"#E5ECF6\",\"polar\":{\"bgcolor\":\"#E5ECF6\",\"angularaxis\":{\"gridcolor\":\"white\",\"linecolor\":\"white\",\"ticks\":\"\"},\"radialaxis\":{\"gridcolor\":\"white\",\"linecolor\":\"white\",\"ticks\":\"\"}},\"ternary\":{\"bgcolor\":\"#E5ECF6\",\"aaxis\":{\"gridcolor\":\"white\",\"linecolor\":\"white\",\"ticks\":\"\"},\"baxis\":{\"gridcolor\":\"white\",\"linecolor\":\"white\",\"ticks\":\"\"},\"caxis\":{\"gridcolor\":\"white\",\"linecolor\":\"white\",\"ticks\":\"\"}},\"coloraxis\":{\"colorbar\":{\"outlinewidth\":0,\"ticks\":\"\"}},\"colorscale\":{\"sequential\":[[0.0,\"#0d0887\"],[0.1111111111111111,\"#46039f\"],[0.2222222222222222,\"#7201a8\"],[0.3333333333333333,\"#9c179e\"],[0.4444444444444444,\"#bd3786\"],[0.5555555555555556,\"#d8576b\"],[0.6666666666666666,\"#ed7953\"],[0.7777777777777778,\"#fb9f3a\"],[0.8888888888888888,\"#fdca26\"],[1.0,\"#f0f921\"]],\"sequentialminus\":[[0.0,\"#0d0887\"],[0.1111111111111111,\"#46039f\"],[0.2222222222222222,\"#7201a8\"],[0.3333333333333333,\"#9c179e\"],[0.4444444444444444,\"#bd3786\"],[0.5555555555555556,\"#d8576b\"],[0.6666666666666666,\"#ed7953\"],[0.7777777777777778,\"#fb9f3a\"],[0.8888888888888888,\"#fdca26\"],[1.0,\"#f0f921\"]],\"diverging\":[[0,\"#8e0152\"],[0.1,\"#c51b7d\"],[0.2,\"#de77ae\"],[0.3,\"#f1b6da\"],[0.4,\"#fde0ef\"],[0.5,\"#f7f7f7\"],[0.6,\"#e6f5d0\"],[0.7,\"#b8e186\"],[0.8,\"#7fbc41\"],[0.9,\"#4d9221\"],[1,\"#276419\"]]},\"xaxis\":{\"gridcolor\":\"white\",\"linecolor\":\"white\",\"ticks\":\"\",\"title\":{\"standoff\":15},\"zerolinecolor\":\"white\",\"automargin\":true,\"zerolinewidth\":2},\"yaxis\":{\"gridcolor\":\"white\",\"linecolor\":\"white\",\"ticks\":\"\",\"title\":{\"standoff\":15},\"zerolinecolor\":\"white\",\"automargin\":true,\"zerolinewidth\":2},\"scene\":{\"xaxis\":{\"backgroundcolor\":\"#E5ECF6\",\"gridcolor\":\"white\",\"linecolor\":\"white\",\"showbackground\":true,\"ticks\":\"\",\"zerolinecolor\":\"white\",\"gridwidth\":2},\"yaxis\":{\"backgroundcolor\":\"#E5ECF6\",\"gridcolor\":\"white\",\"linecolor\":\"white\",\"showbackground\":true,\"ticks\":\"\",\"zerolinecolor\":\"white\",\"gridwidth\":2},\"zaxis\":{\"backgroundcolor\":\"#E5ECF6\",\"gridcolor\":\"white\",\"linecolor\":\"white\",\"showbackground\":true,\"ticks\":\"\",\"zerolinecolor\":\"white\",\"gridwidth\":2}},\"shapedefaults\":{\"line\":{\"color\":\"#2a3f5f\"}},\"annotationdefaults\":{\"arrowcolor\":\"#2a3f5f\",\"arrowhead\":0,\"arrowwidth\":1},\"geo\":{\"bgcolor\":\"white\",\"landcolor\":\"#E5ECF6\",\"subunitcolor\":\"white\",\"showland\":true,\"showlakes\":true,\"lakecolor\":\"white\"},\"title\":{\"x\":0.05},\"mapbox\":{\"style\":\"light\"}}},\"xaxis\":{\"anchor\":\"y\",\"domain\":[0.0,1.0],\"title\":{\"text\":\"index\"}},\"yaxis\":{\"anchor\":\"x\",\"domain\":[0.0,1.0],\"title\":{\"text\":\"value\"}},\"legend\":{\"title\":{\"text\":\"variable\"},\"tracegroupgap\":0},\"margin\":{\"t\":60}},                        {\"responsive\": true}                    ).then(function(){\n",
              "                            \n",
              "var gd = document.getElementById('84859203-4381-4ca0-bc32-eff59cf4e9e5');\n",
              "var x = new MutationObserver(function (mutations, observer) {{\n",
              "        var display = window.getComputedStyle(gd).display;\n",
              "        if (!display || display === 'none') {{\n",
              "            console.log([gd, 'removed!']);\n",
              "            Plotly.purge(gd);\n",
              "            observer.disconnect();\n",
              "        }}\n",
              "}});\n",
              "\n",
              "// Listen for the removal of the full notebook cells\n",
              "var notebookContainer = gd.closest('#notebook-container');\n",
              "if (notebookContainer) {{\n",
              "    x.observe(notebookContainer, {childList: true});\n",
              "}}\n",
              "\n",
              "// Listen for the clearing of the current output cell\n",
              "var outputEl = gd.closest('.output');\n",
              "if (outputEl) {{\n",
              "    x.observe(outputEl, {childList: true});\n",
              "}}\n",
              "\n",
              "                        })                };                            </script>        </div>\n",
              "</body>\n",
              "</html>"
            ]
          },
          "metadata": {}
        }
      ]
    },
    {
      "cell_type": "markdown",
      "metadata": {
        "id": "eaf4b75b"
      },
      "source": [
        " **Завдання 2.** Навчіть модель лінійної регресії з допомогою sklearn оцінювати розмір медичних збори для **курців** за їх віком.\n",
        "Виведіть\n",
        "- точність моделі\n",
        "-  коефіцієнти\n",
        "-  візуалізуйте модель у вигляді лінії на графіку розсіювання `age` проти `charges`\n",
        "\n",
        "і зробіть висновки, чи це хороша модель, чи ви б її використовували в компанії?"
      ]
    },
    {
      "cell_type": "code",
      "execution_count": null,
      "metadata": {
        "id": "56e996b8"
      },
      "outputs": [],
      "source": []
    }
  ]
}