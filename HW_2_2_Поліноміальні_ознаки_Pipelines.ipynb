{
  "nbformat": 4,
  "nbformat_minor": 0,
  "metadata": {
    "colab": {
      "provenance": [],
      "include_colab_link": true
    },
    "kernelspec": {
      "name": "python3",
      "display_name": "Python 3"
    },
    "language_info": {
      "name": "python"
    }
  },
  "cells": [
    {
      "cell_type": "markdown",
      "metadata": {
        "id": "view-in-github",
        "colab_type": "text"
      },
      "source": [
        "<a href=\"https://colab.research.google.com/github/Daria-Lytvynenko/ML_course/blob/main/HW_2_2_%D0%9F%D0%BE%D0%BB%D1%96%D0%BD%D0%BE%D0%BC%D1%96%D0%B0%D0%BB%D1%8C%D0%BD%D1%96_%D0%BE%D0%B7%D0%BD%D0%B0%D0%BA%D0%B8_Pipelines.ipynb\" target=\"_parent\"><img src=\"https://colab.research.google.com/assets/colab-badge.svg\" alt=\"Open In Colab\"/></a>"
      ]
    },
    {
      "cell_type": "markdown",
      "source": [
        "В цьому домашньому завданні ми проведемо додаткові експерименти для рішення задачі бінарної класифікації і створимо ваш новий submission на змагання на Kaggle.\n",
        "\n",
        "-----------\n",
        "\n",
        "\n",
        "**Завдання 0**. Завантажте дані `train.csv`, `test.csv`, `sample_submission.csv` зі змагання на Kaggle [\"Bank Customer Churn Prediction (DLU Course)\"](https://www.kaggle.com/competitions/bank-customer-churn-prediction-dlu-course-c-2). Для завантаження потрібно долучитись до змагання (натиснути кнопку \"Join\").\n",
        "\n",
        "**Завдання 1**. **Збираємо весь код з попереднього ДЗ в одному місці.** В лекційному ноутбуці `Логістична регресія з ScikitLearn. Повна ML задача.ipynb` ми познайомились з поняттям пайплайнів, а також я показала, як компактно виглядає рішення МЛ задачі, якщо ми зберемо весь код разом.\n",
        "\n",
        "Оскільки ми далі будемо робити експерименти, які включають ті самі етапи попередньої обробки, але інше моделювання - буде зручно мати весь код компактно і під рукою. Тому зараз ми займемось збором коду до купи :) Після цього завдання для подальших експериментів ви можете перенести частини розвʼязку взагалі в окремий `.py` файл, аби було зручно імпортувати функції.\n",
        "\n",
        "Зі свого рішення в попередньому домашньому завданні (`Логістична регресія з scikit learn.ipynb`) зберіть усі кроки розвʼязку задачі разом з використанням `sklearn.Pipeline` за прикладом з лекції.\n",
        "\n",
        "Ваш код нижче має містити\n",
        "1. Читання даних з файлу (поза пайплайном).\n",
        "2. Розбиття на тренувальний і валідаційний набори, де валідаційний містить 20% даних (поза пайплайном).\n",
        "3. Виділення категоріальних і числових колонок (поза пайплайном).\n",
        "4. Підготовку категоріальних і числових колонок (частина пайплайну). В прикладі в лекції ми оформлювали обробку числових і категоріальних колонок в окремі трансформери `numeric_transformer`, `categorical_cols`. Рекоемндую зробити саме так, так потім зручніше вносити зміни :)\n",
        "5. Тренування лог регресії (частина пайплайну).\n",
        "6. Запуск пайплайну на тренування на трен. даних (поза пайплайном).\n",
        "7. Запуск пайплайну на передбачення на трен і вал. даних і вимір метрик якості ROC-AUC + вивдення Confusion Matrix (поза пайплайном).\n",
        "8. Збереження моделі в формат joblib (поза пайплайном).\n",
        "\n",
        "Ви це все вже зробили в попереднтьому ДЗ! Тож, тут просто заадча все зібрати разом.\n",
        "\n",
        "Нижче я додала підказки, що покроково ви маєте зробити. Якщо ви почуваєтесь впевнено, можете видалити ці підказки і реалізувати все самостійно, або ж - просто заповнити пропуски.\n",
        "\n",
        "Завдання оцінюється в 10 балів. Головний результат - аби код в фіналі був робочий. Бо за не робочий нам гроші ніхто не заплатить :)"
      ],
      "metadata": {
        "id": "gJ2A6t3mdEed"
      }
    },
    {
      "cell_type": "code",
      "source": [
        "from google.colab import drive\n",
        "drive.mount('/content/drive')\n",
        "import os\n",
        "import numpy as np\n",
        "import pandas as pd\n",
        "from sklearn.linear_model import LogisticRegression, LinearRegression, Ridge, Lasso, ElasticNet\n",
        "from sklearn.model_selection import train_test_split\n",
        "from sklearn.metrics import confusion_matrix, roc_auc_score, roc_curve, f1_score, auc, root_mean_squared_error\n",
        "from sklearn.preprocessing import OneHotEncoder, StandardScaler, MinMaxScaler, MaxAbsScaler, RobustScaler, PolynomialFeatures\n",
        "from sklearn.pipeline import Pipeline\n",
        "from sklearn.compose import ColumnTransformer\n",
        "import joblib\n",
        "from matplotlib import pyplot as plt\n",
        "import seaborn as sns"
      ],
      "metadata": {
        "id": "_XbzEqgD3QKT",
        "colab": {
          "base_uri": "https://localhost:8080/"
        },
        "outputId": "afaa36a7-8ed6-4cd0-a805-50b9fed00843"
      },
      "execution_count": 113,
      "outputs": [
        {
          "output_type": "stream",
          "name": "stdout",
          "text": [
            "Drive already mounted at /content/drive; to attempt to forcibly remount, call drive.mount(\"/content/drive\", force_remount=True).\n"
          ]
        }
      ]
    },
    {
      "cell_type": "code",
      "source": [
        "raw_df = pd.read_csv('drive/MyDrive/ML_course/train.csv', index_col=0)\n",
        "raw_df.drop(['Surname', 'CustomerId'], axis=1, inplace=True)\n",
        "\n",
        "train_df, val_df = train_test_split(raw_df, test_size=0.2, random_state=42)\n",
        "\n",
        "# Створюємо трен. і вал. набори\n",
        "input_cols = list(raw_df.columns)[0:-1]\n",
        "target_col = list(raw_df.columns)[-1]\n",
        "train_inputs, train_targets = train_df[input_cols], train_df[target_col]\n",
        "val_inputs, val_targets = val_df[input_cols], val_df[target_col]\n",
        "\n",
        "# Виявляємо числові і категоріальні колонки\n",
        "numeric_cols = raw_df[input_cols].select_dtypes(exclude='object').columns.tolist()\n",
        "categorical_cols = raw_df[input_cols].select_dtypes(include='object').columns.tolist()\n",
        "\n",
        "# Створюємо трансформери для числових і категоріальних колонок\n",
        "numeric_transformer = Pipeline(steps=[\n",
        "    ('scaler',  MinMaxScaler())\n",
        "])\n",
        "\n",
        "categorical_transformer = Pipeline(steps=[\n",
        "    ('onehot', OneHotEncoder())\n",
        "])\n",
        "\n",
        "# Комбінуємо трансформери для різних типів колонок в один препроцесор\n",
        "preprocessor = ColumnTransformer(\n",
        "    transformers=[\n",
        "        ('num', numeric_transformer, numeric_cols),\n",
        "        ('cat', categorical_transformer, categorical_cols)\n",
        "    ])\n",
        "\n",
        "# Стоврюємо пайплайн, який спочатку запускає препроцесинг, потім тренуєм модель\n",
        "model_pipeline = Pipeline(steps=[\n",
        "    ('preprocessor', preprocessor),\n",
        "    ('classifier', LogisticRegression(solver='liblinear',  penalty='l1'))\n",
        "])\n",
        "\n",
        "# Тренуємо пайплайн\n",
        "model_pipeline.fit(train_inputs, train_targets)\n",
        "\n",
        "# Функція, щоб передбачати і рахувати метрики\n",
        "def predict_and_plot(model_pipeline, inputs, targets, name=''):\n",
        "    preds = model_pipeline.predict(inputs)\n",
        "    pred_proba=model_pipeline.predict_proba(inputs)[:,1]\n",
        "    fpr, tpr, thresholds=roc_curve(targets, pred_proba)\n",
        "    roc_auc = auc(fpr, tpr)*100\n",
        "    print(f\"Area under ROC score on {name} dataset: {roc_auc:.2f}%\")\n",
        "    confusion_matrix_ = confusion_matrix(targets, preds)\n",
        "    plt.figure()\n",
        "    sns.heatmap(confusion_matrix_, annot=True, cmap='Blues')\n",
        "    plt.xlabel('Prediction')\n",
        "    plt.ylabel('Target')\n",
        "    plt.title('{} Confusion Matrix'.format(name))\n",
        "    plt.show()\n",
        "    return preds\n",
        "\n",
        "# Оцінюємо модель на трен і вал даних\n",
        "train_preds = predict_and_plot(model_pipeline, train_inputs, train_targets, name='train')\n",
        "val_preds = predict_and_plot(model_pipeline, val_inputs, val_targets, name='validation')\n",
        "\n",
        "# Зберігаємо модель для подальшого використання\n",
        "joblib.dump(model_pipeline, 'drive/MyDrive/ML_course/model_pipeline.joblib' )\n"
      ],
      "metadata": {
        "id": "0LZialdo4IPZ",
        "colab": {
          "base_uri": "https://localhost:8080/",
          "height": 979
        },
        "outputId": "57f3ae14-738c-46a7-f103-4c7524ae3de4"
      },
      "execution_count": 114,
      "outputs": [
        {
          "output_type": "stream",
          "name": "stdout",
          "text": [
            "Area under ROC score on train dataset: 88.17%\n"
          ]
        },
        {
          "output_type": "display_data",
          "data": {
            "text/plain": [
              "<Figure size 640x480 with 2 Axes>"
            ],
            "image/png": "[encoded data removed]"
          },
          "metadata": {}
        },
        {
          "output_type": "stream",
          "name": "stdout",
          "text": [
            "Area under ROC score on validation dataset: 88.27%\n"
          ]
        },
        {
          "output_type": "display_data",
          "data": {
            "text/plain": [
              "<Figure size 640x480 with 2 Axes>"
            ],
            "image/png": "[encoded data removed]"
          },
          "metadata": {}
        },
        {
          "output_type": "execute_result",
          "data": {
            "text/plain": [
              "['drive/MyDrive/ML_course/model_pipeline.joblib']"
            ]
          },
          "metadata": {},
          "execution_count": 114
        }
      ]
    },
    {
      "cell_type": "markdown",
      "source": [
        "**Завдання 2**. Такс, у нас з вами є вже готовий пайплайн. Давайте проведемо нові експерименти.\n",
        "\n",
        "  Додайте в попередню обробку числових колонок генерацію polinomal features до степені 2 включно. Для цього створіть новий препроцесор і створіть новий пайплайн.\n",
        "\n",
        "  Запустіть пайплайн на тренування і виведіть метрики для тренувального і валідаційного набору. Напишіть, як вам модель? Чи спостерігається в цій моделі overfit чи underfit? Чи ця модель добре генералізує?"
      ],
      "metadata": {
        "id": "PXrc2NCa5lAK"
      }
    },
    {
      "cell_type": "code",
      "source": [
        "categorical_transformer = Pipeline(steps=[\n",
        "    ('onehot', OneHotEncoder())\n",
        "])\n",
        "\n",
        "poly_features = Pipeline(steps=[\n",
        "    ('poly_feat', PolynomialFeatures(degree=2))\n",
        "])\n",
        "numeric_transformer = Pipeline(steps=[\n",
        "    ('scaler',  MinMaxScaler())\n",
        "])\n",
        "\n",
        "preprocessor = ColumnTransformer(\n",
        "    transformers=[\n",
        "        ('poly_feat', poly_features, numeric_cols),\n",
        "        ('num', numeric_transformer, numeric_cols),\n",
        "        ('cat', categorical_transformer, categorical_cols)\n",
        "    ])\n",
        "\n",
        "model_pipeline = Pipeline(steps=[\n",
        "    ('preprocessor', preprocessor),\n",
        "    ('classifier', LogisticRegression(solver='liblinear',  penalty='l1'))\n",
        "])\n"
      ],
      "metadata": {
        "id": "TjcmWMTOOjJ1"
      },
      "execution_count": 115,
      "outputs": []
    },
    {
      "cell_type": "code",
      "source": [
        "model_pipeline.fit(train_inputs, train_targets)\n",
        "train_preds2 = predict_and_plot(model_pipeline, train_inputs, train_targets, name='train dataset')\n",
        "val_preds2 = predict_and_plot(model_pipeline, val_inputs, val_targets, name='validation dataset')"
      ],
      "metadata": {
        "colab": {
          "base_uri": "https://localhost:8080/",
          "height": 996
        },
        "id": "Z8ZDLhoOnMQ-",
        "outputId": "46440d30-29fa-4b42-b749-3cafad5a955b"
      },
      "execution_count": 116,
      "outputs": [
        {
          "output_type": "stream",
          "name": "stderr",
          "text": [
            "/usr/local/lib/python3.11/dist-packages/sklearn/svm/_base.py:1249: ConvergenceWarning: Liblinear failed to converge, increase the number of iterations.\n",
            "  warnings.warn(\n"
          ]
        },
        {
          "output_type": "stream",
          "name": "stdout",
          "text": [
            "Area under ROC score on train dataset dataset: 93.18%\n"
          ]
        },
        {
          "output_type": "display_data",
          "data": {
            "text/plain": [
              "<Figure size 640x480 with 2 Axes>"
            ],
            "image/png": "[encoded data removed]"
          },
          "metadata": {}
        },
        {
          "output_type": "stream",
          "name": "stdout",
          "text": [
            "Area under ROC score on validation dataset dataset: 92.11%\n"
          ]
        },
        {
          "output_type": "display_data",
          "data": {
            "text/plain": [
              "<Figure size 640x480 with 2 Axes>"
            ],
            "image/png": "[encoded data removed]"
          },
          "metadata": {}
        }
      ]
    },
    {
      "cell_type": "code",
      "source": [
        "train_preds2"
      ],
      "metadata": {
        "colab": {
          "base_uri": "https://localhost:8080/"
        },
        "id": "NulMxScBn1CV",
        "outputId": "3d0ff1dd-d60c-4730-9ed1-fe39fa05a43e"
      },
      "execution_count": 117,
      "outputs": [
        {
          "output_type": "execute_result",
          "data": {
            "text/plain": [
              "array([1., 1., 0., ..., 0., 0., 1.])"
            ]
          },
          "metadata": {},
          "execution_count": 117
        }
      ]
    },
    {
      "cell_type": "code",
      "source": [
        "val_preds2"
      ],
      "metadata": {
        "colab": {
          "base_uri": "https://localhost:8080/"
        },
        "id": "az3RTqvdn1SC",
        "outputId": "2f32a7f8-4c08-4da5-db92-e11b1e9c99c5"
      },
      "execution_count": 118,
      "outputs": [
        {
          "output_type": "execute_result",
          "data": {
            "text/plain": [
              "array([0., 1., 0., ..., 0., 0., 1.])"
            ]
          },
          "metadata": {},
          "execution_count": 118
        }
      ]
    },
    {
      "cell_type": "markdown",
      "source": [
        "**Завдання 3**. Тепер давайте створимо ще новий пайплайн, тільки тепер поліноміальні ознаки згенеруємо до степені 4. Зробіть висновок про якість моделі. Якщо вам подобається резульат якоїсь з моделей в цьому ДЗ - рекомендую зробити submission в змаганні."
      ],
      "metadata": {
        "id": "tkmEmHaP8Pen"
      }
    },
    {
      "cell_type": "code",
      "source": [
        "categorical_transformer = Pipeline(steps=[\n",
        "    ('onehot', OneHotEncoder())\n",
        "])\n",
        "\n",
        "poly_features = Pipeline(steps=[\n",
        "    ('poly_feat', PolynomialFeatures(degree=4))\n",
        "])\n",
        "numeric_transformer = Pipeline(steps=[\n",
        "    ('scaler',  MinMaxScaler())\n",
        "])\n",
        "\n",
        "preprocessor = ColumnTransformer(\n",
        "    transformers=[\n",
        "        ('poly_feat', poly_features, numeric_cols),\n",
        "        ('num', numeric_transformer, numeric_cols),\n",
        "        ('cat', categorical_transformer, categorical_cols)\n",
        "    ])\n",
        "\n",
        "model_pipeline = Pipeline(steps=[\n",
        "    ('preprocessor', preprocessor),\n",
        "    ('classifier', LogisticRegression(solver='liblinear', penalty='l1'))\n",
        "])"
      ],
      "metadata": {
        "id": "OsT-MDWuOkDY"
      },
      "execution_count": 119,
      "outputs": []
    },
    {
      "cell_type": "code",
      "source": [
        "model_pipeline.fit(train_inputs, train_targets)\n",
        "train_preds4 = predict_and_plot(model_pipeline, train_inputs, train_targets, name='train dataset')\n",
        "val_preds4 = predict_and_plot(model_pipeline, val_inputs, val_targets, name='validation dataset')"
      ],
      "metadata": {
        "colab": {
          "base_uri": "https://localhost:8080/",
          "height": 996
        },
        "id": "yZi4iLHQncIT",
        "outputId": "6c99d31c-45a9-43ba-fa81-7e00c5284273"
      },
      "execution_count": 120,
      "outputs": [
        {
          "output_type": "stream",
          "name": "stderr",
          "text": [
            "/usr/local/lib/python3.11/dist-packages/sklearn/svm/_base.py:1249: ConvergenceWarning: Liblinear failed to converge, increase the number of iterations.\n",
            "  warnings.warn(\n"
          ]
        },
        {
          "output_type": "stream",
          "name": "stdout",
          "text": [
            "Area under ROC score on train dataset dataset: 94.19%\n"
          ]
        },
        {
          "output_type": "display_data",
          "data": {
            "text/plain": [
              "<Figure size 640x480 with 2 Axes>"
            ],
            "image/png": "[encoded data removed]"
          },
          "metadata": {}
        },
        {
          "output_type": "stream",
          "name": "stdout",
          "text": [
            "Area under ROC score on validation dataset dataset: 91.89%\n"
          ]
        },
        {
          "output_type": "display_data",
          "data": {
            "text/plain": [
              "<Figure size 640x480 with 2 Axes>"
            ],
            "image/png": "[encoded data removed]"
          },
          "metadata": {}
        }
      ]
    },
    {
      "cell_type": "code",
      "source": [
        "train_preds4"
      ],
      "metadata": {
        "colab": {
          "base_uri": "https://localhost:8080/"
        },
        "id": "fu2gr81sn5Qs",
        "outputId": "f090d959-b8e0-464b-ba0c-a8d0466b5be4"
      },
      "execution_count": 121,
      "outputs": [
        {
          "output_type": "execute_result",
          "data": {
            "text/plain": [
              "array([0., 1., 0., ..., 0., 0., 1.])"
            ]
          },
          "metadata": {},
          "execution_count": 121
        }
      ]
    },
    {
      "cell_type": "code",
      "source": [
        "val_preds4"
      ],
      "metadata": {
        "colab": {
          "base_uri": "https://localhost:8080/"
        },
        "id": "HJ8L2C1mn8SV",
        "outputId": "36d10eb0-48f1-46cd-dc4a-a43291ed50de"
      },
      "execution_count": 122,
      "outputs": [
        {
          "output_type": "execute_result",
          "data": {
            "text/plain": [
              "array([0., 1., 0., ..., 0., 0., 1.])"
            ]
          },
          "metadata": {},
          "execution_count": 122
        }
      ]
    },
    {
      "cell_type": "code",
      "source": [
        "model_pipeline.named_steps['classifier'].get_params()"
      ],
      "metadata": {
        "colab": {
          "base_uri": "https://localhost:8080/"
        },
        "id": "uGzOOkqt5Q5c",
        "outputId": "4f2c740c-03fe-4594-cc7b-b5d6671eef9f"
      },
      "execution_count": 123,
      "outputs": [
        {
          "output_type": "execute_result",
          "data": {
            "text/plain": [
              "{'C': 1.0,\n",
              " 'class_weight': None,\n",
              " 'dual': False,\n",
              " 'fit_intercept': True,\n",
              " 'intercept_scaling': 1,\n",
              " 'l1_ratio': None,\n",
              " 'max_iter': 100,\n",
              " 'multi_class': 'deprecated',\n",
              " 'n_jobs': None,\n",
              " 'penalty': 'l1',\n",
              " 'random_state': None,\n",
              " 'solver': 'liblinear',\n",
              " 'tol': 0.0001,\n",
              " 'verbose': 0,\n",
              " 'warm_start': False}"
            ]
          },
          "metadata": {},
          "execution_count": 123
        }
      ]
    },
    {
      "cell_type": "markdown",
      "source": [
        "**Завдання 4. Перенавчання і регуляризація**.\n",
        "\n",
        "  Скачайте набір даних `regression_data.csv`. Звичайте набір даних з `regression_data.csv`, розбийте на train і test (в тест 20%) і натренуйте модель лінійної регресії з масштабуванням числових ознак і поліноміальними ознаками до степені **5 включно**.\n",
        "\n",
        "  Виміряйте якість прогностичної моделі і зробіть висновок, чи модель хороша, чи вона добре генералізує?\n"
      ],
      "metadata": {
        "id": "ozN2ONZGCBS6"
      }
    },
    {
      "cell_type": "code",
      "source": [
        "regression_data = pd.read_csv('drive/MyDrive/ML_course/regression_data.csv')"
      ],
      "metadata": {
        "id": "xbl0jQ3WOlgn"
      },
      "execution_count": 124,
      "outputs": []
    },
    {
      "cell_type": "code",
      "source": [
        "inputs=regression_data.iloc[:,:-1]\n",
        "target=regression_data.target"
      ],
      "metadata": {
        "id": "wJUF5OQwHgHH"
      },
      "execution_count": 125,
      "outputs": []
    },
    {
      "cell_type": "code",
      "source": [
        "train_input, test_input, train_target, test_target=train_test_split(inputs, target, test_size=0.2, random_state=42 )"
      ],
      "metadata": {
        "id": "4nKLn0mHF1sl"
      },
      "execution_count": 126,
      "outputs": []
    },
    {
      "cell_type": "code",
      "source": [
        "cols=list(inputs.columns)\n",
        "\n",
        "poly_features = Pipeline(steps=[\n",
        "    ('poly_feat', PolynomialFeatures(degree=5))\n",
        "])\n",
        "numeric_transformer = Pipeline(steps=[\n",
        "    ('scaler',  StandardScaler())\n",
        "])\n",
        "\n",
        "preprocessor = ColumnTransformer(\n",
        "    transformers=[\n",
        "        ('poly_feat', poly_features, cols),\n",
        "        ('num', numeric_transformer, cols)\n",
        "    ])\n",
        "\n",
        "model_pipeline = Pipeline(steps=[\n",
        "    ('preprocessor', preprocessor),\n",
        "    ('regression', LinearRegression())\n",
        "])"
      ],
      "metadata": {
        "id": "9itK1dywGbJ0"
      },
      "execution_count": 127,
      "outputs": []
    },
    {
      "cell_type": "code",
      "source": [
        "model_pipeline.fit(train_input, train_target)\n",
        "train_pred_lr = model_pipeline.predict(train_input)\n",
        "test_pred_lr = model_pipeline.predict(test_input)"
      ],
      "metadata": {
        "id": "GnYqg2vjGsLZ"
      },
      "execution_count": 128,
      "outputs": []
    },
    {
      "cell_type": "code",
      "source": [
        "train_input"
      ],
      "metadata": {
        "id": "bJCubQ9pLpuA",
        "outputId": "763a0024-ee1c-4bb5-8f4d-4e6ced46e355",
        "colab": {
          "base_uri": "https://localhost:8080/",
          "height": 423
        }
      },
      "execution_count": 129,
      "outputs": [
        {
          "output_type": "execute_result",
          "data": {
            "text/plain": [
              "     feature_1  feature_2  feature_3  feature_4  feature_5\n",
              "70    0.791663   0.628346   0.624120  -1.214189   1.158111\n",
              "78    0.311250   1.119575   3.078881  -0.249036   0.576557\n",
              "47    0.871125   1.201214  -0.326024   0.289775   2.075401\n",
              "0    -0.190339  -1.382800  -0.875618   0.538910  -1.037246\n",
              "12   -0.653329   0.404982   1.765454  -0.334501  -0.474945\n",
              "..         ...        ...        ...        ...        ...\n",
              "106  -0.248964   0.645376   0.971571   2.060748   1.755341\n",
              "14   -0.342715  -0.161286  -0.802277  -1.415371  -0.420645\n",
              "92    0.214094   0.173181  -1.245739  -0.446515   0.856399\n",
              "51   -0.236819   0.081874  -0.485364   0.758969  -0.772825\n",
              "102  -1.320233   1.179440   1.831459  -0.898415   0.491919\n",
              "\n",
              "[103 rows x 5 columns]"
            ],
            "text/html": [
              "\n",
              "  <div id=\"df-e380d513-32a8-40e5-9433-d0d4d78186e4\" class=\"colab-df-container\">\n",
              "    <div>\n",
              "<style scoped>\n",
              "    .dataframe tbody tr th:only-of-type {\n",
              "        vertical-align: middle;\n",
              "    }\n",
              "\n",
              "    .dataframe tbody tr th {\n",
              "        vertical-align: top;\n",
              "    }\n",
              "\n",
              "    .dataframe thead th {\n",
              "        text-align: right;\n",
              "    }\n",
              "</style>\n",
              "<table border=\"1\" class=\"dataframe\">\n",
              "  <thead>\n",
              "    <tr style=\"text-align: right;\">\n",
              "      <th></th>\n",
              "      <th>feature_1</th>\n",
              "      <th>feature_2</th>\n",
              "      <th>feature_3</th>\n",
              "      <th>feature_4</th>\n",
              "      <th>feature_5</th>\n",
              "    </tr>\n",
              "  </thead>\n",
              "  <tbody>\n",
              "    <tr>\n",
              "      <th>70</th>\n",
              "      <td>0.791663</td>\n",
              "      <td>0.628346</td>\n",
              "      <td>0.624120</td>\n",
              "      <td>-1.214189</td>\n",
              "      <td>1.158111</td>\n",
              "    </tr>\n",
              "    <tr>\n",
              "      <th>78</th>\n",
              "      <td>0.311250</td>\n",
              "      <td>1.119575</td>\n",
              "      <td>3.078881</td>\n",
              "      <td>-0.249036</td>\n",
              "      <td>0.576557</td>\n",
              "    </tr>\n",
              "    <tr>\n",
              "      <th>47</th>\n",
              "      <td>0.871125</td>\n",
              "      <td>1.201214</td>\n",
              "      <td>-0.326024</td>\n",
              "      <td>0.289775</td>\n",
              "      <td>2.075401</td>\n",
              "    </tr>\n",
              "    <tr>\n",
              "      <th>0</th>\n",
              "      <td>-0.190339</td>\n",
              "      <td>-1.382800</td>\n",
              "      <td>-0.875618</td>\n",
              "      <td>0.538910</td>\n",
              "      <td>-1.037246</td>\n",
              "    </tr>\n",
              "    <tr>\n",
              "      <th>12</th>\n",
              "      <td>-0.653329</td>\n",
              "      <td>0.404982</td>\n",
              "      <td>1.765454</td>\n",
              "      <td>-0.334501</td>\n",
              "      <td>-0.474945</td>\n",
              "    </tr>\n",
              "    <tr>\n",
              "      <th>...</th>\n",
              "      <td>...</td>\n",
              "      <td>...</td>\n",
              "      <td>...</td>\n",
              "      <td>...</td>\n",
              "      <td>...</td>\n",
              "    </tr>\n",
              "    <tr>\n",
              "      <th>106</th>\n",
              "      <td>-0.248964</td>\n",
              "      <td>0.645376</td>\n",
              "      <td>0.971571</td>\n",
              "      <td>2.060748</td>\n",
              "      <td>1.755341</td>\n",
              "    </tr>\n",
              "    <tr>\n",
              "      <th>14</th>\n",
              "      <td>-0.342715</td>\n",
              "      <td>-0.161286</td>\n",
              "      <td>-0.802277</td>\n",
              "      <td>-1.415371</td>\n",
              "      <td>-0.420645</td>\n",
              "    </tr>\n",
              "    <tr>\n",
              "      <th>92</th>\n",
              "      <td>0.214094</td>\n",
              "      <td>0.173181</td>\n",
              "      <td>-1.245739</td>\n",
              "      <td>-0.446515</td>\n",
              "      <td>0.856399</td>\n",
              "    </tr>\n",
              "    <tr>\n",
              "      <th>51</th>\n",
              "      <td>-0.236819</td>\n",
              "      <td>0.081874</td>\n",
              "      <td>-0.485364</td>\n",
              "      <td>0.758969</td>\n",
              "      <td>-0.772825</td>\n",
              "    </tr>\n",
              "    <tr>\n",
              "      <th>102</th>\n",
              "      <td>-1.320233</td>\n",
              "      <td>1.179440</td>\n",
              "      <td>1.831459</td>\n",
              "      <td>-0.898415</td>\n",
              "      <td>0.491919</td>\n",
              "    </tr>\n",
              "  </tbody>\n",
              "</table>\n",
              "<p>103 rows × 5 columns</p>\n",
              "</div>\n",
              "    <div class=\"colab-df-buttons\">\n",
              "\n",
              "  <div class=\"colab-df-container\">\n",
              "    <button class=\"colab-df-convert\" onclick=\"convertToInteractive('df-e380d513-32a8-40e5-9433-d0d4d78186e4')\"\n",
              "            title=\"Convert this dataframe to an interactive table.\"\n",
              "            style=\"display:none;\">\n",
              "\n",
              "  <svg xmlns=\"http://www.w3.org/2000/svg\" height=\"24px\" viewBox=\"0 -960 960 960\">\n",
              "    <path d=\"M120-120v-720h720v720H120Zm60-500h600v-160H180v160Zm220 220h160v-160H400v160Zm0 220h160v-160H400v160ZM180-400h160v-160H180v160Zm440 0h160v-160H620v160ZM180-180h160v-160H180v160Zm440 0h160v-160H620v160Z\"/>\n",
              "  </svg>\n",
              "    </button>\n",
              "\n",
              "  <style>\n",
              "    .colab-df-container {\n",
              "      display:flex;\n",
              "      gap: 12px;\n",
              "    }\n",
              "\n",
              "    .colab-df-convert {\n",
              "      background-color: #E8F0FE;\n",
              "      border: none;\n",
              "      border-radius: 50%;\n",
              "      cursor: pointer;\n",
              "      display: none;\n",
              "      fill: #1967D2;\n",
              "      height: 32px;\n",
              "      padding: 0 0 0 0;\n",
              "      width: 32px;\n",
              "    }\n",
              "\n",
              "    .colab-df-convert:hover {\n",
              "      background-color: #E2EBFA;\n",
              "      box-shadow: 0px 1px 2px rgba(60, 64, 67, 0.3), 0px 1px 3px 1px rgba(60, 64, 67, 0.15);\n",
              "      fill: #174EA6;\n",
              "    }\n",
              "\n",
              "    .colab-df-buttons div {\n",
              "      margin-bottom: 4px;\n",
              "    }\n",
              "\n",
              "    [theme=dark] .colab-df-convert {\n",
              "      background-color: #3B4455;\n",
              "      fill: #D2E3FC;\n",
              "    }\n",
              "\n",
              "    [theme=dark] .colab-df-convert:hover {\n",
              "      background-color: #434B5C;\n",
              "      box-shadow: 0px 1px 3px 1px rgba(0, 0, 0, 0.15);\n",
              "      filter: drop-shadow(0px 1px 2px rgba(0, 0, 0, 0.3));\n",
              "      fill: #FFFFFF;\n",
              "    }\n",
              "  </style>\n",
              "\n",
              "    <script>\n",
              "      const buttonEl =\n",
              "        document.querySelector('#df-e380d513-32a8-40e5-9433-d0d4d78186e4 button.colab-df-convert');\n",
              "      buttonEl.style.display =\n",
              "        google.colab.kernel.accessAllowed ? 'block' : 'none';\n",
              "\n",
              "      async function convertToInteractive(key) {\n",
              "        const element = document.querySelector('#df-e380d513-32a8-40e5-9433-d0d4d78186e4');\n",
              "        const dataTable =\n",
              "          await google.colab.kernel.invokeFunction('convertToInteractive',\n",
              "                                                    [key], {});\n",
              "        if (!dataTable) return;\n",
              "\n",
              "        const docLinkHtml = 'Like what you see? Visit the ' +\n",
              "          '<a target=\"_blank\" href=https://colab.research.google.com/notebooks/data_table.ipynb>data table notebook</a>'\n",
              "          + ' to learn more about interactive tables.';\n",
              "        element.innerHTML = '';\n",
              "        dataTable['output_type'] = 'display_data';\n",
              "        await google.colab.output.renderOutput(dataTable, element);\n",
              "        const docLink = document.createElement('div');\n",
              "        docLink.innerHTML = docLinkHtml;\n",
              "        element.appendChild(docLink);\n",
              "      }\n",
              "    </script>\n",
              "  </div>\n",
              "\n",
              "\n",
              "<div id=\"df-4d73b41b-f378-4d18-923e-8216bcf8fd45\">\n",
              "  <button class=\"colab-df-quickchart\" onclick=\"quickchart('df-4d73b41b-f378-4d18-923e-8216bcf8fd45')\"\n",
              "            title=\"Suggest charts\"\n",
              "            style=\"display:none;\">\n",
              "\n",
              "<svg xmlns=\"http://www.w3.org/2000/svg\" height=\"24px\"viewBox=\"0 0 24 24\"\n",
              "     width=\"24px\">\n",
              "    <g>\n",
              "        <path d=\"M19 3H5c-1.1 0-2 .9-2 2v14c0 1.1.9 2 2 2h14c1.1 0 2-.9 2-2V5c0-1.1-.9-2-2-2zM9 17H7v-7h2v7zm4 0h-2V7h2v10zm4 0h-2v-4h2v4z\"/>\n",
              "    </g>\n",
              "</svg>\n",
              "  </button>\n",
              "\n",
              "<style>\n",
              "  .colab-df-quickchart {\n",
              "      --bg-color: #E8F0FE;\n",
              "      --fill-color: #1967D2;\n",
              "      --hover-bg-color: #E2EBFA;\n",
              "      --hover-fill-color: #174EA6;\n",
              "      --disabled-fill-color: #AAA;\n",
              "      --disabled-bg-color: #DDD;\n",
              "  }\n",
              "\n",
              "  [theme=dark] .colab-df-quickchart {\n",
              "      --bg-color: #3B4455;\n",
              "      --fill-color: #D2E3FC;\n",
              "      --hover-bg-color: #434B5C;\n",
              "      --hover-fill-color: #FFFFFF;\n",
              "      --disabled-bg-color: #3B4455;\n",
              "      --disabled-fill-color: #666;\n",
              "  }\n",
              "\n",
              "  .colab-df-quickchart {\n",
              "    background-color: var(--bg-color);\n",
              "    border: none;\n",
              "    border-radius: 50%;\n",
              "    cursor: pointer;\n",
              "    display: none;\n",
              "    fill: var(--fill-color);\n",
              "    height: 32px;\n",
              "    padding: 0;\n",
              "    width: 32px;\n",
              "  }\n",
              "\n",
              "  .colab-df-quickchart:hover {\n",
              "    background-color: var(--hover-bg-color);\n",
              "    box-shadow: 0 1px 2px rgba(60, 64, 67, 0.3), 0 1px 3px 1px rgba(60, 64, 67, 0.15);\n",
              "    fill: var(--button-hover-fill-color);\n",
              "  }\n",
              "\n",
              "  .colab-df-quickchart-complete:disabled,\n",
              "  .colab-df-quickchart-complete:disabled:hover {\n",
              "    background-color: var(--disabled-bg-color);\n",
              "    fill: var(--disabled-fill-color);\n",
              "    box-shadow: none;\n",
              "  }\n",
              "\n",
              "  .colab-df-spinner {\n",
              "    border: 2px solid var(--fill-color);\n",
              "    border-color: transparent;\n",
              "    border-bottom-color: var(--fill-color);\n",
              "    animation:\n",
              "      spin 1s steps(1) infinite;\n",
              "  }\n",
              "\n",
              "  @keyframes spin {\n",
              "    0% {\n",
              "      border-color: transparent;\n",
              "      border-bottom-color: var(--fill-color);\n",
              "      border-left-color: var(--fill-color);\n",
              "    }\n",
              "    20% {\n",
              "      border-color: transparent;\n",
              "      border-left-color: var(--fill-color);\n",
              "      border-top-color: var(--fill-color);\n",
              "    }\n",
              "    30% {\n",
              "      border-color: transparent;\n",
              "      border-left-color: var(--fill-color);\n",
              "      border-top-color: var(--fill-color);\n",
              "      border-right-color: var(--fill-color);\n",
              "    }\n",
              "    40% {\n",
              "      border-color: transparent;\n",
              "      border-right-color: var(--fill-color);\n",
              "      border-top-color: var(--fill-color);\n",
              "    }\n",
              "    60% {\n",
              "      border-color: transparent;\n",
              "      border-right-color: var(--fill-color);\n",
              "    }\n",
              "    80% {\n",
              "      border-color: transparent;\n",
              "      border-right-color: var(--fill-color);\n",
              "      border-bottom-color: var(--fill-color);\n",
              "    }\n",
              "    90% {\n",
              "      border-color: transparent;\n",
              "      border-bottom-color: var(--fill-color);\n",
              "    }\n",
              "  }\n",
              "</style>\n",
              "\n",
              "  <script>\n",
              "    async function quickchart(key) {\n",
              "      const quickchartButtonEl =\n",
              "        document.querySelector('#' + key + ' button');\n",
              "      quickchartButtonEl.disabled = true;  // To prevent multiple clicks.\n",
              "      quickchartButtonEl.classList.add('colab-df-spinner');\n",
              "      try {\n",
              "        const charts = await google.colab.kernel.invokeFunction(\n",
              "            'suggestCharts', [key], {});\n",
              "      } catch (error) {\n",
              "        console.error('Error during call to suggestCharts:', error);\n",
              "      }\n",
              "      quickchartButtonEl.classList.remove('colab-df-spinner');\n",
              "      quickchartButtonEl.classList.add('colab-df-quickchart-complete');\n",
              "    }\n",
              "    (() => {\n",
              "      let quickchartButtonEl =\n",
              "        document.querySelector('#df-4d73b41b-f378-4d18-923e-8216bcf8fd45 button');\n",
              "      quickchartButtonEl.style.display =\n",
              "        google.colab.kernel.accessAllowed ? 'block' : 'none';\n",
              "    })();\n",
              "  </script>\n",
              "</div>\n",
              "    </div>\n",
              "  </div>\n"
            ],
            "application/vnd.google.colaboratory.intrinsic+json": {
              "type": "dataframe",
              "variable_name": "train_input",
              "summary": "{\n  \"name\": \"train_input\",\n  \"rows\": 103,\n  \"fields\": [\n    {\n      \"column\": \"feature_1\",\n      \"properties\": {\n        \"dtype\": \"number\",\n        \"std\": 0.9250832964298152,\n        \"min\": -3.241267340069073,\n        \"max\": 2.122156197012633,\n        \"num_unique_values\": 103,\n        \"samples\": [\n          0.0773683076476183,\n          -0.2389480468664097,\n          -0.2886586389201383\n        ],\n        \"semantic_type\": \"\",\n        \"description\": \"\"\n      }\n    },\n    {\n      \"column\": \"feature_2\",\n      \"properties\": {\n        \"dtype\": \"number\",\n        \"std\": 1.1021642487134737,\n        \"min\": -2.6197451040897444,\n        \"max\": 3.852731490654721,\n        \"num_unique_values\": 103,\n        \"samples\": [\n          1.5231240772696573,\n          -0.5767713305683327,\n          -0.827230943552323\n        ],\n        \"semantic_type\": \"\",\n        \"description\": \"\"\n      }\n    },\n    {\n      \"column\": \"feature_3\",\n      \"properties\": {\n        \"dtype\": \"number\",\n        \"std\": 0.9693304695851562,\n        \"min\": -1.913280244657798,\n        \"max\": 3.0788808084552377,\n        \"num_unique_values\": 103,\n        \"samples\": [\n          -0.8612842013282637,\n          -0.907563662041598,\n          0.3227185603380895\n        ],\n        \"semantic_type\": \"\",\n        \"description\": \"\"\n      }\n    },\n    {\n      \"column\": \"feature_4\",\n      \"properties\": {\n        \"dtype\": \"number\",\n        \"std\": 0.8881323285785055,\n        \"min\": -2.211135309007885,\n        \"max\": 2.1904556258099785,\n        \"num_unique_values\": 103,\n        \"samples\": [\n          -0.0079726413166173,\n          0.2704568257798388,\n          -1.0025293646378088\n        ],\n        \"semantic_type\": \"\",\n        \"description\": \"\"\n      }\n    },\n    {\n      \"column\": \"feature_5\",\n      \"properties\": {\n        \"dtype\": \"number\",\n        \"std\": 1.0082375984831697,\n        \"min\": -2.301921164735585,\n        \"max\": 2.075400798645439,\n        \"num_unique_values\": 103,\n        \"samples\": [\n          1.479944138890026,\n          -0.0502381094491369,\n          -0.0185131359923899\n        ],\n        \"semantic_type\": \"\",\n        \"description\": \"\"\n      }\n    }\n  ]\n}"
            }
          },
          "metadata": {},
          "execution_count": 129
        }
      ]
    },
    {
      "cell_type": "code",
      "source": [
        "root_mean_squared_error(train_target, train_pred_lr), root_mean_squared_error(test_target, test_pred_lr)"
      ],
      "metadata": {
        "colab": {
          "base_uri": "https://localhost:8080/"
        },
        "id": "6k2WRlDSKT30",
        "outputId": "93be25b2-ef8c-465f-8838-aa8624f40255"
      },
      "execution_count": 130,
      "outputs": [
        {
          "output_type": "execute_result",
          "data": {
            "text/plain": [
              "(3.049385266417107e-13, 17.032556087823863)"
            ]
          },
          "metadata": {},
          "execution_count": 130
        }
      ]
    },
    {
      "cell_type": "markdown",
      "source": [
        "**Завдання 5**. Натренуйте моделі Lasso(), Ridge(), ElasaticNet() на цих даних (з поліном ознаками до степені 20 включно), порівняйте якість з тою, яка була отримана з лінійною регресією. Яка модель найкраще генералізує і чому на ваш погляд (можливо треба буде для відповіді зробити додатковий аналіз ознак)?"
      ],
      "metadata": {
        "id": "JNUt-Q6UHkn7"
      }
    },
    {
      "cell_type": "code",
      "source": [
        "cols=list(inputs.columns)\n",
        "\n",
        "poly_features = Pipeline(steps=[\n",
        "    ('poly_feat', PolynomialFeatures(degree=20))\n",
        "])\n",
        "numeric_transformer = Pipeline(steps=[\n",
        "    ('scaler',  StandardScaler())\n",
        "])\n",
        "\n",
        "preprocessor = ColumnTransformer(\n",
        "    transformers=[\n",
        "        ('poly_feat', poly_features, cols),\n",
        "        ('num', numeric_transformer, cols)\n",
        "    ])\n",
        "\n",
        "model_pipeline = Pipeline(steps=[\n",
        "    ('preprocessor', preprocessor),\n",
        "    ('regression', Ridge())\n",
        "])"
      ],
      "metadata": {
        "id": "y93ItPYdOnpE"
      },
      "execution_count": 131,
      "outputs": []
    },
    {
      "cell_type": "code",
      "source": [
        "model_pipeline.fit(train_input, train_target)\n",
        "train_pred_ridge = model_pipeline.predict(train_input)\n",
        "test_pred_ridge = model_pipeline.predict(test_input)"
      ],
      "metadata": {
        "id": "hqw4KOkVIxyb",
        "outputId": "2f343378-6c0d-40d6-c698-fc3cb82a9de1",
        "colab": {
          "base_uri": "https://localhost:8080/"
        }
      },
      "execution_count": 132,
      "outputs": [
        {
          "output_type": "stream",
          "name": "stderr",
          "text": [
            "/usr/local/lib/python3.11/dist-packages/sklearn/linear_model/_ridge.py:254: UserWarning: Singular matrix in solving dual problem. Using least-squares solution instead.\n",
            "  warnings.warn(\n"
          ]
        }
      ]
    },
    {
      "cell_type": "code",
      "source": [
        "root_mean_squared_error(train_target, train_pred_ridge), root_mean_squared_error(test_target, test_pred_ridge)"
      ],
      "metadata": {
        "id": "KamX0Zs0Lc1B",
        "outputId": "8f6da139-50b2-4a11-8a03-0be6cf6e044f",
        "colab": {
          "base_uri": "https://localhost:8080/"
        }
      },
      "execution_count": 133,
      "outputs": [
        {
          "output_type": "execute_result",
          "data": {
            "text/plain": [
              "(32.637934742750176, 8858.19170947688)"
            ]
          },
          "metadata": {},
          "execution_count": 133
        }
      ]
    },
    {
      "cell_type": "code",
      "source": [
        "rmse=[]\n",
        "def pipeline_lasso(degree):\n",
        "  for i in range(5,degree):\n",
        "      cols=list(inputs.columns)\n",
        "      poly_features = Pipeline(steps=[\n",
        "        ('poly_feat', PolynomialFeatures(degree=i))\n",
        "    ])\n",
        "      numeric_transformer = Pipeline(steps=[\n",
        "        ('scaler',  StandardScaler())\n",
        "    ])\n",
        "\n",
        "      preprocessor = ColumnTransformer(\n",
        "        transformers=[\n",
        "            ('poly_feat', poly_features, cols),\n",
        "            ('num', numeric_transformer, cols)\n",
        "        ])\n",
        "\n",
        "      model_pipeline = Pipeline(steps=[\n",
        "        ('preprocessor', preprocessor),\n",
        "        ('regression', Lasso())\n",
        "    ])\n",
        "      model_pipeline.fit(train_input, train_target)\n",
        "      train_pred_lasso = model_pipeline.predict(train_input)\n",
        "      test_pred_lasso = model_pipeline.predict(test_input)\n",
        "      rmse.append([i, root_mean_squared_error(train_target, train_pred_lasso), root_mean_squared_error(test_target, test_pred_lasso)])\n",
        "  return rmse"
      ],
      "metadata": {
        "id": "MT0fmsY-MKc4"
      },
      "execution_count": 134,
      "outputs": []
    },
    {
      "cell_type": "code",
      "source": [
        "a=pipeline_lasso(20)"
      ],
      "metadata": {
        "id": "4JOj1H0OMPC7",
        "outputId": "90980c4d-a541-4268-dbe5-14e12ed881e9",
        "colab": {
          "base_uri": "https://localhost:8080/"
        }
      },
      "execution_count": 135,
      "outputs": [
        {
          "output_type": "stream",
          "name": "stderr",
          "text": [
            "/usr/local/lib/python3.11/dist-packages/sklearn/linear_model/_coordinate_descent.py:695: ConvergenceWarning: Objective did not converge. You might want to increase the number of iterations, check the scale of the features or consider increasing regularisation. Duality gap: 3.318e+03, tolerance: 2.006e+01\n",
            "  model = cd_fast.enet_coordinate_descent(\n",
            "/usr/local/lib/python3.11/dist-packages/sklearn/linear_model/_coordinate_descent.py:695: ConvergenceWarning: Objective did not converge. You might want to increase the number of iterations, check the scale of the features or consider increasing regularisation. Duality gap: 3.692e+03, tolerance: 2.006e+01\n",
            "  model = cd_fast.enet_coordinate_descent(\n",
            "/usr/local/lib/python3.11/dist-packages/sklearn/linear_model/_coordinate_descent.py:695: ConvergenceWarning: Objective did not converge. You might want to increase the number of iterations, check the scale of the features or consider increasing regularisation. Duality gap: 4.039e+03, tolerance: 2.006e+01\n",
            "  model = cd_fast.enet_coordinate_descent(\n",
            "/usr/local/lib/python3.11/dist-packages/sklearn/linear_model/_coordinate_descent.py:695: ConvergenceWarning: Objective did not converge. You might want to increase the number of iterations, check the scale of the features or consider increasing regularisation. Duality gap: 4.298e+03, tolerance: 2.006e+01\n",
            "  model = cd_fast.enet_coordinate_descent(\n",
            "/usr/local/lib/python3.11/dist-packages/sklearn/linear_model/_coordinate_descent.py:695: ConvergenceWarning: Objective did not converge. You might want to increase the number of iterations, check the scale of the features or consider increasing regularisation. Duality gap: 4.351e+03, tolerance: 2.006e+01\n",
            "  model = cd_fast.enet_coordinate_descent(\n",
            "/usr/local/lib/python3.11/dist-packages/sklearn/linear_model/_coordinate_descent.py:695: ConvergenceWarning: Objective did not converge. You might want to increase the number of iterations, check the scale of the features or consider increasing regularisation. Duality gap: 4.378e+03, tolerance: 2.006e+01\n",
            "  model = cd_fast.enet_coordinate_descent(\n",
            "/usr/local/lib/python3.11/dist-packages/sklearn/linear_model/_coordinate_descent.py:695: ConvergenceWarning: Objective did not converge. You might want to increase the number of iterations, check the scale of the features or consider increasing regularisation. Duality gap: 4.386e+03, tolerance: 2.006e+01\n",
            "  model = cd_fast.enet_coordinate_descent(\n",
            "/usr/local/lib/python3.11/dist-packages/sklearn/linear_model/_coordinate_descent.py:695: ConvergenceWarning: Objective did not converge. You might want to increase the number of iterations, check the scale of the features or consider increasing regularisation. Duality gap: 4.384e+03, tolerance: 2.006e+01\n",
            "  model = cd_fast.enet_coordinate_descent(\n",
            "/usr/local/lib/python3.11/dist-packages/sklearn/linear_model/_coordinate_descent.py:695: ConvergenceWarning: Objective did not converge. You might want to increase the number of iterations, check the scale of the features or consider increasing regularisation. Duality gap: 4.383e+03, tolerance: 2.006e+01\n",
            "  model = cd_fast.enet_coordinate_descent(\n",
            "/usr/local/lib/python3.11/dist-packages/sklearn/linear_model/_coordinate_descent.py:695: ConvergenceWarning: Objective did not converge. You might want to increase the number of iterations, check the scale of the features or consider increasing regularisation. Duality gap: 4.383e+03, tolerance: 2.006e+01\n",
            "  model = cd_fast.enet_coordinate_descent(\n",
            "/usr/local/lib/python3.11/dist-packages/sklearn/linear_model/_coordinate_descent.py:695: ConvergenceWarning: Objective did not converge. You might want to increase the number of iterations, check the scale of the features or consider increasing regularisation. Duality gap: 4.381e+03, tolerance: 2.006e+01\n",
            "  model = cd_fast.enet_coordinate_descent(\n",
            "/usr/local/lib/python3.11/dist-packages/sklearn/linear_model/_coordinate_descent.py:695: ConvergenceWarning: Objective did not converge. You might want to increase the number of iterations, check the scale of the features or consider increasing regularisation. Duality gap: 4.380e+03, tolerance: 2.006e+01\n",
            "  model = cd_fast.enet_coordinate_descent(\n",
            "/usr/local/lib/python3.11/dist-packages/sklearn/linear_model/_coordinate_descent.py:695: ConvergenceWarning: Objective did not converge. You might want to increase the number of iterations, check the scale of the features or consider increasing regularisation. Duality gap: 4.379e+03, tolerance: 2.006e+01\n",
            "  model = cd_fast.enet_coordinate_descent(\n"
          ]
        }
      ]
    },
    {
      "cell_type": "code",
      "source": [
        "a"
      ],
      "metadata": {
        "id": "_FQHFVdzG5Cd",
        "outputId": "8a3c3bb2-c1e2-4bd3-ae0f-7f643987857d",
        "colab": {
          "base_uri": "https://localhost:8080/"
        }
      },
      "execution_count": 136,
      "outputs": [
        {
          "output_type": "execute_result",
          "data": {
            "text/plain": [
              "[[5, 1.7445107548179268, 2.2752583090056397],\n",
              " [6, 1.7431698660204644, 2.15986371227158],\n",
              " [7, 1.805988054401485, 7.5078185093918295],\n",
              " [8, 1.8433610702849421, 8.016330413655892],\n",
              " [9, 1.909740711462684, 19.564662306265703],\n",
              " [10, 1.9330880047170265, 29.190970331452746],\n",
              " [11, 1.9815024057400488, 36.91348377938573],\n",
              " [12, 2.0209150153362474, 62.1863176761441],\n",
              " [13, 2.038198314884387, 64.70640316344124],\n",
              " [14, 2.0469338946340847, 75.69651875758966],\n",
              " [15, 2.05138183017231, 72.48009557859247],\n",
              " [16, 2.0535986104062887, 77.94861967558933],\n",
              " [17, 2.057187605820796, 110.28819807566492],\n",
              " [18, 2.0555170497136928, 88.4713514890799],\n",
              " [19, 2.0599613573756734, 140.73590610752098]]"
            ]
          },
          "metadata": {},
          "execution_count": 136
        }
      ]
    },
    {
      "cell_type": "code",
      "source": [
        "cols=list(inputs.columns)\n",
        "poly_features = Pipeline(steps=[\n",
        "    ('poly_feat', PolynomialFeatures(degree=2))\n",
        "])\n",
        "numeric_transformer = Pipeline(steps=[\n",
        "    ('scaler',  StandardScaler())\n",
        "])\n",
        "\n",
        "preprocessor = ColumnTransformer(\n",
        "transformers=[\n",
        "        ('poly_feat', poly_features, cols),\n",
        "         ('num', numeric_transformer, cols)\n",
        "    ])\n",
        "\n",
        "model_pipeline = Pipeline(steps=[\n",
        "    ('preprocessor', preprocessor),\n",
        "    ('regression', Lasso(max_iter=15000))\n",
        "])\n",
        "model_pipeline.fit(train_input, train_target)\n",
        "train_pred_lasso = model_pipeline.predict(train_input)\n",
        "test_pred_lasso = model_pipeline.predict(test_input)"
      ],
      "metadata": {
        "id": "yCU0pq76JGza"
      },
      "execution_count": 137,
      "outputs": []
    },
    {
      "cell_type": "code",
      "source": [
        "pd.DataFrame(model_pipeline.named_steps['preprocessor'].transform(train_input))"
      ],
      "metadata": {
        "id": "qB4XnTnlS4tG",
        "outputId": "0c66d6fa-0102-4431-bf6a-2d447273842e",
        "colab": {
          "base_uri": "https://localhost:8080/",
          "height": 443
        }
      },
      "execution_count": 138,
      "outputs": [
        {
          "output_type": "execute_result",
          "data": {
            "text/plain": [
              "      0         1         2         3         4         5         6   \\\n",
              "0    1.0  0.791663  0.628346  0.624120 -1.214189  1.158111  0.626730   \n",
              "1    1.0  0.311250  1.119575  3.078881 -0.249036  0.576557  0.096877   \n",
              "2    1.0  0.871125  1.201214 -0.326024  0.289775  2.075401  0.758858   \n",
              "3    1.0 -0.190339 -1.382800 -0.875618  0.538910 -1.037246  0.036229   \n",
              "4    1.0 -0.653329  0.404982  1.765454 -0.334501 -0.474945  0.426839   \n",
              "..   ...       ...       ...       ...       ...       ...       ...   \n",
              "98   1.0 -0.248964  0.645376  0.971571  2.060748  1.755341  0.061983   \n",
              "99   1.0 -0.342715 -0.161286 -0.802277 -1.415371 -0.420645  0.117453   \n",
              "100  1.0  0.214094  0.173181 -1.245739 -0.446515  0.856399  0.045836   \n",
              "101  1.0 -0.236819  0.081874 -0.485364  0.758969 -0.772825  0.056083   \n",
              "102  1.0 -1.320233  1.179440  1.831459 -0.898415  0.491919  1.743016   \n",
              "\n",
              "           7         8         9   ...        16        17        18  \\\n",
              "0    0.497438  0.494092 -0.961228  ... -0.757799  0.722800  1.474254   \n",
              "1    0.348468  0.958302 -0.077513  ... -0.766752  1.775150  0.062019   \n",
              "2    1.046407 -0.284007  0.252430  ... -0.094473 -0.676629  0.083969   \n",
              "3    0.263200  0.166664 -0.102575  ... -0.471879  0.908232  0.290424   \n",
              "4   -0.264586 -1.153423  0.218539  ... -0.590547 -0.838494  0.111891   \n",
              "..        ...       ...       ...  ...       ...       ...       ...   \n",
              "98  -0.160675 -0.241886 -0.513052  ...  2.002163  1.705438  4.246682   \n",
              "99   0.055275  0.274952  0.485068  ...  1.135520  0.337474  2.003274   \n",
              "100  0.037077 -0.266705 -0.095596  ...  0.556241 -1.066849  0.199376   \n",
              "101 -0.019389  0.114943 -0.179738  ... -0.368376  0.375101  0.576034   \n",
              "102 -1.557136 -2.417953  1.186117  ... -1.645409  0.900930  0.807149   \n",
              "\n",
              "           19        20        21        22        23        24        25  \n",
              "0   -1.406165  1.341221  0.891659  0.521174  0.520348 -1.228460  1.099903  \n",
              "1   -0.143583  0.332418  0.369802  0.969049  3.065161 -0.136425  0.520280  \n",
              "2    0.601399  4.307288  0.977976  1.043483 -0.464651  0.473221  2.014147  \n",
              "3   -0.558982  1.075880 -0.175059 -1.312472 -1.034407  0.755108 -1.088165  \n",
              "4    0.158870  0.225573 -0.677992  0.317524  1.703552 -0.233125 -0.527731  \n",
              "..        ...       ...       ...       ...       ...       ...       ...  \n",
              "98   3.617315  3.081221 -0.238742  0.536702  0.880546  2.477014  1.695150  \n",
              "99   0.595369  0.176942 -0.340580 -0.198766 -0.958375 -1.456091 -0.473611  \n",
              "100 -0.382395  0.733419  0.264264  0.106182 -1.418105 -0.359865  0.799193  \n",
              "101 -0.586551  0.597259 -0.225549  0.022933 -0.629836  1.004097 -0.824622  \n",
              "102 -0.441947  0.241984 -1.402429  1.023631  1.771978 -0.871173  0.435923  \n",
              "\n",
              "[103 rows x 26 columns]"
            ],
            "text/html": [
              "\n",
              "  <div id=\"df-c5a09862-a599-496f-8a2c-656e293d9c32\" class=\"colab-df-container\">\n",
              "    <div>\n",
              "<style scoped>\n",
              "    .dataframe tbody tr th:only-of-type {\n",
              "        vertical-align: middle;\n",
              "    }\n",
              "\n",
              "    .dataframe tbody tr th {\n",
              "        vertical-align: top;\n",
              "    }\n",
              "\n",
              "    .dataframe thead th {\n",
              "        text-align: right;\n",
              "    }\n",
              "</style>\n",
              "<table border=\"1\" class=\"dataframe\">\n",
              "  <thead>\n",
              "    <tr style=\"text-align: right;\">\n",
              "      <th></th>\n",
              "      <th>0</th>\n",
              "      <th>1</th>\n",
              "      <th>2</th>\n",
              "      <th>3</th>\n",
              "      <th>4</th>\n",
              "      <th>5</th>\n",
              "      <th>6</th>\n",
              "      <th>7</th>\n",
              "      <th>8</th>\n",
              "      <th>9</th>\n",
              "      <th>...</th>\n",
              "      <th>16</th>\n",
              "      <th>17</th>\n",
              "      <th>18</th>\n",
              "      <th>19</th>\n",
              "      <th>20</th>\n",
              "      <th>21</th>\n",
              "      <th>22</th>\n",
              "      <th>23</th>\n",
              "      <th>24</th>\n",
              "      <th>25</th>\n",
              "    </tr>\n",
              "  </thead>\n",
              "  <tbody>\n",
              "    <tr>\n",
              "      <th>0</th>\n",
              "      <td>1.0</td>\n",
              "      <td>0.791663</td>\n",
              "      <td>0.628346</td>\n",
              "      <td>0.624120</td>\n",
              "      <td>-1.214189</td>\n",
              "      <td>1.158111</td>\n",
              "      <td>0.626730</td>\n",
              "      <td>0.497438</td>\n",
              "      <td>0.494092</td>\n",
              "      <td>-0.961228</td>\n",
              "      <td>...</td>\n",
              "      <td>-0.757799</td>\n",
              "      <td>0.722800</td>\n",
              "      <td>1.474254</td>\n",
              "      <td>-1.406165</td>\n",
              "      <td>1.341221</td>\n",
              "      <td>0.891659</td>\n",
              "      <td>0.521174</td>\n",
              "      <td>0.520348</td>\n",
              "      <td>-1.228460</td>\n",
              "      <td>1.099903</td>\n",
              "    </tr>\n",
              "    <tr>\n",
              "      <th>1</th>\n",
              "      <td>1.0</td>\n",
              "      <td>0.311250</td>\n",
              "      <td>1.119575</td>\n",
              "      <td>3.078881</td>\n",
              "      <td>-0.249036</td>\n",
              "      <td>0.576557</td>\n",
              "      <td>0.096877</td>\n",
              "      <td>0.348468</td>\n",
              "      <td>0.958302</td>\n",
              "      <td>-0.077513</td>\n",
              "      <td>...</td>\n",
              "      <td>-0.766752</td>\n",
              "      <td>1.775150</td>\n",
              "      <td>0.062019</td>\n",
              "      <td>-0.143583</td>\n",
              "      <td>0.332418</td>\n",
              "      <td>0.369802</td>\n",
              "      <td>0.969049</td>\n",
              "      <td>3.065161</td>\n",
              "      <td>-0.136425</td>\n",
              "      <td>0.520280</td>\n",
              "    </tr>\n",
              "    <tr>\n",
              "      <th>2</th>\n",
              "      <td>1.0</td>\n",
              "      <td>0.871125</td>\n",
              "      <td>1.201214</td>\n",
              "      <td>-0.326024</td>\n",
              "      <td>0.289775</td>\n",
              "      <td>2.075401</td>\n",
              "      <td>0.758858</td>\n",
              "      <td>1.046407</td>\n",
              "      <td>-0.284007</td>\n",
              "      <td>0.252430</td>\n",
              "      <td>...</td>\n",
              "      <td>-0.094473</td>\n",
              "      <td>-0.676629</td>\n",
              "      <td>0.083969</td>\n",
              "      <td>0.601399</td>\n",
              "      <td>4.307288</td>\n",
              "      <td>0.977976</td>\n",
              "      <td>1.043483</td>\n",
              "      <td>-0.464651</td>\n",
              "      <td>0.473221</td>\n",
              "      <td>2.014147</td>\n",
              "    </tr>\n",
              "    <tr>\n",
              "      <th>3</th>\n",
              "      <td>1.0</td>\n",
              "      <td>-0.190339</td>\n",
              "      <td>-1.382800</td>\n",
              "      <td>-0.875618</td>\n",
              "      <td>0.538910</td>\n",
              "      <td>-1.037246</td>\n",
              "      <td>0.036229</td>\n",
              "      <td>0.263200</td>\n",
              "      <td>0.166664</td>\n",
              "      <td>-0.102575</td>\n",
              "      <td>...</td>\n",
              "      <td>-0.471879</td>\n",
              "      <td>0.908232</td>\n",
              "      <td>0.290424</td>\n",
              "      <td>-0.558982</td>\n",
              "      <td>1.075880</td>\n",
              "      <td>-0.175059</td>\n",
              "      <td>-1.312472</td>\n",
              "      <td>-1.034407</td>\n",
              "      <td>0.755108</td>\n",
              "      <td>-1.088165</td>\n",
              "    </tr>\n",
              "    <tr>\n",
              "      <th>4</th>\n",
              "      <td>1.0</td>\n",
              "      <td>-0.653329</td>\n",
              "      <td>0.404982</td>\n",
              "      <td>1.765454</td>\n",
              "      <td>-0.334501</td>\n",
              "      <td>-0.474945</td>\n",
              "      <td>0.426839</td>\n",
              "      <td>-0.264586</td>\n",
              "      <td>-1.153423</td>\n",
              "      <td>0.218539</td>\n",
              "      <td>...</td>\n",
              "      <td>-0.590547</td>\n",
              "      <td>-0.838494</td>\n",
              "      <td>0.111891</td>\n",
              "      <td>0.158870</td>\n",
              "      <td>0.225573</td>\n",
              "      <td>-0.677992</td>\n",
              "      <td>0.317524</td>\n",
              "      <td>1.703552</td>\n",
              "      <td>-0.233125</td>\n",
              "      <td>-0.527731</td>\n",
              "    </tr>\n",
              "    <tr>\n",
              "      <th>...</th>\n",
              "      <td>...</td>\n",
              "      <td>...</td>\n",
              "      <td>...</td>\n",
              "      <td>...</td>\n",
              "      <td>...</td>\n",
              "      <td>...</td>\n",
              "      <td>...</td>\n",
              "      <td>...</td>\n",
              "      <td>...</td>\n",
              "      <td>...</td>\n",
              "      <td>...</td>\n",
              "      <td>...</td>\n",
              "      <td>...</td>\n",
              "      <td>...</td>\n",
              "      <td>...</td>\n",
              "      <td>...</td>\n",
              "      <td>...</td>\n",
              "      <td>...</td>\n",
              "      <td>...</td>\n",
              "      <td>...</td>\n",
              "      <td>...</td>\n",
              "    </tr>\n",
              "    <tr>\n",
              "      <th>98</th>\n",
              "      <td>1.0</td>\n",
              "      <td>-0.248964</td>\n",
              "      <td>0.645376</td>\n",
              "      <td>0.971571</td>\n",
              "      <td>2.060748</td>\n",
              "      <td>1.755341</td>\n",
              "      <td>0.061983</td>\n",
              "      <td>-0.160675</td>\n",
              "      <td>-0.241886</td>\n",
              "      <td>-0.513052</td>\n",
              "      <td>...</td>\n",
              "      <td>2.002163</td>\n",
              "      <td>1.705438</td>\n",
              "      <td>4.246682</td>\n",
              "      <td>3.617315</td>\n",
              "      <td>3.081221</td>\n",
              "      <td>-0.238742</td>\n",
              "      <td>0.536702</td>\n",
              "      <td>0.880546</td>\n",
              "      <td>2.477014</td>\n",
              "      <td>1.695150</td>\n",
              "    </tr>\n",
              "    <tr>\n",
              "      <th>99</th>\n",
              "      <td>1.0</td>\n",
              "      <td>-0.342715</td>\n",
              "      <td>-0.161286</td>\n",
              "      <td>-0.802277</td>\n",
              "      <td>-1.415371</td>\n",
              "      <td>-0.420645</td>\n",
              "      <td>0.117453</td>\n",
              "      <td>0.055275</td>\n",
              "      <td>0.274952</td>\n",
              "      <td>0.485068</td>\n",
              "      <td>...</td>\n",
              "      <td>1.135520</td>\n",
              "      <td>0.337474</td>\n",
              "      <td>2.003274</td>\n",
              "      <td>0.595369</td>\n",
              "      <td>0.176942</td>\n",
              "      <td>-0.340580</td>\n",
              "      <td>-0.198766</td>\n",
              "      <td>-0.958375</td>\n",
              "      <td>-1.456091</td>\n",
              "      <td>-0.473611</td>\n",
              "    </tr>\n",
              "    <tr>\n",
              "      <th>100</th>\n",
              "      <td>1.0</td>\n",
              "      <td>0.214094</td>\n",
              "      <td>0.173181</td>\n",
              "      <td>-1.245739</td>\n",
              "      <td>-0.446515</td>\n",
              "      <td>0.856399</td>\n",
              "      <td>0.045836</td>\n",
              "      <td>0.037077</td>\n",
              "      <td>-0.266705</td>\n",
              "      <td>-0.095596</td>\n",
              "      <td>...</td>\n",
              "      <td>0.556241</td>\n",
              "      <td>-1.066849</td>\n",
              "      <td>0.199376</td>\n",
              "      <td>-0.382395</td>\n",
              "      <td>0.733419</td>\n",
              "      <td>0.264264</td>\n",
              "      <td>0.106182</td>\n",
              "      <td>-1.418105</td>\n",
              "      <td>-0.359865</td>\n",
              "      <td>0.799193</td>\n",
              "    </tr>\n",
              "    <tr>\n",
              "      <th>101</th>\n",
              "      <td>1.0</td>\n",
              "      <td>-0.236819</td>\n",
              "      <td>0.081874</td>\n",
              "      <td>-0.485364</td>\n",
              "      <td>0.758969</td>\n",
              "      <td>-0.772825</td>\n",
              "      <td>0.056083</td>\n",
              "      <td>-0.019389</td>\n",
              "      <td>0.114943</td>\n",
              "      <td>-0.179738</td>\n",
              "      <td>...</td>\n",
              "      <td>-0.368376</td>\n",
              "      <td>0.375101</td>\n",
              "      <td>0.576034</td>\n",
              "      <td>-0.586551</td>\n",
              "      <td>0.597259</td>\n",
              "      <td>-0.225549</td>\n",
              "      <td>0.022933</td>\n",
              "      <td>-0.629836</td>\n",
              "      <td>1.004097</td>\n",
              "      <td>-0.824622</td>\n",
              "    </tr>\n",
              "    <tr>\n",
              "      <th>102</th>\n",
              "      <td>1.0</td>\n",
              "      <td>-1.320233</td>\n",
              "      <td>1.179440</td>\n",
              "      <td>1.831459</td>\n",
              "      <td>-0.898415</td>\n",
              "      <td>0.491919</td>\n",
              "      <td>1.743016</td>\n",
              "      <td>-1.557136</td>\n",
              "      <td>-2.417953</td>\n",
              "      <td>1.186117</td>\n",
              "      <td>...</td>\n",
              "      <td>-1.645409</td>\n",
              "      <td>0.900930</td>\n",
              "      <td>0.807149</td>\n",
              "      <td>-0.441947</td>\n",
              "      <td>0.241984</td>\n",
              "      <td>-1.402429</td>\n",
              "      <td>1.023631</td>\n",
              "      <td>1.771978</td>\n",
              "      <td>-0.871173</td>\n",
              "      <td>0.435923</td>\n",
              "    </tr>\n",
              "  </tbody>\n",
              "</table>\n",
              "<p>103 rows × 26 columns</p>\n",
              "</div>\n",
              "    <div class=\"colab-df-buttons\">\n",
              "\n",
              "  <div class=\"colab-df-container\">\n",
              "    <button class=\"colab-df-convert\" onclick=\"convertToInteractive('df-c5a09862-a599-496f-8a2c-656e293d9c32')\"\n",
              "            title=\"Convert this dataframe to an interactive table.\"\n",
              "            style=\"display:none;\">\n",
              "\n",
              "  <svg xmlns=\"http://www.w3.org/2000/svg\" height=\"24px\" viewBox=\"0 -960 960 960\">\n",
              "    <path d=\"M120-120v-720h720v720H120Zm60-500h600v-160H180v160Zm220 220h160v-160H400v160Zm0 220h160v-160H400v160ZM180-400h160v-160H180v160Zm440 0h160v-160H620v160ZM180-180h160v-160H180v160Zm440 0h160v-160H620v160Z\"/>\n",
              "  </svg>\n",
              "    </button>\n",
              "\n",
              "  <style>\n",
              "    .colab-df-container {\n",
              "      display:flex;\n",
              "      gap: 12px;\n",
              "    }\n",
              "\n",
              "    .colab-df-convert {\n",
              "      background-color: #E8F0FE;\n",
              "      border: none;\n",
              "      border-radius: 50%;\n",
              "      cursor: pointer;\n",
              "      display: none;\n",
              "      fill: #1967D2;\n",
              "      height: 32px;\n",
              "      padding: 0 0 0 0;\n",
              "      width: 32px;\n",
              "    }\n",
              "\n",
              "    .colab-df-convert:hover {\n",
              "      background-color: #E2EBFA;\n",
              "      box-shadow: 0px 1px 2px rgba(60, 64, 67, 0.3), 0px 1px 3px 1px rgba(60, 64, 67, 0.15);\n",
              "      fill: #174EA6;\n",
              "    }\n",
              "\n",
              "    .colab-df-buttons div {\n",
              "      margin-bottom: 4px;\n",
              "    }\n",
              "\n",
              "    [theme=dark] .colab-df-convert {\n",
              "      background-color: #3B4455;\n",
              "      fill: #D2E3FC;\n",
              "    }\n",
              "\n",
              "    [theme=dark] .colab-df-convert:hover {\n",
              "      background-color: #434B5C;\n",
              "      box-shadow: 0px 1px 3px 1px rgba(0, 0, 0, 0.15);\n",
              "      filter: drop-shadow(0px 1px 2px rgba(0, 0, 0, 0.3));\n",
              "      fill: #FFFFFF;\n",
              "    }\n",
              "  </style>\n",
              "\n",
              "    <script>\n",
              "      const buttonEl =\n",
              "        document.querySelector('#df-c5a09862-a599-496f-8a2c-656e293d9c32 button.colab-df-convert');\n",
              "      buttonEl.style.display =\n",
              "        google.colab.kernel.accessAllowed ? 'block' : 'none';\n",
              "\n",
              "      async function convertToInteractive(key) {\n",
              "        const element = document.querySelector('#df-c5a09862-a599-496f-8a2c-656e293d9c32');\n",
              "        const dataTable =\n",
              "          await google.colab.kernel.invokeFunction('convertToInteractive',\n",
              "                                                    [key], {});\n",
              "        if (!dataTable) return;\n",
              "\n",
              "        const docLinkHtml = 'Like what you see? Visit the ' +\n",
              "          '<a target=\"_blank\" href=https://colab.research.google.com/notebooks/data_table.ipynb>data table notebook</a>'\n",
              "          + ' to learn more about interactive tables.';\n",
              "        element.innerHTML = '';\n",
              "        dataTable['output_type'] = 'display_data';\n",
              "        await google.colab.output.renderOutput(dataTable, element);\n",
              "        const docLink = document.createElement('div');\n",
              "        docLink.innerHTML = docLinkHtml;\n",
              "        element.appendChild(docLink);\n",
              "      }\n",
              "    </script>\n",
              "  </div>\n",
              "\n",
              "\n",
              "<div id=\"df-c7529ff1-3c82-45cb-b69a-e2634d251121\">\n",
              "  <button class=\"colab-df-quickchart\" onclick=\"quickchart('df-c7529ff1-3c82-45cb-b69a-e2634d251121')\"\n",
              "            title=\"Suggest charts\"\n",
              "            style=\"display:none;\">\n",
              "\n",
              "<svg xmlns=\"http://www.w3.org/2000/svg\" height=\"24px\"viewBox=\"0 0 24 24\"\n",
              "     width=\"24px\">\n",
              "    <g>\n",
              "        <path d=\"M19 3H5c-1.1 0-2 .9-2 2v14c0 1.1.9 2 2 2h14c1.1 0 2-.9 2-2V5c0-1.1-.9-2-2-2zM9 17H7v-7h2v7zm4 0h-2V7h2v10zm4 0h-2v-4h2v4z\"/>\n",
              "    </g>\n",
              "</svg>\n",
              "  </button>\n",
              "\n",
              "<style>\n",
              "  .colab-df-quickchart {\n",
              "      --bg-color: #E8F0FE;\n",
              "      --fill-color: #1967D2;\n",
              "      --hover-bg-color: #E2EBFA;\n",
              "      --hover-fill-color: #174EA6;\n",
              "      --disabled-fill-color: #AAA;\n",
              "      --disabled-bg-color: #DDD;\n",
              "  }\n",
              "\n",
              "  [theme=dark] .colab-df-quickchart {\n",
              "      --bg-color: #3B4455;\n",
              "      --fill-color: #D2E3FC;\n",
              "      --hover-bg-color: #434B5C;\n",
              "      --hover-fill-color: #FFFFFF;\n",
              "      --disabled-bg-color: #3B4455;\n",
              "      --disabled-fill-color: #666;\n",
              "  }\n",
              "\n",
              "  .colab-df-quickchart {\n",
              "    background-color: var(--bg-color);\n",
              "    border: none;\n",
              "    border-radius: 50%;\n",
              "    cursor: pointer;\n",
              "    display: none;\n",
              "    fill: var(--fill-color);\n",
              "    height: 32px;\n",
              "    padding: 0;\n",
              "    width: 32px;\n",
              "  }\n",
              "\n",
              "  .colab-df-quickchart:hover {\n",
              "    background-color: var(--hover-bg-color);\n",
              "    box-shadow: 0 1px 2px rgba(60, 64, 67, 0.3), 0 1px 3px 1px rgba(60, 64, 67, 0.15);\n",
              "    fill: var(--button-hover-fill-color);\n",
              "  }\n",
              "\n",
              "  .colab-df-quickchart-complete:disabled,\n",
              "  .colab-df-quickchart-complete:disabled:hover {\n",
              "    background-color: var(--disabled-bg-color);\n",
              "    fill: var(--disabled-fill-color);\n",
              "    box-shadow: none;\n",
              "  }\n",
              "\n",
              "  .colab-df-spinner {\n",
              "    border: 2px solid var(--fill-color);\n",
              "    border-color: transparent;\n",
              "    border-bottom-color: var(--fill-color);\n",
              "    animation:\n",
              "      spin 1s steps(1) infinite;\n",
              "  }\n",
              "\n",
              "  @keyframes spin {\n",
              "    0% {\n",
              "      border-color: transparent;\n",
              "      border-bottom-color: var(--fill-color);\n",
              "      border-left-color: var(--fill-color);\n",
              "    }\n",
              "    20% {\n",
              "      border-color: transparent;\n",
              "      border-left-color: var(--fill-color);\n",
              "      border-top-color: var(--fill-color);\n",
              "    }\n",
              "    30% {\n",
              "      border-color: transparent;\n",
              "      border-left-color: var(--fill-color);\n",
              "      border-top-color: var(--fill-color);\n",
              "      border-right-color: var(--fill-color);\n",
              "    }\n",
              "    40% {\n",
              "      border-color: transparent;\n",
              "      border-right-color: var(--fill-color);\n",
              "      border-top-color: var(--fill-color);\n",
              "    }\n",
              "    60% {\n",
              "      border-color: transparent;\n",
              "      border-right-color: var(--fill-color);\n",
              "    }\n",
              "    80% {\n",
              "      border-color: transparent;\n",
              "      border-right-color: var(--fill-color);\n",
              "      border-bottom-color: var(--fill-color);\n",
              "    }\n",
              "    90% {\n",
              "      border-color: transparent;\n",
              "      border-bottom-color: var(--fill-color);\n",
              "    }\n",
              "  }\n",
              "</style>\n",
              "\n",
              "  <script>\n",
              "    async function quickchart(key) {\n",
              "      const quickchartButtonEl =\n",
              "        document.querySelector('#' + key + ' button');\n",
              "      quickchartButtonEl.disabled = true;  // To prevent multiple clicks.\n",
              "      quickchartButtonEl.classList.add('colab-df-spinner');\n",
              "      try {\n",
              "        const charts = await google.colab.kernel.invokeFunction(\n",
              "            'suggestCharts', [key], {});\n",
              "      } catch (error) {\n",
              "        console.error('Error during call to suggestCharts:', error);\n",
              "      }\n",
              "      quickchartButtonEl.classList.remove('colab-df-spinner');\n",
              "      quickchartButtonEl.classList.add('colab-df-quickchart-complete');\n",
              "    }\n",
              "    (() => {\n",
              "      let quickchartButtonEl =\n",
              "        document.querySelector('#df-c7529ff1-3c82-45cb-b69a-e2634d251121 button');\n",
              "      quickchartButtonEl.style.display =\n",
              "        google.colab.kernel.accessAllowed ? 'block' : 'none';\n",
              "    })();\n",
              "  </script>\n",
              "</div>\n",
              "    </div>\n",
              "  </div>\n"
            ],
            "application/vnd.google.colaboratory.intrinsic+json": {
              "type": "dataframe"
            }
          },
          "metadata": {},
          "execution_count": 138
        }
      ]
    },
    {
      "cell_type": "code",
      "source": [
        "dict(zip(model_pipeline.named_steps['preprocessor'].get_feature_names_out(), model_pipeline.named_steps['regression'].coef_))"
      ],
      "metadata": {
        "id": "G3tkdOdNOD2M",
        "outputId": "52966287-c136-4dcf-e5e7-f315ce253bb3",
        "colab": {
          "base_uri": "https://localhost:8080/"
        }
      },
      "execution_count": 139,
      "outputs": [
        {
          "output_type": "execute_result",
          "data": {
            "text/plain": [
              "{'poly_feat__1': 0.0,\n",
              " 'poly_feat__feature_1': 0.0,\n",
              " 'poly_feat__feature_2': -0.0,\n",
              " 'poly_feat__feature_3': -0.0,\n",
              " 'poly_feat__feature_4': 0.0,\n",
              " 'poly_feat__feature_5': -0.0,\n",
              " 'poly_feat__feature_1^2': -0.0,\n",
              " 'poly_feat__feature_1 feature_2': -0.0,\n",
              " 'poly_feat__feature_1 feature_3': 0.0,\n",
              " 'poly_feat__feature_1 feature_4': -0.0,\n",
              " 'poly_feat__feature_1 feature_5': 0.0,\n",
              " 'poly_feat__feature_2^2': 0.0,\n",
              " 'poly_feat__feature_2 feature_3': -0.0,\n",
              " 'poly_feat__feature_2 feature_4': -0.0,\n",
              " 'poly_feat__feature_2 feature_5': 0.0,\n",
              " 'poly_feat__feature_3^2': -0.0,\n",
              " 'poly_feat__feature_3 feature_4': 0.0,\n",
              " 'poly_feat__feature_3 feature_5': 0.0,\n",
              " 'poly_feat__feature_4^2': -0.0,\n",
              " 'poly_feat__feature_4 feature_5': -0.0,\n",
              " 'poly_feat__feature_5^2': 0.0,\n",
              " 'num__feature_1': 0.0,\n",
              " 'num__feature_2': -0.0,\n",
              " 'num__feature_3': -0.0,\n",
              " 'num__feature_4': 43.12075302368195,\n",
              " 'num__feature_5': -0.0}"
            ]
          },
          "metadata": {},
          "execution_count": 139
        }
      ]
    },
    {
      "cell_type": "code",
      "source": [
        "root_mean_squared_error(train_target, train_pred_lasso), root_mean_squared_error(test_target, test_pred_lasso)"
      ],
      "metadata": {
        "id": "r8eh3YI-MPmV",
        "outputId": "0b8bc38d-a3ba-4505-b6da-26a8a01e2a2d",
        "colab": {
          "base_uri": "https://localhost:8080/"
        }
      },
      "execution_count": 140,
      "outputs": [
        {
          "output_type": "execute_result",
          "data": {
            "text/plain": [
              "(1.4793687294509072, 1.3921276307730146)"
            ]
          },
          "metadata": {},
          "execution_count": 140
        }
      ]
    },
    {
      "cell_type": "code",
      "source": [
        "cols=list(inputs.columns)\n",
        "poly_features = Pipeline(steps=[\n",
        "    ('poly_feat', PolynomialFeatures(degree=20))\n",
        "])\n",
        "numeric_transformer = Pipeline(steps=[\n",
        "    ('scaler',  StandardScaler())\n",
        "])\n",
        "\n",
        "preprocessor = ColumnTransformer(\n",
        "    transformers=[\n",
        "        ('poly_feat', poly_features, cols),\n",
        "        ('num', numeric_transformer, cols)\n",
        "    ])\n",
        "\n",
        "model_pipeline = Pipeline(steps=[\n",
        "    ('preprocessor', preprocessor),\n",
        "    ('regression', ElasticNet(max_iter=10000))])"
      ],
      "metadata": {
        "id": "rx1wgbx3Mbf3"
      },
      "execution_count": 145,
      "outputs": []
    },
    {
      "cell_type": "code",
      "source": [
        "model_pipeline.fit(train_input, train_target)\n",
        "train_pred_en = model_pipeline.predict(train_input)\n",
        "test_pred_en = model_pipeline.predict(test_input)"
      ],
      "metadata": {
        "id": "nZtJAq39Mbxp",
        "outputId": "265f8d63-b6b7-453e-8c4f-a2e464786b65",
        "colab": {
          "base_uri": "https://localhost:8080/"
        }
      },
      "execution_count": 146,
      "outputs": [
        {
          "output_type": "stream",
          "name": "stderr",
          "text": [
            "/usr/local/lib/python3.11/dist-packages/sklearn/linear_model/_coordinate_descent.py:695: ConvergenceWarning: Objective did not converge. You might want to increase the number of iterations, check the scale of the features or consider increasing regularisation. Duality gap: 9.352e+03, tolerance: 2.006e+01\n",
            "  model = cd_fast.enet_coordinate_descent(\n"
          ]
        }
      ]
    },
    {
      "cell_type": "code",
      "source": [
        "root_mean_squared_error(train_target, train_pred_en), root_mean_squared_error(test_target, test_pred_en)"
      ],
      "metadata": {
        "id": "cxKok3poMcGb",
        "outputId": "36467817-7c6c-4e81-e08c-7bedd610ac55",
        "colab": {
          "base_uri": "https://localhost:8080/"
        }
      },
      "execution_count": 147,
      "outputs": [
        {
          "output_type": "execute_result",
          "data": {
            "text/plain": [
              "(8.88782867870106, 3561.2730610495205)"
            ]
          },
          "metadata": {},
          "execution_count": 147
        }
      ]
    },
    {
      "cell_type": "code",
      "source": [
        "model_pipeline.named_steps['regression'].coef_.shape"
      ],
      "metadata": {
        "id": "xPo8h-QFOPYg",
        "outputId": "309cf1ab-59f9-426f-bd00-fa38bf3c0cf8",
        "colab": {
          "base_uri": "https://localhost:8080/"
        }
      },
      "execution_count": 144,
      "outputs": [
        {
          "output_type": "execute_result",
          "data": {
            "text/plain": [
              "(257,)"
            ]
          },
          "metadata": {},
          "execution_count": 144
        }
      ]
    }
  ]
}